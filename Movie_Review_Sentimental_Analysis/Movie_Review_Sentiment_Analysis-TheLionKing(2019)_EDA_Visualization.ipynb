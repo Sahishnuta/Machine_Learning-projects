{
 "cells": [
  {
   "cell_type": "markdown",
   "metadata": {},
   "source": [
    "## Movie Review Sentiment Analysis - The Lion King (2019) EDA and Visualization\n",
    "\n",
    "## Agenda\n",
    "    - Data Extraction (Web-scrapping)\n",
    "    - Visualization\n",
    "    - Regular Expression for special character removal\n",
    "    - Removal of accented characters and expanding contractions\n",
    "    - Tokenisation\n",
    "    - Stop Word Removal\n",
    "    - Stemming and Lemmatization\n",
    "    - TF-IDF Matrix\n",
    "    - Clustering\n",
    "    - SVD using scikitlearn"
   ]
  },
  {
   "cell_type": "markdown",
   "metadata": {},
   "source": [
    "#### Import Libraries"
   ]
  },
  {
   "cell_type": "code",
   "execution_count": 1,
   "metadata": {},
   "outputs": [],
   "source": [
    "import numpy as np\n",
    "import pandas as pd\n",
    "import matplotlib.pyplot as plt\n",
    "import seaborn as sns\n",
    "\n",
    "import requests\n",
    "import time\n",
    "\n",
    "import re\n",
    "\n",
    "import random\n",
    "random.seed(123)\n",
    "\n",
    "#ignore warnings\n",
    "import warnings\n",
    "warnings.filterwarnings('ignore')"
   ]
  },
  {
   "cell_type": "markdown",
   "metadata": {},
   "source": [
    "Data Extraction/ Web scrapping\n",
    "------\n",
    "#### NOTE: Time to execute below chunk = 25 min\n",
    "#### Load from local file 'data_0.csv'"
   ]
  },
  {
   "cell_type": "code",
   "execution_count": 2,
   "metadata": {},
   "outputs": [
    {
     "data": {
      "text/html": [
       "<div>\n",
       "<style scoped>\n",
       "    .dataframe tbody tr th:only-of-type {\n",
       "        vertical-align: middle;\n",
       "    }\n",
       "\n",
       "    .dataframe tbody tr th {\n",
       "        vertical-align: top;\n",
       "    }\n",
       "\n",
       "    .dataframe thead th {\n",
       "        text-align: right;\n",
       "    }\n",
       "</style>\n",
       "<table border=\"1\" class=\"dataframe\">\n",
       "  <thead>\n",
       "    <tr style=\"text-align: right;\">\n",
       "      <th></th>\n",
       "      <th>createDate</th>\n",
       "      <th>displayImageUrl</th>\n",
       "      <th>displayName</th>\n",
       "      <th>hasProfanity</th>\n",
       "      <th>hasSpoilers</th>\n",
       "      <th>isSuperReviewer</th>\n",
       "      <th>isVerified</th>\n",
       "      <th>rating</th>\n",
       "      <th>review</th>\n",
       "      <th>score</th>\n",
       "      <th>timeFromCreation</th>\n",
       "      <th>updateDate</th>\n",
       "      <th>user</th>\n",
       "    </tr>\n",
       "  </thead>\n",
       "  <tbody>\n",
       "    <tr>\n",
       "      <th>0</th>\n",
       "      <td>2019-08-18T14:14:07.734Z</td>\n",
       "      <td>NaN</td>\n",
       "      <td>Jesse S</td>\n",
       "      <td>True</td>\n",
       "      <td>False</td>\n",
       "      <td>False</td>\n",
       "      <td>False</td>\n",
       "      <td>STAR_4</td>\n",
       "      <td>This movie is good. The original, animated ver...</td>\n",
       "      <td>4.0</td>\n",
       "      <td>27m ago</td>\n",
       "      <td>2019-08-18T14:14:07.734Z</td>\n",
       "      <td>{'userId': 'D91306B7-6A67-4117-B384-6A35AF00C1...</td>\n",
       "    </tr>\n",
       "    <tr>\n",
       "      <th>1</th>\n",
       "      <td>2019-08-18T14:03:41.247Z</td>\n",
       "      <td>NaN</td>\n",
       "      <td>Shae C</td>\n",
       "      <td>False</td>\n",
       "      <td>False</td>\n",
       "      <td>False</td>\n",
       "      <td>True</td>\n",
       "      <td>STAR_4</td>\n",
       "      <td>Followed the original story which I was skepti...</td>\n",
       "      <td>4.0</td>\n",
       "      <td>38m ago</td>\n",
       "      <td>2019-08-18T14:03:41.247Z</td>\n",
       "      <td>{'userId': 'ff222e0c-e396-4d62-9e6a-82529303cb...</td>\n",
       "    </tr>\n",
       "    <tr>\n",
       "      <th>2</th>\n",
       "      <td>2019-08-18T13:29:32.874Z</td>\n",
       "      <td>https://graph.facebook.com/v3.3/6212197/picture</td>\n",
       "      <td>Scott W</td>\n",
       "      <td>False</td>\n",
       "      <td>False</td>\n",
       "      <td>False</td>\n",
       "      <td>False</td>\n",
       "      <td>STAR_3</td>\n",
       "      <td>Unlike some other Disney remakes, this one is ...</td>\n",
       "      <td>3.0</td>\n",
       "      <td>1h ago</td>\n",
       "      <td>2019-08-18T13:29:32.874Z</td>\n",
       "      <td>{'userId': '798014537', 'realm': 'RT', 'displa...</td>\n",
       "    </tr>\n",
       "    <tr>\n",
       "      <th>3</th>\n",
       "      <td>2019-08-18T13:23:58.374Z</td>\n",
       "      <td>NaN</td>\n",
       "      <td>William S</td>\n",
       "      <td>False</td>\n",
       "      <td>False</td>\n",
       "      <td>False</td>\n",
       "      <td>True</td>\n",
       "      <td>STAR_5</td>\n",
       "      <td>Loved the movie!! The music was and is great!!...</td>\n",
       "      <td>5.0</td>\n",
       "      <td>1h ago</td>\n",
       "      <td>2019-08-18T13:23:58.374Z</td>\n",
       "      <td>{'userId': 'c64b8b43-5e68-41be-b3ec-89b41ec767...</td>\n",
       "    </tr>\n",
       "    <tr>\n",
       "      <th>4</th>\n",
       "      <td>2019-08-18T13:22:09.835Z</td>\n",
       "      <td>NaN</td>\n",
       "      <td>Kristy</td>\n",
       "      <td>False</td>\n",
       "      <td>False</td>\n",
       "      <td>False</td>\n",
       "      <td>True</td>\n",
       "      <td>STAR_4_5</td>\n",
       "      <td>It was a well made movie. I</td>\n",
       "      <td>4.5</td>\n",
       "      <td>1h ago</td>\n",
       "      <td>2019-08-18T13:22:09.835Z</td>\n",
       "      <td>{'userId': '685f2a19-f581-43a6-bdbd-6db9e12a14...</td>\n",
       "    </tr>\n",
       "  </tbody>\n",
       "</table>\n",
       "</div>"
      ],
      "text/plain": [
       "                 createDate                                  displayImageUrl  \\\n",
       "0  2019-08-18T14:14:07.734Z                                              NaN   \n",
       "1  2019-08-18T14:03:41.247Z                                              NaN   \n",
       "2  2019-08-18T13:29:32.874Z  https://graph.facebook.com/v3.3/6212197/picture   \n",
       "3  2019-08-18T13:23:58.374Z                                              NaN   \n",
       "4  2019-08-18T13:22:09.835Z                                              NaN   \n",
       "\n",
       "  displayName  hasProfanity  hasSpoilers  isSuperReviewer  isVerified  \\\n",
       "0     Jesse S          True        False            False       False   \n",
       "1      Shae C         False        False            False        True   \n",
       "2     Scott W         False        False            False       False   \n",
       "3   William S         False        False            False        True   \n",
       "4      Kristy         False        False            False        True   \n",
       "\n",
       "     rating                                             review  score  \\\n",
       "0    STAR_4  This movie is good. The original, animated ver...    4.0   \n",
       "1    STAR_4  Followed the original story which I was skepti...    4.0   \n",
       "2    STAR_3  Unlike some other Disney remakes, this one is ...    3.0   \n",
       "3    STAR_5  Loved the movie!! The music was and is great!!...    5.0   \n",
       "4  STAR_4_5                        It was a well made movie. I    4.5   \n",
       "\n",
       "  timeFromCreation                updateDate  \\\n",
       "0          27m ago  2019-08-18T14:14:07.734Z   \n",
       "1          38m ago  2019-08-18T14:03:41.247Z   \n",
       "2           1h ago  2019-08-18T13:29:32.874Z   \n",
       "3           1h ago  2019-08-18T13:23:58.374Z   \n",
       "4           1h ago  2019-08-18T13:22:09.835Z   \n",
       "\n",
       "                                                user  \n",
       "0  {'userId': 'D91306B7-6A67-4117-B384-6A35AF00C1...  \n",
       "1  {'userId': 'ff222e0c-e396-4d62-9e6a-82529303cb...  \n",
       "2  {'userId': '798014537', 'realm': 'RT', 'displa...  \n",
       "3  {'userId': 'c64b8b43-5e68-41be-b3ec-89b41ec767...  \n",
       "4  {'userId': '685f2a19-f581-43a6-bdbd-6db9e12a14...  "
      ]
     },
     "execution_count": 2,
     "metadata": {},
     "output_type": "execute_result"
    }
   ],
   "source": [
    "data=pd.read_csv('data_0.csv')\n",
    "data.head()"
   ]
  },
  {
   "cell_type": "code",
   "execution_count": 3,
   "metadata": {},
   "outputs": [],
   "source": [
    "# headers = {\n",
    "# 'Referer': 'https://www.rottentomatoes.com/m/the_lion_king_2019/reviews?type=user',\n",
    "# 'User-Agent': 'Mozilla/5.0 (Windows NT 10.0; Win64; x64) AppleWebKit/537.36 (KHTML, like Gecko) Chrome/74.0.3729.108 Safari/537.36',\n",
    "# 'X-Requested-With': 'XMLHttpRequest',\n",
    "# }\n",
    "\n",
    "# url = 'https://www.rottentomatoes.com/napi/movie/9057c2cf-7cab-317f-876f-e50b245ca76e/reviews/user'\n",
    "# s = requests.Session() # A Requests session. Provides cookie persistence, connection-pooling, and configuration."
   ]
  },
  {
   "cell_type": "code",
   "execution_count": 4,
   "metadata": {},
   "outputs": [],
   "source": [
    "# start_time = time.time()\n",
    "# data = pd.DataFrame()  #initializing empty dataframe, payload parameter values\n",
    "# end = ''\n",
    "# start = ''\n",
    "\n",
    "# for i in list(range(1,301)):\n",
    "#     payload = {\n",
    "#     'direction': 'next',\n",
    "#     'endCursor': end,\n",
    "#     'startCursor': start,\n",
    "#     }\n",
    "#     r = s.get(url, headers=headers, params=payload) # GET Call. Sends a GET request. Returns :class:`Response` object.\n",
    "#     data= data.append(r.json()['reviews'], ignore_index=True)   #append Review info to dataframe\n",
    "#     end=r.json()['pageInfo']['endCursor']    # update 'start' key for new page\n",
    "#     time.sleep(5)\n",
    "# print('Web scrap completed in %s s' % (str(time.time()-start_time)))    \n",
    "\n",
    "# Store to Data local to local file\n",
    "# data.to_csv('data.csv', index=False)"
   ]
  },
  {
   "cell_type": "markdown",
   "metadata": {},
   "source": [
    "Data Pre-processing and EDA\n",
    "---------"
   ]
  },
  {
   "cell_type": "code",
   "execution_count": 5,
   "metadata": {},
   "outputs": [
    {
     "data": {
      "text/plain": [
       "(3000, 13)"
      ]
     },
     "execution_count": 5,
     "metadata": {},
     "output_type": "execute_result"
    }
   ],
   "source": [
    "data.shape"
   ]
  },
  {
   "cell_type": "code",
   "execution_count": 6,
   "metadata": {},
   "outputs": [
    {
     "data": {
      "text/plain": [
       "createDate           object\n",
       "displayImageUrl      object\n",
       "displayName          object\n",
       "hasProfanity           bool\n",
       "hasSpoilers            bool\n",
       "isSuperReviewer        bool\n",
       "isVerified             bool\n",
       "rating               object\n",
       "review               object\n",
       "score               float64\n",
       "timeFromCreation     object\n",
       "updateDate           object\n",
       "user                 object\n",
       "dtype: object"
      ]
     },
     "execution_count": 6,
     "metadata": {},
     "output_type": "execute_result"
    }
   ],
   "source": [
    "data.dtypes"
   ]
  },
  {
   "cell_type": "code",
   "execution_count": 7,
   "metadata": {},
   "outputs": [
    {
     "data": {
      "text/html": [
       "<div>\n",
       "<style scoped>\n",
       "    .dataframe tbody tr th:only-of-type {\n",
       "        vertical-align: middle;\n",
       "    }\n",
       "\n",
       "    .dataframe tbody tr th {\n",
       "        vertical-align: top;\n",
       "    }\n",
       "\n",
       "    .dataframe thead th {\n",
       "        text-align: right;\n",
       "    }\n",
       "</style>\n",
       "<table border=\"1\" class=\"dataframe\">\n",
       "  <thead>\n",
       "    <tr style=\"text-align: right;\">\n",
       "      <th></th>\n",
       "      <th>score</th>\n",
       "    </tr>\n",
       "  </thead>\n",
       "  <tbody>\n",
       "    <tr>\n",
       "      <th>count</th>\n",
       "      <td>3000.000000</td>\n",
       "    </tr>\n",
       "    <tr>\n",
       "      <th>mean</th>\n",
       "      <td>3.919667</td>\n",
       "    </tr>\n",
       "    <tr>\n",
       "      <th>std</th>\n",
       "      <td>1.316672</td>\n",
       "    </tr>\n",
       "    <tr>\n",
       "      <th>min</th>\n",
       "      <td>0.500000</td>\n",
       "    </tr>\n",
       "    <tr>\n",
       "      <th>25%</th>\n",
       "      <td>3.000000</td>\n",
       "    </tr>\n",
       "    <tr>\n",
       "      <th>50%</th>\n",
       "      <td>4.500000</td>\n",
       "    </tr>\n",
       "    <tr>\n",
       "      <th>75%</th>\n",
       "      <td>5.000000</td>\n",
       "    </tr>\n",
       "    <tr>\n",
       "      <th>max</th>\n",
       "      <td>5.000000</td>\n",
       "    </tr>\n",
       "  </tbody>\n",
       "</table>\n",
       "</div>"
      ],
      "text/plain": [
       "             score\n",
       "count  3000.000000\n",
       "mean      3.919667\n",
       "std       1.316672\n",
       "min       0.500000\n",
       "25%       3.000000\n",
       "50%       4.500000\n",
       "75%       5.000000\n",
       "max       5.000000"
      ]
     },
     "execution_count": 7,
     "metadata": {},
     "output_type": "execute_result"
    }
   ],
   "source": [
    "data.describe()"
   ]
  },
  {
   "cell_type": "code",
   "execution_count": 8,
   "metadata": {},
   "outputs": [
    {
     "data": {
      "text/html": [
       "<div>\n",
       "<style scoped>\n",
       "    .dataframe tbody tr th:only-of-type {\n",
       "        vertical-align: middle;\n",
       "    }\n",
       "\n",
       "    .dataframe tbody tr th {\n",
       "        vertical-align: top;\n",
       "    }\n",
       "\n",
       "    .dataframe thead th {\n",
       "        text-align: right;\n",
       "    }\n",
       "</style>\n",
       "<table border=\"1\" class=\"dataframe\">\n",
       "  <thead>\n",
       "    <tr style=\"text-align: right;\">\n",
       "      <th></th>\n",
       "      <th>createDate</th>\n",
       "      <th>displayImageUrl</th>\n",
       "      <th>displayName</th>\n",
       "      <th>hasProfanity</th>\n",
       "      <th>hasSpoilers</th>\n",
       "      <th>isSuperReviewer</th>\n",
       "      <th>isVerified</th>\n",
       "      <th>rating</th>\n",
       "      <th>review</th>\n",
       "      <th>timeFromCreation</th>\n",
       "      <th>updateDate</th>\n",
       "      <th>user</th>\n",
       "    </tr>\n",
       "  </thead>\n",
       "  <tbody>\n",
       "    <tr>\n",
       "      <th>count</th>\n",
       "      <td>3000</td>\n",
       "      <td>222</td>\n",
       "      <td>2861</td>\n",
       "      <td>3000</td>\n",
       "      <td>3000</td>\n",
       "      <td>3000</td>\n",
       "      <td>3000</td>\n",
       "      <td>3000</td>\n",
       "      <td>3000</td>\n",
       "      <td>3000</td>\n",
       "      <td>3000</td>\n",
       "      <td>3000</td>\n",
       "    </tr>\n",
       "    <tr>\n",
       "      <th>unique</th>\n",
       "      <td>3000</td>\n",
       "      <td>222</td>\n",
       "      <td>2464</td>\n",
       "      <td>2</td>\n",
       "      <td>2</td>\n",
       "      <td>2</td>\n",
       "      <td>2</td>\n",
       "      <td>10</td>\n",
       "      <td>2995</td>\n",
       "      <td>43</td>\n",
       "      <td>3000</td>\n",
       "      <td>3000</td>\n",
       "    </tr>\n",
       "    <tr>\n",
       "      <th>top</th>\n",
       "      <td>2019-08-14T02:01:17.774Z</td>\n",
       "      <td>https://graph.facebook.com/v3.3/22885628014073...</td>\n",
       "      <td>Google</td>\n",
       "      <td>False</td>\n",
       "      <td>False</td>\n",
       "      <td>False</td>\n",
       "      <td>True</td>\n",
       "      <td>STAR_5</td>\n",
       "      <td>I loved everything about the movie.</td>\n",
       "      <td>Aug 05, 2019</td>\n",
       "      <td>2019-08-14T02:01:17.774Z</td>\n",
       "      <td>{'userId': 'DD2453B0-37CE-4B47-A099-D15378FC31...</td>\n",
       "    </tr>\n",
       "    <tr>\n",
       "      <th>freq</th>\n",
       "      <td>1</td>\n",
       "      <td>1</td>\n",
       "      <td>14</td>\n",
       "      <td>2967</td>\n",
       "      <td>2998</td>\n",
       "      <td>2999</td>\n",
       "      <td>2165</td>\n",
       "      <td>1369</td>\n",
       "      <td>2</td>\n",
       "      <td>318</td>\n",
       "      <td>1</td>\n",
       "      <td>1</td>\n",
       "    </tr>\n",
       "  </tbody>\n",
       "</table>\n",
       "</div>"
      ],
      "text/plain": [
       "                      createDate  \\\n",
       "count                       3000   \n",
       "unique                      3000   \n",
       "top     2019-08-14T02:01:17.774Z   \n",
       "freq                           1   \n",
       "\n",
       "                                          displayImageUrl displayName  \\\n",
       "count                                                 222        2861   \n",
       "unique                                                222        2464   \n",
       "top     https://graph.facebook.com/v3.3/22885628014073...      Google   \n",
       "freq                                                    1          14   \n",
       "\n",
       "       hasProfanity hasSpoilers isSuperReviewer isVerified  rating  \\\n",
       "count          3000        3000            3000       3000    3000   \n",
       "unique            2           2               2          2      10   \n",
       "top           False       False           False       True  STAR_5   \n",
       "freq           2967        2998            2999       2165    1369   \n",
       "\n",
       "                                     review timeFromCreation  \\\n",
       "count                                  3000             3000   \n",
       "unique                                 2995               43   \n",
       "top     I loved everything about the movie.     Aug 05, 2019   \n",
       "freq                                      2              318   \n",
       "\n",
       "                      updateDate  \\\n",
       "count                       3000   \n",
       "unique                      3000   \n",
       "top     2019-08-14T02:01:17.774Z   \n",
       "freq                           1   \n",
       "\n",
       "                                                     user  \n",
       "count                                                3000  \n",
       "unique                                               3000  \n",
       "top     {'userId': 'DD2453B0-37CE-4B47-A099-D15378FC31...  \n",
       "freq                                                    1  "
      ]
     },
     "execution_count": 8,
     "metadata": {},
     "output_type": "execute_result"
    }
   ],
   "source": [
    "data.describe(exclude='float64')"
   ]
  },
  {
   "cell_type": "code",
   "execution_count": 9,
   "metadata": {},
   "outputs": [],
   "source": [
    "import ast\n",
    "data['userId'] = data['user'].apply(lambda x: ast.literal_eval(x)['userId'])  # string literal evaluation --> Data structure (dictionary)"
   ]
  },
  {
   "cell_type": "code",
   "execution_count": 10,
   "metadata": {},
   "outputs": [
    {
     "data": {
      "text/html": [
       "<div>\n",
       "<style scoped>\n",
       "    .dataframe tbody tr th:only-of-type {\n",
       "        vertical-align: middle;\n",
       "    }\n",
       "\n",
       "    .dataframe tbody tr th {\n",
       "        vertical-align: top;\n",
       "    }\n",
       "\n",
       "    .dataframe thead th {\n",
       "        text-align: right;\n",
       "    }\n",
       "</style>\n",
       "<table border=\"1\" class=\"dataframe\">\n",
       "  <thead>\n",
       "    <tr style=\"text-align: right;\">\n",
       "      <th></th>\n",
       "      <th>createDate</th>\n",
       "      <th>displayImageUrl</th>\n",
       "      <th>displayName</th>\n",
       "      <th>hasProfanity</th>\n",
       "      <th>hasSpoilers</th>\n",
       "      <th>isSuperReviewer</th>\n",
       "      <th>isVerified</th>\n",
       "      <th>rating</th>\n",
       "      <th>review</th>\n",
       "      <th>timeFromCreation</th>\n",
       "      <th>updateDate</th>\n",
       "      <th>user</th>\n",
       "      <th>userId</th>\n",
       "    </tr>\n",
       "  </thead>\n",
       "  <tbody>\n",
       "    <tr>\n",
       "      <th>count</th>\n",
       "      <td>3000</td>\n",
       "      <td>222</td>\n",
       "      <td>2861</td>\n",
       "      <td>3000</td>\n",
       "      <td>3000</td>\n",
       "      <td>3000</td>\n",
       "      <td>3000</td>\n",
       "      <td>3000</td>\n",
       "      <td>3000</td>\n",
       "      <td>3000</td>\n",
       "      <td>3000</td>\n",
       "      <td>3000</td>\n",
       "      <td>3000</td>\n",
       "    </tr>\n",
       "    <tr>\n",
       "      <th>unique</th>\n",
       "      <td>3000</td>\n",
       "      <td>222</td>\n",
       "      <td>2464</td>\n",
       "      <td>2</td>\n",
       "      <td>2</td>\n",
       "      <td>2</td>\n",
       "      <td>2</td>\n",
       "      <td>10</td>\n",
       "      <td>2995</td>\n",
       "      <td>43</td>\n",
       "      <td>3000</td>\n",
       "      <td>3000</td>\n",
       "      <td>3000</td>\n",
       "    </tr>\n",
       "    <tr>\n",
       "      <th>top</th>\n",
       "      <td>2019-08-14T02:01:17.774Z</td>\n",
       "      <td>https://graph.facebook.com/v3.3/22885628014073...</td>\n",
       "      <td>Google</td>\n",
       "      <td>False</td>\n",
       "      <td>False</td>\n",
       "      <td>False</td>\n",
       "      <td>True</td>\n",
       "      <td>STAR_5</td>\n",
       "      <td>I loved everything about the movie.</td>\n",
       "      <td>Aug 05, 2019</td>\n",
       "      <td>2019-08-14T02:01:17.774Z</td>\n",
       "      <td>{'userId': 'DD2453B0-37CE-4B47-A099-D15378FC31...</td>\n",
       "      <td>c8a93a1e-4729-4fc9-9143-8b2353430558</td>\n",
       "    </tr>\n",
       "    <tr>\n",
       "      <th>freq</th>\n",
       "      <td>1</td>\n",
       "      <td>1</td>\n",
       "      <td>14</td>\n",
       "      <td>2967</td>\n",
       "      <td>2998</td>\n",
       "      <td>2999</td>\n",
       "      <td>2165</td>\n",
       "      <td>1369</td>\n",
       "      <td>2</td>\n",
       "      <td>318</td>\n",
       "      <td>1</td>\n",
       "      <td>1</td>\n",
       "      <td>1</td>\n",
       "    </tr>\n",
       "  </tbody>\n",
       "</table>\n",
       "</div>"
      ],
      "text/plain": [
       "                      createDate  \\\n",
       "count                       3000   \n",
       "unique                      3000   \n",
       "top     2019-08-14T02:01:17.774Z   \n",
       "freq                           1   \n",
       "\n",
       "                                          displayImageUrl displayName  \\\n",
       "count                                                 222        2861   \n",
       "unique                                                222        2464   \n",
       "top     https://graph.facebook.com/v3.3/22885628014073...      Google   \n",
       "freq                                                    1          14   \n",
       "\n",
       "       hasProfanity hasSpoilers isSuperReviewer isVerified  rating  \\\n",
       "count          3000        3000            3000       3000    3000   \n",
       "unique            2           2               2          2      10   \n",
       "top           False       False           False       True  STAR_5   \n",
       "freq           2967        2998            2999       2165    1369   \n",
       "\n",
       "                                     review timeFromCreation  \\\n",
       "count                                  3000             3000   \n",
       "unique                                 2995               43   \n",
       "top     I loved everything about the movie.     Aug 05, 2019   \n",
       "freq                                      2              318   \n",
       "\n",
       "                      updateDate  \\\n",
       "count                       3000   \n",
       "unique                      3000   \n",
       "top     2019-08-14T02:01:17.774Z   \n",
       "freq                           1   \n",
       "\n",
       "                                                     user  \\\n",
       "count                                                3000   \n",
       "unique                                               3000   \n",
       "top     {'userId': 'DD2453B0-37CE-4B47-A099-D15378FC31...   \n",
       "freq                                                    1   \n",
       "\n",
       "                                      userId  \n",
       "count                                   3000  \n",
       "unique                                  3000  \n",
       "top     c8a93a1e-4729-4fc9-9143-8b2353430558  \n",
       "freq                                       1  "
      ]
     },
     "execution_count": 10,
     "metadata": {},
     "output_type": "execute_result"
    }
   ],
   "source": [
    "data.describe(exclude='float64')"
   ]
  },
  {
   "cell_type": "code",
   "execution_count": 11,
   "metadata": {},
   "outputs": [
    {
     "data": {
      "text/html": [
       "<div>\n",
       "<style scoped>\n",
       "    .dataframe tbody tr th:only-of-type {\n",
       "        vertical-align: middle;\n",
       "    }\n",
       "\n",
       "    .dataframe tbody tr th {\n",
       "        vertical-align: top;\n",
       "    }\n",
       "\n",
       "    .dataframe thead th {\n",
       "        text-align: right;\n",
       "    }\n",
       "</style>\n",
       "<table border=\"1\" class=\"dataframe\">\n",
       "  <thead>\n",
       "    <tr style=\"text-align: right;\">\n",
       "      <th></th>\n",
       "      <th>createDate</th>\n",
       "      <th>displayImageUrl</th>\n",
       "      <th>displayName</th>\n",
       "      <th>hasProfanity</th>\n",
       "      <th>hasSpoilers</th>\n",
       "      <th>isSuperReviewer</th>\n",
       "      <th>isVerified</th>\n",
       "      <th>rating</th>\n",
       "      <th>review</th>\n",
       "      <th>score</th>\n",
       "      <th>timeFromCreation</th>\n",
       "      <th>updateDate</th>\n",
       "      <th>user</th>\n",
       "    </tr>\n",
       "    <tr>\n",
       "      <th>userId</th>\n",
       "      <th></th>\n",
       "      <th></th>\n",
       "      <th></th>\n",
       "      <th></th>\n",
       "      <th></th>\n",
       "      <th></th>\n",
       "      <th></th>\n",
       "      <th></th>\n",
       "      <th></th>\n",
       "      <th></th>\n",
       "      <th></th>\n",
       "      <th></th>\n",
       "      <th></th>\n",
       "    </tr>\n",
       "  </thead>\n",
       "  <tbody>\n",
       "    <tr>\n",
       "      <th>D91306B7-6A67-4117-B384-6A35AF00C176</th>\n",
       "      <td>2019-08-18T14:14:07.734Z</td>\n",
       "      <td>NaN</td>\n",
       "      <td>Jesse S</td>\n",
       "      <td>True</td>\n",
       "      <td>False</td>\n",
       "      <td>False</td>\n",
       "      <td>False</td>\n",
       "      <td>STAR_4</td>\n",
       "      <td>This movie is good. The original, animated ver...</td>\n",
       "      <td>4.0</td>\n",
       "      <td>27m ago</td>\n",
       "      <td>2019-08-18T14:14:07.734Z</td>\n",
       "      <td>{'userId': 'D91306B7-6A67-4117-B384-6A35AF00C1...</td>\n",
       "    </tr>\n",
       "    <tr>\n",
       "      <th>ff222e0c-e396-4d62-9e6a-82529303cb75</th>\n",
       "      <td>2019-08-18T14:03:41.247Z</td>\n",
       "      <td>NaN</td>\n",
       "      <td>Shae C</td>\n",
       "      <td>False</td>\n",
       "      <td>False</td>\n",
       "      <td>False</td>\n",
       "      <td>True</td>\n",
       "      <td>STAR_4</td>\n",
       "      <td>Followed the original story which I was skepti...</td>\n",
       "      <td>4.0</td>\n",
       "      <td>38m ago</td>\n",
       "      <td>2019-08-18T14:03:41.247Z</td>\n",
       "      <td>{'userId': 'ff222e0c-e396-4d62-9e6a-82529303cb...</td>\n",
       "    </tr>\n",
       "    <tr>\n",
       "      <th>798014537</th>\n",
       "      <td>2019-08-18T13:29:32.874Z</td>\n",
       "      <td>https://graph.facebook.com/v3.3/6212197/picture</td>\n",
       "      <td>Scott W</td>\n",
       "      <td>False</td>\n",
       "      <td>False</td>\n",
       "      <td>False</td>\n",
       "      <td>False</td>\n",
       "      <td>STAR_3</td>\n",
       "      <td>Unlike some other Disney remakes, this one is ...</td>\n",
       "      <td>3.0</td>\n",
       "      <td>1h ago</td>\n",
       "      <td>2019-08-18T13:29:32.874Z</td>\n",
       "      <td>{'userId': '798014537', 'realm': 'RT', 'displa...</td>\n",
       "    </tr>\n",
       "    <tr>\n",
       "      <th>c64b8b43-5e68-41be-b3ec-89b41ec767e4</th>\n",
       "      <td>2019-08-18T13:23:58.374Z</td>\n",
       "      <td>NaN</td>\n",
       "      <td>William S</td>\n",
       "      <td>False</td>\n",
       "      <td>False</td>\n",
       "      <td>False</td>\n",
       "      <td>True</td>\n",
       "      <td>STAR_5</td>\n",
       "      <td>Loved the movie!! The music was and is great!!...</td>\n",
       "      <td>5.0</td>\n",
       "      <td>1h ago</td>\n",
       "      <td>2019-08-18T13:23:58.374Z</td>\n",
       "      <td>{'userId': 'c64b8b43-5e68-41be-b3ec-89b41ec767...</td>\n",
       "    </tr>\n",
       "    <tr>\n",
       "      <th>685f2a19-f581-43a6-bdbd-6db9e12a14fc</th>\n",
       "      <td>2019-08-18T13:22:09.835Z</td>\n",
       "      <td>NaN</td>\n",
       "      <td>Kristy</td>\n",
       "      <td>False</td>\n",
       "      <td>False</td>\n",
       "      <td>False</td>\n",
       "      <td>True</td>\n",
       "      <td>STAR_4_5</td>\n",
       "      <td>It was a well made movie. I</td>\n",
       "      <td>4.5</td>\n",
       "      <td>1h ago</td>\n",
       "      <td>2019-08-18T13:22:09.835Z</td>\n",
       "      <td>{'userId': '685f2a19-f581-43a6-bdbd-6db9e12a14...</td>\n",
       "    </tr>\n",
       "  </tbody>\n",
       "</table>\n",
       "</div>"
      ],
      "text/plain": [
       "                                                    createDate  \\\n",
       "userId                                                           \n",
       "D91306B7-6A67-4117-B384-6A35AF00C176  2019-08-18T14:14:07.734Z   \n",
       "ff222e0c-e396-4d62-9e6a-82529303cb75  2019-08-18T14:03:41.247Z   \n",
       "798014537                             2019-08-18T13:29:32.874Z   \n",
       "c64b8b43-5e68-41be-b3ec-89b41ec767e4  2019-08-18T13:23:58.374Z   \n",
       "685f2a19-f581-43a6-bdbd-6db9e12a14fc  2019-08-18T13:22:09.835Z   \n",
       "\n",
       "                                                                      displayImageUrl  \\\n",
       "userId                                                                                  \n",
       "D91306B7-6A67-4117-B384-6A35AF00C176                                              NaN   \n",
       "ff222e0c-e396-4d62-9e6a-82529303cb75                                              NaN   \n",
       "798014537                             https://graph.facebook.com/v3.3/6212197/picture   \n",
       "c64b8b43-5e68-41be-b3ec-89b41ec767e4                                              NaN   \n",
       "685f2a19-f581-43a6-bdbd-6db9e12a14fc                                              NaN   \n",
       "\n",
       "                                     displayName  hasProfanity  hasSpoilers  \\\n",
       "userId                                                                        \n",
       "D91306B7-6A67-4117-B384-6A35AF00C176     Jesse S          True        False   \n",
       "ff222e0c-e396-4d62-9e6a-82529303cb75      Shae C         False        False   \n",
       "798014537                                Scott W         False        False   \n",
       "c64b8b43-5e68-41be-b3ec-89b41ec767e4   William S         False        False   \n",
       "685f2a19-f581-43a6-bdbd-6db9e12a14fc      Kristy         False        False   \n",
       "\n",
       "                                      isSuperReviewer  isVerified    rating  \\\n",
       "userId                                                                        \n",
       "D91306B7-6A67-4117-B384-6A35AF00C176            False       False    STAR_4   \n",
       "ff222e0c-e396-4d62-9e6a-82529303cb75            False        True    STAR_4   \n",
       "798014537                                       False       False    STAR_3   \n",
       "c64b8b43-5e68-41be-b3ec-89b41ec767e4            False        True    STAR_5   \n",
       "685f2a19-f581-43a6-bdbd-6db9e12a14fc            False        True  STAR_4_5   \n",
       "\n",
       "                                                                                 review  \\\n",
       "userId                                                                                    \n",
       "D91306B7-6A67-4117-B384-6A35AF00C176  This movie is good. The original, animated ver...   \n",
       "ff222e0c-e396-4d62-9e6a-82529303cb75  Followed the original story which I was skepti...   \n",
       "798014537                             Unlike some other Disney remakes, this one is ...   \n",
       "c64b8b43-5e68-41be-b3ec-89b41ec767e4  Loved the movie!! The music was and is great!!...   \n",
       "685f2a19-f581-43a6-bdbd-6db9e12a14fc                        It was a well made movie. I   \n",
       "\n",
       "                                      score timeFromCreation  \\\n",
       "userId                                                         \n",
       "D91306B7-6A67-4117-B384-6A35AF00C176    4.0          27m ago   \n",
       "ff222e0c-e396-4d62-9e6a-82529303cb75    4.0          38m ago   \n",
       "798014537                               3.0           1h ago   \n",
       "c64b8b43-5e68-41be-b3ec-89b41ec767e4    5.0           1h ago   \n",
       "685f2a19-f581-43a6-bdbd-6db9e12a14fc    4.5           1h ago   \n",
       "\n",
       "                                                    updateDate  \\\n",
       "userId                                                           \n",
       "D91306B7-6A67-4117-B384-6A35AF00C176  2019-08-18T14:14:07.734Z   \n",
       "ff222e0c-e396-4d62-9e6a-82529303cb75  2019-08-18T14:03:41.247Z   \n",
       "798014537                             2019-08-18T13:29:32.874Z   \n",
       "c64b8b43-5e68-41be-b3ec-89b41ec767e4  2019-08-18T13:23:58.374Z   \n",
       "685f2a19-f581-43a6-bdbd-6db9e12a14fc  2019-08-18T13:22:09.835Z   \n",
       "\n",
       "                                                                                   user  \n",
       "userId                                                                                   \n",
       "D91306B7-6A67-4117-B384-6A35AF00C176  {'userId': 'D91306B7-6A67-4117-B384-6A35AF00C1...  \n",
       "ff222e0c-e396-4d62-9e6a-82529303cb75  {'userId': 'ff222e0c-e396-4d62-9e6a-82529303cb...  \n",
       "798014537                             {'userId': '798014537', 'realm': 'RT', 'displa...  \n",
       "c64b8b43-5e68-41be-b3ec-89b41ec767e4  {'userId': 'c64b8b43-5e68-41be-b3ec-89b41ec767...  \n",
       "685f2a19-f581-43a6-bdbd-6db9e12a14fc  {'userId': '685f2a19-f581-43a6-bdbd-6db9e12a14...  "
      ]
     },
     "execution_count": 11,
     "metadata": {},
     "output_type": "execute_result"
    }
   ],
   "source": [
    "# Setting 'userId' as Index\n",
    "data.set_index('userId', inplace=True)\n",
    "data.head()"
   ]
  },
  {
   "cell_type": "code",
   "execution_count": 12,
   "metadata": {},
   "outputs": [
    {
     "data": {
      "text/plain": [
       "Index(['createDate', 'review', 'score'], dtype='object')"
      ]
     },
     "execution_count": 12,
     "metadata": {},
     "output_type": "execute_result"
    }
   ],
   "source": [
    "data.drop(['displayName','displayImageUrl','hasProfanity','hasSpoilers','rating','isSuperReviewer',\n",
    "           'isVerified','timeFromCreation','updateDate','user',],\n",
    "          axis=1,inplace=True)\n",
    "\n",
    "data.columns"
   ]
  },
  {
   "cell_type": "code",
   "execution_count": 13,
   "metadata": {},
   "outputs": [
    {
     "data": {
      "text/html": [
       "<div>\n",
       "<style scoped>\n",
       "    .dataframe tbody tr th:only-of-type {\n",
       "        vertical-align: middle;\n",
       "    }\n",
       "\n",
       "    .dataframe tbody tr th {\n",
       "        vertical-align: top;\n",
       "    }\n",
       "\n",
       "    .dataframe thead th {\n",
       "        text-align: right;\n",
       "    }\n",
       "</style>\n",
       "<table border=\"1\" class=\"dataframe\">\n",
       "  <thead>\n",
       "    <tr style=\"text-align: right;\">\n",
       "      <th></th>\n",
       "      <th>createDate</th>\n",
       "      <th>review</th>\n",
       "      <th>score</th>\n",
       "    </tr>\n",
       "    <tr>\n",
       "      <th>userId</th>\n",
       "      <th></th>\n",
       "      <th></th>\n",
       "      <th></th>\n",
       "    </tr>\n",
       "  </thead>\n",
       "  <tbody>\n",
       "    <tr>\n",
       "      <th>D91306B7-6A67-4117-B384-6A35AF00C176</th>\n",
       "      <td>2019-08-18T14:14:07.734Z</td>\n",
       "      <td>This movie is good. The original, animated ver...</td>\n",
       "      <td>4.0</td>\n",
       "    </tr>\n",
       "    <tr>\n",
       "      <th>ff222e0c-e396-4d62-9e6a-82529303cb75</th>\n",
       "      <td>2019-08-18T14:03:41.247Z</td>\n",
       "      <td>Followed the original story which I was skepti...</td>\n",
       "      <td>4.0</td>\n",
       "    </tr>\n",
       "    <tr>\n",
       "      <th>798014537</th>\n",
       "      <td>2019-08-18T13:29:32.874Z</td>\n",
       "      <td>Unlike some other Disney remakes, this one is ...</td>\n",
       "      <td>3.0</td>\n",
       "    </tr>\n",
       "    <tr>\n",
       "      <th>c64b8b43-5e68-41be-b3ec-89b41ec767e4</th>\n",
       "      <td>2019-08-18T13:23:58.374Z</td>\n",
       "      <td>Loved the movie!! The music was and is great!!...</td>\n",
       "      <td>5.0</td>\n",
       "    </tr>\n",
       "    <tr>\n",
       "      <th>685f2a19-f581-43a6-bdbd-6db9e12a14fc</th>\n",
       "      <td>2019-08-18T13:22:09.835Z</td>\n",
       "      <td>It was a well made movie. I</td>\n",
       "      <td>4.5</td>\n",
       "    </tr>\n",
       "  </tbody>\n",
       "</table>\n",
       "</div>"
      ],
      "text/plain": [
       "                                                    createDate  \\\n",
       "userId                                                           \n",
       "D91306B7-6A67-4117-B384-6A35AF00C176  2019-08-18T14:14:07.734Z   \n",
       "ff222e0c-e396-4d62-9e6a-82529303cb75  2019-08-18T14:03:41.247Z   \n",
       "798014537                             2019-08-18T13:29:32.874Z   \n",
       "c64b8b43-5e68-41be-b3ec-89b41ec767e4  2019-08-18T13:23:58.374Z   \n",
       "685f2a19-f581-43a6-bdbd-6db9e12a14fc  2019-08-18T13:22:09.835Z   \n",
       "\n",
       "                                                                                 review  \\\n",
       "userId                                                                                    \n",
       "D91306B7-6A67-4117-B384-6A35AF00C176  This movie is good. The original, animated ver...   \n",
       "ff222e0c-e396-4d62-9e6a-82529303cb75  Followed the original story which I was skepti...   \n",
       "798014537                             Unlike some other Disney remakes, this one is ...   \n",
       "c64b8b43-5e68-41be-b3ec-89b41ec767e4  Loved the movie!! The music was and is great!!...   \n",
       "685f2a19-f581-43a6-bdbd-6db9e12a14fc                        It was a well made movie. I   \n",
       "\n",
       "                                      score  \n",
       "userId                                       \n",
       "D91306B7-6A67-4117-B384-6A35AF00C176    4.0  \n",
       "ff222e0c-e396-4d62-9e6a-82529303cb75    4.0  \n",
       "798014537                               3.0  \n",
       "c64b8b43-5e68-41be-b3ec-89b41ec767e4    5.0  \n",
       "685f2a19-f581-43a6-bdbd-6db9e12a14fc    4.5  "
      ]
     },
     "execution_count": 13,
     "metadata": {},
     "output_type": "execute_result"
    }
   ],
   "source": [
    "data.head()"
   ]
  },
  {
   "cell_type": "markdown",
   "metadata": {},
   "source": [
    "### Feature Engineering\n",
    "\n",
    "1. Convert *score* --> **sentiment**:\\\n",
    "    i. if score > 3, **sentiment** = 0 [POSITIVE Review]\\\n",
    "    ii. if score =< 3, **sentiment** = 1 [NEGATIVE Review]\\\n",
    "\n",
    "2. Organize *createDate* --> **date**, **time**\n",
    "\n",
    "**NOTE**: our Target Level for prediction is Negative Review."
   ]
  },
  {
   "cell_type": "code",
   "execution_count": 1,
   "metadata": {},
   "outputs": [
    {
     "ename": "NameError",
     "evalue": "name 'data' is not defined",
     "output_type": "error",
     "traceback": [
      "\u001b[1;31m---------------------------------------------------------------------------\u001b[0m",
      "\u001b[1;31mNameError\u001b[0m                                 Traceback (most recent call last)",
      "\u001b[1;32m<ipython-input-1-feaa7986cb7f>\u001b[0m in \u001b[0;36m<module>\u001b[1;34m\u001b[0m\n\u001b[0;32m      1\u001b[0m \u001b[1;31m# Predic\u001b[0m\u001b[1;33m\u001b[0m\u001b[1;33m\u001b[0m\u001b[1;33m\u001b[0m\u001b[0m\n\u001b[1;32m----> 2\u001b[1;33m \u001b[0mdata\u001b[0m\u001b[1;33m[\u001b[0m\u001b[1;34m'sentiment'\u001b[0m\u001b[1;33m]\u001b[0m \u001b[1;33m=\u001b[0m \u001b[0mdata\u001b[0m\u001b[1;33m[\u001b[0m\u001b[1;34m'score'\u001b[0m\u001b[1;33m]\u001b[0m\u001b[1;33m.\u001b[0m\u001b[0mapply\u001b[0m\u001b[1;33m(\u001b[0m\u001b[1;32mlambda\u001b[0m \u001b[0mx\u001b[0m\u001b[1;33m:\u001b[0m \u001b[1;36m0\u001b[0m \u001b[1;32mif\u001b[0m \u001b[0mx\u001b[0m\u001b[1;33m>\u001b[0m\u001b[1;36m3\u001b[0m \u001b[1;32melse\u001b[0m \u001b[1;36m1\u001b[0m\u001b[1;33m)\u001b[0m\u001b[1;33m\u001b[0m\u001b[1;33m\u001b[0m\u001b[0m\n\u001b[0m\u001b[0;32m      3\u001b[0m \u001b[0mdata\u001b[0m\u001b[1;33m.\u001b[0m\u001b[0mdescribe\u001b[0m\u001b[1;33m(\u001b[0m\u001b[1;33m)\u001b[0m\u001b[1;33m\u001b[0m\u001b[1;33m\u001b[0m\u001b[0m\n",
      "\u001b[1;31mNameError\u001b[0m: name 'data' is not defined"
     ]
    }
   ],
   "source": [
    "# Predic\n",
    "data['sentiment'] = data['score'].apply(lambda x: 0 if x>3 else 1)\n",
    "data.describe()"
   ]
  },
  {
   "cell_type": "code",
   "execution_count": 15,
   "metadata": {},
   "outputs": [
    {
     "name": "stdout",
     "output_type": "stream",
     "text": [
      "Count of Review Sentiments:\n",
      "\n",
      "0    2170\n",
      "1     830\n",
      "Name: sentiment, dtype: int64 \n",
      "\n",
      "Frequency % of Review Sentiments:\n",
      "\n",
      "0    72.333333\n",
      "1    27.666667\n",
      "Name: sentiment, dtype: float64\n"
     ]
    }
   ],
   "source": [
    "print('Count of Review Sentiments:\\n')\n",
    "print(data['sentiment'].value_counts(),'\\n')\n",
    "\n",
    "print('Frequency % of Review Sentiments:\\n')\n",
    "print(data['sentiment'].value_counts(normalize=True)*100)   # <30% of All reviews are Negative"
   ]
  },
  {
   "cell_type": "code",
   "execution_count": 16,
   "metadata": {},
   "outputs": [
    {
     "data": {
      "text/html": [
       "<div>\n",
       "<style scoped>\n",
       "    .dataframe tbody tr th:only-of-type {\n",
       "        vertical-align: middle;\n",
       "    }\n",
       "\n",
       "    .dataframe tbody tr th {\n",
       "        vertical-align: top;\n",
       "    }\n",
       "\n",
       "    .dataframe thead th {\n",
       "        text-align: right;\n",
       "    }\n",
       "</style>\n",
       "<table border=\"1\" class=\"dataframe\">\n",
       "  <thead>\n",
       "    <tr style=\"text-align: right;\">\n",
       "      <th></th>\n",
       "      <th>createDate</th>\n",
       "      <th>review</th>\n",
       "      <th>sentiment</th>\n",
       "    </tr>\n",
       "    <tr>\n",
       "      <th>userId</th>\n",
       "      <th></th>\n",
       "      <th></th>\n",
       "      <th></th>\n",
       "    </tr>\n",
       "  </thead>\n",
       "  <tbody>\n",
       "    <tr>\n",
       "      <th>D91306B7-6A67-4117-B384-6A35AF00C176</th>\n",
       "      <td>2019-08-18T14:14:07.734Z</td>\n",
       "      <td>This movie is good. The original, animated ver...</td>\n",
       "      <td>0</td>\n",
       "    </tr>\n",
       "    <tr>\n",
       "      <th>ff222e0c-e396-4d62-9e6a-82529303cb75</th>\n",
       "      <td>2019-08-18T14:03:41.247Z</td>\n",
       "      <td>Followed the original story which I was skepti...</td>\n",
       "      <td>0</td>\n",
       "    </tr>\n",
       "    <tr>\n",
       "      <th>798014537</th>\n",
       "      <td>2019-08-18T13:29:32.874Z</td>\n",
       "      <td>Unlike some other Disney remakes, this one is ...</td>\n",
       "      <td>1</td>\n",
       "    </tr>\n",
       "    <tr>\n",
       "      <th>c64b8b43-5e68-41be-b3ec-89b41ec767e4</th>\n",
       "      <td>2019-08-18T13:23:58.374Z</td>\n",
       "      <td>Loved the movie!! The music was and is great!!...</td>\n",
       "      <td>0</td>\n",
       "    </tr>\n",
       "    <tr>\n",
       "      <th>685f2a19-f581-43a6-bdbd-6db9e12a14fc</th>\n",
       "      <td>2019-08-18T13:22:09.835Z</td>\n",
       "      <td>It was a well made movie. I</td>\n",
       "      <td>0</td>\n",
       "    </tr>\n",
       "  </tbody>\n",
       "</table>\n",
       "</div>"
      ],
      "text/plain": [
       "                                                    createDate  \\\n",
       "userId                                                           \n",
       "D91306B7-6A67-4117-B384-6A35AF00C176  2019-08-18T14:14:07.734Z   \n",
       "ff222e0c-e396-4d62-9e6a-82529303cb75  2019-08-18T14:03:41.247Z   \n",
       "798014537                             2019-08-18T13:29:32.874Z   \n",
       "c64b8b43-5e68-41be-b3ec-89b41ec767e4  2019-08-18T13:23:58.374Z   \n",
       "685f2a19-f581-43a6-bdbd-6db9e12a14fc  2019-08-18T13:22:09.835Z   \n",
       "\n",
       "                                                                                 review  \\\n",
       "userId                                                                                    \n",
       "D91306B7-6A67-4117-B384-6A35AF00C176  This movie is good. The original, animated ver...   \n",
       "ff222e0c-e396-4d62-9e6a-82529303cb75  Followed the original story which I was skepti...   \n",
       "798014537                             Unlike some other Disney remakes, this one is ...   \n",
       "c64b8b43-5e68-41be-b3ec-89b41ec767e4  Loved the movie!! The music was and is great!!...   \n",
       "685f2a19-f581-43a6-bdbd-6db9e12a14fc                        It was a well made movie. I   \n",
       "\n",
       "                                      sentiment  \n",
       "userId                                           \n",
       "D91306B7-6A67-4117-B384-6A35AF00C176          0  \n",
       "ff222e0c-e396-4d62-9e6a-82529303cb75          0  \n",
       "798014537                                     1  \n",
       "c64b8b43-5e68-41be-b3ec-89b41ec767e4          0  \n",
       "685f2a19-f581-43a6-bdbd-6db9e12a14fc          0  "
      ]
     },
     "execution_count": 16,
     "metadata": {},
     "output_type": "execute_result"
    }
   ],
   "source": [
    "data.drop('score', axis=1,inplace=True)\n",
    "data.head()"
   ]
  },
  {
   "cell_type": "code",
   "execution_count": 17,
   "metadata": {},
   "outputs": [],
   "source": [
    "from datetime import datetime as dt\n",
    "\n",
    "data['createDate'] = pd.to_datetime(data['createDate'], infer_datetime_format=True)\n",
    "data['date'] = data['createDate'].dt.date  # Date of review\n",
    "data['time'] = data['createDate'].dt.time  # Time of review\n",
    "data['weekday'] = data['createDate'].dt.weekday  #weekday number : Monday=0, Sunday=6"
   ]
  },
  {
   "cell_type": "code",
   "execution_count": 18,
   "metadata": {},
   "outputs": [
    {
     "data": {
      "text/plain": [
       "0    476\n",
       "3    474\n",
       "6    473\n",
       "5    460\n",
       "4    445\n",
       "1    369\n",
       "2    303\n",
       "Name: weekday, dtype: int64"
      ]
     },
     "execution_count": 18,
     "metadata": {},
     "output_type": "execute_result"
    }
   ],
   "source": [
    "data['weekday'].value_counts()"
   ]
  },
  {
   "cell_type": "code",
   "execution_count": 19,
   "metadata": {},
   "outputs": [
    {
     "data": {
      "text/plain": [
       "createDate    datetime64[ns, UTC]\n",
       "review                     object\n",
       "sentiment                   int64\n",
       "date                       object\n",
       "time                       object\n",
       "weekday                     int64\n",
       "dtype: object"
      ]
     },
     "execution_count": 19,
     "metadata": {},
     "output_type": "execute_result"
    }
   ],
   "source": [
    "data.dtypes"
   ]
  },
  {
   "cell_type": "code",
   "execution_count": 20,
   "metadata": {},
   "outputs": [
    {
     "data": {
      "text/html": [
       "<div>\n",
       "<style scoped>\n",
       "    .dataframe tbody tr th:only-of-type {\n",
       "        vertical-align: middle;\n",
       "    }\n",
       "\n",
       "    .dataframe tbody tr th {\n",
       "        vertical-align: top;\n",
       "    }\n",
       "\n",
       "    .dataframe thead th {\n",
       "        text-align: right;\n",
       "    }\n",
       "</style>\n",
       "<table border=\"1\" class=\"dataframe\">\n",
       "  <thead>\n",
       "    <tr style=\"text-align: right;\">\n",
       "      <th></th>\n",
       "      <th>createDate</th>\n",
       "      <th>review</th>\n",
       "      <th>date</th>\n",
       "      <th>time</th>\n",
       "    </tr>\n",
       "  </thead>\n",
       "  <tbody>\n",
       "    <tr>\n",
       "      <th>count</th>\n",
       "      <td>3000</td>\n",
       "      <td>3000</td>\n",
       "      <td>3000</td>\n",
       "      <td>3000</td>\n",
       "    </tr>\n",
       "    <tr>\n",
       "      <th>unique</th>\n",
       "      <td>3000</td>\n",
       "      <td>2995</td>\n",
       "      <td>18</td>\n",
       "      <td>3000</td>\n",
       "    </tr>\n",
       "    <tr>\n",
       "      <th>top</th>\n",
       "      <td>2019-08-17 22:04:48.038000+00:00</td>\n",
       "      <td>I loved everything about the movie.</td>\n",
       "      <td>2019-08-05</td>\n",
       "      <td>17:17:56.926000</td>\n",
       "    </tr>\n",
       "    <tr>\n",
       "      <th>freq</th>\n",
       "      <td>1</td>\n",
       "      <td>2</td>\n",
       "      <td>318</td>\n",
       "      <td>1</td>\n",
       "    </tr>\n",
       "    <tr>\n",
       "      <th>first</th>\n",
       "      <td>2019-08-01 14:44:38.298000+00:00</td>\n",
       "      <td>NaN</td>\n",
       "      <td>NaN</td>\n",
       "      <td>NaN</td>\n",
       "    </tr>\n",
       "    <tr>\n",
       "      <th>last</th>\n",
       "      <td>2019-08-18 14:14:07.734000+00:00</td>\n",
       "      <td>NaN</td>\n",
       "      <td>NaN</td>\n",
       "      <td>NaN</td>\n",
       "    </tr>\n",
       "  </tbody>\n",
       "</table>\n",
       "</div>"
      ],
      "text/plain": [
       "                              createDate                               review  \\\n",
       "count                               3000                                 3000   \n",
       "unique                              3000                                 2995   \n",
       "top     2019-08-17 22:04:48.038000+00:00  I loved everything about the movie.   \n",
       "freq                                   1                                    2   \n",
       "first   2019-08-01 14:44:38.298000+00:00                                  NaN   \n",
       "last    2019-08-18 14:14:07.734000+00:00                                  NaN   \n",
       "\n",
       "              date             time  \n",
       "count         3000             3000  \n",
       "unique          18             3000  \n",
       "top     2019-08-05  17:17:56.926000  \n",
       "freq           318                1  \n",
       "first          NaN              NaN  \n",
       "last           NaN              NaN  "
      ]
     },
     "execution_count": 20,
     "metadata": {},
     "output_type": "execute_result"
    }
   ],
   "source": [
    "data.describe(exclude='int64')"
   ]
  },
  {
   "cell_type": "code",
   "execution_count": 21,
   "metadata": {},
   "outputs": [
    {
     "data": {
      "text/plain": [
       "review       object\n",
       "sentiment     int64\n",
       "date         object\n",
       "time         object\n",
       "weekday       int64\n",
       "dtype: object"
      ]
     },
     "execution_count": 21,
     "metadata": {},
     "output_type": "execute_result"
    }
   ],
   "source": [
    "data.drop('createDate', axis=1,inplace=True)  #Drop original Datetime variable\n",
    "data.dtypes"
   ]
  },
  {
   "cell_type": "code",
   "execution_count": 22,
   "metadata": {},
   "outputs": [
    {
     "name": "stdout",
     "output_type": "stream",
     "text": [
      "         Date  Review Count\n",
      "0  2019-08-01           152\n",
      "1  2019-08-02           252\n",
      "2  2019-08-03           258\n",
      "3  2019-08-04           294\n",
      "4  2019-08-05           318 \n",
      "\n",
      "          Date  Review Count\n",
      "13  2019-08-14           107\n",
      "14  2019-08-15            93\n",
      "15  2019-08-16            67\n",
      "16  2019-08-17            88\n",
      "17  2019-08-18            46\n"
     ]
    }
   ],
   "source": [
    "# Reviews begin on  1st August 2018, collected till 18th August 2018\n",
    "x = data['date'].value_counts().sort_index().index.values\n",
    "y = data['date'].value_counts().sort_index().values\n",
    "print(pd.DataFrame({'Date':x,'Review Count': y}).head(),'\\n')\n",
    "print(pd.DataFrame({'Date':x,'Review Count': y}).tail(),)"
   ]
  },
  {
   "cell_type": "code",
   "execution_count": 23,
   "metadata": {},
   "outputs": [
    {
     "data": {
      "image/png": "[encoded data removed]",
      "text/plain": [
       "<Figure size 720x360 with 1 Axes>"
      ]
     },
     "metadata": {},
     "output_type": "display_data"
    }
   ],
   "source": [
    "with sns.axes_style('white'):\n",
    "    sns.set(rc={'figure.figsize':(10,5)})\n",
    "    plt.plot(list(range(1,19)),y, color='blue')    \n",
    "    plt.xlabel('Day since Release', fontsize=15)\n",
    "    plt.ylabel('Review Count', fontsize=15)\n",
    "    xtick_location = list(range(1,19))\n",
    "    xtick_labels = list(range(1,19))\n",
    "    plt.xticks(ticks=xtick_location, labels=xtick_labels, rotation=0, fontsize=12, horizontalalignment='center', alpha=.9)\n",
    "    plt.yticks(fontsize=12,)\n",
    "    plt.title(\"Reviews Added Daily\", fontsize=18)\n",
    "    plt.grid(axis='both', alpha=.3)\n",
    "    plt.show()\n",
    "    \n",
    "# Plot shows a Rise in Reviews during initial weeks, followed by a decline post Day 7"
   ]
  },
  {
   "cell_type": "code",
   "execution_count": 24,
   "metadata": {},
   "outputs": [
    {
     "data": {
      "image/png": "[encoded data removed]",
      "text/plain": [
       "<Figure size 720x360 with 1 Axes>"
      ]
     },
     "metadata": {},
     "output_type": "display_data"
    }
   ],
   "source": [
    "with sns.axes_style('white'):\n",
    "    sns.set(rc={'figure.figsize':(10,5)})\n",
    "\n",
    "    g = sns.countplot(x='weekday', data=data, palette='Set1', saturation=0.7)\n",
    "    v_list = [str(round(i,1))+' %' for i in (data['weekday'].value_counts(normalize=True)*100).sort_index()]\n",
    "\n",
    "    for v, p in zip(v_list, g.patches):   # Annotate the point 'xy' with Frequency%\n",
    "            g.annotate(v, (p.get_x() + p.get_width() / 2., p.get_height()), ha='center', va='center',\\\n",
    "                       xytext = (0, 10), textcoords = 'offset points')\n",
    "    xtick_location = list(range(0,7))\n",
    "    xtick_labels = ['Mon','Tue','Wed','Thu','Fri','Sat','Sun']    \n",
    "    plt.xticks(ticks=xtick_location, labels=xtick_labels, rotation=0, fontsize=12, horizontalalignment='center', alpha=.9)\n",
    "    plt.xlabel('Weekday(s)',fontsize=15)\n",
    "    plt.ylabel('Movie Review(s)',fontsize=15)\n",
    "    plt.title('Frequency % of Reviews by Weekday', fontsize=18)\n",
    "    plt.show()\n",
    "\n",
    "# Shows a dip in reviews(viewership) on Tuesday and Wednesdays"
   ]
  },
  {
   "cell_type": "code",
   "execution_count": 25,
   "metadata": {},
   "outputs": [],
   "source": [
    "# Trend of Positive and Negative Reviews grouped by Weekday(s)"
   ]
  },
  {
   "cell_type": "code",
   "execution_count": 26,
   "metadata": {},
   "outputs": [
    {
     "data": {
      "image/png": "[encoded data removed]",
      "text/plain": [
       "<Figure size 720x360 with 1 Axes>"
      ]
     },
     "metadata": {},
     "output_type": "display_data"
    }
   ],
   "source": [
    "with sns.axes_style('white'):\n",
    "    sns.set(rc={'figure.figsize':(10,5)})\n",
    "    g = sns.countplot(\"weekday\", data=data, hue='sentiment',hue_order=[1,0], palette='Set1')    \n",
    "    v_list = [str(int(i))+' %' for i in data.groupby('weekday')['sentiment'].value_counts(normalize=True)*100]\n",
    "    v_1 = [y for x,y in enumerate(v_list) if x%2==0] # Frequency% of Positive Review(s)\n",
    "    v_2 = [y for x,y in enumerate(v_list) if x%2!=0]  # Frequency% of Negative Review(s)\n",
    "    v_list = v_2+v_1\n",
    "    for v, p in zip(v_list, g.patches):   # Annotate the point 'xy' with Frequency%\n",
    "        g.annotate(v, (p.get_x() + p.get_width() / 2., \n",
    "                       p.get_height()), ha='center', va='center', xytext = (0, 10), textcoords = 'offset points')\n",
    "    xtick_location = list(range(0,7))\n",
    "    xtick_labels = ['Mon','Tue','Wed','Thu','Fri','Sat','Sun']\n",
    "    plt.xticks(ticks=xtick_location, labels=xtick_labels, rotation=0, fontsize=12, horizontalalignment='center', alpha=.9)\n",
    "    plt.xlabel('Weekday(s)',fontsize=15)\n",
    "    plt.ylabel('Movie Review(s)',fontsize=15)\n",
    "    plt.title('Frequency % of Reviews by Weekday, Sentiment', fontsize=18)\n",
    "    g.legend(['1-Negative', '0-Positive'], loc=0)"
   ]
  },
  {
   "cell_type": "markdown",
   "metadata": {},
   "source": [
    "#### Calendar Heat Map of Count of Negative Review(s) over 18 days of Available data"
   ]
  },
  {
   "cell_type": "code",
   "execution_count": 27,
   "metadata": {},
   "outputs": [
    {
     "data": {
      "text/html": [
       "<div>\n",
       "<style scoped>\n",
       "    .dataframe tbody tr th:only-of-type {\n",
       "        vertical-align: middle;\n",
       "    }\n",
       "\n",
       "    .dataframe tbody tr th {\n",
       "        vertical-align: top;\n",
       "    }\n",
       "\n",
       "    .dataframe thead th {\n",
       "        text-align: right;\n",
       "    }\n",
       "</style>\n",
       "<table border=\"1\" class=\"dataframe\">\n",
       "  <thead>\n",
       "    <tr style=\"text-align: right;\">\n",
       "      <th></th>\n",
       "      <th>neg_review</th>\n",
       "    </tr>\n",
       "  </thead>\n",
       "  <tbody>\n",
       "    <tr>\n",
       "      <th>2019-08-01</th>\n",
       "      <td>37</td>\n",
       "    </tr>\n",
       "    <tr>\n",
       "      <th>2019-08-02</th>\n",
       "      <td>79</td>\n",
       "    </tr>\n",
       "    <tr>\n",
       "      <th>2019-08-03</th>\n",
       "      <td>85</td>\n",
       "    </tr>\n",
       "    <tr>\n",
       "      <th>2019-08-04</th>\n",
       "      <td>70</td>\n",
       "    </tr>\n",
       "    <tr>\n",
       "      <th>2019-08-05</th>\n",
       "      <td>87</td>\n",
       "    </tr>\n",
       "  </tbody>\n",
       "</table>\n",
       "</div>"
      ],
      "text/plain": [
       "            neg_review\n",
       "2019-08-01          37\n",
       "2019-08-02          79\n",
       "2019-08-03          85\n",
       "2019-08-04          70\n",
       "2019-08-05          87"
      ]
     },
     "execution_count": 27,
     "metadata": {},
     "output_type": "execute_result"
    }
   ],
   "source": [
    "# Preparing Dateframe for Calendar Heat Map\n",
    "neg_review=data[data['sentiment']>0].groupby('date')['sentiment'].value_counts()  # Count of Negative Reviews\n",
    "data_cmap = pd.DataFrame(data={'neg_review':neg_review})\n",
    "data_cmap.index = data_cmap.index.droplevel(1)  # Drop Second Index level\n",
    "index=list(data_cmap.index.values)\n",
    "index = [np.datetime64(i) for i in index]   # converting timestamp to np.datetime64()\n",
    "data_cmap.index = index\n",
    "data_cmap.head()  # Date indexed Dataframe"
   ]
  },
  {
   "cell_type": "code",
   "execution_count": 30,
   "metadata": {},
   "outputs": [
    {
     "data": {
      "text/plain": [
       "<Figure size 1280x800 with 0 Axes>"
      ]
     },
     "metadata": {},
     "output_type": "display_data"
    },
    {
     "data": {
      "image/png": "[encoded data removed]",
      "text/plain": [
       "<Figure size 1152x720 with 1 Axes>"
      ]
     },
     "metadata": {
      "needs_background": "light"
     },
     "output_type": "display_data"
    }
   ],
   "source": [
    "# !pip install calmap\n",
    "import calmap\n",
    "\n",
    "# Plot\n",
    "plt.figure(figsize=(16,10), dpi= 80)\n",
    "calmap.calendarplot(data=data_cmap['2019']['neg_review'] ,fig_kws={'figsize': (16,10)},\\\n",
    "                    yearlabel_kws={'color':'black', 'fontsize':18})\n",
    "plt.title('Calendar Heat Map of Negative Reviews (last 18 days)', fontsize=18)\n",
    "plt.xlabel('Month', fontsize=15)\n",
    "plt.show()"
   ]
  },
  {
   "cell_type": "markdown",
   "metadata": {},
   "source": [
    "**NOTE:** The First 7 days had the largest contribution of Negative Reviews ()"
   ]
  },
  {
   "cell_type": "code",
   "execution_count": 31,
   "metadata": {},
   "outputs": [
    {
     "data": {
      "text/plain": [
       "review       object\n",
       "sentiment     int64\n",
       "date         object\n",
       "time         object\n",
       "weekday       int64\n",
       "dtype: object"
      ]
     },
     "execution_count": 31,
     "metadata": {},
     "output_type": "execute_result"
    }
   ],
   "source": [
    "data.dtypes"
   ]
  },
  {
   "cell_type": "code",
   "execution_count": 32,
   "metadata": {},
   "outputs": [
    {
     "data": {
      "text/html": [
       "<div>\n",
       "<style scoped>\n",
       "    .dataframe tbody tr th:only-of-type {\n",
       "        vertical-align: middle;\n",
       "    }\n",
       "\n",
       "    .dataframe tbody tr th {\n",
       "        vertical-align: top;\n",
       "    }\n",
       "\n",
       "    .dataframe thead th {\n",
       "        text-align: right;\n",
       "    }\n",
       "</style>\n",
       "<table border=\"1\" class=\"dataframe\">\n",
       "  <thead>\n",
       "    <tr style=\"text-align: right;\">\n",
       "      <th></th>\n",
       "      <th>review</th>\n",
       "      <th>sentiment</th>\n",
       "    </tr>\n",
       "    <tr>\n",
       "      <th>userId</th>\n",
       "      <th></th>\n",
       "      <th></th>\n",
       "    </tr>\n",
       "  </thead>\n",
       "  <tbody>\n",
       "    <tr>\n",
       "      <th>D91306B7-6A67-4117-B384-6A35AF00C176</th>\n",
       "      <td>This movie is good. The original, animated ver...</td>\n",
       "      <td>0</td>\n",
       "    </tr>\n",
       "    <tr>\n",
       "      <th>ff222e0c-e396-4d62-9e6a-82529303cb75</th>\n",
       "      <td>Followed the original story which I was skepti...</td>\n",
       "      <td>0</td>\n",
       "    </tr>\n",
       "    <tr>\n",
       "      <th>798014537</th>\n",
       "      <td>Unlike some other Disney remakes, this one is ...</td>\n",
       "      <td>1</td>\n",
       "    </tr>\n",
       "    <tr>\n",
       "      <th>c64b8b43-5e68-41be-b3ec-89b41ec767e4</th>\n",
       "      <td>Loved the movie!! The music was and is great!!...</td>\n",
       "      <td>0</td>\n",
       "    </tr>\n",
       "    <tr>\n",
       "      <th>685f2a19-f581-43a6-bdbd-6db9e12a14fc</th>\n",
       "      <td>It was a well made movie. I</td>\n",
       "      <td>0</td>\n",
       "    </tr>\n",
       "  </tbody>\n",
       "</table>\n",
       "</div>"
      ],
      "text/plain": [
       "                                                                                 review  \\\n",
       "userId                                                                                    \n",
       "D91306B7-6A67-4117-B384-6A35AF00C176  This movie is good. The original, animated ver...   \n",
       "ff222e0c-e396-4d62-9e6a-82529303cb75  Followed the original story which I was skepti...   \n",
       "798014537                             Unlike some other Disney remakes, this one is ...   \n",
       "c64b8b43-5e68-41be-b3ec-89b41ec767e4  Loved the movie!! The music was and is great!!...   \n",
       "685f2a19-f581-43a6-bdbd-6db9e12a14fc                        It was a well made movie. I   \n",
       "\n",
       "                                      sentiment  \n",
       "userId                                           \n",
       "D91306B7-6A67-4117-B384-6A35AF00C176          0  \n",
       "ff222e0c-e396-4d62-9e6a-82529303cb75          0  \n",
       "798014537                                     1  \n",
       "c64b8b43-5e68-41be-b3ec-89b41ec767e4          0  \n",
       "685f2a19-f581-43a6-bdbd-6db9e12a14fc          0  "
      ]
     },
     "execution_count": 32,
     "metadata": {},
     "output_type": "execute_result"
    }
   ],
   "source": [
    "# Dropping 'date', 'time' info\n",
    "data.drop(['date','time','weekday'], axis=1, inplace=True)\n",
    "data.head()"
   ]
  },
  {
   "cell_type": "markdown",
   "metadata": {},
   "source": [
    "Text Preprocessing\n",
    "--------"
   ]
  },
  {
   "cell_type": "code",
   "execution_count": 33,
   "metadata": {},
   "outputs": [
    {
     "data": {
      "text/plain": [
       "review       object\n",
       "sentiment     int64\n",
       "dtype: object"
      ]
     },
     "execution_count": 33,
     "metadata": {},
     "output_type": "execute_result"
    }
   ],
   "source": [
    "data.dtypes"
   ]
  },
  {
   "cell_type": "code",
   "execution_count": 38,
   "metadata": {},
   "outputs": [],
   "source": [
    "# !pip install -U spacy\n",
    "# !python -m spacy download en_core_web_sm\n",
    "import spacy\n",
    "nlp = spacy.load(\"en_core_web_sm\")\n",
    "\n",
    "import re\n",
    "import random\n",
    "random.seed(123)"
   ]
  },
  {
   "cell_type": "code",
   "execution_count": 39,
   "metadata": {},
   "outputs": [
    {
     "name": "stdout",
     "output_type": "stream",
     "text": [
      "Index(['review', 'sentiment'], dtype='object')\n",
      "Index(['review', 'sentiment'], dtype='object')\n"
     ]
    }
   ],
   "source": [
    "#Duplicating the original text extracted before proceeeding with preprocessing steps\n",
    "\n",
    "original_data = data.copy()\n",
    "print(data.keys())\n",
    "print(original_data.keys())"
   ]
  },
  {
   "cell_type": "markdown",
   "metadata": {},
   "source": [
    "### LowerCase all text"
   ]
  },
  {
   "cell_type": "code",
   "execution_count": 40,
   "metadata": {},
   "outputs": [
    {
     "data": {
      "text/plain": [
       "userId\n",
       "D91306B7-6A67-4117-B384-6A35AF00C176    this movie is good. the original, animated ver...\n",
       "ff222e0c-e396-4d62-9e6a-82529303cb75    followed the original story which i was skepti...\n",
       "798014537                               unlike some other disney remakes, this one is ...\n",
       "c64b8b43-5e68-41be-b3ec-89b41ec767e4    loved the movie!! the music was and is great!!...\n",
       "685f2a19-f581-43a6-bdbd-6db9e12a14fc                          it was a well made movie. i\n",
       "db558a10-7aa3-4980-919c-2e786dbf619d    they took all of the puns out!! they took the ...\n",
       "601D3E10-C29D-426E-AF31-E04DF16BD3F2    loved it! i am a huge fan of the original so i...\n",
       "A9AF03F3-CD14-48EA-8506-56363CE41AB6    honestly, the cartoon is better due to the ani...\n",
       "0c7e063e-0e2d-4b4a-8a9c-ed8249e4db07    stayed true to original story.  liked that mid...\n",
       "61c1b34d-1c98-4f19-a1f5-b07707551baa    i thought this was awesome. i enjoyed all the ...\n",
       "Name: review, dtype: object"
      ]
     },
     "execution_count": 40,
     "metadata": {},
     "output_type": "execute_result"
    }
   ],
   "source": [
    "data['review'] = [text.strip().lower() for text in data['review']]  # remove Trailing/Leading whitespaces\n",
    "data['review'][:10]"
   ]
  },
  {
   "cell_type": "code",
   "execution_count": 41,
   "metadata": {},
   "outputs": [
    {
     "data": {
      "text/plain": [
       "\"i enjoyed this film very much. the cgi in this film is incredible and it does a good job at adapting a classic. there are some things that make the animated film better but you really can't compare an animated film to a cgi one especially cgi done to look real. this is not easy to achieve folks where as animators draw these(cgi) effects take months if not years to create a realistic image\""
      ]
     },
     "execution_count": 41,
     "metadata": {},
     "output_type": "execute_result"
    }
   ],
   "source": [
    "# eg of 'review' to preprocess\n",
    "data['review'][100]"
   ]
  },
  {
   "cell_type": "markdown",
   "metadata": {},
   "source": [
    "### Removal/Replacement of: Contractions, Accented Characters, Symbols/Markdown Characters\n",
    "**Contraction-Expansion Map:**"
   ]
  },
  {
   "cell_type": "code",
   "execution_count": 42,
   "metadata": {},
   "outputs": [],
   "source": [
    "CONTRACTION_MAP = {\n",
    "\"ain't\": \"is not\", \"aren't\": \"are not\", \"can't\": \"cannot\", \"can't've\": \"cannot have\", \"'cause\": \"because\", \"could've\": \"could have\",\n",
    "\"couldn't\": \"could not\", \"couldn't've\": \"could not have\", \"didn't\": \"did not\", \"doesn't\": \"does not\", \"don't\": \"do not\", \"hadn't\": \"had not\",\n",
    "\"hadn't've\": \"had not have\", \"hasn't\": \"has not\", \"haven't\": \"have not\", \"he'd\": \"he would\", \"he'd've\": \"he would have\",\n",
    "\"he'll\": \"he will\", \"he'll've\": \"he will have\", \"he's\": \"he is\",\"how'd\": \"how did\",\"how'd'y\": \"how do you\",\"how'll\": \"how will\",\"how's\": \"how is\",\n",
    "\"I'd\": \"I would\",\"I'd've\": \"I would have\",\"I'll\": \"I will\",\"I'll've\": \"I will have\",\"I'm\": \"I am\",\"I've\": \"I have\",\"i'd\": \"i would\",\n",
    "\"i'd've\": \"i would have\",\"i'll\": \"i will\",\"i'll've\": \"i will have\",\"i'm\": \"i am\",\"i've\": \"i have\",\"isn't\": \"is not\",\"it'd\": \"it would\",\n",
    "\"it'd've\": \"it would have\",\"it'll\": \"it will\",\"it'll've\": \"it will have\",\"it's\": \"it is\",\"let's\": \"let us\",\"ma'am\": \"madam\",\"mayn't\": \"may not\",\n",
    "\"might've\": \"might have\",\"mightn't\": \"might not\",\"mightn't've\": \"might not have\",\"must've\": \"must have\",\"mustn't\": \"must not\",\n",
    "\"mustn't've\": \"must not have\",\"needn't\": \"need not\",\"needn't've\": \"need not have\",\"o'clock\": \"of the clock\",\"oughtn't\": \"ought not\",\n",
    "\"oughtn't've\": \"ought not have\",\"shan't\": \"shall not\",\"sha'n't\": \"shall not\",\"shan't've\": \"shall not have\",\"she'd\": \"she would\",\n",
    "\"she'd've\": \"she would have\",\"she'll\": \"she will\",\"she'll've\": \"she will have\",\"she's\": \"she is\",\"should've\": \"should have\",\"shouldn't\": \"should not\",\n",
    "\"shouldn't've\": \"should not have\",\"so've\": \"so have\",\"so's\": \"so as\",\"that'd\": \"that would\",\"that'd've\": \"that would have\",\"that's\": \"that is\",\n",
    "\"there'd\": \"there would\",\"there'd've\": \"there would have\",\"there's\": \"there is\",\"they'd\": \"they would\",\"they'd've\": \"they would have\",\n",
    "\"they'll\": \"they will\",\"they'll've\": \"they will have\",\"they're\": \"they are\",\"they've\": \"they have\",\"to've\": \"to have\",\"wasn't\": \"was not\",\n",
    "\"we'd\": \"we would\",\"we'd've\": \"we would have\",\"we'll\": \"we will\",\"we'll've\": \"we will have\",\"we're\": \"we are\",\"we've\": \"we have\",\"weren't\": \"were not\",\n",
    "\"what'll\": \"what will\",\"what'll've\": \"what will have\",\"what're\": \"what are\",\"what's\": \"what is\",\"what've\": \"what have\",\"when's\": \"when is\",\n",
    "\"when've\": \"when have\",\"where'd\": \"where did\",\"where's\": \"where is\",\"where've\": \"where have\",\"who'll\": \"who will\",\"who'll've\": \"who will have\",\n",
    "\"who's\": \"who is\",\"who've\": \"who have\",\"why's\": \"why is\",\"why've\": \"why have\",\"will've\": \"will have\",\"won't\": \"will not\",\"won't've\": \"will not have\",\n",
    "\"would've\": \"would have\",\"wouldn't\": \"would not\",\"wouldn't've\": \"would not have\",\"y'all\": \"you all\",\"y'all'd\": \"you all would\",\n",
    "\"y'all'd've\": \"you all would have\",\"y'all're\": \"you all are\",\"y'all've\": \"you all have\",\"you'd\": \"you would\",\"you'd've\": \"you would have\",\n",
    "\"you'll\": \"you will\",\"you'll've\": \"you will have\",\"you're\": \"you are\",\"you've\": \"you have\"\n",
    "}"
   ]
  },
  {
   "cell_type": "code",
   "execution_count": 43,
   "metadata": {},
   "outputs": [],
   "source": [
    "# from contractions import CONTRACTION_MAP\n",
    "import unicodedata\n",
    "\n",
    "def expand_contractions(text, contraction_mapping=CONTRACTION_MAP):\n",
    "    \n",
    "    # Create 're' object by re.compile(pattern, repl, string)    \n",
    "    contractions_pattern = re.compile('({})'.format('|'.join(contraction_mapping.keys())), \n",
    "                                      flags=re.IGNORECASE|re.DOTALL)\n",
    "    # re.IGNORECASE : Make search case-insensiitive\n",
    "    # re.DOTALL: Make the '.' special character match any character at all, including a newline\n",
    "    \n",
    "    # To Expand the Contracted Words\n",
    "    def expand_match(contraction):\n",
    "        match = contraction.group(0)        \n",
    "        expanded_contraction = contraction_mapping.get(match)\\\n",
    "                                if contraction_mapping.get(match)\\\n",
    "                                else contraction_mapping.get(match.lower())                       \n",
    "        return expanded_contraction   # match, 'replaced by -->',expanded_contraction\n",
    "        \n",
    "    # string substitution: regex.sub(replacement, subject)    \n",
    "    expanded_text = contractions_pattern.sub(expand_match, text)\n",
    "    expanded_text = re.sub(pattern=\"'\", repl=\"\", string=expanded_text)  # Remove apostrophe\n",
    "    return expanded_text   # Returns expanded text"
   ]
  },
  {
   "cell_type": "code",
   "execution_count": 44,
   "metadata": {},
   "outputs": [],
   "source": [
    "# Removes accented characters and emojis too\n",
    "def remove_accented_chars(text):\n",
    "    text = unicodedata.normalize('NFKD', text).encode('ascii', 'ignore').decode('utf-8', 'ignore')\n",
    "    return text"
   ]
  },
  {
   "cell_type": "code",
   "execution_count": 45,
   "metadata": {},
   "outputs": [],
   "source": [
    "def scrub_words(text):\n",
    "    #Replace \\xao characters in text\n",
    "    text = re.sub('\\xa0', ' ', text)\n",
    "    \n",
    "    #Replace non ascii, non-Words and Digits/Numerals\n",
    "    text = re.sub(\"(\\\\W|\\\\d)\",' ',text)  # \\W: non-alphanumeric character, \\d: decimal digit\n",
    "    \n",
    "    #Replace new line characters and following text untill space\n",
    "    text = re.sub('\\n(\\w*?)[\\s]', '', text)  # \\n: newline char, \\w: any alphanumeric character, \n",
    "                  # *: matches zero or more occurrences, ?: matches Zero or One occurrence of the pattern left to it.\n",
    "                  # (a|b|c)xz: group sub-patterns to match, [abc]: set of characters to match, \\s: whitespace \n",
    "                  # |: is used for alternation a|b\n",
    "    \n",
    "    #Remove html markup\n",
    "    text = re.sub(\"<.*?>\", ' ', text)\n",
    "    return text"
   ]
  },
  {
   "cell_type": "code",
   "execution_count": 46,
   "metadata": {
    "scrolled": true
   },
   "outputs": [
    {
     "name": "stdout",
     "output_type": "stream",
     "text": [
      "They are not sick, you should not worry! \n",
      "\n",
      "Non-Accented Text: Demain, des laube, a lheure ou blanchit la campagne, Je partirai. Jirai par la foret, jirai par la montagne. \n",
      "\n",
      "Scrubbed Text: Love  Love       Love this movie                   Lion King is the best      \n"
     ]
    }
   ],
   "source": [
    "# Test: expand_contractions()\n",
    "txt = \"They aren't sick, you shouldn't worry!\"\n",
    "print(expand_contractions(txt),'\\n')\n",
    "\n",
    "# Test: remove_accented_chars()\n",
    "txt = 'Demain, dès l’aube, à l’heure où blanchit la campagne, Je partirai. J’irai par la forêt, j’irai par la montagne.'\n",
    "print('Non-Accented Text:',remove_accented_chars(txt),'\\n')\n",
    "\n",
    "# Test: scrub_words()\n",
    "txt = \"Love, Love, \\n\\n\\t, Love this movie!!😍😍😍❤️❤️❤️,&*(@)$&Lion King is the best#(@#$)\"\n",
    "print('Scrubbed Text:',scrub_words(txt))"
   ]
  },
  {
   "cell_type": "code",
   "execution_count": 47,
   "metadata": {},
   "outputs": [
    {
     "name": "stdout",
     "output_type": "stream",
     "text": [
      "Average Review length: 146.767\n"
     ]
    }
   ],
   "source": [
    "print('Average Review length:', np.mean([len(i) for i in data['review']]))"
   ]
  },
  {
   "cell_type": "markdown",
   "metadata": {},
   "source": [
    "#### Invoking the above defined functions"
   ]
  },
  {
   "cell_type": "code",
   "execution_count": 48,
   "metadata": {},
   "outputs": [],
   "source": [
    "# data['review']= [expand_contractions(re.sub('’', \"'\", text)) for text in data['review']]\n",
    "data['review'] = data['review'].apply(lambda x: expand_contractions(re.sub('’', \"'\", x)))"
   ]
  },
  {
   "cell_type": "code",
   "execution_count": 49,
   "metadata": {},
   "outputs": [],
   "source": [
    "# Apply remove_accented_chars()\n",
    "data['review'] = data['review'].apply(lambda x: remove_accented_chars(re.sub('’', \"'\", x)))"
   ]
  },
  {
   "cell_type": "code",
   "execution_count": 50,
   "metadata": {},
   "outputs": [],
   "source": [
    "# Apply scrub_words()\n",
    "data['review'] = data['review'].apply(lambda x: scrub_words(re.sub('’', \"'\", x)))"
   ]
  },
  {
   "cell_type": "markdown",
   "metadata": {},
   "source": [
    "#### Checking the integrity of the data after initial preprocessing steps"
   ]
  },
  {
   "cell_type": "code",
   "execution_count": 51,
   "metadata": {},
   "outputs": [
    {
     "name": "stdout",
     "output_type": "stream",
     "text": [
      "3000\n",
      "3000 \n",
      "\n",
      "Original Text: an absolutely must see!  we loved it! so sweet and funny.  the cinematography is amazing!\n",
      "--------------------\n",
      "Processed Text: an absolutely must see   we loved it  so sweet and funny   the cinematography is amazing \n"
     ]
    }
   ],
   "source": [
    "print(len(data['review']))\n",
    "print(len(original_data['review']),'\\n')\n",
    "\n",
    "print('Original Text:', original_data['review'][2784])\n",
    "print(\"-\"*20)\n",
    "print('Processed Text:',data['review'][2784])"
   ]
  },
  {
   "cell_type": "markdown",
   "metadata": {},
   "source": [
    "### Adding new column \"word_count\" which specifies the number of tokens in each document"
   ]
  },
  {
   "cell_type": "code",
   "execution_count": 52,
   "metadata": {},
   "outputs": [
    {
     "data": {
      "text/html": [
       "<div>\n",
       "<style scoped>\n",
       "    .dataframe tbody tr th:only-of-type {\n",
       "        vertical-align: middle;\n",
       "    }\n",
       "\n",
       "    .dataframe tbody tr th {\n",
       "        vertical-align: top;\n",
       "    }\n",
       "\n",
       "    .dataframe thead th {\n",
       "        text-align: right;\n",
       "    }\n",
       "</style>\n",
       "<table border=\"1\" class=\"dataframe\">\n",
       "  <thead>\n",
       "    <tr style=\"text-align: right;\">\n",
       "      <th></th>\n",
       "      <th>review</th>\n",
       "      <th>word_count</th>\n",
       "    </tr>\n",
       "    <tr>\n",
       "      <th>userId</th>\n",
       "      <th></th>\n",
       "      <th></th>\n",
       "    </tr>\n",
       "  </thead>\n",
       "  <tbody>\n",
       "    <tr>\n",
       "      <th>9cdba29f-26eb-44c5-9d1e-3b8323390a15</th>\n",
       "      <td>i really liked it i really thought some of the...</td>\n",
       "      <td>84</td>\n",
       "    </tr>\n",
       "    <tr>\n",
       "      <th>98A92FDA-4AAA-45ED-BB92-7477097106C1</th>\n",
       "      <td>technically beautiful  but emotionally flat an...</td>\n",
       "      <td>29</td>\n",
       "    </tr>\n",
       "    <tr>\n",
       "      <th>03ABAEDF-8D6A-47E1-B83A-79F2288327A8</th>\n",
       "      <td>i enjoyed the whole movie  it took me back to ...</td>\n",
       "      <td>43</td>\n",
       "    </tr>\n",
       "    <tr>\n",
       "      <th>7246C5FC-F9D7-4C93-80ED-19A81A9E253F</th>\n",
       "      <td>it was ahhhhhmazing     there were times i wan...</td>\n",
       "      <td>32</td>\n",
       "    </tr>\n",
       "    <tr>\n",
       "      <th>E6FCDE5C-D042-424D-866F-FE86FE7FBA9C</th>\n",
       "      <td>loved the movie   it was great</td>\n",
       "      <td>10</td>\n",
       "    </tr>\n",
       "  </tbody>\n",
       "</table>\n",
       "</div>"
      ],
      "text/plain": [
       "                                                                                 review  \\\n",
       "userId                                                                                    \n",
       "9cdba29f-26eb-44c5-9d1e-3b8323390a15  i really liked it i really thought some of the...   \n",
       "98A92FDA-4AAA-45ED-BB92-7477097106C1  technically beautiful  but emotionally flat an...   \n",
       "03ABAEDF-8D6A-47E1-B83A-79F2288327A8  i enjoyed the whole movie  it took me back to ...   \n",
       "7246C5FC-F9D7-4C93-80ED-19A81A9E253F  it was ahhhhhmazing     there were times i wan...   \n",
       "E6FCDE5C-D042-424D-866F-FE86FE7FBA9C                   loved the movie   it was great     \n",
       "\n",
       "                                      word_count  \n",
       "userId                                            \n",
       "9cdba29f-26eb-44c5-9d1e-3b8323390a15          84  \n",
       "98A92FDA-4AAA-45ED-BB92-7477097106C1          29  \n",
       "03ABAEDF-8D6A-47E1-B83A-79F2288327A8          43  \n",
       "7246C5FC-F9D7-4C93-80ED-19A81A9E253F          32  \n",
       "E6FCDE5C-D042-424D-866F-FE86FE7FBA9C          10  "
      ]
     },
     "execution_count": 52,
     "metadata": {},
     "output_type": "execute_result"
    }
   ],
   "source": [
    "data['word_count'] = data['review'].apply(lambda x: len(x.split(' ')))  # tokenize words separated by single space\n",
    "data[['review','word_count']].iloc[1000:1005,:]"
   ]
  },
  {
   "cell_type": "code",
   "execution_count": 53,
   "metadata": {},
   "outputs": [
    {
     "name": "stdout",
     "output_type": "stream",
     "text": [
      "Mean Review Length: 31.346\n",
      "Minimum Review Length: 2\n",
      "Max Review Length: 891\n"
     ]
    }
   ],
   "source": [
    "print('Mean Review Length:',data['word_count'].mean())\n",
    "print('Minimum Review Length:',data['word_count'].min())\n",
    "print('Max Review Length:',data['word_count'].max())"
   ]
  },
  {
   "cell_type": "markdown",
   "metadata": {},
   "source": [
    "### Lemmatization, Stemming, Tokenization and Stopwords."
   ]
  },
  {
   "cell_type": "code",
   "execution_count": 54,
   "metadata": {},
   "outputs": [
    {
     "name": "stdout",
     "output_type": "stream",
     "text": [
      "Number of stop words: 326\n",
      "First ten stop words: ['be', 'rather', 'her', 'moreover', 'seeming', 'something', \"'s\", 'fifteen', 'must', 'everywhere']\n"
     ]
    }
   ],
   "source": [
    "## load spacy's English stopwords as variable called 'stopwords'\n",
    "\n",
    "stopwords = spacy.lang.en.stop_words.STOP_WORDS\n",
    "print('Number of stop words: %d' % len(stopwords))\n",
    "print('First ten stop words: %s' % list(stopwords)[:10])\n",
    "# stopwords.remove('no')\n",
    "# stopwords.remove('not')"
   ]
  },
  {
   "cell_type": "code",
   "execution_count": 55,
   "metadata": {},
   "outputs": [
    {
     "data": {
      "text/plain": [
       "326"
      ]
     },
     "execution_count": 55,
     "metadata": {},
     "output_type": "execute_result"
    }
   ],
   "source": [
    "len(stopwords)  # stopwords is a set()"
   ]
  },
  {
   "cell_type": "code",
   "execution_count": 56,
   "metadata": {},
   "outputs": [],
   "source": [
    "## Adding Custom stopwords to the spacy stopword list\n",
    "for w in stopwords:\n",
    "    nlp.vocab[w].is_stop = True"
   ]
  },
  {
   "cell_type": "code",
   "execution_count": 57,
   "metadata": {},
   "outputs": [],
   "source": [
    "## Use NLTK for stemming.\n",
    "## load nltk's SnowballStemmer as variable 'stemmer'\n",
    "from nltk.stem.snowball import SnowballStemmer\n",
    "stemmer = SnowballStemmer(\"english\")"
   ]
  },
  {
   "cell_type": "code",
   "execution_count": 58,
   "metadata": {},
   "outputs": [],
   "source": [
    "# Here I define a tokenizer and stemmer which returns the set of stems (excluding stop words) in the text that it is passed\n",
    "\n",
    "def tokenize_and_stem(doc, remove_stopwords = True):\n",
    "    # first tokenize by sentence, then by word to ensure that punctuation is caught as it's own token\n",
    "    if remove_stopwords:\n",
    "        tokens = [word.text for word in doc if not word.is_stop]\n",
    "    else:\n",
    "        tokens = [word.text for word in doc]\n",
    "        \n",
    "    #print(tokens[:5])\n",
    "    filtered_tokens = []\n",
    "    # filter out any tokens not containing letters (e.g., numeric tokens, raw punctuation)\n",
    "    for token in tokens:\n",
    "        if re.search('[a-zA-Z]', token):\n",
    "            filtered_tokens.append(token)\n",
    "    \n",
    "    #print(\"ended re.search\")\n",
    "    stems = [stemmer.stem(t) for t in filtered_tokens]\n",
    "    #print(\"returning stems\")\n",
    "    return stems\n",
    "\n",
    "def tokenize_and_lemmatize(doc, remove_stopwords = True):\n",
    "    \n",
    "    # spaCy will convert word to lower case and changing past tense, \n",
    "    # gerund form (other tenses as well) to present tense. Also, “they” normalize to “-PRON-” which is pronoun.\n",
    "\n",
    "    if remove_stopwords:\n",
    "        tokens = [word for word in doc if not word.is_stop]\n",
    "    else:\n",
    "        tokens = [word for word in doc]\n",
    "    #print(\"Completed tokenization\")\n",
    "    filtered_tokens = []\n",
    "    # filter out any tokens not containing letters (e.g., numeric tokens, raw punctuation)\n",
    "    for token in tokens:\n",
    "        if re.search('[a-zA-Z]', token.text):\n",
    "            filtered_tokens.append(token)\n",
    "            \n",
    "    #print(\"ended re.search\")\n",
    "    lemma = [t.lemma_ for t in filtered_tokens]\n",
    "    #print(\"returning lemms\")\n",
    "    return lemma\n",
    "\n",
    "\n",
    "def tokenize_only(doc, remove_stopwords = True):\n",
    "    # first tokenize by sentence, then by word to ensure that punctuation is caught as it's own token\n",
    "    if remove_stopwords:\n",
    "        tokens = [word.text for word in doc if not word.is_stop]\n",
    "    else:\n",
    "        tokens = [word.text for word in doc]\n",
    "    filtered_tokens = []\n",
    "    # filter out any tokens not containing letters (e.g., numeric tokens, raw punctuation)\n",
    "    for token in tokens:\n",
    "        if re.search('[a-zA-Z]', token):\n",
    "            filtered_tokens.append(token)\n",
    "    return filtered_tokens"
   ]
  },
  {
   "cell_type": "markdown",
   "metadata": {},
   "source": [
    "We are trying to create four seperate lists:\n",
    "1. Clean Review Lemmatized (w/o stopwords)\n",
    "2. Clean Review Stemmed (w/o stop words)\n",
    "3. Review Lemmatized (w stopwords)\n",
    "4. Review Stemmed (w stopwords)"
   ]
  },
  {
   "cell_type": "markdown",
   "metadata": {},
   "source": [
    "# NOTE: Time to execute below chunk = 503.5 s (9 min)\n",
    "## Load from local file 'data_txt_preprocessed.csv'"
   ]
  },
  {
   "cell_type": "code",
   "execution_count": 59,
   "metadata": {},
   "outputs": [],
   "source": [
    "data = pd.read_csv('data_txt_preprocessed.csv', index_col='userId')\n",
    "# data.head()\n",
    "import ast\n",
    "# string literal evaluation --> data structure\n",
    "data['clean_review_stemmed'] = data['clean_review_stemmed'].apply(lambda x: ast.literal_eval(x))\n",
    "data['clean_review_lemmatized'] = data['clean_review_lemmatized'].apply(lambda x: ast.literal_eval(x))\n",
    "data['clean_review_tokenized'] = data['clean_review_tokenized'].apply(lambda x: ast.literal_eval(x))\n",
    "data['review_stemmed'] = data['review_stemmed'].apply(lambda x: ast.literal_eval(x))\n",
    "data['review_lemmatized'] = data['review_lemmatized'].apply(lambda x: ast.literal_eval(x))\n",
    "data['review_tokenized'] = data['review_tokenized'].apply(lambda x: ast.literal_eval(x))"
   ]
  },
  {
   "cell_type": "code",
   "execution_count": 60,
   "metadata": {},
   "outputs": [
    {
     "data": {
      "text/html": [
       "<div>\n",
       "<style scoped>\n",
       "    .dataframe tbody tr th:only-of-type {\n",
       "        vertical-align: middle;\n",
       "    }\n",
       "\n",
       "    .dataframe tbody tr th {\n",
       "        vertical-align: top;\n",
       "    }\n",
       "\n",
       "    .dataframe thead th {\n",
       "        text-align: right;\n",
       "    }\n",
       "</style>\n",
       "<table border=\"1\" class=\"dataframe\">\n",
       "  <thead>\n",
       "    <tr style=\"text-align: right;\">\n",
       "      <th></th>\n",
       "      <th>review</th>\n",
       "      <th>sentiment</th>\n",
       "      <th>word_count</th>\n",
       "      <th>clean_review_stemmed</th>\n",
       "      <th>clean_review_lemmatized</th>\n",
       "      <th>clean_review_tokenized</th>\n",
       "      <th>review_lemmatized</th>\n",
       "      <th>review_stemmed</th>\n",
       "      <th>review_tokenized</th>\n",
       "    </tr>\n",
       "    <tr>\n",
       "      <th>userId</th>\n",
       "      <th></th>\n",
       "      <th></th>\n",
       "      <th></th>\n",
       "      <th></th>\n",
       "      <th></th>\n",
       "      <th></th>\n",
       "      <th></th>\n",
       "      <th></th>\n",
       "      <th></th>\n",
       "    </tr>\n",
       "  </thead>\n",
       "  <tbody>\n",
       "    <tr>\n",
       "      <th>9cdba29f-26eb-44c5-9d1e-3b8323390a15</th>\n",
       "      <td>i really liked it i really thought some of the...</td>\n",
       "      <td>0</td>\n",
       "      <td>84</td>\n",
       "      <td>[like, thought, scene, music, thought, good, c...</td>\n",
       "      <td>[like, think, scene, music, think, good, carto...</td>\n",
       "      <td>[liked, thought, scenes, music, thought, good,...</td>\n",
       "      <td>[i, really, like, -PRON-, i, really, think, so...</td>\n",
       "      <td>[i, realli, like, it, i, realli, thought, some...</td>\n",
       "      <td>[i, really, liked, it, i, really, thought, som...</td>\n",
       "    </tr>\n",
       "    <tr>\n",
       "      <th>98A92FDA-4AAA-45ED-BB92-7477097106C1</th>\n",
       "      <td>technically beautiful  but emotionally flat an...</td>\n",
       "      <td>1</td>\n",
       "      <td>29</td>\n",
       "      <td>[technic, beauti, emot, flat, lack, energi, fu...</td>\n",
       "      <td>[technically, beautiful, emotionally, flat, la...</td>\n",
       "      <td>[technically, beautiful, emotionally, flat, la...</td>\n",
       "      <td>[technically, beautiful, but, emotionally, fla...</td>\n",
       "      <td>[technic, beauti, but, emot, flat, and, lack, ...</td>\n",
       "      <td>[technically, beautiful, but, emotionally, fla...</td>\n",
       "    </tr>\n",
       "    <tr>\n",
       "      <th>03ABAEDF-8D6A-47E1-B83A-79F2288327A8</th>\n",
       "      <td>i enjoyed the whole movie  it took me back to ...</td>\n",
       "      <td>0</td>\n",
       "      <td>43</td>\n",
       "      <td>[enjoy, movi, took, lion, king, favorit, movi,...</td>\n",
       "      <td>[enjoy, movie, take, lion, king, favorite, mov...</td>\n",
       "      <td>[enjoyed, movie, took, lion, king, favorite, m...</td>\n",
       "      <td>[i, enjoy, the, whole, movie, -PRON-, take, -P...</td>\n",
       "      <td>[i, enjoy, the, whole, movi, it, took, me, bac...</td>\n",
       "      <td>[i, enjoyed, the, whole, movie, it, took, me, ...</td>\n",
       "    </tr>\n",
       "    <tr>\n",
       "      <th>7246C5FC-F9D7-4C93-80ED-19A81A9E253F</th>\n",
       "      <td>it was ahhhhhmazing     there were times i wan...</td>\n",
       "      <td>0</td>\n",
       "      <td>32</td>\n",
       "      <td>[ahhhhhmaz, time, want, phone, pictur, real, a...</td>\n",
       "      <td>[ahhhhhmaze, time, want, phone, picture, real,...</td>\n",
       "      <td>[ahhhhhmazing, times, wanted, phone, picture, ...</td>\n",
       "      <td>[-PRON-, be, ahhhhhmaze, there, be, time, i, w...</td>\n",
       "      <td>[it, was, ahhhhhmaz, there, were, time, i, wan...</td>\n",
       "      <td>[it, was, ahhhhhmazing, there, were, times, i,...</td>\n",
       "    </tr>\n",
       "    <tr>\n",
       "      <th>E6FCDE5C-D042-424D-866F-FE86FE7FBA9C</th>\n",
       "      <td>loved the movie   it was great</td>\n",
       "      <td>0</td>\n",
       "      <td>10</td>\n",
       "      <td>[love, movi, great]</td>\n",
       "      <td>[love, movie, great]</td>\n",
       "      <td>[loved, movie, great]</td>\n",
       "      <td>[love, the, movie, -PRON-, be, great]</td>\n",
       "      <td>[love, the, movi, it, was, great]</td>\n",
       "      <td>[loved, the, movie, it, was, great]</td>\n",
       "    </tr>\n",
       "  </tbody>\n",
       "</table>\n",
       "</div>"
      ],
      "text/plain": [
       "                                                                                 review  \\\n",
       "userId                                                                                    \n",
       "9cdba29f-26eb-44c5-9d1e-3b8323390a15  i really liked it i really thought some of the...   \n",
       "98A92FDA-4AAA-45ED-BB92-7477097106C1  technically beautiful  but emotionally flat an...   \n",
       "03ABAEDF-8D6A-47E1-B83A-79F2288327A8  i enjoyed the whole movie  it took me back to ...   \n",
       "7246C5FC-F9D7-4C93-80ED-19A81A9E253F  it was ahhhhhmazing     there were times i wan...   \n",
       "E6FCDE5C-D042-424D-866F-FE86FE7FBA9C                   loved the movie   it was great     \n",
       "\n",
       "                                      sentiment  word_count  \\\n",
       "userId                                                        \n",
       "9cdba29f-26eb-44c5-9d1e-3b8323390a15          0          84   \n",
       "98A92FDA-4AAA-45ED-BB92-7477097106C1          1          29   \n",
       "03ABAEDF-8D6A-47E1-B83A-79F2288327A8          0          43   \n",
       "7246C5FC-F9D7-4C93-80ED-19A81A9E253F          0          32   \n",
       "E6FCDE5C-D042-424D-866F-FE86FE7FBA9C          0          10   \n",
       "\n",
       "                                                                   clean_review_stemmed  \\\n",
       "userId                                                                                    \n",
       "9cdba29f-26eb-44c5-9d1e-3b8323390a15  [like, thought, scene, music, thought, good, c...   \n",
       "98A92FDA-4AAA-45ED-BB92-7477097106C1  [technic, beauti, emot, flat, lack, energi, fu...   \n",
       "03ABAEDF-8D6A-47E1-B83A-79F2288327A8  [enjoy, movi, took, lion, king, favorit, movi,...   \n",
       "7246C5FC-F9D7-4C93-80ED-19A81A9E253F  [ahhhhhmaz, time, want, phone, pictur, real, a...   \n",
       "E6FCDE5C-D042-424D-866F-FE86FE7FBA9C                                [love, movi, great]   \n",
       "\n",
       "                                                                clean_review_lemmatized  \\\n",
       "userId                                                                                    \n",
       "9cdba29f-26eb-44c5-9d1e-3b8323390a15  [like, think, scene, music, think, good, carto...   \n",
       "98A92FDA-4AAA-45ED-BB92-7477097106C1  [technically, beautiful, emotionally, flat, la...   \n",
       "03ABAEDF-8D6A-47E1-B83A-79F2288327A8  [enjoy, movie, take, lion, king, favorite, mov...   \n",
       "7246C5FC-F9D7-4C93-80ED-19A81A9E253F  [ahhhhhmaze, time, want, phone, picture, real,...   \n",
       "E6FCDE5C-D042-424D-866F-FE86FE7FBA9C                               [love, movie, great]   \n",
       "\n",
       "                                                                 clean_review_tokenized  \\\n",
       "userId                                                                                    \n",
       "9cdba29f-26eb-44c5-9d1e-3b8323390a15  [liked, thought, scenes, music, thought, good,...   \n",
       "98A92FDA-4AAA-45ED-BB92-7477097106C1  [technically, beautiful, emotionally, flat, la...   \n",
       "03ABAEDF-8D6A-47E1-B83A-79F2288327A8  [enjoyed, movie, took, lion, king, favorite, m...   \n",
       "7246C5FC-F9D7-4C93-80ED-19A81A9E253F  [ahhhhhmazing, times, wanted, phone, picture, ...   \n",
       "E6FCDE5C-D042-424D-866F-FE86FE7FBA9C                              [loved, movie, great]   \n",
       "\n",
       "                                                                      review_lemmatized  \\\n",
       "userId                                                                                    \n",
       "9cdba29f-26eb-44c5-9d1e-3b8323390a15  [i, really, like, -PRON-, i, really, think, so...   \n",
       "98A92FDA-4AAA-45ED-BB92-7477097106C1  [technically, beautiful, but, emotionally, fla...   \n",
       "03ABAEDF-8D6A-47E1-B83A-79F2288327A8  [i, enjoy, the, whole, movie, -PRON-, take, -P...   \n",
       "7246C5FC-F9D7-4C93-80ED-19A81A9E253F  [-PRON-, be, ahhhhhmaze, there, be, time, i, w...   \n",
       "E6FCDE5C-D042-424D-866F-FE86FE7FBA9C              [love, the, movie, -PRON-, be, great]   \n",
       "\n",
       "                                                                         review_stemmed  \\\n",
       "userId                                                                                    \n",
       "9cdba29f-26eb-44c5-9d1e-3b8323390a15  [i, realli, like, it, i, realli, thought, some...   \n",
       "98A92FDA-4AAA-45ED-BB92-7477097106C1  [technic, beauti, but, emot, flat, and, lack, ...   \n",
       "03ABAEDF-8D6A-47E1-B83A-79F2288327A8  [i, enjoy, the, whole, movi, it, took, me, bac...   \n",
       "7246C5FC-F9D7-4C93-80ED-19A81A9E253F  [it, was, ahhhhhmaz, there, were, time, i, wan...   \n",
       "E6FCDE5C-D042-424D-866F-FE86FE7FBA9C                  [love, the, movi, it, was, great]   \n",
       "\n",
       "                                                                       review_tokenized  \n",
       "userId                                                                                   \n",
       "9cdba29f-26eb-44c5-9d1e-3b8323390a15  [i, really, liked, it, i, really, thought, som...  \n",
       "98A92FDA-4AAA-45ED-BB92-7477097106C1  [technically, beautiful, but, emotionally, fla...  \n",
       "03ABAEDF-8D6A-47E1-B83A-79F2288327A8  [i, enjoyed, the, whole, movie, it, took, me, ...  \n",
       "7246C5FC-F9D7-4C93-80ED-19A81A9E253F  [it, was, ahhhhhmazing, there, were, times, i,...  \n",
       "E6FCDE5C-D042-424D-866F-FE86FE7FBA9C                [loved, the, movie, it, was, great]  "
      ]
     },
     "execution_count": 60,
     "metadata": {},
     "output_type": "execute_result"
    }
   ],
   "source": [
    "data.iloc[1000:1005,:]"
   ]
  },
  {
   "cell_type": "raw",
   "metadata": {},
   "source": [
    "## Naming Conventions followed ####\n",
    "## 'clean' describes Review that does not contain stopwords\n",
    "## 'all' describes Review that contains stopwords.\n",
    "# Stemmed - Lemmatized - Tokenized\n",
    "\n",
    "st = time.time()  # start time\n",
    "\n",
    "# stemmed, lemmatized, tokenized reviews\n",
    "\n",
    "# w.o Stopwords    \n",
    "data['clean_review_lemmatized'] = data['review'].apply(lambda x: tokenize_and_lemmatize(nlp(x)))\n",
    "data['clean_review_stemmed'] = data['review'].apply(lambda x: tokenize_and_stem(nlp(x)))\n",
    "data['clean_review_tokenized'] = data['review'].apply(lambda x: tokenize_only(nlp(x)))\n",
    "\n",
    "# w. Stopwords\n",
    "data['review_lemmatized'] = data['review'].apply(lambda x: tokenize_and_lemmatize(nlp(x), False))\n",
    "data['review_stemmed'] = data['review'].apply(lambda x: tokenize_and_stem(nlp(x), False))\n",
    "data['review_tokenized'] = data['review'].apply(lambda x: tokenize_only(nlp(x), False))\n",
    "\n",
    "print('Execution Time:', time.time()-st)"
   ]
  },
  {
   "cell_type": "code",
   "execution_count": 61,
   "metadata": {},
   "outputs": [],
   "source": [
    "# Vocab List w.o stopwords\n",
    "clean_vocab_lemmatized = []\n",
    "clean_vocab_stemmed = []\n",
    "clean_vocab_tokenized = []\n",
    "\n",
    "# Vocab List w stopwords\n",
    "all_vocab_lemmatized = []\n",
    "all_vocab_tokenized = []\n",
    "\n",
    "for i,j,k in zip(data['clean_review_lemmatized'],data['clean_review_stemmed'], data['clean_review_tokenized']):\n",
    "    clean_vocab_lemmatized.extend(i)\n",
    "    clean_vocab_stemmed.extend(j)\n",
    "    clean_vocab_tokenized.extend(k)\n",
    "    \n",
    "for i,j in zip(data['review_lemmatized'], data['review_tokenized']):\n",
    "    all_vocab_lemmatized.extend(i)    \n",
    "    all_vocab_tokenized.extend(j)\n"
   ]
  },
  {
   "cell_type": "code",
   "execution_count": 62,
   "metadata": {},
   "outputs": [
    {
     "name": "stdout",
     "output_type": "stream",
     "text": [
      "35727\n",
      "35727\n",
      "35727 \n",
      "\n",
      "80818\n",
      "80818\n"
     ]
    }
   ],
   "source": [
    "print(len(clean_vocab_lemmatized))\n",
    "print(len(clean_vocab_stemmed))\n",
    "print(len(clean_vocab_tokenized),'\\n')\n",
    "print(len(all_vocab_lemmatized))\n",
    "print(len(all_vocab_tokenized))"
   ]
  },
  {
   "cell_type": "code",
   "execution_count": 63,
   "metadata": {},
   "outputs": [
    {
     "name": "stdout",
     "output_type": "stream",
     "text": [
      "i really liked it i really thought some of the scenes were done really well and the music i thought was just as good as the cartoon  like i really liked the hakuna matata scene and the can you feel the love tonight i though those both sounded really well      overall i really liked it for a disney remake the scenes were more intense than the cartoon especially at the end when simba was fighting scar   \n",
      "\n",
      "['like', 'think', 'scene', 'music', 'think', 'good', 'cartoon', 'like', 'like', 'hakuna', 'matata', 'scene', 'feel', 'love', 'tonight', 'sound', 'overall', 'like', 'disney', 'remake', 'scene', 'intense', 'cartoon', 'especially', 'end', 'simba', 'fight', 'scar'] \n",
      "\n",
      "['like', 'thought', 'scene', 'music', 'thought', 'good', 'cartoon', 'like', 'like', 'hakuna', 'matata', 'scene', 'feel', 'love', 'tonight', 'sound', 'overal', 'like', 'disney', 'remak', 'scene', 'intens', 'cartoon', 'especi', 'end', 'simba', 'fight', 'scar'] \n",
      "\n",
      "['i', 'realli', 'like', 'it', 'i', 'realli', 'thought', 'some', 'of', 'the', 'scene', 'were', 'done', 'realli', 'well', 'and', 'the', 'music', 'i', 'thought', 'was', 'just', 'as', 'good', 'as', 'the', 'cartoon', 'like', 'i', 'realli', 'like', 'the', 'hakuna', 'matata', 'scene', 'and', 'the', 'can', 'you', 'feel', 'the', 'love', 'tonight', 'i', 'though', 'those', 'both', 'sound', 'realli', 'well', 'overal', 'i', 'realli', 'like', 'it', 'for', 'a', 'disney', 'remak', 'the', 'scene', 'were', 'more', 'intens', 'than', 'the', 'cartoon', 'especi', 'at', 'the', 'end', 'when', 'simba', 'was', 'fight', 'scar'] \n",
      "\n",
      "['i', 'really', 'like', '-PRON-', 'i', 'really', 'think', 'some', 'of', 'the', 'scene', 'be', 'do', 'really', 'well', 'and', 'the', 'music', 'i', 'think', 'be', 'just', 'as', 'good', 'as', 'the', 'cartoon', 'like', 'i', 'really', 'like', 'the', 'hakuna', 'matata', 'scene', 'and', 'the', 'can', '-PRON-', 'feel', 'the', 'love', 'tonight', 'i', 'though', 'those', 'both', 'sound', 'really', 'well', 'overall', 'i', 'really', 'like', '-PRON-', 'for', 'a', 'disney', 'remake', 'the', 'scene', 'be', 'more', 'intense', 'than', 'the', 'cartoon', 'especially', 'at', 'the', 'end', 'when', 'simba', 'be', 'fight', 'scar'] \n",
      "\n"
     ]
    }
   ],
   "source": [
    "print(data['review'][1000],'\\n')\n",
    "print(data['clean_review_lemmatized'][1000],'\\n')\n",
    "print(data['clean_review_stemmed'][1000],'\\n')\n",
    "print(data['review_stemmed'][1000],'\\n')\n",
    "print(data['review_lemmatized'][1000],'\\n')"
   ]
  },
  {
   "cell_type": "markdown",
   "metadata": {},
   "source": [
    "Text Data Visualization\n",
    "----------"
   ]
  },
  {
   "cell_type": "code",
   "execution_count": 64,
   "metadata": {},
   "outputs": [
    {
     "name": "stdout",
     "output_type": "stream",
     "text": [
      "There are 80818 words in all_vocab_frame\n",
      "There are 35727 words in clean_vocab_frame\n"
     ]
    }
   ],
   "source": [
    "# Creating Dataframe for tokens in Review's Vocabulary\n",
    "all_vocab_frame = pd.DataFrame({'words': all_vocab_tokenized}, index = all_vocab_lemmatized)\n",
    "print ('There are ' + str(all_vocab_frame.shape[0]) + ' words in all_vocab_frame')\n",
    "\n",
    "clean_vocab_frame = pd.DataFrame({'words': clean_vocab_tokenized}, index = clean_vocab_lemmatized)\n",
    "print ('There are ' + str(clean_vocab_frame.shape[0]) + ' words in clean_vocab_frame')"
   ]
  },
  {
   "cell_type": "markdown",
   "metadata": {},
   "source": [
    "### Plotting Most frequent words before and after stopword removal"
   ]
  },
  {
   "cell_type": "code",
   "execution_count": 65,
   "metadata": {},
   "outputs": [],
   "source": [
    "values, counts = np.unique(clean_vocab_frame, return_counts=True)\n",
    "all_values, all_counts = np.unique(all_vocab_frame, return_counts=True)"
   ]
  },
  {
   "cell_type": "code",
   "execution_count": 66,
   "metadata": {},
   "outputs": [
    {
     "name": "stdout",
     "output_type": "stream",
     "text": [
      "[2521 2726 1729 ... 1941 1926 4435]\n",
      "[4158 2187 4530 ... 2076 2117 4692]\n"
     ]
    }
   ],
   "source": [
    "sorted_indices = np.argsort(-counts)\n",
    "print(sorted_indices)\n",
    "all_sorted_indices = np.argsort(-all_counts)\n",
    "print(all_sorted_indices)"
   ]
  },
  {
   "cell_type": "code",
   "execution_count": 67,
   "metadata": {},
   "outputs": [],
   "source": [
    "values = values[sorted_indices]\n",
    "counts = counts[sorted_indices]\n",
    "\n",
    "all_values = all_values[all_sorted_indices]\n",
    "all_counts = all_counts[all_sorted_indices]"
   ]
  },
  {
   "cell_type": "code",
   "execution_count": 68,
   "metadata": {},
   "outputs": [
    {
     "data": {
      "image/png": "[encoded data removed]",
      "text/plain": [
       "<Figure size 1080x720 with 2 Axes>"
      ]
     },
     "metadata": {
      "needs_background": "light"
     },
     "output_type": "display_data"
    }
   ],
   "source": [
    "font = {'family' : 'DejaVu Sans',\n",
    "        'weight' : 'bold'}\n",
    "plt.rc('font', **font)\n",
    "plt.figure(figsize=(15,10))\n",
    "\n",
    "# Frequency plot of words w/o stopwords\n",
    "plt.subplot(1,2,1)\n",
    "plt.barh(values[:15], counts[:15], color='blue')\n",
    "plt.gca().invert_yaxis()\n",
    "plt.yticks(fontsize=15)\n",
    "plt.title('Word Frequency: w/o Stopwords', fontsize=20)\n",
    "\n",
    "\n",
    "# Frequency plot of words with stopwords\n",
    "plt.subplot(1,2,2)\n",
    "plt.barh(all_values[:15], all_counts[:15], color='mediumspringgreen')\n",
    "plt.gca().invert_yaxis()\n",
    "plt.yticks(fontsize=15)\n",
    "plt.title('Word Frequency: w. Stopwords', fontsize=20)\n",
    "\n",
    "plt.show()"
   ]
  },
  {
   "cell_type": "markdown",
   "metadata": {},
   "source": [
    "#### Observations from the Frequency Plots\n",
    "\n",
    "1) The most occuring words present in both the graphs are quite different.\\\n",
    "2) Words in graph 1 (without stopwords) better describes the themes within the Reviews written"
   ]
  },
  {
   "cell_type": "markdown",
   "metadata": {},
   "source": [
    "### Wordcloud of Review words (Lemmatized)"
   ]
  },
  {
   "cell_type": "code",
   "execution_count": 69,
   "metadata": {},
   "outputs": [],
   "source": [
    "# Word Cloud string\n",
    "clean_review_wordcloud=[]\n",
    "for i in data['clean_review_lemmatized']:\n",
    "    clean_review_wordcloud+=i\n",
    "clean_string = \" \".join(clean_review_wordcloud)"
   ]
  },
  {
   "cell_type": "code",
   "execution_count": 71,
   "metadata": {},
   "outputs": [
    {
     "data": {
      "image/png": "[encoded data removed]",
      "text/plain": [
       "<Figure size 2160x3600 with 1 Axes>"
      ]
     },
     "metadata": {
      "needs_background": "light"
     },
     "output_type": "display_data"
    }
   ],
   "source": [
    "# !pip install wordcloud\n",
    "from wordcloud import WordCloud\n",
    "wordcloud = WordCloud(max_font_size=100, width = 600,height=300,max_words=50, background_color=\"white\").generate(clean_string)\n",
    "import matplotlib.pyplot as plt\n",
    "%matplotlib inline\n",
    "plt.figure(figsize=(30,50))\n",
    "plt.imshow(wordcloud)\n",
    "plt.axis(False)\n",
    "plt.show()"
   ]
  },
  {
   "cell_type": "markdown",
   "metadata": {},
   "source": [
    "### Word Frequency by Sentimentiment Groups"
   ]
  },
  {
   "cell_type": "code",
   "execution_count": 72,
   "metadata": {},
   "outputs": [
    {
     "data": {
      "text/html": [
       "<div>\n",
       "<style scoped>\n",
       "    .dataframe tbody tr th:only-of-type {\n",
       "        vertical-align: middle;\n",
       "    }\n",
       "\n",
       "    .dataframe tbody tr th {\n",
       "        vertical-align: top;\n",
       "    }\n",
       "\n",
       "    .dataframe thead th {\n",
       "        text-align: right;\n",
       "    }\n",
       "</style>\n",
       "<table border=\"1\" class=\"dataframe\">\n",
       "  <thead>\n",
       "    <tr style=\"text-align: right;\">\n",
       "      <th></th>\n",
       "      <th>review</th>\n",
       "      <th>sentiment</th>\n",
       "      <th>word_count</th>\n",
       "      <th>clean_review_stemmed</th>\n",
       "      <th>clean_review_lemmatized</th>\n",
       "      <th>clean_review_tokenized</th>\n",
       "      <th>review_lemmatized</th>\n",
       "      <th>review_stemmed</th>\n",
       "      <th>review_tokenized</th>\n",
       "    </tr>\n",
       "    <tr>\n",
       "      <th>userId</th>\n",
       "      <th></th>\n",
       "      <th></th>\n",
       "      <th></th>\n",
       "      <th></th>\n",
       "      <th></th>\n",
       "      <th></th>\n",
       "      <th></th>\n",
       "      <th></th>\n",
       "      <th></th>\n",
       "    </tr>\n",
       "  </thead>\n",
       "  <tbody>\n",
       "    <tr>\n",
       "      <th>D91306B7-6A67-4117-B384-6A35AF00C176</th>\n",
       "      <td>this movie is good  the original  animated ver...</td>\n",
       "      <td>0</td>\n",
       "      <td>86</td>\n",
       "      <td>[movi, good, origin, anim, version, place, hea...</td>\n",
       "      <td>[movie, good, original, animate, version, plac...</td>\n",
       "      <td>[movie, good, original, animated, version, pla...</td>\n",
       "      <td>[this, movie, be, good, the, original, animate...</td>\n",
       "      <td>[this, movi, is, good, the, origin, anim, vers...</td>\n",
       "      <td>[this, movie, is, good, the, original, animate...</td>\n",
       "    </tr>\n",
       "    <tr>\n",
       "      <th>ff222e0c-e396-4d62-9e6a-82529303cb75</th>\n",
       "      <td>followed the original story which i was skepti...</td>\n",
       "      <td>0</td>\n",
       "      <td>12</td>\n",
       "      <td>[follow, origin, stori, skeptic, enjoy]</td>\n",
       "      <td>[follow, original, story, skeptical, enjoy]</td>\n",
       "      <td>[followed, original, story, skeptical, enjoyed]</td>\n",
       "      <td>[follow, the, original, story, which, i, be, s...</td>\n",
       "      <td>[follow, the, origin, stori, which, i, was, sk...</td>\n",
       "      <td>[followed, the, original, story, which, i, was...</td>\n",
       "    </tr>\n",
       "  </tbody>\n",
       "</table>\n",
       "</div>"
      ],
      "text/plain": [
       "                                                                                 review  \\\n",
       "userId                                                                                    \n",
       "D91306B7-6A67-4117-B384-6A35AF00C176  this movie is good  the original  animated ver...   \n",
       "ff222e0c-e396-4d62-9e6a-82529303cb75  followed the original story which i was skepti...   \n",
       "\n",
       "                                      sentiment  word_count  \\\n",
       "userId                                                        \n",
       "D91306B7-6A67-4117-B384-6A35AF00C176          0          86   \n",
       "ff222e0c-e396-4d62-9e6a-82529303cb75          0          12   \n",
       "\n",
       "                                                                   clean_review_stemmed  \\\n",
       "userId                                                                                    \n",
       "D91306B7-6A67-4117-B384-6A35AF00C176  [movi, good, origin, anim, version, place, hea...   \n",
       "ff222e0c-e396-4d62-9e6a-82529303cb75            [follow, origin, stori, skeptic, enjoy]   \n",
       "\n",
       "                                                                clean_review_lemmatized  \\\n",
       "userId                                                                                    \n",
       "D91306B7-6A67-4117-B384-6A35AF00C176  [movie, good, original, animate, version, plac...   \n",
       "ff222e0c-e396-4d62-9e6a-82529303cb75        [follow, original, story, skeptical, enjoy]   \n",
       "\n",
       "                                                                 clean_review_tokenized  \\\n",
       "userId                                                                                    \n",
       "D91306B7-6A67-4117-B384-6A35AF00C176  [movie, good, original, animated, version, pla...   \n",
       "ff222e0c-e396-4d62-9e6a-82529303cb75    [followed, original, story, skeptical, enjoyed]   \n",
       "\n",
       "                                                                      review_lemmatized  \\\n",
       "userId                                                                                    \n",
       "D91306B7-6A67-4117-B384-6A35AF00C176  [this, movie, be, good, the, original, animate...   \n",
       "ff222e0c-e396-4d62-9e6a-82529303cb75  [follow, the, original, story, which, i, be, s...   \n",
       "\n",
       "                                                                         review_stemmed  \\\n",
       "userId                                                                                    \n",
       "D91306B7-6A67-4117-B384-6A35AF00C176  [this, movi, is, good, the, origin, anim, vers...   \n",
       "ff222e0c-e396-4d62-9e6a-82529303cb75  [follow, the, origin, stori, which, i, was, sk...   \n",
       "\n",
       "                                                                       review_tokenized  \n",
       "userId                                                                                   \n",
       "D91306B7-6A67-4117-B384-6A35AF00C176  [this, movie, is, good, the, original, animate...  \n",
       "ff222e0c-e396-4d62-9e6a-82529303cb75  [followed, the, original, story, which, i, was...  "
      ]
     },
     "execution_count": 72,
     "metadata": {},
     "output_type": "execute_result"
    }
   ],
   "source": [
    "data.head(2)"
   ]
  },
  {
   "cell_type": "code",
   "execution_count": 73,
   "metadata": {},
   "outputs": [
    {
     "data": {
      "text/html": [
       "<div>\n",
       "<style scoped>\n",
       "    .dataframe tbody tr th:only-of-type {\n",
       "        vertical-align: middle;\n",
       "    }\n",
       "\n",
       "    .dataframe tbody tr th {\n",
       "        vertical-align: top;\n",
       "    }\n",
       "\n",
       "    .dataframe thead th {\n",
       "        text-align: right;\n",
       "    }\n",
       "</style>\n",
       "<table border=\"1\" class=\"dataframe\">\n",
       "  <thead>\n",
       "    <tr style=\"text-align: right;\">\n",
       "      <th></th>\n",
       "      <th>counts</th>\n",
       "      <th>sentiment</th>\n",
       "      <th>values</th>\n",
       "    </tr>\n",
       "  </thead>\n",
       "  <tbody>\n",
       "    <tr>\n",
       "      <th>0</th>\n",
       "      <td>[1029, 612, 541, 521, 345, 291, 250, 229, 227,...</td>\n",
       "      <td>0</td>\n",
       "      <td>[movie, original, loved, great, good, like, am...</td>\n",
       "    </tr>\n",
       "    <tr>\n",
       "      <th>1</th>\n",
       "      <td>[470, 462, 257, 161, 146, 137, 136, 134, 123, ...</td>\n",
       "      <td>1</td>\n",
       "      <td>[movie, original, like, good, better, film, vo...</td>\n",
       "    </tr>\n",
       "  </tbody>\n",
       "</table>\n",
       "</div>"
      ],
      "text/plain": [
       "                                              counts sentiment  \\\n",
       "0  [1029, 612, 541, 521, 345, 291, 250, 229, 227,...         0   \n",
       "1  [470, 462, 257, 161, 146, 137, 136, 134, 123, ...         1   \n",
       "\n",
       "                                              values  \n",
       "0  [movie, original, loved, great, good, like, am...  \n",
       "1  [movie, original, like, good, better, film, vo...  "
      ]
     },
     "execution_count": 73,
     "metadata": {},
     "output_type": "execute_result"
    }
   ],
   "source": [
    "# grouby sentiment\n",
    "grouped_text = data.groupby('sentiment')['clean_review_tokenized']\n",
    "\n",
    "# Fetch entire tokenized text for specific group\n",
    "from itertools import chain\n",
    "frequent_words_sentiment_df = pd.DataFrame(columns={\"values\", \"counts\", \"sentiment\"})\n",
    "\n",
    "for num in range(2):  # 2 Sentiment levels\n",
    "    values, counts = np.unique(list(chain.from_iterable(grouped_text.get_group(num))), return_counts=True)\n",
    "    # Create single List of Tokenized Reviews; lazily evaluates by taking a single iterable argument at a time\n",
    "                               \n",
    "    sorted_indices = np.argsort(-counts)  # returns indices of sorted 'counts' in reversed order    \n",
    "    frequent_words_sentiment_df = frequent_words_sentiment_df.append({\"values\":values[sorted_indices], \"counts\":counts[sorted_indices], \"sentiment\": num}, ignore_index=True)\n",
    "    # Append word values in decreasing count order grouped by sentiment\n",
    "\n",
    "frequent_words_sentiment_df.head()  # words sorted by counts order"
   ]
  },
  {
   "cell_type": "code",
   "execution_count": 74,
   "metadata": {},
   "outputs": [
    {
     "data": {
      "image/png": "[encoded data removed]",
      "text/plain": [
       "<Figure size 1296x720 with 2 Axes>"
      ]
     },
     "metadata": {
      "needs_background": "light"
     },
     "output_type": "display_data"
    }
   ],
   "source": [
    "font = {'family' : ' DejaVu Sans', 'weight' : 'bold', 'size': 15}\n",
    "\n",
    "plt.rc('font', **font)\n",
    "plt.figure(figsize=(18,10))\n",
    "\n",
    "plt.subplot(1,2,1)\n",
    "plt.barh(frequent_words_sentiment_df.loc[1,'values'][:15], frequent_words_sentiment_df.loc[1,'counts'][:15], color='royalblue')\n",
    "plt.gca().invert_yaxis()\n",
    "plt.yticks(fontsize=15)\n",
    "plt.title('Words Frequency: Sentiment 1', fontsize='20')\n",
    "\n",
    "plt.subplot(1,2,2)\n",
    "plt.barh(frequent_words_sentiment_df.loc[0,'values'][:15], frequent_words_sentiment_df.loc[0,'counts'][:15], color='blue')\n",
    "plt.gca().invert_yaxis()\n",
    "plt.title('Words Frequency: Sentiment 0', fontsize='20')\n",
    "plt.yticks(fontsize=15)\n",
    "\n",
    "plt.show()"
   ]
  },
  {
   "cell_type": "markdown",
   "metadata": {},
   "source": [
    "#### Observations:\n",
    "1. Generic words common to both Sentiment reviews cloud the differences between the classes (top words common to both: 'movie','original', 'like' etc.\n",
    "\n",
    "\n",
    "2. Difference in count of occurences of key words:    "
   ]
  },
  {
   "cell_type": "code",
   "execution_count": 75,
   "metadata": {},
   "outputs": [
    {
     "name": "stdout",
     "output_type": "stream",
     "text": [
      "Count of \"good\" in Sentiment-1: 161\n",
      "Count of \"good\" in Sentiment-0: 345 \n",
      "\n",
      "Count of \"no\" in Sentiment-1: 123\n",
      "Count of \"no\" in Sentiment-0: 51 \n",
      "\n",
      "Count of \"bad\" in Sentiment-1: 55\n",
      "Count of \"bad\" in Sentiment-0: 24 \n",
      "\n",
      "Count of \"boring\" in Sentiment-1: 49\n",
      "Count of \"boring\" in Sentiment-0: 7 \n",
      "\n",
      "Count of \"lacked\" in Sentiment-1: 48\n",
      "Count of \"lacked\" in Sentiment-0: 15 \n",
      "\n"
     ]
    }
   ],
   "source": [
    "print('Count of \"good\" in Sentiment-1:',frequent_words_sentiment_df.loc[1,'counts'][np.where(frequent_words_sentiment_df.loc[1,'values']=='good')][0])\n",
    "print('Count of \"good\" in Sentiment-0:',frequent_words_sentiment_df.loc[0,'counts'][np.where(frequent_words_sentiment_df.loc[0,'values']=='good')][0],'\\n')\n",
    "print('Count of \"no\" in Sentiment-1:',frequent_words_sentiment_df.loc[1,'counts'][np.where(frequent_words_sentiment_df.loc[1,'values']=='no')][0])\n",
    "print('Count of \"no\" in Sentiment-0:',frequent_words_sentiment_df.loc[0,'counts'][np.where(frequent_words_sentiment_df.loc[0,'values']=='no')][0],'\\n')\n",
    "print('Count of \"bad\" in Sentiment-1:',frequent_words_sentiment_df.loc[1,'counts'][np.where(frequent_words_sentiment_df.loc[1,'values']=='bad')][0])\n",
    "print('Count of \"bad\" in Sentiment-0:',frequent_words_sentiment_df.loc[0,'counts'][np.where(frequent_words_sentiment_df.loc[0,'values']=='bad')][0],'\\n')\n",
    "print('Count of \"boring\" in Sentiment-1:',frequent_words_sentiment_df.loc[1,'counts'][np.where(frequent_words_sentiment_df.loc[1,'values']=='boring')][0])\n",
    "print('Count of \"boring\" in Sentiment-0:',frequent_words_sentiment_df.loc[0,'counts'][np.where(frequent_words_sentiment_df.loc[0,'values']=='boring')][0],'\\n')\n",
    "print('Count of \"lacked\" in Sentiment-1:',frequent_words_sentiment_df.loc[1,'counts'][np.where(frequent_words_sentiment_df.loc[1,'values']=='lacked')][0])\n",
    "print('Count of \"lacked\" in Sentiment-0:',frequent_words_sentiment_df.loc[0,'counts'][np.where(frequent_words_sentiment_df.loc[0,'values']=='lacked')][0],'\\n')"
   ]
  },
  {
   "cell_type": "markdown",
   "metadata": {},
   "source": [
    "### Word Frequency of Pure Negative, Pure Positive tokens of the Sentiment groups\n",
    "- To better understand the divergence of the sentiments established between the two groups, we must remove the intersecting tokens present in both classes."
   ]
  },
  {
   "cell_type": "code",
   "execution_count": 76,
   "metadata": {},
   "outputs": [],
   "source": [
    "# Review Words in sentiment=1 not in sentiment=0\n",
    "neg_tokens = list(set(frequent_words_sentiment_df.loc[1,'values'])-set(frequent_words_sentiment_df.loc[0,'values']))\n",
    "# 1136 Pure Negative Words found\n",
    "\n",
    "neg_index = np.array([list(frequent_words_sentiment_df.loc[1,'values']).index(i) for i in neg_tokens])  # index location\n",
    "neg_counts = frequent_words_sentiment_df.loc[1,'counts'][neg_index] # counts of words\n",
    "neg_tokens = np.array(neg_tokens)\n",
    "\n",
    "# Sort Tokens by Descending Count order\n",
    "index = np.argsort(-neg_counts)\n",
    "neg_counts = neg_counts[index]\n",
    "neg_tokens = neg_tokens[index]\n",
    "\n",
    "# Review Words in sentiment=0 not in sentiment=1\n",
    "pos_tokens = list(set(frequent_words_sentiment_df.loc[0,'values'])-set(frequent_words_sentiment_df.loc[1,'values']))\n",
    "# 1136 Pure positive Words found\n",
    "\n",
    "pos_index = np.array([list(frequent_words_sentiment_df.loc[0,'values']).index(i) for i in pos_tokens])  # index location\n",
    "pos_counts = frequent_words_sentiment_df.loc[0,'counts'][pos_index] # counts of words\n",
    "pos_tokens = np.array(pos_tokens)\n",
    "\n",
    "# Sort Tokens by Descending Count order\n",
    "index = np.argsort(-pos_counts)\n",
    "pos_counts = pos_counts[index]\n",
    "pos_tokens = pos_tokens[index]"
   ]
  },
  {
   "cell_type": "code",
   "execution_count": 77,
   "metadata": {},
   "outputs": [
    {
     "data": {
      "image/png": "[encoded data removed]",
      "text/plain": [
       "<Figure size 2160x1296 with 2 Axes>"
      ]
     },
     "metadata": {
      "needs_background": "light"
     },
     "output_type": "display_data"
    }
   ],
   "source": [
    "font = {'family' : ' DejaVu Sans', 'weight' : 'bold'}\n",
    "\n",
    "plt.rc('font', **font)\n",
    "plt.figure(figsize=(30,18))\n",
    "\n",
    "plt.subplot(1,2,1)\n",
    "plt.barh(neg_tokens[:15], neg_counts[:15], color='tomato')\n",
    "plt.gca().invert_yaxis()\n",
    "plt.yticks(fontsize=25)\n",
    "plt.xticks(fontsize=20)\n",
    "plt.title('Pure Negative Word Frequency: Sentiment 1', fontsize='30')\n",
    "\n",
    "plt.subplot(1,2,2)\n",
    "plt.barh(pos_tokens[:15], pos_counts[:15], color='royalblue')\n",
    "plt.gca().invert_yaxis()\n",
    "plt.yticks(fontsize=25)\n",
    "plt.xticks(fontsize=20)\n",
    "plt.title('Pure Positive Word Frequency: Sentiment 0', fontsize='30')\n",
    "\n",
    "plt.show()"
   ]
  },
  {
   "cell_type": "code",
   "execution_count": 78,
   "metadata": {},
   "outputs": [],
   "source": [
    "## tfidf vectorizer needs sentence and not token. Hence we need to combine all the tokens back to form a string\n",
    "data['clean_review_stemmed'] = [' '.join(text) for text in data['clean_review_stemmed']]\n",
    "data['clean_review_lemmatized'] = [' '.join(text) for text in data['clean_review_lemmatized']]"
   ]
  },
  {
   "cell_type": "code",
   "execution_count": 79,
   "metadata": {
    "scrolled": false
   },
   "outputs": [
    {
     "data": {
      "text/plain": [
       "'movie good original animate version place heart like update version screw critic like movie shot shot movie difference anybody tired movie look good low rating care diferent opinion mean valid'"
      ]
     },
     "execution_count": 79,
     "metadata": {},
     "output_type": "execute_result"
    }
   ],
   "source": [
    "data['clean_review_lemmatized'][0]"
   ]
  },
  {
   "cell_type": "markdown",
   "metadata": {},
   "source": [
    "### Creating the `tfidf_matrix`"
   ]
  },
  {
   "cell_type": "code",
   "execution_count": 80,
   "metadata": {},
   "outputs": [
    {
     "name": "stdout",
     "output_type": "stream",
     "text": [
      "(3000, 3)\n"
     ]
    }
   ],
   "source": [
    "from sklearn.feature_extraction.text import TfidfVectorizer\n",
    "\n",
    "#define vectorizer parameters\n",
    "\n",
    "# max_df : cutoff to exclude highly populated words in all doc eg: stopwords\n",
    "# min_df : cutoff to exclude highly rare words in all doc eg: rarewords, no semantic value across corpus\n",
    "# ngram_range : type of ngrams to include (min_ngram, max_ngram) (default=(1, 1))\n",
    "# max_features : features dimension cutoff\n",
    "tfidf_vectorizer = TfidfVectorizer(max_df=0.9, max_features=1500,  #(0.05, 0.001)\n",
    "                                 min_df=0.2,\n",
    "                                 use_idf=True, ngram_range=(1,1))\n",
    "\n",
    "tfidf_matrix = tfidf_vectorizer.fit_transform(data['clean_review_lemmatized'])\n",
    "\n",
    "print(tfidf_matrix.shape)"
   ]
  },
  {
   "cell_type": "code",
   "execution_count": 81,
   "metadata": {},
   "outputs": [
    {
     "data": {
      "text/plain": [
       "['love', 'movie', 'original']"
      ]
     },
     "execution_count": 81,
     "metadata": {},
     "output_type": "execute_result"
    }
   ],
   "source": [
    "# Terms: Main latent themes of the Text\n",
    "# vocabulary_: Main latent Features of the Text\n",
    "# tfidf_vectorizer.vocabulary_\n",
    "\n",
    "terms = tfidf_vectorizer.get_feature_names()\n",
    "terms"
   ]
  },
  {
   "cell_type": "code",
   "execution_count": 82,
   "metadata": {},
   "outputs": [
    {
     "data": {
      "text/plain": [
       "matrix([[0.        , 0.96016386, 0.27943757],\n",
       "        [0.        , 0.        , 1.        ],\n",
       "        [0.        , 0.65160949, 0.75855459],\n",
       "        ...,\n",
       "        [0.        , 0.        , 0.        ],\n",
       "        [0.48056031, 0.        , 0.87696168],\n",
       "        [1.        , 0.        , 0.        ]])"
      ]
     },
     "execution_count": 82,
     "metadata": {},
     "output_type": "execute_result"
    }
   ],
   "source": [
    "tfidf_matrix.todense()  # todense() : Return a dense matrix representation of matrix."
   ]
  },
  {
   "cell_type": "markdown",
   "metadata": {},
   "source": [
    "Unsupervised Learning\n",
    "-------\n",
    "### 1. K-mean Clustering"
   ]
  },
  {
   "cell_type": "markdown",
   "metadata": {},
   "source": [
    "### Fitting the elbow curve to identify right number of clusters/topics"
   ]
  },
  {
   "cell_type": "code",
   "execution_count": 83,
   "metadata": {},
   "outputs": [],
   "source": [
    "from sklearn import metrics\n",
    "from sklearn.cluster import KMeans\n",
    "from scipy.spatial.distance import cdist    #cluster distance\n",
    "import joblib\n",
    "Sum_of_squared_distances = []\n",
    "K = range(1,6)\n",
    "for k in K:\n",
    "    kmeanModel = KMeans(n_clusters=k, random_state=123)\n",
    "    kmeanModel.fit(tfidf_matrix)\n",
    "    Sum_of_squared_distances.append(kmeanModel.inertia_)\n",
    "    "
   ]
  },
  {
   "cell_type": "code",
   "execution_count": 84,
   "metadata": {},
   "outputs": [
    {
     "data": {
      "text/plain": [
       "[1373.8660768435293,\n",
       " 882.4282198684449,\n",
       " 507.15094897309336,\n",
       " 197.32066948035003,\n",
       " 124.82968052826068]"
      ]
     },
     "execution_count": 84,
     "metadata": {},
     "output_type": "execute_result"
    }
   ],
   "source": [
    "Sum_of_squared_distances"
   ]
  },
  {
   "cell_type": "code",
   "execution_count": 85,
   "metadata": {},
   "outputs": [
    {
     "name": "stderr",
     "output_type": "stream",
     "text": [
      "findfont: Font family ['normal'] not found. Falling back to DejaVu Sans.\n",
      "findfont: Font family ['normal'] not found. Falling back to DejaVu Sans.\n"
     ]
    },
    {
     "data": {
      "image/png": "[encoded data removed]",
      "text/plain": [
       "<Figure size 432x288 with 1 Axes>"
      ]
     },
     "metadata": {
      "needs_background": "light"
     },
     "output_type": "display_data"
    }
   ],
   "source": [
    "# Plot the elbow\n",
    "\n",
    "# Distortion, on the y-axis, corresponds to our cost function: \n",
    "# the sum of squared difference between each data point and the centroid, i.e., the cluster centre.\n",
    "\n",
    "# As K increases the corresponding distortion value will tend to zero, \n",
    "# because you end up having just one data point per cluster. With only one data point in per cluster, \n",
    "# the centroid is the data point itself, so the distortion will be equal to zero.\n",
    "\n",
    "font = {'family' : 'normal',\n",
    "        'weight' : 'bold',\n",
    "        'size'   : 10}\n",
    "\n",
    "plt.rc('font', **font)\n",
    "plt.plot(K, Sum_of_squared_distances, 'bx-')\n",
    "plt.xlabel('k')\n",
    "plt.ylabel('Sum_of_squared_distances')\n",
    "plt.title('Elbow Method For Optimal k')\n",
    "plt.show()\n"
   ]
  },
  {
   "cell_type": "code",
   "execution_count": 86,
   "metadata": {},
   "outputs": [
    {
     "name": "stdout",
     "output_type": "stream",
     "text": [
      "the cluster centers are [[0.03579355 0.97705253 0.04971069]\n",
      " [0.         0.         0.        ]\n",
      " [0.01508697 0.22601083 0.91680239]\n",
      " [0.88066786 0.21829916 0.13143605]]\n"
     ]
    }
   ],
   "source": [
    "# Based on Elbow cure, we choose 4 clusters\n",
    "num_clusters = 4\n",
    "\n",
    "km = KMeans(n_clusters=num_clusters)\n",
    "\n",
    "km.fit(tfidf_matrix)\n",
    "#km.labels_\n",
    "clusters = km.labels_.tolist()\n",
    "#km.cluster_centers\n",
    "centers = km.cluster_centers_\n",
    "print(f\"the cluster centers are {centers}\")"
   ]
  },
  {
   "cell_type": "markdown",
   "metadata": {},
   "source": [
    "### Getting the top words from each cluster"
   ]
  },
  {
   "cell_type": "code",
   "execution_count": 87,
   "metadata": {},
   "outputs": [
    {
     "name": "stdout",
     "output_type": "stream",
     "text": [
      "[[0.03579355 0.97705253 0.04971069]\n",
      " [0.         0.         0.        ]\n",
      " [0.01508697 0.22601083 0.91680239]\n",
      " [0.88066786 0.21829916 0.13143605]]\n",
      "(4, 3)\n"
     ]
    }
   ],
   "source": [
    "print(km.cluster_centers_)\n",
    "print(km.cluster_centers_.shape)"
   ]
  },
  {
   "cell_type": "code",
   "execution_count": 88,
   "metadata": {},
   "outputs": [
    {
     "data": {
      "text/plain": [
       "array([[0, 2, 1],\n",
       "       [0, 1, 2],\n",
       "       [0, 1, 2],\n",
       "       [2, 1, 0]], dtype=int64)"
      ]
     },
     "execution_count": 88,
     "metadata": {},
     "output_type": "execute_result"
    }
   ],
   "source": [
    "# Sort Index of original list\n",
    "km.cluster_centers_.argsort()"
   ]
  },
  {
   "cell_type": "code",
   "execution_count": 89,
   "metadata": {},
   "outputs": [
    {
     "data": {
      "text/plain": [
       "array([[1, 2, 0],\n",
       "       [2, 1, 0],\n",
       "       [2, 1, 0],\n",
       "       [0, 1, 2]], dtype=int64)"
      ]
     },
     "execution_count": 89,
     "metadata": {},
     "output_type": "execute_result"
    }
   ],
   "source": [
    "## Reversing the list so that index of max element is in 0th index\n",
    "km.cluster_centers_.argsort()[:,::-1]"
   ]
  },
  {
   "cell_type": "code",
   "execution_count": 90,
   "metadata": {},
   "outputs": [
    {
     "name": "stdout",
     "output_type": "stream",
     "text": [
      "Top terms per cluster:\n",
      "\n",
      "Top words in Cluster-0 :\n",
      "['movie'],['original'],['love'],\n",
      "Top words in Cluster-1 :\n",
      "['original'],['movie'],['love'],\n",
      "Top words in Cluster-2 :\n",
      "['original'],['movie'],['love'],\n",
      "Top words in Cluster-3 :\n",
      "['love'],['movie'],['original'],"
     ]
    }
   ],
   "source": [
    "print(\"Top terms per cluster:\")\n",
    "\n",
    "#sort cluster centers by proximity to centroid and picking the top 6 words per cluster\n",
    "order_centroids = km.cluster_centers_.argsort()[:, ::-1] # Reverse the ndarray column order, returns same 'n' col array\n",
    "for i in range(num_clusters):\n",
    "    print()\n",
    "    print(\"Top words in Cluster-%d :\" % i, end='')\n",
    "    print()\n",
    "    for ind in order_centroids[i, :3]: #replace 6 with n words per cluster\n",
    "        print('%s' % terms[ind].split(' '), end=',')"
   ]
  },
  {
   "cell_type": "code",
   "execution_count": 91,
   "metadata": {},
   "outputs": [
    {
     "data": {
      "text/html": [
       "<div>\n",
       "<style scoped>\n",
       "    .dataframe tbody tr th:only-of-type {\n",
       "        vertical-align: middle;\n",
       "    }\n",
       "\n",
       "    .dataframe tbody tr th {\n",
       "        vertical-align: top;\n",
       "    }\n",
       "\n",
       "    .dataframe thead th {\n",
       "        text-align: right;\n",
       "    }\n",
       "</style>\n",
       "<table border=\"1\" class=\"dataframe\">\n",
       "  <thead>\n",
       "    <tr style=\"text-align: right;\">\n",
       "      <th></th>\n",
       "      <th>review</th>\n",
       "      <th>sentiment</th>\n",
       "      <th>word_count</th>\n",
       "      <th>clean_review_stemmed</th>\n",
       "      <th>clean_review_lemmatized</th>\n",
       "      <th>clean_review_tokenized</th>\n",
       "      <th>review_lemmatized</th>\n",
       "      <th>review_stemmed</th>\n",
       "      <th>review_tokenized</th>\n",
       "      <th>cluster_group</th>\n",
       "    </tr>\n",
       "    <tr>\n",
       "      <th>userId</th>\n",
       "      <th></th>\n",
       "      <th></th>\n",
       "      <th></th>\n",
       "      <th></th>\n",
       "      <th></th>\n",
       "      <th></th>\n",
       "      <th></th>\n",
       "      <th></th>\n",
       "      <th></th>\n",
       "      <th></th>\n",
       "    </tr>\n",
       "  </thead>\n",
       "  <tbody>\n",
       "    <tr>\n",
       "      <th>D91306B7-6A67-4117-B384-6A35AF00C176</th>\n",
       "      <td>this movie is good  the original  animated ver...</td>\n",
       "      <td>0</td>\n",
       "      <td>86</td>\n",
       "      <td>movi good origin anim version place heart like...</td>\n",
       "      <td>movie good original animate version place hear...</td>\n",
       "      <td>[movie, good, original, animated, version, pla...</td>\n",
       "      <td>[this, movie, be, good, the, original, animate...</td>\n",
       "      <td>[this, movi, is, good, the, origin, anim, vers...</td>\n",
       "      <td>[this, movie, is, good, the, original, animate...</td>\n",
       "      <td>0</td>\n",
       "    </tr>\n",
       "    <tr>\n",
       "      <th>ff222e0c-e396-4d62-9e6a-82529303cb75</th>\n",
       "      <td>followed the original story which i was skepti...</td>\n",
       "      <td>0</td>\n",
       "      <td>12</td>\n",
       "      <td>follow origin stori skeptic enjoy</td>\n",
       "      <td>follow original story skeptical enjoy</td>\n",
       "      <td>[followed, original, story, skeptical, enjoyed]</td>\n",
       "      <td>[follow, the, original, story, which, i, be, s...</td>\n",
       "      <td>[follow, the, origin, stori, which, i, was, sk...</td>\n",
       "      <td>[followed, the, original, story, which, i, was...</td>\n",
       "      <td>2</td>\n",
       "    </tr>\n",
       "    <tr>\n",
       "      <th>798014537</th>\n",
       "      <td>unlike some other disney remakes  this one is ...</td>\n",
       "      <td>1</td>\n",
       "      <td>70</td>\n",
       "      <td>unlik disney remak pretti exact origin moment ...</td>\n",
       "      <td>unlike disney remake pretty exact original mom...</td>\n",
       "      <td>[unlike, disney, remakes, pretty, exact, origi...</td>\n",
       "      <td>[unlike, some, other, disney, remake, this, on...</td>\n",
       "      <td>[unlik, some, other, disney, remak, this, one,...</td>\n",
       "      <td>[unlike, some, other, disney, remakes, this, o...</td>\n",
       "      <td>2</td>\n",
       "    </tr>\n",
       "    <tr>\n",
       "      <th>c64b8b43-5e68-41be-b3ec-89b41ec767e4</th>\n",
       "      <td>loved the movie   the music was and is great  ...</td>\n",
       "      <td>0</td>\n",
       "      <td>20</td>\n",
       "      <td>love movi music great like live action</td>\n",
       "      <td>love movie music great like live action</td>\n",
       "      <td>[loved, movie, music, great, liked, live, action]</td>\n",
       "      <td>[love, the, movie, the, music, be, and, be, gr...</td>\n",
       "      <td>[love, the, movi, the, music, was, and, is, gr...</td>\n",
       "      <td>[loved, the, movie, the, music, was, and, is, ...</td>\n",
       "      <td>3</td>\n",
       "    </tr>\n",
       "    <tr>\n",
       "      <th>685f2a19-f581-43a6-bdbd-6db9e12a14fc</th>\n",
       "      <td>it was a well made movie  i</td>\n",
       "      <td>0</td>\n",
       "      <td>8</td>\n",
       "      <td>movi</td>\n",
       "      <td>movie</td>\n",
       "      <td>[movie]</td>\n",
       "      <td>[-PRON-, be, a, well, make, movie, i]</td>\n",
       "      <td>[it, was, a, well, made, movi, i]</td>\n",
       "      <td>[it, was, a, well, made, movie, i]</td>\n",
       "      <td>0</td>\n",
       "    </tr>\n",
       "  </tbody>\n",
       "</table>\n",
       "</div>"
      ],
      "text/plain": [
       "                                                                                 review  \\\n",
       "userId                                                                                    \n",
       "D91306B7-6A67-4117-B384-6A35AF00C176  this movie is good  the original  animated ver...   \n",
       "ff222e0c-e396-4d62-9e6a-82529303cb75  followed the original story which i was skepti...   \n",
       "798014537                             unlike some other disney remakes  this one is ...   \n",
       "c64b8b43-5e68-41be-b3ec-89b41ec767e4  loved the movie   the music was and is great  ...   \n",
       "685f2a19-f581-43a6-bdbd-6db9e12a14fc                        it was a well made movie  i   \n",
       "\n",
       "                                      sentiment  word_count  \\\n",
       "userId                                                        \n",
       "D91306B7-6A67-4117-B384-6A35AF00C176          0          86   \n",
       "ff222e0c-e396-4d62-9e6a-82529303cb75          0          12   \n",
       "798014537                                     1          70   \n",
       "c64b8b43-5e68-41be-b3ec-89b41ec767e4          0          20   \n",
       "685f2a19-f581-43a6-bdbd-6db9e12a14fc          0           8   \n",
       "\n",
       "                                                                   clean_review_stemmed  \\\n",
       "userId                                                                                    \n",
       "D91306B7-6A67-4117-B384-6A35AF00C176  movi good origin anim version place heart like...   \n",
       "ff222e0c-e396-4d62-9e6a-82529303cb75                  follow origin stori skeptic enjoy   \n",
       "798014537                             unlik disney remak pretti exact origin moment ...   \n",
       "c64b8b43-5e68-41be-b3ec-89b41ec767e4             love movi music great like live action   \n",
       "685f2a19-f581-43a6-bdbd-6db9e12a14fc                                               movi   \n",
       "\n",
       "                                                                clean_review_lemmatized  \\\n",
       "userId                                                                                    \n",
       "D91306B7-6A67-4117-B384-6A35AF00C176  movie good original animate version place hear...   \n",
       "ff222e0c-e396-4d62-9e6a-82529303cb75              follow original story skeptical enjoy   \n",
       "798014537                             unlike disney remake pretty exact original mom...   \n",
       "c64b8b43-5e68-41be-b3ec-89b41ec767e4            love movie music great like live action   \n",
       "685f2a19-f581-43a6-bdbd-6db9e12a14fc                                              movie   \n",
       "\n",
       "                                                                 clean_review_tokenized  \\\n",
       "userId                                                                                    \n",
       "D91306B7-6A67-4117-B384-6A35AF00C176  [movie, good, original, animated, version, pla...   \n",
       "ff222e0c-e396-4d62-9e6a-82529303cb75    [followed, original, story, skeptical, enjoyed]   \n",
       "798014537                             [unlike, disney, remakes, pretty, exact, origi...   \n",
       "c64b8b43-5e68-41be-b3ec-89b41ec767e4  [loved, movie, music, great, liked, live, action]   \n",
       "685f2a19-f581-43a6-bdbd-6db9e12a14fc                                            [movie]   \n",
       "\n",
       "                                                                      review_lemmatized  \\\n",
       "userId                                                                                    \n",
       "D91306B7-6A67-4117-B384-6A35AF00C176  [this, movie, be, good, the, original, animate...   \n",
       "ff222e0c-e396-4d62-9e6a-82529303cb75  [follow, the, original, story, which, i, be, s...   \n",
       "798014537                             [unlike, some, other, disney, remake, this, on...   \n",
       "c64b8b43-5e68-41be-b3ec-89b41ec767e4  [love, the, movie, the, music, be, and, be, gr...   \n",
       "685f2a19-f581-43a6-bdbd-6db9e12a14fc              [-PRON-, be, a, well, make, movie, i]   \n",
       "\n",
       "                                                                         review_stemmed  \\\n",
       "userId                                                                                    \n",
       "D91306B7-6A67-4117-B384-6A35AF00C176  [this, movi, is, good, the, origin, anim, vers...   \n",
       "ff222e0c-e396-4d62-9e6a-82529303cb75  [follow, the, origin, stori, which, i, was, sk...   \n",
       "798014537                             [unlik, some, other, disney, remak, this, one,...   \n",
       "c64b8b43-5e68-41be-b3ec-89b41ec767e4  [love, the, movi, the, music, was, and, is, gr...   \n",
       "685f2a19-f581-43a6-bdbd-6db9e12a14fc                  [it, was, a, well, made, movi, i]   \n",
       "\n",
       "                                                                       review_tokenized  \\\n",
       "userId                                                                                    \n",
       "D91306B7-6A67-4117-B384-6A35AF00C176  [this, movie, is, good, the, original, animate...   \n",
       "ff222e0c-e396-4d62-9e6a-82529303cb75  [followed, the, original, story, which, i, was...   \n",
       "798014537                             [unlike, some, other, disney, remakes, this, o...   \n",
       "c64b8b43-5e68-41be-b3ec-89b41ec767e4  [loved, the, movie, the, music, was, and, is, ...   \n",
       "685f2a19-f581-43a6-bdbd-6db9e12a14fc                 [it, was, a, well, made, movie, i]   \n",
       "\n",
       "                                      cluster_group  \n",
       "userId                                               \n",
       "D91306B7-6A67-4117-B384-6A35AF00C176              0  \n",
       "ff222e0c-e396-4d62-9e6a-82529303cb75              2  \n",
       "798014537                                         2  \n",
       "c64b8b43-5e68-41be-b3ec-89b41ec767e4              3  \n",
       "685f2a19-f581-43a6-bdbd-6db9e12a14fc              0  "
      ]
     },
     "execution_count": 91,
     "metadata": {},
     "output_type": "execute_result"
    }
   ],
   "source": [
    "data['cluster_group'] = clusters\n",
    "# data.pop('clean_text', None)\n",
    "data.head()"
   ]
  },
  {
   "cell_type": "code",
   "execution_count": 92,
   "metadata": {},
   "outputs": [
    {
     "data": {
      "text/plain": [
       "Index(['review', 'sentiment', 'word_count', 'clean_review_stemmed',\n",
       "       'clean_review_lemmatized', 'clean_review_tokenized',\n",
       "       'review_lemmatized', 'review_stemmed', 'review_tokenized',\n",
       "       'cluster_group'],\n",
       "      dtype='object')"
      ]
     },
     "execution_count": 92,
     "metadata": {},
     "output_type": "execute_result"
    }
   ],
   "source": [
    "data.keys()"
   ]
  },
  {
   "cell_type": "code",
   "execution_count": 93,
   "metadata": {},
   "outputs": [],
   "source": [
    "cluster_df = pd.DataFrame(data)"
   ]
  },
  {
   "cell_type": "code",
   "execution_count": 94,
   "metadata": {},
   "outputs": [
    {
     "data": {
      "text/plain": [
       "1    1038\n",
       "0     699\n",
       "2     647\n",
       "3     616\n",
       "Name: cluster_group, dtype: int64"
      ]
     },
     "execution_count": 94,
     "metadata": {},
     "output_type": "execute_result"
    }
   ],
   "source": [
    "cluster_df['cluster_group'].value_counts()"
   ]
  },
  {
   "cell_type": "markdown",
   "metadata": {},
   "source": [
    "#### Fetching the most frequent words among each cluster\n",
    "\n",
    "Step 1) Tokenize the entire text <br>\n",
    "Step 2) Group the tokenized text by cluster id (output is list of lists: [[],[],[]])<br>\n",
    "Step 3) Unlist the array of lists for each cluster group using chain function from itertools"
   ]
  },
  {
   "cell_type": "code",
   "execution_count": 95,
   "metadata": {},
   "outputs": [
    {
     "data": {
      "text/plain": [
       "sentiment  cluster_group\n",
       "0          1                732\n",
       "           3                576\n",
       "           0                496\n",
       "           2                366\n",
       "1          1                306\n",
       "           2                281\n",
       "           0                203\n",
       "           3                 40\n",
       "Name: cluster_group, dtype: int64"
      ]
     },
     "execution_count": 95,
     "metadata": {},
     "output_type": "execute_result"
    }
   ],
   "source": [
    "cluster_df.groupby('sentiment')['cluster_group'].value_counts()"
   ]
  },
  {
   "cell_type": "code",
   "execution_count": 96,
   "metadata": {},
   "outputs": [],
   "source": [
    "##Step 1\n",
    "cluster_df['clean_review_tokenized'] = [text.split(' ') for text in cluster_df['clean_review_lemmatized']]"
   ]
  },
  {
   "cell_type": "code",
   "execution_count": 97,
   "metadata": {},
   "outputs": [],
   "source": [
    "##Step 2: Create pandas SeriesGroupBy object\n",
    "## Fetch entire tokenized text for specific group\n",
    "grouped_text = cluster_df.groupby('cluster_group')['clean_review_tokenized']"
   ]
  },
  {
   "cell_type": "code",
   "execution_count": 98,
   "metadata": {},
   "outputs": [],
   "source": [
    "from itertools import chain"
   ]
  },
  {
   "cell_type": "code",
   "execution_count": 99,
   "metadata": {},
   "outputs": [],
   "source": [
    "frequent_words_df = pd.DataFrame(columns={\"values\", \"counts\", \"cluster_id\"})"
   ]
  },
  {
   "cell_type": "code",
   "execution_count": 100,
   "metadata": {},
   "outputs": [],
   "source": [
    "for num in range(num_clusters):\n",
    "    values, counts = np.unique(list(chain.from_iterable(grouped_text.get_group(num))), return_counts=True)\n",
    "    # eg: returns an 1D array of unique words from tokenized reviews\n",
    "    # chain() constructor taking a single iterable argument that evaluates lazily;\n",
    "    \n",
    "    sorted_indices = np.argsort(-counts)  # returns indices of sorted list in reversed order\n",
    "    # Create Cluster df of values(word list) sorted by counts \n",
    "    frequent_words_df = frequent_words_df.append({\"values\":values[sorted_indices], \"counts\":counts[sorted_indices], \"cluster_id\": num}, ignore_index=True)"
   ]
  },
  {
   "cell_type": "code",
   "execution_count": 101,
   "metadata": {},
   "outputs": [
    {
     "data": {
      "text/html": [
       "<div>\n",
       "<style scoped>\n",
       "    .dataframe tbody tr th:only-of-type {\n",
       "        vertical-align: middle;\n",
       "    }\n",
       "\n",
       "    .dataframe tbody tr th {\n",
       "        vertical-align: top;\n",
       "    }\n",
       "\n",
       "    .dataframe thead th {\n",
       "        text-align: right;\n",
       "    }\n",
       "</style>\n",
       "<table border=\"1\" class=\"dataframe\">\n",
       "  <thead>\n",
       "    <tr style=\"text-align: right;\">\n",
       "      <th></th>\n",
       "      <th>cluster_id</th>\n",
       "      <th>counts</th>\n",
       "      <th>values</th>\n",
       "    </tr>\n",
       "  </thead>\n",
       "  <tbody>\n",
       "    <tr>\n",
       "      <th>0</th>\n",
       "      <td>0</td>\n",
       "      <td>[1027, 214, 193, 187, 105, 98, 94, 90, 88, 84,...</td>\n",
       "      <td>[movie, great, good, like, watch, animal, orig...</td>\n",
       "    </tr>\n",
       "    <tr>\n",
       "      <th>1</th>\n",
       "      <td>1</td>\n",
       "      <td>[179, 175, 157, 106, 101, 99, 82, 82, 70, 69, ...</td>\n",
       "      <td>[great, like, good, animal, amazing, story, re...</td>\n",
       "    </tr>\n",
       "    <tr>\n",
       "      <th>2</th>\n",
       "      <td>2</td>\n",
       "      <td>[851, 292, 222, 207, 154, 138, 124, 122, 116, ...</td>\n",
       "      <td>[original, movie, like, good, film, remake, vo...</td>\n",
       "    </tr>\n",
       "    <tr>\n",
       "      <th>3</th>\n",
       "      <td>3</td>\n",
       "      <td>[700, 255, 143, 119, 105, 75, 72, 67, 64, 60, ...</td>\n",
       "      <td>[love, movie, original, great, like, lion, ani...</td>\n",
       "    </tr>\n",
       "  </tbody>\n",
       "</table>\n",
       "</div>"
      ],
      "text/plain": [
       "  cluster_id                                             counts  \\\n",
       "0          0  [1027, 214, 193, 187, 105, 98, 94, 90, 88, 84,...   \n",
       "1          1  [179, 175, 157, 106, 101, 99, 82, 82, 70, 69, ...   \n",
       "2          2  [851, 292, 222, 207, 154, 138, 124, 122, 116, ...   \n",
       "3          3  [700, 255, 143, 119, 105, 75, 72, 67, 64, 60, ...   \n",
       "\n",
       "                                              values  \n",
       "0  [movie, great, good, like, watch, animal, orig...  \n",
       "1  [great, like, good, animal, amazing, story, re...  \n",
       "2  [original, movie, like, good, film, remake, vo...  \n",
       "3  [love, movie, original, great, like, lion, ani...  "
      ]
     },
     "execution_count": 101,
     "metadata": {},
     "output_type": "execute_result"
    }
   ],
   "source": [
    "frequent_words_df.head()  # words sorted by counts order"
   ]
  },
  {
   "cell_type": "markdown",
   "metadata": {},
   "source": [
    "### Plotting Top Words in Clusters 0, 1, 2, 3"
   ]
  },
  {
   "cell_type": "code",
   "execution_count": 102,
   "metadata": {},
   "outputs": [
    {
     "data": {
      "image/png": "[encoded data removed]",
      "text/plain": [
       "<Figure size 1080x1440 with 4 Axes>"
      ]
     },
     "metadata": {
      "needs_background": "light"
     },
     "output_type": "display_data"
    }
   ],
   "source": [
    "font = {'family' : 'DejaVu Sans',\n",
    "        'weight' : 'bold',\n",
    "        'size'   : 35}\n",
    "\n",
    "plt.rc('font', **font)\n",
    "\n",
    "fig = plt.figure(figsize=(15,20))\n",
    "plt.subplot(2,2,1)\n",
    "plt.barh(frequent_words_df.loc[0,'values'][:8], frequent_words_df.loc[0,'counts'][:8])\n",
    "plt.gca().invert_yaxis()\n",
    "plt.yticks(fontsize=15)\n",
    "plt.title('Words Frequency: Cluster 0', fontsize=20)\n",
    "\n",
    "plt.subplot(2,2,2)\n",
    "plt.barh(frequent_words_df.loc[1,'values'][:8], frequent_words_df.loc[1,'counts'][:8])\n",
    "plt.gca().invert_yaxis()\n",
    "plt.yticks(fontsize=15)\n",
    "plt.title('Words Frequency: Cluster 1', fontsize=20)\n",
    "\n",
    "plt.subplot(2,2,3)\n",
    "plt.barh(frequent_words_df.loc[2,'values'][:8], frequent_words_df.loc[2,'counts'][:8])\n",
    "plt.gca().invert_yaxis()\n",
    "plt.yticks(fontsize=15)\n",
    "plt.title('Words Frequency: Cluster 2', fontsize=20)\n",
    "\n",
    "plt.subplot(2,2,4)\n",
    "plt.barh(frequent_words_df.loc[3,'values'][:8], frequent_words_df.loc[3,'counts'][:8])\n",
    "plt.gca().invert_yaxis()\n",
    "plt.yticks(fontsize=15)\n",
    "plt.title('Words Frequency: Cluster 3', fontsize=20)\n",
    "\n",
    "plt.show()"
   ]
  },
  {
   "cell_type": "markdown",
   "metadata": {},
   "source": [
    "#### Observations:\n",
    "Words/Themes populated in the Clusters' Reviews describe:\n",
    "\n",
    "Cluster 0: describes 'love' for the movie, again consisting of potentially shorter reviews\n",
    "\n",
    "Cluster 1: positive adjectives like 'great', 'like' etc\n",
    "\n",
    "Cluster 2: 'movie', also consist of possible shorter reviews that describe the movie in 1 sentence\n",
    "\n",
    "Cluster 3: talks about originality of the movie/remake of the 2019 Lion King version"
   ]
  },
  {
   "cell_type": "markdown",
   "metadata": {},
   "source": [
    "###   2. Truncated SVD (Latent Semantic Analysis - LSA) using Scikitlearn\n",
    "Topic Modelling by Matrix Decomposition"
   ]
  },
  {
   "cell_type": "markdown",
   "metadata": {},
   "source": [
    "Upon Truncated SVD processing, we obtain 2 Matrices\n",
    "\n",
    "1. U ∈ ℝ^(m ⨉ t) emerges as our Document-specific Topic allocation matrix  : m-document vector, t-topic\n",
    "2. V ∈ ℝ^(n ⨉ t) becomes our Topic-specific Term allocation matrix  : n-term vector, t-topic\n",
    "\n",
    "<u>In both U and V, the columns correspond to one of our t topics. </u>"
   ]
  },
  {
   "cell_type": "markdown",
   "metadata": {},
   "source": [
    "#### Import Libraries"
   ]
  },
  {
   "cell_type": "code",
   "execution_count": 103,
   "metadata": {},
   "outputs": [
    {
     "name": "stdout",
     "output_type": "stream",
     "text": [
      "(3000, 3)\n"
     ]
    }
   ],
   "source": [
    "from sklearn.feature_extraction.text import TfidfVectorizer\n",
    "\n",
    "tfidf_vectorizer = TfidfVectorizer(max_df=0.9, max_features=1500,  #(0.05, 0.001)\n",
    "                                 min_df=0.2,\n",
    "                                 use_idf=True, ngram_range=(1,1))\n",
    "\n",
    "tfidf_matrix = tfidf_vectorizer.fit_transform(data['clean_review_lemmatized'])\n",
    "\n",
    "print(tfidf_matrix.shape)"
   ]
  },
  {
   "cell_type": "code",
   "execution_count": 104,
   "metadata": {},
   "outputs": [],
   "source": [
    "from sklearn.decomposition import TruncatedSVD"
   ]
  },
  {
   "cell_type": "code",
   "execution_count": 105,
   "metadata": {},
   "outputs": [
    {
     "name": "stdout",
     "output_type": "stream",
     "text": [
      "(3000, 3)\n"
     ]
    },
    {
     "data": {
      "text/plain": [
       "matrix([[0.        , 0.96016386, 0.27943757],\n",
       "        [0.        , 0.        , 1.        ],\n",
       "        [0.        , 0.65160949, 0.75855459],\n",
       "        ...,\n",
       "        [0.        , 0.        , 0.        ],\n",
       "        [0.48056031, 0.        , 0.87696168],\n",
       "        [1.        , 0.        , 0.        ]])"
      ]
     },
     "execution_count": 105,
     "metadata": {},
     "output_type": "execute_result"
    }
   ],
   "source": [
    "# Importing tfidf vectorized documents\n",
    "print(tfidf_matrix.shape)\n",
    "tfidf_matrix.todense()"
   ]
  },
  {
   "cell_type": "markdown",
   "metadata": {},
   "source": [
    "### Creating the `svd_matrix` from the `tfidf_matrix`"
   ]
  },
  {
   "cell_type": "code",
   "execution_count": 106,
   "metadata": {},
   "outputs": [
    {
     "data": {
      "text/plain": [
       "TruncatedSVD(algorithm='randomized', n_components=2, n_iter=20,\n",
       "             random_state=143, tol=0.0)"
      ]
     },
     "execution_count": 106,
     "metadata": {},
     "output_type": "execute_result"
    }
   ],
   "source": [
    "# Select No. of Latent Themes to extract from text\n",
    "n_components = 2\n",
    "svd_model = TruncatedSVD(n_components=n_components, algorithm='randomized',n_iter=20,random_state=143)\n",
    "\n",
    "svd_matrix = svd_model.fit(tfidf_matrix)\n",
    "\n",
    "svd_matrix"
   ]
  },
  {
   "cell_type": "code",
   "execution_count": 107,
   "metadata": {},
   "outputs": [
    {
     "name": "stdout",
     "output_type": "stream",
     "text": [
      "Explained Variance Ratio : [0.29173502 0.3830367 ]\n",
      "Total Explained Variance : 67.48 %\n",
      "The singular values are [31.05889539 23.21106784]\n"
     ]
    }
   ],
   "source": [
    "# explained_variance_ratio_\n",
    "print(f\"Explained Variance Ratio : {svd_matrix.explained_variance_ratio_}\") \n",
    "print(f\"Total Explained Variance : {round(svd_matrix.explained_variance_ratio_.sum() * 100, 2)} %\")\n",
    "\n",
    "# singular_values_  : explains the Top 2 Latent Topics found in Text\n",
    "print(f\"The singular values are {svd_matrix.singular_values_}\")"
   ]
  },
  {
   "cell_type": "markdown",
   "metadata": {},
   "source": [
    "i.e\n",
    "C-1 explains 30% of variation\\\n",
    "C-2 explains 38% of variation"
   ]
  },
  {
   "cell_type": "markdown",
   "metadata": {},
   "source": [
    "### Picking the few most important words in each topic\n",
    "\n",
    "The components of svd_model are our topics and we can access them using svdmodel.components.<br>\n",
    "let's print a few most important words in each of the 4 topics and see how our model has done."
   ]
  },
  {
   "cell_type": "code",
   "execution_count": 108,
   "metadata": {},
   "outputs": [
    {
     "data": {
      "text/plain": [
       "array([[ 0.29933712,  0.84659996,  0.44007477],\n",
       "       [ 0.04572337, -0.47342075,  0.87964889]])"
      ]
     },
     "execution_count": 108,
     "metadata": {},
     "output_type": "execute_result"
    }
   ],
   "source": [
    "# Components describe the Theme of Text (represented by Singular Values, Singular Vectors)\n",
    "# Theme = 2, \n",
    "svd_model.components_"
   ]
  },
  {
   "cell_type": "code",
   "execution_count": 109,
   "metadata": {},
   "outputs": [
    {
     "name": "stdout",
     "output_type": "stream",
     "text": [
      "The component is [0.29933712 0.84659996 0.44007477] and shape is (3,)\n",
      "Topic 0: \n",
      "movie -- 0.8465999579544627\n",
      "original -- 0.44007476736593937\n",
      "love -- 0.29933711817834313\n",
      " \n",
      "The component is [ 0.04572337 -0.47342075  0.87964889] and shape is (3,)\n",
      "Topic 1: \n",
      "original -- 0.8796488906374453\n",
      "love -- 0.04572337221063354\n",
      "movie -- -0.47342074567344294\n",
      " \n"
     ]
    }
   ],
   "source": [
    "# Term vs Topic Strength\n",
    "for i, comp in enumerate(svd_model.components_):\n",
    "    print(f\"The component is {comp} and shape is {comp.shape}\")  # Expl\n",
    "    terms_comp = zip(terms, comp)\n",
    "    sorted_terms = sorted(terms_comp, key= lambda x:x[1], reverse=True)[:6]\n",
    "    print(\"Topic \"+str(i)+\": \")\n",
    "    for t in sorted_terms:\n",
    "        print(f\"{t[0]} -- {t[1]}\")\n",
    "    print(\" \")"
   ]
  },
  {
   "cell_type": "markdown",
   "metadata": {},
   "source": [
    "### Tagging each document with a topic\n",
    "### Creating the `doc_topic_matrix`\n",
    "`doc_topic_matrix` is the resultant SVD Output"
   ]
  },
  {
   "cell_type": "code",
   "execution_count": 110,
   "metadata": {},
   "outputs": [
    {
     "name": "stdout",
     "output_type": "stream",
     "text": [
      "[[ 0.93584811 -0.20875454]\n",
      " [ 0.44007477  0.87964889]\n",
      " [ 0.88547331  0.35877625]\n",
      " ...\n",
      " [ 0.          0.        ]\n",
      " [ 0.52977825  0.79339121]\n",
      " [ 0.29933712  0.04572337]] \n",
      "\n",
      "(3000, 2) \n",
      "\n",
      "[0 1 0 ... 0 1 0]\n"
     ]
    }
   ],
   "source": [
    "# 2 Singular Values, 2 Components (Eigenvalues, Eigenvectors - Strength of Variation)\n",
    "# Documents - 3000, Topic - 2\n",
    "doc_topic_matrix = svd_matrix.transform(tfidf_matrix)\n",
    "print(doc_topic_matrix,'\\n')\n",
    "\n",
    "svd_categories = np.argmax(doc_topic_matrix, axis=1)  # Returns the indices of the maximum values along an axis.\n",
    "print(doc_topic_matrix.shape,'\\n')\n",
    "print(svd_categories)"
   ]
  },
  {
   "cell_type": "code",
   "execution_count": 111,
   "metadata": {},
   "outputs": [],
   "source": [
    "data['SVD_group'] = svd_categories"
   ]
  },
  {
   "cell_type": "code",
   "execution_count": 112,
   "metadata": {},
   "outputs": [
    {
     "data": {
      "text/html": [
       "<div>\n",
       "<style scoped>\n",
       "    .dataframe tbody tr th:only-of-type {\n",
       "        vertical-align: middle;\n",
       "    }\n",
       "\n",
       "    .dataframe tbody tr th {\n",
       "        vertical-align: top;\n",
       "    }\n",
       "\n",
       "    .dataframe thead th {\n",
       "        text-align: right;\n",
       "    }\n",
       "</style>\n",
       "<table border=\"1\" class=\"dataframe\">\n",
       "  <thead>\n",
       "    <tr style=\"text-align: right;\">\n",
       "      <th></th>\n",
       "      <th>review</th>\n",
       "      <th>sentiment</th>\n",
       "      <th>word_count</th>\n",
       "      <th>clean_review_stemmed</th>\n",
       "      <th>clean_review_lemmatized</th>\n",
       "      <th>clean_review_tokenized</th>\n",
       "      <th>review_lemmatized</th>\n",
       "      <th>review_stemmed</th>\n",
       "      <th>review_tokenized</th>\n",
       "      <th>cluster_group</th>\n",
       "      <th>SVD_group</th>\n",
       "    </tr>\n",
       "    <tr>\n",
       "      <th>userId</th>\n",
       "      <th></th>\n",
       "      <th></th>\n",
       "      <th></th>\n",
       "      <th></th>\n",
       "      <th></th>\n",
       "      <th></th>\n",
       "      <th></th>\n",
       "      <th></th>\n",
       "      <th></th>\n",
       "      <th></th>\n",
       "      <th></th>\n",
       "    </tr>\n",
       "  </thead>\n",
       "  <tbody>\n",
       "    <tr>\n",
       "      <th>D91306B7-6A67-4117-B384-6A35AF00C176</th>\n",
       "      <td>this movie is good  the original  animated ver...</td>\n",
       "      <td>0</td>\n",
       "      <td>86</td>\n",
       "      <td>movi good origin anim version place heart like...</td>\n",
       "      <td>movie good original animate version place hear...</td>\n",
       "      <td>[movie, good, original, animate, version, plac...</td>\n",
       "      <td>[this, movie, be, good, the, original, animate...</td>\n",
       "      <td>[this, movi, is, good, the, origin, anim, vers...</td>\n",
       "      <td>[this, movie, is, good, the, original, animate...</td>\n",
       "      <td>0</td>\n",
       "      <td>0</td>\n",
       "    </tr>\n",
       "    <tr>\n",
       "      <th>ff222e0c-e396-4d62-9e6a-82529303cb75</th>\n",
       "      <td>followed the original story which i was skepti...</td>\n",
       "      <td>0</td>\n",
       "      <td>12</td>\n",
       "      <td>follow origin stori skeptic enjoy</td>\n",
       "      <td>follow original story skeptical enjoy</td>\n",
       "      <td>[follow, original, story, skeptical, enjoy]</td>\n",
       "      <td>[follow, the, original, story, which, i, be, s...</td>\n",
       "      <td>[follow, the, origin, stori, which, i, was, sk...</td>\n",
       "      <td>[followed, the, original, story, which, i, was...</td>\n",
       "      <td>2</td>\n",
       "      <td>1</td>\n",
       "    </tr>\n",
       "    <tr>\n",
       "      <th>798014537</th>\n",
       "      <td>unlike some other disney remakes  this one is ...</td>\n",
       "      <td>1</td>\n",
       "      <td>70</td>\n",
       "      <td>unlik disney remak pretti exact origin moment ...</td>\n",
       "      <td>unlike disney remake pretty exact original mom...</td>\n",
       "      <td>[unlike, disney, remake, pretty, exact, origin...</td>\n",
       "      <td>[unlike, some, other, disney, remake, this, on...</td>\n",
       "      <td>[unlik, some, other, disney, remak, this, one,...</td>\n",
       "      <td>[unlike, some, other, disney, remakes, this, o...</td>\n",
       "      <td>2</td>\n",
       "      <td>0</td>\n",
       "    </tr>\n",
       "    <tr>\n",
       "      <th>c64b8b43-5e68-41be-b3ec-89b41ec767e4</th>\n",
       "      <td>loved the movie   the music was and is great  ...</td>\n",
       "      <td>0</td>\n",
       "      <td>20</td>\n",
       "      <td>love movi music great like live action</td>\n",
       "      <td>love movie music great like live action</td>\n",
       "      <td>[love, movie, music, great, like, live, action]</td>\n",
       "      <td>[love, the, movie, the, music, be, and, be, gr...</td>\n",
       "      <td>[love, the, movi, the, music, was, and, is, gr...</td>\n",
       "      <td>[loved, the, movie, the, music, was, and, is, ...</td>\n",
       "      <td>3</td>\n",
       "      <td>0</td>\n",
       "    </tr>\n",
       "    <tr>\n",
       "      <th>685f2a19-f581-43a6-bdbd-6db9e12a14fc</th>\n",
       "      <td>it was a well made movie  i</td>\n",
       "      <td>0</td>\n",
       "      <td>8</td>\n",
       "      <td>movi</td>\n",
       "      <td>movie</td>\n",
       "      <td>[movie]</td>\n",
       "      <td>[-PRON-, be, a, well, make, movie, i]</td>\n",
       "      <td>[it, was, a, well, made, movi, i]</td>\n",
       "      <td>[it, was, a, well, made, movie, i]</td>\n",
       "      <td>0</td>\n",
       "      <td>0</td>\n",
       "    </tr>\n",
       "    <tr>\n",
       "      <th>db558a10-7aa3-4980-919c-2e786dbf619d</th>\n",
       "      <td>they took all of the puns out   they took the ...</td>\n",
       "      <td>1</td>\n",
       "      <td>43</td>\n",
       "      <td>took pun took funni light heart joke destroy s...</td>\n",
       "      <td>take pun take funny light hearted joke destroy...</td>\n",
       "      <td>[take, pun, take, funny, light, hearted, joke,...</td>\n",
       "      <td>[-PRON-, take, all, of, the, pun, out, -PRON-,...</td>\n",
       "      <td>[they, took, all, of, the, pun, out, they, too...</td>\n",
       "      <td>[they, took, all, of, the, puns, out, they, to...</td>\n",
       "      <td>0</td>\n",
       "      <td>0</td>\n",
       "    </tr>\n",
       "  </tbody>\n",
       "</table>\n",
       "</div>"
      ],
      "text/plain": [
       "                                                                                 review  \\\n",
       "userId                                                                                    \n",
       "D91306B7-6A67-4117-B384-6A35AF00C176  this movie is good  the original  animated ver...   \n",
       "ff222e0c-e396-4d62-9e6a-82529303cb75  followed the original story which i was skepti...   \n",
       "798014537                             unlike some other disney remakes  this one is ...   \n",
       "c64b8b43-5e68-41be-b3ec-89b41ec767e4  loved the movie   the music was and is great  ...   \n",
       "685f2a19-f581-43a6-bdbd-6db9e12a14fc                        it was a well made movie  i   \n",
       "db558a10-7aa3-4980-919c-2e786dbf619d  they took all of the puns out   they took the ...   \n",
       "\n",
       "                                      sentiment  word_count  \\\n",
       "userId                                                        \n",
       "D91306B7-6A67-4117-B384-6A35AF00C176          0          86   \n",
       "ff222e0c-e396-4d62-9e6a-82529303cb75          0          12   \n",
       "798014537                                     1          70   \n",
       "c64b8b43-5e68-41be-b3ec-89b41ec767e4          0          20   \n",
       "685f2a19-f581-43a6-bdbd-6db9e12a14fc          0           8   \n",
       "db558a10-7aa3-4980-919c-2e786dbf619d          1          43   \n",
       "\n",
       "                                                                   clean_review_stemmed  \\\n",
       "userId                                                                                    \n",
       "D91306B7-6A67-4117-B384-6A35AF00C176  movi good origin anim version place heart like...   \n",
       "ff222e0c-e396-4d62-9e6a-82529303cb75                  follow origin stori skeptic enjoy   \n",
       "798014537                             unlik disney remak pretti exact origin moment ...   \n",
       "c64b8b43-5e68-41be-b3ec-89b41ec767e4             love movi music great like live action   \n",
       "685f2a19-f581-43a6-bdbd-6db9e12a14fc                                               movi   \n",
       "db558a10-7aa3-4980-919c-2e786dbf619d  took pun took funni light heart joke destroy s...   \n",
       "\n",
       "                                                                clean_review_lemmatized  \\\n",
       "userId                                                                                    \n",
       "D91306B7-6A67-4117-B384-6A35AF00C176  movie good original animate version place hear...   \n",
       "ff222e0c-e396-4d62-9e6a-82529303cb75              follow original story skeptical enjoy   \n",
       "798014537                             unlike disney remake pretty exact original mom...   \n",
       "c64b8b43-5e68-41be-b3ec-89b41ec767e4            love movie music great like live action   \n",
       "685f2a19-f581-43a6-bdbd-6db9e12a14fc                                              movie   \n",
       "db558a10-7aa3-4980-919c-2e786dbf619d  take pun take funny light hearted joke destroy...   \n",
       "\n",
       "                                                                 clean_review_tokenized  \\\n",
       "userId                                                                                    \n",
       "D91306B7-6A67-4117-B384-6A35AF00C176  [movie, good, original, animate, version, plac...   \n",
       "ff222e0c-e396-4d62-9e6a-82529303cb75        [follow, original, story, skeptical, enjoy]   \n",
       "798014537                             [unlike, disney, remake, pretty, exact, origin...   \n",
       "c64b8b43-5e68-41be-b3ec-89b41ec767e4    [love, movie, music, great, like, live, action]   \n",
       "685f2a19-f581-43a6-bdbd-6db9e12a14fc                                            [movie]   \n",
       "db558a10-7aa3-4980-919c-2e786dbf619d  [take, pun, take, funny, light, hearted, joke,...   \n",
       "\n",
       "                                                                      review_lemmatized  \\\n",
       "userId                                                                                    \n",
       "D91306B7-6A67-4117-B384-6A35AF00C176  [this, movie, be, good, the, original, animate...   \n",
       "ff222e0c-e396-4d62-9e6a-82529303cb75  [follow, the, original, story, which, i, be, s...   \n",
       "798014537                             [unlike, some, other, disney, remake, this, on...   \n",
       "c64b8b43-5e68-41be-b3ec-89b41ec767e4  [love, the, movie, the, music, be, and, be, gr...   \n",
       "685f2a19-f581-43a6-bdbd-6db9e12a14fc              [-PRON-, be, a, well, make, movie, i]   \n",
       "db558a10-7aa3-4980-919c-2e786dbf619d  [-PRON-, take, all, of, the, pun, out, -PRON-,...   \n",
       "\n",
       "                                                                         review_stemmed  \\\n",
       "userId                                                                                    \n",
       "D91306B7-6A67-4117-B384-6A35AF00C176  [this, movi, is, good, the, origin, anim, vers...   \n",
       "ff222e0c-e396-4d62-9e6a-82529303cb75  [follow, the, origin, stori, which, i, was, sk...   \n",
       "798014537                             [unlik, some, other, disney, remak, this, one,...   \n",
       "c64b8b43-5e68-41be-b3ec-89b41ec767e4  [love, the, movi, the, music, was, and, is, gr...   \n",
       "685f2a19-f581-43a6-bdbd-6db9e12a14fc                  [it, was, a, well, made, movi, i]   \n",
       "db558a10-7aa3-4980-919c-2e786dbf619d  [they, took, all, of, the, pun, out, they, too...   \n",
       "\n",
       "                                                                       review_tokenized  \\\n",
       "userId                                                                                    \n",
       "D91306B7-6A67-4117-B384-6A35AF00C176  [this, movie, is, good, the, original, animate...   \n",
       "ff222e0c-e396-4d62-9e6a-82529303cb75  [followed, the, original, story, which, i, was...   \n",
       "798014537                             [unlike, some, other, disney, remakes, this, o...   \n",
       "c64b8b43-5e68-41be-b3ec-89b41ec767e4  [loved, the, movie, the, music, was, and, is, ...   \n",
       "685f2a19-f581-43a6-bdbd-6db9e12a14fc                 [it, was, a, well, made, movie, i]   \n",
       "db558a10-7aa3-4980-919c-2e786dbf619d  [they, took, all, of, the, puns, out, they, to...   \n",
       "\n",
       "                                      cluster_group  SVD_group  \n",
       "userId                                                          \n",
       "D91306B7-6A67-4117-B384-6A35AF00C176              0          0  \n",
       "ff222e0c-e396-4d62-9e6a-82529303cb75              2          1  \n",
       "798014537                                         2          0  \n",
       "c64b8b43-5e68-41be-b3ec-89b41ec767e4              3          0  \n",
       "685f2a19-f581-43a6-bdbd-6db9e12a14fc              0          0  \n",
       "db558a10-7aa3-4980-919c-2e786dbf619d              0          0  "
      ]
     },
     "execution_count": 112,
     "metadata": {},
     "output_type": "execute_result"
    }
   ],
   "source": [
    "pd.DataFrame(data).head(6)"
   ]
  },
  {
   "cell_type": "code",
   "execution_count": 113,
   "metadata": {},
   "outputs": [
    {
     "name": "stdout",
     "output_type": "stream",
     "text": [
      "sentiment  SVD_group\n",
      "0          0            1865\n",
      "           1             305\n",
      "1          0             645\n",
      "           1             185\n",
      "Name: SVD_group, dtype: int64\n"
     ]
    }
   ],
   "source": [
    "print(data.groupby('sentiment')['SVD_group'].value_counts())"
   ]
  },
  {
   "cell_type": "code",
   "execution_count": null,
   "metadata": {},
   "outputs": [],
   "source": []
  }
 ],
 "metadata": {
  "kernelspec": {
   "display_name": "Python 3 (ipykernel)",
   "language": "python",
   "name": "python3"
  },
  "language_info": {
   "codemirror_mode": {
    "name": "ipython",
    "version": 3
   },
   "file_extension": ".py",
   "mimetype": "text/x-python",
   "name": "python",
   "nbconvert_exporter": "python",
   "pygments_lexer": "ipython3",
   "version": "3.9.7"
  }
 },
 "nbformat": 4,
 "nbformat_minor": 2
}

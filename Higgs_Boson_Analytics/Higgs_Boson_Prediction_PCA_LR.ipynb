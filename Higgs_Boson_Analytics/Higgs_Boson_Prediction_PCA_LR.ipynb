{
 "cells": [
  {
   "cell_type": "markdown",
   "metadata": {
    "slideshow": {
     "slide_type": "slide"
    }
   },
   "source": [
    "# <font color=green>Data Analysis for CUTE-2</font>"
   ]
  },
  {
   "cell_type": "markdown",
   "metadata": {
    "slideshow": {
     "slide_type": "slide"
    }
   },
   "source": [
    "#### <font color=orange>Click bellow for redirecting to repsective sections</font>"
   ]
  },
  {
   "cell_type": "markdown",
   "metadata": {},
   "source": [
    "    \n",
    "1. [Load the Train Data file](#Load-the-Train-Data-file)\n",
    "2. [Drop columns which will not be part of analysis](#Drop-columns-which-will-not-be-part-of-analysis)\n",
    "3. [Change target attribute data type to categorical type](#Change-target-attribute-data-type-to-categorical-type)\n",
    "    \n",
    "4. [Descriptive Analysis of Dataset](#Descriptive-Analysis-of-Dataset)\n",
    "    \n",
    "    4.1 [Let's see how many records and attributes we have in our data set](#Let's-see-how-many-records-and-attributes-we-have-in-our-data-set)\n",
    "    \n",
    "    4.2 [Let's explore the features of our dataset](#Let's-explore-the-features-of-our-dataset)\n",
    "    \n",
    "         \n",
    "5. [Check for missing values](#Check-for-missing-values)\n",
    "6. [Correlation plot among independent variable](#Correlation-plot-among-independent-variable)\n",
    "7. [Split the data into predictor and target variable](#Split-the-data-into-predictor-and-target-variable)\n",
    "8. [Run PCA to find out feature who explained the most variance](#Run-PCA-to-find-out-feature-who-explained-the-most-variance)\n",
    "    \n",
    "    8.1 [Checking cumulative variance explained by PCA components](#Checking-cumulative-variance-explained-by-PCA-components)\n",
    "\n",
    "9. [Apply Logistic Regression on PCA components](#Apply-Logistic-Regression-on-PCA-components)\n",
    "10. [K-Fold Cross validation](#K-Fold-Cross-validation)\n",
    "11. [Predict on Train data](#Predict-on-Train-data)\n",
    "12. [Confusion Matrix Evaluation Metrics](#Confusion-Matrix-Evaluation-Metrics)\n",
    "13. [ROC Curve](#ROC-Curve)\n",
    "14. [Load the Test data](#Load-the-Test-data)\n",
    "    \n",
    "    14.1 [Confusion Matrix Evaluation Metrics for Test data](#Confusion-Matrix-Evaluation-Metrics-for-Test-data)\n",
    "15. [ROC Curve of Test Data](#ROC-Curve-of-Test-Data)"
   ]
  },
  {
   "cell_type": "code",
   "execution_count": 2,
   "metadata": {
    "collapsed": true
   },
   "outputs": [],
   "source": [
    "import pandas as pd\n",
    "import numpy as np\n",
    "import matplotlib.pyplot as plt \n",
    "plt.rc(\"font\", size=14)\n",
    "from sklearn import preprocessing\n",
    "from sklearn.linear_model import LogisticRegression\n",
    "from sklearn.cross_validation import train_test_split\n",
    "import seaborn as sns\n",
    "sns.set(style=\"white\")\n",
    "sns.set(style=\"whitegrid\", color_codes=True)"
   ]
  },
  {
   "cell_type": "markdown",
   "metadata": {},
   "source": [
    "# <font color=green>Load the Train Data file</font>"
   ]
  },
  {
   "cell_type": "code",
   "execution_count": 556,
   "metadata": {
    "collapsed": true
   },
   "outputs": [],
   "source": [
    "train_DF = pd.read_csv(\"CSE7302c_train-1539668060821.csv\",sep=',')"
   ]
  },
  {
   "cell_type": "markdown",
   "metadata": {},
   "source": [
    "# <font color='green'>Drop columns which will not be part of analysis</font>"
   ]
  },
  {
   "cell_type": "code",
   "execution_count": 557,
   "metadata": {
    "collapsed": true
   },
   "outputs": [],
   "source": [
    "train_DF = train_DF.drop(['m_jj','m_jjj','m_lv','m_jlv','m_bb','m_wbb','m_wwbb','id'], axis=1)"
   ]
  },
  {
   "cell_type": "markdown",
   "metadata": {},
   "source": [
    "# <font color=green>Change target attribute data type to categorical type</font>"
   ]
  },
  {
   "cell_type": "code",
   "execution_count": 558,
   "metadata": {
    "collapsed": true
   },
   "outputs": [],
   "source": [
    "train_DF['class'] = train_DF['class'].astype('category')"
   ]
  },
  {
   "cell_type": "markdown",
   "metadata": {},
   "source": [
    "# <font color=green>Descriptive Analysis of Dataset</font>"
   ]
  },
  {
   "cell_type": "code",
   "execution_count": 559,
   "metadata": {},
   "outputs": [
    {
     "data": {
      "text/html": [
       "<div>\n",
       "<style scoped>\n",
       "    .dataframe tbody tr th:only-of-type {\n",
       "        vertical-align: middle;\n",
       "    }\n",
       "\n",
       "    .dataframe tbody tr th {\n",
       "        vertical-align: top;\n",
       "    }\n",
       "\n",
       "    .dataframe thead th {\n",
       "        text-align: right;\n",
       "    }\n",
       "</style>\n",
       "<table border=\"1\" class=\"dataframe\">\n",
       "  <thead>\n",
       "    <tr style=\"text-align: right;\">\n",
       "      <th></th>\n",
       "      <th>class</th>\n",
       "      <th>lepton_pT</th>\n",
       "      <th>lepton_eta</th>\n",
       "      <th>lepton_phi</th>\n",
       "      <th>missing_energy_magnitude</th>\n",
       "      <th>missing_energy_phi</th>\n",
       "      <th>jet1pt</th>\n",
       "      <th>jet1eta</th>\n",
       "      <th>jet1phi</th>\n",
       "      <th>jet1b.tag</th>\n",
       "      <th>...</th>\n",
       "      <th>jet2phi</th>\n",
       "      <th>jet2b.tag</th>\n",
       "      <th>jet3pt</th>\n",
       "      <th>jet3eta</th>\n",
       "      <th>jet3phi</th>\n",
       "      <th>jet3b.tag</th>\n",
       "      <th>jet4pt</th>\n",
       "      <th>jet4eta</th>\n",
       "      <th>jet4phi</th>\n",
       "      <th>jet4b.tag</th>\n",
       "    </tr>\n",
       "  </thead>\n",
       "  <tbody>\n",
       "    <tr>\n",
       "      <th>0</th>\n",
       "      <td>1</td>\n",
       "      <td>0.907542</td>\n",
       "      <td>0.329147</td>\n",
       "      <td>0.359412</td>\n",
       "      <td>1.497970</td>\n",
       "      <td>-0.313010</td>\n",
       "      <td>1.095531</td>\n",
       "      <td>-0.557525</td>\n",
       "      <td>-1.588230</td>\n",
       "      <td>2.173076</td>\n",
       "      <td>...</td>\n",
       "      <td>1.271015</td>\n",
       "      <td>2.214872</td>\n",
       "      <td>0.499994</td>\n",
       "      <td>-1.261432</td>\n",
       "      <td>0.732156</td>\n",
       "      <td>0.000000</td>\n",
       "      <td>0.398701</td>\n",
       "      <td>-1.138930</td>\n",
       "      <td>-0.000819</td>\n",
       "      <td>0.000000</td>\n",
       "    </tr>\n",
       "    <tr>\n",
       "      <th>1</th>\n",
       "      <td>1</td>\n",
       "      <td>0.798835</td>\n",
       "      <td>1.470639</td>\n",
       "      <td>-1.635975</td>\n",
       "      <td>0.453773</td>\n",
       "      <td>0.425629</td>\n",
       "      <td>1.104875</td>\n",
       "      <td>1.282322</td>\n",
       "      <td>1.381664</td>\n",
       "      <td>0.000000</td>\n",
       "      <td>...</td>\n",
       "      <td>-0.819690</td>\n",
       "      <td>2.214872</td>\n",
       "      <td>0.993490</td>\n",
       "      <td>0.356080</td>\n",
       "      <td>-0.208778</td>\n",
       "      <td>2.548224</td>\n",
       "      <td>1.256955</td>\n",
       "      <td>1.128848</td>\n",
       "      <td>0.900461</td>\n",
       "      <td>0.000000</td>\n",
       "    </tr>\n",
       "    <tr>\n",
       "      <th>2</th>\n",
       "      <td>0</td>\n",
       "      <td>1.344385</td>\n",
       "      <td>-0.876626</td>\n",
       "      <td>0.935913</td>\n",
       "      <td>1.992050</td>\n",
       "      <td>0.882454</td>\n",
       "      <td>1.786066</td>\n",
       "      <td>-1.646778</td>\n",
       "      <td>-0.942383</td>\n",
       "      <td>0.000000</td>\n",
       "      <td>...</td>\n",
       "      <td>0.736159</td>\n",
       "      <td>2.214872</td>\n",
       "      <td>1.298720</td>\n",
       "      <td>-1.430738</td>\n",
       "      <td>-0.364658</td>\n",
       "      <td>0.000000</td>\n",
       "      <td>0.745313</td>\n",
       "      <td>-0.678379</td>\n",
       "      <td>-1.360356</td>\n",
       "      <td>0.000000</td>\n",
       "    </tr>\n",
       "    <tr>\n",
       "      <th>3</th>\n",
       "      <td>0</td>\n",
       "      <td>1.595839</td>\n",
       "      <td>-0.607811</td>\n",
       "      <td>0.007075</td>\n",
       "      <td>1.818450</td>\n",
       "      <td>-0.111906</td>\n",
       "      <td>0.847550</td>\n",
       "      <td>-0.566437</td>\n",
       "      <td>1.581239</td>\n",
       "      <td>2.173076</td>\n",
       "      <td>...</td>\n",
       "      <td>1.426367</td>\n",
       "      <td>0.000000</td>\n",
       "      <td>0.921661</td>\n",
       "      <td>-1.190432</td>\n",
       "      <td>-1.615589</td>\n",
       "      <td>0.000000</td>\n",
       "      <td>0.651114</td>\n",
       "      <td>-0.654227</td>\n",
       "      <td>-1.274345</td>\n",
       "      <td>3.101961</td>\n",
       "    </tr>\n",
       "    <tr>\n",
       "      <th>4</th>\n",
       "      <td>1</td>\n",
       "      <td>0.409391</td>\n",
       "      <td>-1.884684</td>\n",
       "      <td>-1.027292</td>\n",
       "      <td>1.672452</td>\n",
       "      <td>-1.604598</td>\n",
       "      <td>1.338015</td>\n",
       "      <td>0.055427</td>\n",
       "      <td>0.013466</td>\n",
       "      <td>2.173076</td>\n",
       "      <td>...</td>\n",
       "      <td>0.707862</td>\n",
       "      <td>0.000000</td>\n",
       "      <td>0.746918</td>\n",
       "      <td>-0.358465</td>\n",
       "      <td>-1.646654</td>\n",
       "      <td>0.000000</td>\n",
       "      <td>0.367058</td>\n",
       "      <td>0.069496</td>\n",
       "      <td>1.377130</td>\n",
       "      <td>3.101961</td>\n",
       "    </tr>\n",
       "  </tbody>\n",
       "</table>\n",
       "<p>5 rows × 22 columns</p>\n",
       "</div>"
      ],
      "text/plain": [
       "  class  lepton_pT  lepton_eta  lepton_phi  missing_energy_magnitude  \\\n",
       "0     1   0.907542    0.329147    0.359412                  1.497970   \n",
       "1     1   0.798835    1.470639   -1.635975                  0.453773   \n",
       "2     0   1.344385   -0.876626    0.935913                  1.992050   \n",
       "3     0   1.595839   -0.607811    0.007075                  1.818450   \n",
       "4     1   0.409391   -1.884684   -1.027292                  1.672452   \n",
       "\n",
       "   missing_energy_phi    jet1pt   jet1eta   jet1phi  jet1b.tag    ...      \\\n",
       "0           -0.313010  1.095531 -0.557525 -1.588230   2.173076    ...       \n",
       "1            0.425629  1.104875  1.282322  1.381664   0.000000    ...       \n",
       "2            0.882454  1.786066 -1.646778 -0.942383   0.000000    ...       \n",
       "3           -0.111906  0.847550 -0.566437  1.581239   2.173076    ...       \n",
       "4           -1.604598  1.338015  0.055427  0.013466   2.173076    ...       \n",
       "\n",
       "    jet2phi  jet2b.tag    jet3pt   jet3eta   jet3phi  jet3b.tag    jet4pt  \\\n",
       "0  1.271015   2.214872  0.499994 -1.261432  0.732156   0.000000  0.398701   \n",
       "1 -0.819690   2.214872  0.993490  0.356080 -0.208778   2.548224  1.256955   \n",
       "2  0.736159   2.214872  1.298720 -1.430738 -0.364658   0.000000  0.745313   \n",
       "3  1.426367   0.000000  0.921661 -1.190432 -1.615589   0.000000  0.651114   \n",
       "4  0.707862   0.000000  0.746918 -0.358465 -1.646654   0.000000  0.367058   \n",
       "\n",
       "    jet4eta   jet4phi  jet4b.tag  \n",
       "0 -1.138930 -0.000819   0.000000  \n",
       "1  1.128848  0.900461   0.000000  \n",
       "2 -0.678379 -1.360356   0.000000  \n",
       "3 -0.654227 -1.274345   3.101961  \n",
       "4  0.069496  1.377130   3.101961  \n",
       "\n",
       "[5 rows x 22 columns]"
      ]
     },
     "execution_count": 559,
     "metadata": {},
     "output_type": "execute_result"
    }
   ],
   "source": [
    "train_DF.head()"
   ]
  },
  {
   "cell_type": "code",
   "execution_count": 560,
   "metadata": {
    "scrolled": false
   },
   "outputs": [
    {
     "data": {
      "text/html": [
       "<div>\n",
       "<style scoped>\n",
       "    .dataframe tbody tr th:only-of-type {\n",
       "        vertical-align: middle;\n",
       "    }\n",
       "\n",
       "    .dataframe tbody tr th {\n",
       "        vertical-align: top;\n",
       "    }\n",
       "\n",
       "    .dataframe thead th {\n",
       "        text-align: right;\n",
       "    }\n",
       "</style>\n",
       "<table border=\"1\" class=\"dataframe\">\n",
       "  <thead>\n",
       "    <tr style=\"text-align: right;\">\n",
       "      <th></th>\n",
       "      <th>lepton_pT</th>\n",
       "      <th>lepton_eta</th>\n",
       "      <th>lepton_phi</th>\n",
       "      <th>missing_energy_magnitude</th>\n",
       "      <th>missing_energy_phi</th>\n",
       "      <th>jet1pt</th>\n",
       "      <th>jet1eta</th>\n",
       "      <th>jet1phi</th>\n",
       "      <th>jet1b.tag</th>\n",
       "      <th>jet2pt</th>\n",
       "      <th>...</th>\n",
       "      <th>jet2phi</th>\n",
       "      <th>jet2b.tag</th>\n",
       "      <th>jet3pt</th>\n",
       "      <th>jet3eta</th>\n",
       "      <th>jet3phi</th>\n",
       "      <th>jet3b.tag</th>\n",
       "      <th>jet4pt</th>\n",
       "      <th>jet4eta</th>\n",
       "      <th>jet4phi</th>\n",
       "      <th>jet4b.tag</th>\n",
       "    </tr>\n",
       "  </thead>\n",
       "  <tbody>\n",
       "    <tr>\n",
       "      <th>count</th>\n",
       "      <td>68636.000000</td>\n",
       "      <td>68636.000000</td>\n",
       "      <td>68636.000000</td>\n",
       "      <td>68636.000000</td>\n",
       "      <td>68636.000000</td>\n",
       "      <td>68636.000000</td>\n",
       "      <td>68636.000000</td>\n",
       "      <td>68636.000000</td>\n",
       "      <td>68636.000000</td>\n",
       "      <td>68636.000000</td>\n",
       "      <td>...</td>\n",
       "      <td>68636.000000</td>\n",
       "      <td>68636.000000</td>\n",
       "      <td>68636.000000</td>\n",
       "      <td>68636.000000</td>\n",
       "      <td>68636.000000</td>\n",
       "      <td>68636.000000</td>\n",
       "      <td>68636.000000</td>\n",
       "      <td>68636.000000</td>\n",
       "      <td>68636.000000</td>\n",
       "      <td>68636.000000</td>\n",
       "    </tr>\n",
       "    <tr>\n",
       "      <th>mean</th>\n",
       "      <td>0.989390</td>\n",
       "      <td>-0.004752</td>\n",
       "      <td>-0.000865</td>\n",
       "      <td>0.998634</td>\n",
       "      <td>-0.004615</td>\n",
       "      <td>0.988293</td>\n",
       "      <td>-0.004521</td>\n",
       "      <td>0.001059</td>\n",
       "      <td>0.997492</td>\n",
       "      <td>0.991622</td>\n",
       "      <td>...</td>\n",
       "      <td>0.006480</td>\n",
       "      <td>1.005221</td>\n",
       "      <td>0.992581</td>\n",
       "      <td>0.002618</td>\n",
       "      <td>0.000623</td>\n",
       "      <td>1.003886</td>\n",
       "      <td>0.985643</td>\n",
       "      <td>-0.005873</td>\n",
       "      <td>-0.001390</td>\n",
       "      <td>0.989418</td>\n",
       "    </tr>\n",
       "    <tr>\n",
       "      <th>std</th>\n",
       "      <td>0.562599</td>\n",
       "      <td>1.005846</td>\n",
       "      <td>1.006407</td>\n",
       "      <td>0.597851</td>\n",
       "      <td>1.006065</td>\n",
       "      <td>0.473853</td>\n",
       "      <td>1.010098</td>\n",
       "      <td>1.007629</td>\n",
       "      <td>1.026956</td>\n",
       "      <td>0.498138</td>\n",
       "      <td>...</td>\n",
       "      <td>1.006456</td>\n",
       "      <td>1.049643</td>\n",
       "      <td>0.488648</td>\n",
       "      <td>1.009840</td>\n",
       "      <td>1.005934</td>\n",
       "      <td>1.196556</td>\n",
       "      <td>0.502981</td>\n",
       "      <td>1.009085</td>\n",
       "      <td>1.007525</td>\n",
       "      <td>1.395692</td>\n",
       "    </tr>\n",
       "    <tr>\n",
       "      <th>min</th>\n",
       "      <td>0.274697</td>\n",
       "      <td>-2.434976</td>\n",
       "      <td>-1.742508</td>\n",
       "      <td>0.001283</td>\n",
       "      <td>-1.743944</td>\n",
       "      <td>0.140434</td>\n",
       "      <td>-2.968735</td>\n",
       "      <td>-1.741237</td>\n",
       "      <td>0.000000</td>\n",
       "      <td>0.189737</td>\n",
       "      <td>...</td>\n",
       "      <td>-1.742372</td>\n",
       "      <td>0.000000</td>\n",
       "      <td>0.263608</td>\n",
       "      <td>-2.728753</td>\n",
       "      <td>-1.742069</td>\n",
       "      <td>0.000000</td>\n",
       "      <td>0.365354</td>\n",
       "      <td>-2.497265</td>\n",
       "      <td>-1.742691</td>\n",
       "      <td>0.000000</td>\n",
       "    </tr>\n",
       "    <tr>\n",
       "      <th>25%</th>\n",
       "      <td>0.590204</td>\n",
       "      <td>-0.744166</td>\n",
       "      <td>-0.869156</td>\n",
       "      <td>0.578363</td>\n",
       "      <td>-0.877512</td>\n",
       "      <td>0.676977</td>\n",
       "      <td>-0.696157</td>\n",
       "      <td>-0.864770</td>\n",
       "      <td>0.000000</td>\n",
       "      <td>0.656964</td>\n",
       "      <td>...</td>\n",
       "      <td>-0.863521</td>\n",
       "      <td>0.000000</td>\n",
       "      <td>0.653311</td>\n",
       "      <td>-0.695257</td>\n",
       "      <td>-0.866142</td>\n",
       "      <td>0.000000</td>\n",
       "      <td>0.617767</td>\n",
       "      <td>-0.721686</td>\n",
       "      <td>-0.874392</td>\n",
       "      <td>0.000000</td>\n",
       "    </tr>\n",
       "    <tr>\n",
       "      <th>50%</th>\n",
       "      <td>0.853738</td>\n",
       "      <td>-0.003950</td>\n",
       "      <td>0.003191</td>\n",
       "      <td>0.892574</td>\n",
       "      <td>-0.008968</td>\n",
       "      <td>0.892804</td>\n",
       "      <td>-0.002006</td>\n",
       "      <td>-0.006040</td>\n",
       "      <td>1.086538</td>\n",
       "      <td>0.889382</td>\n",
       "      <td>...</td>\n",
       "      <td>0.012106</td>\n",
       "      <td>1.107436</td>\n",
       "      <td>0.897249</td>\n",
       "      <td>0.002904</td>\n",
       "      <td>-0.000197</td>\n",
       "      <td>0.000000</td>\n",
       "      <td>0.870424</td>\n",
       "      <td>-0.007956</td>\n",
       "      <td>-0.004703</td>\n",
       "      <td>0.000000</td>\n",
       "    </tr>\n",
       "    <tr>\n",
       "      <th>75%</th>\n",
       "      <td>1.234030</td>\n",
       "      <td>0.734318</td>\n",
       "      <td>0.869884</td>\n",
       "      <td>1.294878</td>\n",
       "      <td>0.867539</td>\n",
       "      <td>1.167717</td>\n",
       "      <td>0.689175</td>\n",
       "      <td>0.873302</td>\n",
       "      <td>2.173076</td>\n",
       "      <td>1.200490</td>\n",
       "      <td>...</td>\n",
       "      <td>0.880414</td>\n",
       "      <td>2.214872</td>\n",
       "      <td>1.221973</td>\n",
       "      <td>0.701975</td>\n",
       "      <td>0.875833</td>\n",
       "      <td>2.548224</td>\n",
       "      <td>1.220443</td>\n",
       "      <td>0.709938</td>\n",
       "      <td>0.874380</td>\n",
       "      <td>3.101961</td>\n",
       "    </tr>\n",
       "    <tr>\n",
       "      <th>max</th>\n",
       "      <td>7.805887</td>\n",
       "      <td>2.433894</td>\n",
       "      <td>1.743236</td>\n",
       "      <td>7.998711</td>\n",
       "      <td>1.743229</td>\n",
       "      <td>6.534160</td>\n",
       "      <td>2.964723</td>\n",
       "      <td>1.741454</td>\n",
       "      <td>2.173076</td>\n",
       "      <td>6.498635</td>\n",
       "      <td>...</td>\n",
       "      <td>1.743175</td>\n",
       "      <td>2.214872</td>\n",
       "      <td>8.509908</td>\n",
       "      <td>2.730009</td>\n",
       "      <td>1.742884</td>\n",
       "      <td>2.548224</td>\n",
       "      <td>6.605096</td>\n",
       "      <td>2.498009</td>\n",
       "      <td>1.743372</td>\n",
       "      <td>3.101961</td>\n",
       "    </tr>\n",
       "  </tbody>\n",
       "</table>\n",
       "<p>8 rows × 21 columns</p>\n",
       "</div>"
      ],
      "text/plain": [
       "          lepton_pT    lepton_eta    lepton_phi  missing_energy_magnitude  \\\n",
       "count  68636.000000  68636.000000  68636.000000              68636.000000   \n",
       "mean       0.989390     -0.004752     -0.000865                  0.998634   \n",
       "std        0.562599      1.005846      1.006407                  0.597851   \n",
       "min        0.274697     -2.434976     -1.742508                  0.001283   \n",
       "25%        0.590204     -0.744166     -0.869156                  0.578363   \n",
       "50%        0.853738     -0.003950      0.003191                  0.892574   \n",
       "75%        1.234030      0.734318      0.869884                  1.294878   \n",
       "max        7.805887      2.433894      1.743236                  7.998711   \n",
       "\n",
       "       missing_energy_phi        jet1pt       jet1eta       jet1phi  \\\n",
       "count        68636.000000  68636.000000  68636.000000  68636.000000   \n",
       "mean            -0.004615      0.988293     -0.004521      0.001059   \n",
       "std              1.006065      0.473853      1.010098      1.007629   \n",
       "min             -1.743944      0.140434     -2.968735     -1.741237   \n",
       "25%             -0.877512      0.676977     -0.696157     -0.864770   \n",
       "50%             -0.008968      0.892804     -0.002006     -0.006040   \n",
       "75%              0.867539      1.167717      0.689175      0.873302   \n",
       "max              1.743229      6.534160      2.964723      1.741454   \n",
       "\n",
       "          jet1b.tag        jet2pt      ...            jet2phi     jet2b.tag  \\\n",
       "count  68636.000000  68636.000000      ...       68636.000000  68636.000000   \n",
       "mean       0.997492      0.991622      ...           0.006480      1.005221   \n",
       "std        1.026956      0.498138      ...           1.006456      1.049643   \n",
       "min        0.000000      0.189737      ...          -1.742372      0.000000   \n",
       "25%        0.000000      0.656964      ...          -0.863521      0.000000   \n",
       "50%        1.086538      0.889382      ...           0.012106      1.107436   \n",
       "75%        2.173076      1.200490      ...           0.880414      2.214872   \n",
       "max        2.173076      6.498635      ...           1.743175      2.214872   \n",
       "\n",
       "             jet3pt       jet3eta       jet3phi     jet3b.tag        jet4pt  \\\n",
       "count  68636.000000  68636.000000  68636.000000  68636.000000  68636.000000   \n",
       "mean       0.992581      0.002618      0.000623      1.003886      0.985643   \n",
       "std        0.488648      1.009840      1.005934      1.196556      0.502981   \n",
       "min        0.263608     -2.728753     -1.742069      0.000000      0.365354   \n",
       "25%        0.653311     -0.695257     -0.866142      0.000000      0.617767   \n",
       "50%        0.897249      0.002904     -0.000197      0.000000      0.870424   \n",
       "75%        1.221973      0.701975      0.875833      2.548224      1.220443   \n",
       "max        8.509908      2.730009      1.742884      2.548224      6.605096   \n",
       "\n",
       "            jet4eta       jet4phi     jet4b.tag  \n",
       "count  68636.000000  68636.000000  68636.000000  \n",
       "mean      -0.005873     -0.001390      0.989418  \n",
       "std        1.009085      1.007525      1.395692  \n",
       "min       -2.497265     -1.742691      0.000000  \n",
       "25%       -0.721686     -0.874392      0.000000  \n",
       "50%       -0.007956     -0.004703      0.000000  \n",
       "75%        0.709938      0.874380      3.101961  \n",
       "max        2.498009      1.743372      3.101961  \n",
       "\n",
       "[8 rows x 21 columns]"
      ]
     },
     "execution_count": 560,
     "metadata": {},
     "output_type": "execute_result"
    }
   ],
   "source": [
    "train_DF.describe()"
   ]
  },
  {
   "cell_type": "markdown",
   "metadata": {},
   "source": [
    "<font color=red>lepton_pT, missing_energy_magnitude, jet1pt, jet2pt, jet3pt, jet4pt features might contains influential points or outliers</font>"
   ]
  },
  {
   "cell_type": "markdown",
   "metadata": {},
   "source": [
    "### Let's see how many records and attributes we have in our data set"
   ]
  },
  {
   "cell_type": "code",
   "execution_count": 561,
   "metadata": {},
   "outputs": [
    {
     "data": {
      "text/plain": [
       "(68636, 22)"
      ]
     },
     "execution_count": 561,
     "metadata": {},
     "output_type": "execute_result"
    }
   ],
   "source": [
    "train_DF.shape"
   ]
  },
  {
   "cell_type": "markdown",
   "metadata": {},
   "source": [
    "Our Dataset has 22 features with 68636 records"
   ]
  },
  {
   "cell_type": "markdown",
   "metadata": {},
   "source": [
    "### Let's explore the features of our dataset"
   ]
  },
  {
   "cell_type": "code",
   "execution_count": 562,
   "metadata": {},
   "outputs": [
    {
     "data": {
      "text/plain": [
       "class                       category\n",
       "lepton_pT                    float64\n",
       "lepton_eta                   float64\n",
       "lepton_phi                   float64\n",
       "missing_energy_magnitude     float64\n",
       "missing_energy_phi           float64\n",
       "jet1pt                       float64\n",
       "jet1eta                      float64\n",
       "jet1phi                      float64\n",
       "jet1b.tag                    float64\n",
       "jet2pt                       float64\n",
       "jet2eta                      float64\n",
       "jet2phi                      float64\n",
       "jet2b.tag                    float64\n",
       "jet3pt                       float64\n",
       "jet3eta                      float64\n",
       "jet3phi                      float64\n",
       "jet3b.tag                    float64\n",
       "jet4pt                       float64\n",
       "jet4eta                      float64\n",
       "jet4phi                      float64\n",
       "jet4b.tag                    float64\n",
       "dtype: object"
      ]
     },
     "execution_count": 562,
     "metadata": {},
     "output_type": "execute_result"
    }
   ],
   "source": [
    "train_DF.dtypes"
   ]
  },
  {
   "cell_type": "code",
   "execution_count": 563,
   "metadata": {},
   "outputs": [
    {
     "data": {
      "image/png": "[encoded data removed]",
      "text/plain": [
       "<Figure size 432x288 with 1 Axes>"
      ]
     },
     "metadata": {},
     "output_type": "display_data"
    }
   ],
   "source": [
    "sns.countplot(x=train_DF['class'],data=train_DF, palette='hls')\n",
    "plt.show()"
   ]
  },
  {
   "cell_type": "markdown",
   "metadata": {},
   "source": [
    "# <font color=green>Check for missing values</font>"
   ]
  },
  {
   "cell_type": "code",
   "execution_count": 564,
   "metadata": {},
   "outputs": [
    {
     "data": {
      "text/plain": [
       "class                       0\n",
       "lepton_pT                   0\n",
       "lepton_eta                  0\n",
       "lepton_phi                  0\n",
       "missing_energy_magnitude    0\n",
       "missing_energy_phi          0\n",
       "jet1pt                      0\n",
       "jet1eta                     0\n",
       "jet1phi                     0\n",
       "jet1b.tag                   0\n",
       "jet2pt                      0\n",
       "jet2eta                     0\n",
       "jet2phi                     0\n",
       "jet2b.tag                   0\n",
       "jet3pt                      0\n",
       "jet3eta                     0\n",
       "jet3phi                     0\n",
       "jet3b.tag                   0\n",
       "jet4pt                      0\n",
       "jet4eta                     0\n",
       "jet4phi                     0\n",
       "jet4b.tag                   0\n",
       "dtype: int64"
      ]
     },
     "execution_count": 564,
     "metadata": {},
     "output_type": "execute_result"
    }
   ],
   "source": [
    "train_DF.isna().sum()"
   ]
  },
  {
   "cell_type": "markdown",
   "metadata": {},
   "source": [
    "# <font color=green>Correlation plot among independent variable</font>"
   ]
  },
  {
   "cell_type": "code",
   "execution_count": 565,
   "metadata": {},
   "outputs": [
    {
     "data": {
      "image/png": "[encoded data removed]",
      "text/plain": [
       "<Figure size 432x288 with 2 Axes>"
      ]
     },
     "metadata": {},
     "output_type": "display_data"
    }
   ],
   "source": [
    "sns.heatmap(train_DF.corr())\n",
    "plt.show()"
   ]
  },
  {
   "cell_type": "markdown",
   "metadata": {},
   "source": [
    "# <font color=green>Split the data into predictor and target variable</font>"
   ]
  },
  {
   "cell_type": "code",
   "execution_count": 566,
   "metadata": {
    "collapsed": true
   },
   "outputs": [],
   "source": [
    "X = train_DF.iloc[:,1:22]\n",
    "y = train_DF.iloc[:,0]"
   ]
  },
  {
   "cell_type": "markdown",
   "metadata": {},
   "source": [
    "# <font color=green>Run PCA to find out feature who explained the most variance</font>"
   ]
  },
  {
   "cell_type": "code",
   "execution_count": 567,
   "metadata": {
    "collapsed": true
   },
   "outputs": [],
   "source": [
    "from sklearn.decomposition import PCA\n",
    "pca = PCA(n_components=21)\n",
    "principalComponents = pca.fit_transform(X)"
   ]
  },
  {
   "cell_type": "code",
   "execution_count": 568,
   "metadata": {},
   "outputs": [
    {
     "data": {
      "text/plain": [
       "array([12.23234044, 10.3476899 ,  8.96181286,  7.45789445,  6.87635339,\n",
       "        6.04991925,  5.93886819,  5.85399107,  5.68980712,  4.78124109,\n",
       "        4.39751785,  4.14069378,  4.02646945,  2.75632127,  2.55407864,\n",
       "        2.07491334,  1.73359794,  1.59514952,  1.11922009,  0.83988814,\n",
       "        0.57223222])"
      ]
     },
     "execution_count": 568,
     "metadata": {},
     "output_type": "execute_result"
    }
   ],
   "source": [
    "pca.explained_variance_ratio_*100"
   ]
  },
  {
   "cell_type": "markdown",
   "metadata": {},
   "source": [
    "### Checking cumulative variance explained by PCA components"
   ]
  },
  {
   "cell_type": "code",
   "execution_count": 569,
   "metadata": {},
   "outputs": [
    {
     "data": {
      "text/plain": [
       "array([ 12.23,  22.58,  31.54,  39.  ,  45.88,  51.93,  57.87,  63.72,\n",
       "        69.41,  74.19,  78.59,  82.73,  86.76,  89.52,  92.07,  94.14,\n",
       "        95.87,  97.47,  98.59,  99.43, 100.  ])"
      ]
     },
     "execution_count": 569,
     "metadata": {},
     "output_type": "execute_result"
    }
   ],
   "source": [
    "var= pca.explained_variance_ratio_\n",
    "var1=np.cumsum(np.round(pca.explained_variance_ratio_, decimals=4)*100)\n",
    "var1"
   ]
  },
  {
   "cell_type": "markdown",
   "metadata": {},
   "source": [
    "First 20 PCA components are explaining almost 99% of variance. So we can reduce the dimension to 20 PCA components."
   ]
  },
  {
   "cell_type": "code",
   "execution_count": 570,
   "metadata": {
    "collapsed": true
   },
   "outputs": [],
   "source": [
    "pca = PCA(n_components=20)\n",
    "principalComponents = pca.fit_transform(X)"
   ]
  },
  {
   "cell_type": "code",
   "execution_count": 571,
   "metadata": {},
   "outputs": [
    {
     "data": {
      "text/plain": [
       "(68636, 20)"
      ]
     },
     "execution_count": 571,
     "metadata": {},
     "output_type": "execute_result"
    }
   ],
   "source": [
    "principalDf = pd.DataFrame(data = principalComponents)\n",
    "principalDf.shape"
   ]
  },
  {
   "cell_type": "code",
   "execution_count": 572,
   "metadata": {},
   "outputs": [
    {
     "data": {
      "text/html": [
       "<div>\n",
       "<style scoped>\n",
       "    .dataframe tbody tr th:only-of-type {\n",
       "        vertical-align: middle;\n",
       "    }\n",
       "\n",
       "    .dataframe tbody tr th {\n",
       "        vertical-align: top;\n",
       "    }\n",
       "\n",
       "    .dataframe thead th {\n",
       "        text-align: right;\n",
       "    }\n",
       "</style>\n",
       "<table border=\"1\" class=\"dataframe\">\n",
       "  <thead>\n",
       "    <tr style=\"text-align: right;\">\n",
       "      <th></th>\n",
       "      <th>0</th>\n",
       "      <th>1</th>\n",
       "      <th>2</th>\n",
       "      <th>3</th>\n",
       "      <th>4</th>\n",
       "      <th>5</th>\n",
       "      <th>6</th>\n",
       "      <th>7</th>\n",
       "      <th>8</th>\n",
       "      <th>9</th>\n",
       "      <th>...</th>\n",
       "      <th>11</th>\n",
       "      <th>12</th>\n",
       "      <th>13</th>\n",
       "      <th>14</th>\n",
       "      <th>15</th>\n",
       "      <th>16</th>\n",
       "      <th>17</th>\n",
       "      <th>18</th>\n",
       "      <th>19</th>\n",
       "      <th>class</th>\n",
       "    </tr>\n",
       "  </thead>\n",
       "  <tbody>\n",
       "    <tr>\n",
       "      <th>0</th>\n",
       "      <td>-0.961110</td>\n",
       "      <td>1.082599</td>\n",
       "      <td>-2.010361</td>\n",
       "      <td>-0.296665</td>\n",
       "      <td>-1.876453</td>\n",
       "      <td>-0.597552</td>\n",
       "      <td>-0.437678</td>\n",
       "      <td>-0.733532</td>\n",
       "      <td>0.530284</td>\n",
       "      <td>-0.541821</td>\n",
       "      <td>...</td>\n",
       "      <td>-0.019672</td>\n",
       "      <td>0.545013</td>\n",
       "      <td>-0.009966</td>\n",
       "      <td>-0.345136</td>\n",
       "      <td>0.620505</td>\n",
       "      <td>0.608200</td>\n",
       "      <td>0.108703</td>\n",
       "      <td>-0.145346</td>\n",
       "      <td>-0.018244</td>\n",
       "      <td>1</td>\n",
       "    </tr>\n",
       "    <tr>\n",
       "      <th>1</th>\n",
       "      <td>-1.368562</td>\n",
       "      <td>-2.657041</td>\n",
       "      <td>0.925161</td>\n",
       "      <td>1.744479</td>\n",
       "      <td>1.647573</td>\n",
       "      <td>-0.387163</td>\n",
       "      <td>-0.658205</td>\n",
       "      <td>1.541633</td>\n",
       "      <td>-0.310506</td>\n",
       "      <td>0.291686</td>\n",
       "      <td>...</td>\n",
       "      <td>-0.055011</td>\n",
       "      <td>-0.049832</td>\n",
       "      <td>0.120979</td>\n",
       "      <td>-0.356502</td>\n",
       "      <td>-0.249508</td>\n",
       "      <td>0.019808</td>\n",
       "      <td>-0.522262</td>\n",
       "      <td>0.212884</td>\n",
       "      <td>-0.278845</td>\n",
       "      <td>1</td>\n",
       "    </tr>\n",
       "    <tr>\n",
       "      <th>2</th>\n",
       "      <td>-0.728454</td>\n",
       "      <td>2.303897</td>\n",
       "      <td>-1.243343</td>\n",
       "      <td>1.488419</td>\n",
       "      <td>-1.591863</td>\n",
       "      <td>0.403079</td>\n",
       "      <td>0.582845</td>\n",
       "      <td>-1.015193</td>\n",
       "      <td>-1.234756</td>\n",
       "      <td>0.350354</td>\n",
       "      <td>...</td>\n",
       "      <td>-0.596872</td>\n",
       "      <td>0.191912</td>\n",
       "      <td>-0.112379</td>\n",
       "      <td>1.662857</td>\n",
       "      <td>0.167247</td>\n",
       "      <td>0.381448</td>\n",
       "      <td>0.586947</td>\n",
       "      <td>-0.711388</td>\n",
       "      <td>0.040801</td>\n",
       "      <td>0</td>\n",
       "    </tr>\n",
       "    <tr>\n",
       "      <th>3</th>\n",
       "      <td>2.193213</td>\n",
       "      <td>1.143967</td>\n",
       "      <td>-0.367380</td>\n",
       "      <td>-1.464830</td>\n",
       "      <td>1.089907</td>\n",
       "      <td>-1.350493</td>\n",
       "      <td>1.591906</td>\n",
       "      <td>-1.035777</td>\n",
       "      <td>-1.410980</td>\n",
       "      <td>-0.046351</td>\n",
       "      <td>...</td>\n",
       "      <td>-0.746544</td>\n",
       "      <td>-0.629647</td>\n",
       "      <td>0.534585</td>\n",
       "      <td>-0.053228</td>\n",
       "      <td>0.378599</td>\n",
       "      <td>0.880215</td>\n",
       "      <td>0.509018</td>\n",
       "      <td>0.152103</td>\n",
       "      <td>0.362722</td>\n",
       "      <td>0</td>\n",
       "    </tr>\n",
       "    <tr>\n",
       "      <th>4</th>\n",
       "      <td>2.150512</td>\n",
       "      <td>1.596208</td>\n",
       "      <td>-0.401550</td>\n",
       "      <td>-1.477434</td>\n",
       "      <td>0.676365</td>\n",
       "      <td>-2.123431</td>\n",
       "      <td>1.161136</td>\n",
       "      <td>0.887478</td>\n",
       "      <td>1.246019</td>\n",
       "      <td>0.607314</td>\n",
       "      <td>...</td>\n",
       "      <td>0.625817</td>\n",
       "      <td>-1.012170</td>\n",
       "      <td>-0.807430</td>\n",
       "      <td>-0.224049</td>\n",
       "      <td>1.046507</td>\n",
       "      <td>0.408464</td>\n",
       "      <td>0.020682</td>\n",
       "      <td>-0.419909</td>\n",
       "      <td>0.285084</td>\n",
       "      <td>1</td>\n",
       "    </tr>\n",
       "  </tbody>\n",
       "</table>\n",
       "<p>5 rows × 21 columns</p>\n",
       "</div>"
      ],
      "text/plain": [
       "          0         1         2         3         4         5         6  \\\n",
       "0 -0.961110  1.082599 -2.010361 -0.296665 -1.876453 -0.597552 -0.437678   \n",
       "1 -1.368562 -2.657041  0.925161  1.744479  1.647573 -0.387163 -0.658205   \n",
       "2 -0.728454  2.303897 -1.243343  1.488419 -1.591863  0.403079  0.582845   \n",
       "3  2.193213  1.143967 -0.367380 -1.464830  1.089907 -1.350493  1.591906   \n",
       "4  2.150512  1.596208 -0.401550 -1.477434  0.676365 -2.123431  1.161136   \n",
       "\n",
       "          7         8         9  ...          11        12        13  \\\n",
       "0 -0.733532  0.530284 -0.541821  ...   -0.019672  0.545013 -0.009966   \n",
       "1  1.541633 -0.310506  0.291686  ...   -0.055011 -0.049832  0.120979   \n",
       "2 -1.015193 -1.234756  0.350354  ...   -0.596872  0.191912 -0.112379   \n",
       "3 -1.035777 -1.410980 -0.046351  ...   -0.746544 -0.629647  0.534585   \n",
       "4  0.887478  1.246019  0.607314  ...    0.625817 -1.012170 -0.807430   \n",
       "\n",
       "         14        15        16        17        18        19  class  \n",
       "0 -0.345136  0.620505  0.608200  0.108703 -0.145346 -0.018244      1  \n",
       "1 -0.356502 -0.249508  0.019808 -0.522262  0.212884 -0.278845      1  \n",
       "2  1.662857  0.167247  0.381448  0.586947 -0.711388  0.040801      0  \n",
       "3 -0.053228  0.378599  0.880215  0.509018  0.152103  0.362722      0  \n",
       "4 -0.224049  1.046507  0.408464  0.020682 -0.419909  0.285084      1  \n",
       "\n",
       "[5 rows x 21 columns]"
      ]
     },
     "execution_count": 572,
     "metadata": {},
     "output_type": "execute_result"
    }
   ],
   "source": [
    "finalDf = pd.concat([principalDf, y], axis = 1)\n",
    "finalDf.head()"
   ]
  },
  {
   "cell_type": "code",
   "execution_count": 573,
   "metadata": {},
   "outputs": [
    {
     "data": {
      "text/plain": [
       "(68636, 21)"
      ]
     },
     "execution_count": 573,
     "metadata": {},
     "output_type": "execute_result"
    }
   ],
   "source": [
    "finalDf.shape"
   ]
  },
  {
   "cell_type": "markdown",
   "metadata": {},
   "source": [
    "# <font color=green>Apply Logistic Regression on PCA components</font>"
   ]
  },
  {
   "cell_type": "code",
   "execution_count": 574,
   "metadata": {},
   "outputs": [
    {
     "name": "stderr",
     "output_type": "stream",
     "text": [
      "C:\\ProgramData\\Anaconda3\\lib\\site-packages\\sklearn\\utils\\validation.py:578: DataConversionWarning: A column-vector y was passed when a 1d array was expected. Please change the shape of y to (n_samples, ), for example using ravel().\n",
      "  y = column_or_1d(y, warn=True)\n"
     ]
    },
    {
     "data": {
      "text/plain": [
       "LogisticRegression(C=1.0, class_weight=None, dual=False, fit_intercept=True,\n",
       "          intercept_scaling=1, max_iter=100, multi_class='ovr', n_jobs=1,\n",
       "          penalty='l2', random_state=0, solver='liblinear', tol=0.0001,\n",
       "          verbose=0, warm_start=False)"
      ]
     },
     "execution_count": 574,
     "metadata": {},
     "output_type": "execute_result"
    }
   ],
   "source": [
    "from sklearn.linear_model import LogisticRegression\n",
    "logisticRegr = LogisticRegression(random_state=0)\n",
    "\n",
    "X = finalDf.iloc[:,0:20]\n",
    "y = finalDf.iloc[:,20:21]\n",
    "X_train, X_test, y_train, y_test = train_test_split(X, y, random_state=0)\n",
    "logisticRegr.fit(X_train, y_train)"
   ]
  },
  {
   "cell_type": "markdown",
   "metadata": {},
   "source": [
    "# <font color=green>K-Fold Cross validation</font>"
   ]
  },
  {
   "cell_type": "code",
   "execution_count": 575,
   "metadata": {
    "collapsed": true
   },
   "outputs": [],
   "source": [
    "model = logisticRegr"
   ]
  },
  {
   "cell_type": "code",
   "execution_count": 576,
   "metadata": {},
   "outputs": [
    {
     "name": "stderr",
     "output_type": "stream",
     "text": [
      "C:\\ProgramData\\Anaconda3\\lib\\site-packages\\sklearn\\utils\\validation.py:578: DataConversionWarning: A column-vector y was passed when a 1d array was expected. Please change the shape of y to (n_samples, ), for example using ravel().\n",
      "  y = column_or_1d(y, warn=True)\n",
      "C:\\ProgramData\\Anaconda3\\lib\\site-packages\\sklearn\\utils\\validation.py:578: DataConversionWarning: A column-vector y was passed when a 1d array was expected. Please change the shape of y to (n_samples, ), for example using ravel().\n",
      "  y = column_or_1d(y, warn=True)\n",
      "C:\\ProgramData\\Anaconda3\\lib\\site-packages\\sklearn\\utils\\validation.py:578: DataConversionWarning: A column-vector y was passed when a 1d array was expected. Please change the shape of y to (n_samples, ), for example using ravel().\n",
      "  y = column_or_1d(y, warn=True)\n",
      "C:\\ProgramData\\Anaconda3\\lib\\site-packages\\sklearn\\utils\\validation.py:578: DataConversionWarning: A column-vector y was passed when a 1d array was expected. Please change the shape of y to (n_samples, ), for example using ravel().\n",
      "  y = column_or_1d(y, warn=True)\n",
      "C:\\ProgramData\\Anaconda3\\lib\\site-packages\\sklearn\\utils\\validation.py:578: DataConversionWarning: A column-vector y was passed when a 1d array was expected. Please change the shape of y to (n_samples, ), for example using ravel().\n",
      "  y = column_or_1d(y, warn=True)\n",
      "C:\\ProgramData\\Anaconda3\\lib\\site-packages\\sklearn\\utils\\validation.py:578: DataConversionWarning: A column-vector y was passed when a 1d array was expected. Please change the shape of y to (n_samples, ), for example using ravel().\n",
      "  y = column_or_1d(y, warn=True)\n",
      "C:\\ProgramData\\Anaconda3\\lib\\site-packages\\sklearn\\utils\\validation.py:578: DataConversionWarning: A column-vector y was passed when a 1d array was expected. Please change the shape of y to (n_samples, ), for example using ravel().\n",
      "  y = column_or_1d(y, warn=True)\n",
      "C:\\ProgramData\\Anaconda3\\lib\\site-packages\\sklearn\\utils\\validation.py:578: DataConversionWarning: A column-vector y was passed when a 1d array was expected. Please change the shape of y to (n_samples, ), for example using ravel().\n",
      "  y = column_or_1d(y, warn=True)\n"
     ]
    },
    {
     "name": "stdout",
     "output_type": "stream",
     "text": [
      "[0.5203962703962703, 0.5332167832167832, 0.5396270396270396, 0.5405247813411078, 0.5501165501165501, 0.5536130536130536, 0.5553613053613053, 0.5617715617715617, 0.5658508158508159, 0.5658508158508159]\n"
     ]
    },
    {
     "name": "stderr",
     "output_type": "stream",
     "text": [
      "C:\\ProgramData\\Anaconda3\\lib\\site-packages\\sklearn\\utils\\validation.py:578: DataConversionWarning: A column-vector y was passed when a 1d array was expected. Please change the shape of y to (n_samples, ), for example using ravel().\n",
      "  y = column_or_1d(y, warn=True)\n",
      "C:\\ProgramData\\Anaconda3\\lib\\site-packages\\sklearn\\utils\\validation.py:578: DataConversionWarning: A column-vector y was passed when a 1d array was expected. Please change the shape of y to (n_samples, ), for example using ravel().\n",
      "  y = column_or_1d(y, warn=True)\n"
     ]
    }
   ],
   "source": [
    "from sklearn.model_selection import KFold\n",
    "from sklearn.model_selection import cross_val_score\n",
    "kf = KFold(n_splits=10,random_state=9, shuffle=True)\n",
    "print(sorted(list(cross_val_score(model, X_test, y_test, cv=kf))))\n",
    "#print(cross_val_score(model, X_test, y_test, cv=kf).mean())"
   ]
  },
  {
   "cell_type": "markdown",
   "metadata": {},
   "source": [
    "Accuracy is within the range of 52% to 56%"
   ]
  },
  {
   "cell_type": "markdown",
   "metadata": {},
   "source": [
    "# <font color=green>Predict on Train data</font>"
   ]
  },
  {
   "cell_type": "code",
   "execution_count": 577,
   "metadata": {},
   "outputs": [
    {
     "data": {
      "text/plain": [
       "(17159,)"
      ]
     },
     "execution_count": 577,
     "metadata": {},
     "output_type": "execute_result"
    }
   ],
   "source": [
    "pred_test = logisticRegr.predict(X_test)\n",
    "pred_test.shape"
   ]
  },
  {
   "cell_type": "markdown",
   "metadata": {},
   "source": [
    "# <font color=green>Confusion Matrix Evaluation Metrics for Train Data</font>"
   ]
  },
  {
   "cell_type": "code",
   "execution_count": 578,
   "metadata": {},
   "outputs": [
    {
     "data": {
      "text/plain": [
       "array([[3207, 4857],\n",
       "       [2839, 6256]], dtype=int64)"
      ]
     },
     "execution_count": 578,
     "metadata": {},
     "output_type": "execute_result"
    }
   ],
   "source": [
    "from sklearn import metrics\n",
    "cnf_matrix = metrics.confusion_matrix(y_test, pred_test)\n",
    "cnf_matrix"
   ]
  },
  {
   "cell_type": "markdown",
   "metadata": {},
   "source": [
    "The result is telling us that we have 3207+6256 correct predictions and 4857+2839 incorrect predictions"
   ]
  },
  {
   "cell_type": "code",
   "execution_count": 579,
   "metadata": {},
   "outputs": [
    {
     "data": {
      "text/plain": [
       "Text(0.5,257.44,'Predicted Label')"
      ]
     },
     "execution_count": 579,
     "metadata": {},
     "output_type": "execute_result"
    },
    {
     "data": {
      "image/png": "[encoded data removed]",
      "text/plain": [
       "<Figure size 432x288 with 2 Axes>"
      ]
     },
     "metadata": {},
     "output_type": "display_data"
    }
   ],
   "source": [
    "class_names = [0,1]\n",
    "fig, ax = plt.subplots()\n",
    "tick_marks = np.arange(len(class_names))\n",
    "plt.xticks(tick_marks, class_names)\n",
    "plt.yticks(tick_marks, class_names)\n",
    "\n",
    "#create heatmap\n",
    "sns.heatmap(pd.DataFrame(cnf_matrix), annot=True, cmap=\"YlGnBu\", fmt='g')\n",
    "ax.xaxis.set_label_position(\"top\")\n",
    "plt.tight_layout()\n",
    "plt.title('Confusion matrix for Train Data', y=1.1)\n",
    "plt.ylabel('Actual Label')\n",
    "plt.xlabel('Predicted Label')"
   ]
  },
  {
   "cell_type": "code",
   "execution_count": 580,
   "metadata": {},
   "outputs": [
    {
     "name": "stdout",
     "output_type": "stream",
     "text": [
      "Accuracy :  0.5514890145113351\n",
      "Precision :  0.5629442994690903\n",
      "Recall :  0.6878504672897197\n"
     ]
    }
   ],
   "source": [
    "print('Accuracy : ', metrics.accuracy_score(y_test, pred_test))\n",
    "print('Precision : ', metrics.precision_score(y_test, pred_test))\n",
    "print('Recall : ', metrics.recall_score(y_test, pred_test))"
   ]
  },
  {
   "cell_type": "markdown",
   "metadata": {},
   "source": [
    "# <font color=green>ROC Curve</font>"
   ]
  },
  {
   "cell_type": "code",
   "execution_count": 581,
   "metadata": {},
   "outputs": [
    {
     "data": {
      "image/png": "[encoded data removed]",
      "text/plain": [
       "<Figure size 432x288 with 1 Axes>"
      ]
     },
     "metadata": {},
     "output_type": "display_data"
    }
   ],
   "source": [
    "y_pred_proba = logisticRegr.predict_proba(X_test)[::,1]\n",
    "fpr, tpr, _ = metrics.roc_curve(y_test, y_pred_proba)\n",
    "auc = metrics.roc_auc_score(y_test, y_pred_proba)\n",
    "plt.plot(fpr, tpr, label=\"data 1, auc=\"+str(auc))\n",
    "plt.legend(loc=4)\n",
    "plt.show()"
   ]
  },
  {
   "cell_type": "markdown",
   "metadata": {},
   "source": [
    "# <font color=green>Load the Test data</font>"
   ]
  },
  {
   "cell_type": "code",
   "execution_count": 582,
   "metadata": {
    "collapsed": true
   },
   "outputs": [],
   "source": [
    "test_DF = pd.read_csv(\"CSE7302c_test-1539668060821.csv\",sep=',', na_values=[\"?\"])"
   ]
  },
  {
   "cell_type": "code",
   "execution_count": 583,
   "metadata": {
    "collapsed": true
   },
   "outputs": [],
   "source": [
    "test_DF = test_DF.drop(['m_jj','m_jjj','m_lv','m_jlv','m_bb','m_wbb','m_wwbb','id'], axis=1)"
   ]
  },
  {
   "cell_type": "code",
   "execution_count": 584,
   "metadata": {},
   "outputs": [
    {
     "data": {
      "text/plain": [
       "(29414, 22)"
      ]
     },
     "execution_count": 584,
     "metadata": {},
     "output_type": "execute_result"
    }
   ],
   "source": [
    "test_DF.shape"
   ]
  },
  {
   "cell_type": "code",
   "execution_count": 585,
   "metadata": {
    "collapsed": true
   },
   "outputs": [],
   "source": [
    "test_DF['class'] = test_DF['class'].astype('category')"
   ]
  },
  {
   "cell_type": "code",
   "execution_count": 586,
   "metadata": {
    "scrolled": true
   },
   "outputs": [
    {
     "data": {
      "text/plain": [
       "class                       category\n",
       "lepton_pT                    float64\n",
       "lepton_eta                   float64\n",
       "lepton_phi                   float64\n",
       "missing_energy_magnitude     float64\n",
       "missing_energy_phi           float64\n",
       "jet1pt                       float64\n",
       "jet1eta                      float64\n",
       "jet1phi                      float64\n",
       "jet1b.tag                    float64\n",
       "jet2pt                       float64\n",
       "jet2eta                      float64\n",
       "jet2phi                      float64\n",
       "jet2b.tag                    float64\n",
       "jet3pt                       float64\n",
       "jet3eta                      float64\n",
       "jet3phi                      float64\n",
       "jet3b.tag                    float64\n",
       "jet4pt                       float64\n",
       "jet4eta                      float64\n",
       "jet4phi                      float64\n",
       "jet4b.tag                    float64\n",
       "dtype: object"
      ]
     },
     "execution_count": 586,
     "metadata": {},
     "output_type": "execute_result"
    }
   ],
   "source": [
    "test_DF.dtypes"
   ]
  },
  {
   "cell_type": "code",
   "execution_count": 587,
   "metadata": {
    "collapsed": true
   },
   "outputs": [],
   "source": [
    "test_DF.dropna(inplace=True)"
   ]
  },
  {
   "cell_type": "code",
   "execution_count": 588,
   "metadata": {
    "collapsed": true
   },
   "outputs": [],
   "source": [
    "X = test_DF.iloc[:,1:22]\n",
    "y = test_DF.iloc[:,0]"
   ]
  },
  {
   "cell_type": "code",
   "execution_count": 589,
   "metadata": {
    "collapsed": true
   },
   "outputs": [],
   "source": [
    "pca = PCA(n_components=20)\n",
    "principalComponents = pca.fit_transform(X)"
   ]
  },
  {
   "cell_type": "code",
   "execution_count": 590,
   "metadata": {},
   "outputs": [
    {
     "data": {
      "text/plain": [
       "(29413, 20)"
      ]
     },
     "execution_count": 590,
     "metadata": {},
     "output_type": "execute_result"
    }
   ],
   "source": [
    "principalDf = pd.DataFrame(data = principalComponents)\n",
    "principalDf.shape"
   ]
  },
  {
   "cell_type": "code",
   "execution_count": 591,
   "metadata": {
    "collapsed": true
   },
   "outputs": [],
   "source": [
    "finalDf = pd.concat([principalDf, y], axis = 1)"
   ]
  },
  {
   "cell_type": "code",
   "execution_count": 592,
   "metadata": {
    "collapsed": true
   },
   "outputs": [],
   "source": [
    "X = finalDf.iloc[:,0:20]\n",
    "y = finalDf.iloc[:,20:21]"
   ]
  },
  {
   "cell_type": "code",
   "execution_count": 593,
   "metadata": {},
   "outputs": [
    {
     "data": {
      "text/plain": [
       "(29413, 21)"
      ]
     },
     "execution_count": 593,
     "metadata": {},
     "output_type": "execute_result"
    }
   ],
   "source": [
    "finalDf.shape"
   ]
  },
  {
   "cell_type": "code",
   "execution_count": 594,
   "metadata": {},
   "outputs": [
    {
     "data": {
      "text/plain": [
       "(29413,)"
      ]
     },
     "execution_count": 594,
     "metadata": {},
     "output_type": "execute_result"
    }
   ],
   "source": [
    "pred_test = logisticRegr.predict(X)\n",
    "pred_test.shape"
   ]
  },
  {
   "cell_type": "code",
   "execution_count": 595,
   "metadata": {},
   "outputs": [
    {
     "data": {
      "text/plain": [
       "array([[ 4562,  9304],\n",
       "       [ 4359, 11188]], dtype=int64)"
      ]
     },
     "execution_count": 595,
     "metadata": {},
     "output_type": "execute_result"
    }
   ],
   "source": [
    "cnf_matrix = metrics.confusion_matrix(y, pred_test)\n",
    "cnf_matrix"
   ]
  },
  {
   "cell_type": "markdown",
   "metadata": {},
   "source": [
    "# <font color=green>Confusion Matrix Evaluation Metrics for Test data</font>"
   ]
  },
  {
   "cell_type": "code",
   "execution_count": 596,
   "metadata": {},
   "outputs": [
    {
     "data": {
      "text/plain": [
       "Text(0.5,257.44,'Predicted Label')"
      ]
     },
     "execution_count": 596,
     "metadata": {},
     "output_type": "execute_result"
    },
    {
     "data": {
      "image/png": "[encoded data removed]",
      "text/plain": [
       "<Figure size 432x288 with 2 Axes>"
      ]
     },
     "metadata": {},
     "output_type": "display_data"
    }
   ],
   "source": [
    "class_names = [0,1]\n",
    "fig, ax = plt.subplots()\n",
    "tick_marks = np.arange(len(class_names))\n",
    "plt.xticks(tick_marks, class_names)\n",
    "plt.yticks(tick_marks, class_names)\n",
    "\n",
    "#create heatmap\n",
    "sns.heatmap(pd.DataFrame(cnf_matrix), annot=True, cmap=\"YlGnBu\", fmt='g')\n",
    "ax.xaxis.set_label_position(\"top\")\n",
    "plt.tight_layout()\n",
    "plt.title('Confusion matrix for Test Data', y=1.1)\n",
    "plt.ylabel('Actual Label')\n",
    "plt.xlabel('Predicted Label')"
   ]
  },
  {
   "cell_type": "code",
   "execution_count": 597,
   "metadata": {},
   "outputs": [
    {
     "name": "stdout",
     "output_type": "stream",
     "text": [
      "Accuracy :  0.5354775099445823\n",
      "Precision :  0.5459691586960765\n",
      "Recall :  0.7196243648292275\n"
     ]
    }
   ],
   "source": [
    "print('Accuracy : ', metrics.accuracy_score(y, pred_test))\n",
    "print('Precision : ', metrics.precision_score(y, pred_test))\n",
    "print('Recall : ', metrics.recall_score(y, pred_test))"
   ]
  },
  {
   "cell_type": "markdown",
   "metadata": {},
   "source": [
    "# <font color=green>ROC Curve of Test Data</font>"
   ]
  },
  {
   "cell_type": "code",
   "execution_count": 598,
   "metadata": {},
   "outputs": [
    {
     "data": {
      "image/png": "[encoded data removed]",
      "text/plain": [
       "<Figure size 432x288 with 1 Axes>"
      ]
     },
     "metadata": {},
     "output_type": "display_data"
    }
   ],
   "source": [
    "y_pred_proba = logisticRegr.predict_proba(X)[::,1]\n",
    "fpr, tpr, _ = metrics.roc_curve(y, y_pred_proba)\n",
    "auc = metrics.roc_auc_score(y, y_pred_proba)\n",
    "plt.plot(fpr, tpr, label=\"data 1, auc=\"+str(auc))\n",
    "plt.legend(loc=4)\n",
    "plt.show()"
   ]
  },
  {
   "cell_type": "markdown",
   "metadata": {},
   "source": [
    "# Building Model on the high-level features derived by physicists to help discriminate between the two classes\n",
    "# i.e. features/columns : ['m_jj','m_jjj','m_lv','m_jlv','m_bb','m_wbb','m_wwbb']"
   ]
  },
  {
   "cell_type": "code",
   "execution_count": 4,
   "metadata": {
    "collapsed": true
   },
   "outputs": [],
   "source": [
    "train_DF_2 = pd.read_csv(\"CSE7302c_train-1539668060821.csv\",sep=',')"
   ]
  },
  {
   "cell_type": "code",
   "execution_count": 11,
   "metadata": {
    "collapsed": true
   },
   "outputs": [],
   "source": [
    "train_DF_Selected = train_DF_2.loc[:,['class','m_jj','m_jjj','m_lv','m_jlv','m_bb','m_wbb','m_wwbb']]"
   ]
  },
  {
   "cell_type": "code",
   "execution_count": 12,
   "metadata": {},
   "outputs": [
    {
     "data": {
      "text/plain": [
       "(68636, 8)"
      ]
     },
     "execution_count": 12,
     "metadata": {},
     "output_type": "execute_result"
    }
   ],
   "source": [
    "train_DF_Selected.shape"
   ]
  },
  {
   "cell_type": "code",
   "execution_count": 13,
   "metadata": {},
   "outputs": [
    {
     "data": {
      "text/html": [
       "<div>\n",
       "<style scoped>\n",
       "    .dataframe tbody tr th:only-of-type {\n",
       "        vertical-align: middle;\n",
       "    }\n",
       "\n",
       "    .dataframe tbody tr th {\n",
       "        vertical-align: top;\n",
       "    }\n",
       "\n",
       "    .dataframe thead th {\n",
       "        text-align: right;\n",
       "    }\n",
       "</style>\n",
       "<table border=\"1\" class=\"dataframe\">\n",
       "  <thead>\n",
       "    <tr style=\"text-align: right;\">\n",
       "      <th></th>\n",
       "      <th>class</th>\n",
       "      <th>m_jj</th>\n",
       "      <th>m_jjj</th>\n",
       "      <th>m_lv</th>\n",
       "      <th>m_jlv</th>\n",
       "      <th>m_bb</th>\n",
       "      <th>m_wbb</th>\n",
       "      <th>m_wwbb</th>\n",
       "    </tr>\n",
       "  </thead>\n",
       "  <tbody>\n",
       "    <tr>\n",
       "      <th>0</th>\n",
       "      <td>1</td>\n",
       "      <td>0.302220</td>\n",
       "      <td>0.833048</td>\n",
       "      <td>0.985700</td>\n",
       "      <td>0.978098</td>\n",
       "      <td>0.779732</td>\n",
       "      <td>0.992356</td>\n",
       "      <td>0.798343</td>\n",
       "    </tr>\n",
       "    <tr>\n",
       "      <th>1</th>\n",
       "      <td>1</td>\n",
       "      <td>0.909753</td>\n",
       "      <td>1.108330</td>\n",
       "      <td>0.985692</td>\n",
       "      <td>0.951331</td>\n",
       "      <td>0.803252</td>\n",
       "      <td>0.865924</td>\n",
       "      <td>0.780118</td>\n",
       "    </tr>\n",
       "    <tr>\n",
       "      <th>2</th>\n",
       "      <td>0</td>\n",
       "      <td>0.946652</td>\n",
       "      <td>1.028704</td>\n",
       "      <td>0.998656</td>\n",
       "      <td>0.728281</td>\n",
       "      <td>0.869200</td>\n",
       "      <td>1.026736</td>\n",
       "      <td>0.957904</td>\n",
       "    </tr>\n",
       "    <tr>\n",
       "      <th>3</th>\n",
       "      <td>0</td>\n",
       "      <td>0.823761</td>\n",
       "      <td>0.938191</td>\n",
       "      <td>0.971758</td>\n",
       "      <td>0.789176</td>\n",
       "      <td>0.430553</td>\n",
       "      <td>0.961357</td>\n",
       "      <td>0.957818</td>\n",
       "    </tr>\n",
       "    <tr>\n",
       "      <th>4</th>\n",
       "      <td>1</td>\n",
       "      <td>0.869418</td>\n",
       "      <td>1.222083</td>\n",
       "      <td>1.000627</td>\n",
       "      <td>0.545045</td>\n",
       "      <td>0.698653</td>\n",
       "      <td>0.977314</td>\n",
       "      <td>0.828786</td>\n",
       "    </tr>\n",
       "  </tbody>\n",
       "</table>\n",
       "</div>"
      ],
      "text/plain": [
       "   class      m_jj     m_jjj      m_lv     m_jlv      m_bb     m_wbb    m_wwbb\n",
       "0      1  0.302220  0.833048  0.985700  0.978098  0.779732  0.992356  0.798343\n",
       "1      1  0.909753  1.108330  0.985692  0.951331  0.803252  0.865924  0.780118\n",
       "2      0  0.946652  1.028704  0.998656  0.728281  0.869200  1.026736  0.957904\n",
       "3      0  0.823761  0.938191  0.971758  0.789176  0.430553  0.961357  0.957818\n",
       "4      1  0.869418  1.222083  1.000627  0.545045  0.698653  0.977314  0.828786"
      ]
     },
     "execution_count": 13,
     "metadata": {},
     "output_type": "execute_result"
    }
   ],
   "source": [
    "train_DF_Selected.head()"
   ]
  },
  {
   "cell_type": "code",
   "execution_count": 15,
   "metadata": {
    "collapsed": true
   },
   "outputs": [],
   "source": [
    "    train_DF_Selected['class'] = train_DF_Selected['class'].astype('category')"
   ]
  },
  {
   "cell_type": "code",
   "execution_count": 17,
   "metadata": {},
   "outputs": [
    {
     "data": {
      "text/html": [
       "<div>\n",
       "<style scoped>\n",
       "    .dataframe tbody tr th:only-of-type {\n",
       "        vertical-align: middle;\n",
       "    }\n",
       "\n",
       "    .dataframe tbody tr th {\n",
       "        vertical-align: top;\n",
       "    }\n",
       "\n",
       "    .dataframe thead th {\n",
       "        text-align: right;\n",
       "    }\n",
       "</style>\n",
       "<table border=\"1\" class=\"dataframe\">\n",
       "  <thead>\n",
       "    <tr style=\"text-align: right;\">\n",
       "      <th></th>\n",
       "      <th>m_jj</th>\n",
       "      <th>m_jjj</th>\n",
       "      <th>m_lv</th>\n",
       "      <th>m_jlv</th>\n",
       "      <th>m_bb</th>\n",
       "      <th>m_wbb</th>\n",
       "      <th>m_wwbb</th>\n",
       "    </tr>\n",
       "  </thead>\n",
       "  <tbody>\n",
       "    <tr>\n",
       "      <th>count</th>\n",
       "      <td>68636.000000</td>\n",
       "      <td>68636.000000</td>\n",
       "      <td>68636.000000</td>\n",
       "      <td>68636.000000</td>\n",
       "      <td>68636.000000</td>\n",
       "      <td>68636.000000</td>\n",
       "      <td>68636.000000</td>\n",
       "    </tr>\n",
       "    <tr>\n",
       "      <th>mean</th>\n",
       "      <td>1.031975</td>\n",
       "      <td>1.022349</td>\n",
       "      <td>1.050091</td>\n",
       "      <td>1.010198</td>\n",
       "      <td>0.972071</td>\n",
       "      <td>1.031742</td>\n",
       "      <td>0.959118</td>\n",
       "    </tr>\n",
       "    <tr>\n",
       "      <th>std</th>\n",
       "      <td>0.648727</td>\n",
       "      <td>0.369765</td>\n",
       "      <td>0.166135</td>\n",
       "      <td>0.399576</td>\n",
       "      <td>0.521868</td>\n",
       "      <td>0.363594</td>\n",
       "      <td>0.313324</td>\n",
       "    </tr>\n",
       "    <tr>\n",
       "      <th>min</th>\n",
       "      <td>0.110875</td>\n",
       "      <td>0.310499</td>\n",
       "      <td>0.133012</td>\n",
       "      <td>0.295983</td>\n",
       "      <td>0.048125</td>\n",
       "      <td>0.362572</td>\n",
       "      <td>0.403166</td>\n",
       "    </tr>\n",
       "    <tr>\n",
       "      <th>25%</th>\n",
       "      <td>0.791868</td>\n",
       "      <td>0.846218</td>\n",
       "      <td>0.985762</td>\n",
       "      <td>0.766271</td>\n",
       "      <td>0.671995</td>\n",
       "      <td>0.819659</td>\n",
       "      <td>0.770090</td>\n",
       "    </tr>\n",
       "    <tr>\n",
       "      <th>50%</th>\n",
       "      <td>0.896056</td>\n",
       "      <td>0.950510</td>\n",
       "      <td>0.989726</td>\n",
       "      <td>0.916662</td>\n",
       "      <td>0.873269</td>\n",
       "      <td>0.947334</td>\n",
       "      <td>0.871402</td>\n",
       "    </tr>\n",
       "    <tr>\n",
       "      <th>75%</th>\n",
       "      <td>1.026683</td>\n",
       "      <td>1.083862</td>\n",
       "      <td>1.020199</td>\n",
       "      <td>1.141150</td>\n",
       "      <td>1.138059</td>\n",
       "      <td>1.138514</td>\n",
       "      <td>1.056399</td>\n",
       "    </tr>\n",
       "    <tr>\n",
       "      <th>max</th>\n",
       "      <td>16.131908</td>\n",
       "      <td>8.940148</td>\n",
       "      <td>4.565248</td>\n",
       "      <td>7.442589</td>\n",
       "      <td>8.407887</td>\n",
       "      <td>7.318191</td>\n",
       "      <td>6.015647</td>\n",
       "    </tr>\n",
       "  </tbody>\n",
       "</table>\n",
       "</div>"
      ],
      "text/plain": [
       "               m_jj         m_jjj          m_lv         m_jlv          m_bb  \\\n",
       "count  68636.000000  68636.000000  68636.000000  68636.000000  68636.000000   \n",
       "mean       1.031975      1.022349      1.050091      1.010198      0.972071   \n",
       "std        0.648727      0.369765      0.166135      0.399576      0.521868   \n",
       "min        0.110875      0.310499      0.133012      0.295983      0.048125   \n",
       "25%        0.791868      0.846218      0.985762      0.766271      0.671995   \n",
       "50%        0.896056      0.950510      0.989726      0.916662      0.873269   \n",
       "75%        1.026683      1.083862      1.020199      1.141150      1.138059   \n",
       "max       16.131908      8.940148      4.565248      7.442589      8.407887   \n",
       "\n",
       "              m_wbb        m_wwbb  \n",
       "count  68636.000000  68636.000000  \n",
       "mean       1.031742      0.959118  \n",
       "std        0.363594      0.313324  \n",
       "min        0.362572      0.403166  \n",
       "25%        0.819659      0.770090  \n",
       "50%        0.947334      0.871402  \n",
       "75%        1.138514      1.056399  \n",
       "max        7.318191      6.015647  "
      ]
     },
     "execution_count": 17,
     "metadata": {},
     "output_type": "execute_result"
    }
   ],
   "source": [
    "train_DF_Selected.describe()"
   ]
  },
  {
   "cell_type": "code",
   "execution_count": 18,
   "metadata": {},
   "outputs": [
    {
     "data": {
      "text/plain": [
       "class     category\n",
       "m_jj       float64\n",
       "m_jjj      float64\n",
       "m_lv       float64\n",
       "m_jlv      float64\n",
       "m_bb       float64\n",
       "m_wbb      float64\n",
       "m_wwbb     float64\n",
       "dtype: object"
      ]
     },
     "execution_count": 18,
     "metadata": {},
     "output_type": "execute_result"
    }
   ],
   "source": [
    "train_DF_Selected.dtypes"
   ]
  },
  {
   "cell_type": "code",
   "execution_count": 19,
   "metadata": {},
   "outputs": [
    {
     "data": {
      "image/png": "[encoded data removed]",
      "text/plain": [
       "<Figure size 432x288 with 1 Axes>"
      ]
     },
     "metadata": {},
     "output_type": "display_data"
    }
   ],
   "source": [
    "sns.countplot(x=train_DF_Selected['class'], data=train_DF_Selected, palette='hls')\n",
    "plt.show()"
   ]
  },
  {
   "cell_type": "code",
   "execution_count": 20,
   "metadata": {},
   "outputs": [
    {
     "data": {
      "image/png": "[encoded data removed]",
      "text/plain": [
       "<Figure size 432x288 with 2 Axes>"
      ]
     },
     "metadata": {},
     "output_type": "display_data"
    }
   ],
   "source": [
    "sns.heatmap(train_DF_Selected.corr())\n",
    "plt.show()"
   ]
  },
  {
   "cell_type": "code",
   "execution_count": 23,
   "metadata": {
    "collapsed": true
   },
   "outputs": [],
   "source": [
    "X = train_DF_Selected.iloc[:,1:8]\n",
    "y = train_DF_Selected.iloc[:,0]"
   ]
  },
  {
   "cell_type": "code",
   "execution_count": 24,
   "metadata": {},
   "outputs": [
    {
     "data": {
      "text/html": [
       "<div>\n",
       "<style scoped>\n",
       "    .dataframe tbody tr th:only-of-type {\n",
       "        vertical-align: middle;\n",
       "    }\n",
       "\n",
       "    .dataframe tbody tr th {\n",
       "        vertical-align: top;\n",
       "    }\n",
       "\n",
       "    .dataframe thead th {\n",
       "        text-align: right;\n",
       "    }\n",
       "</style>\n",
       "<table border=\"1\" class=\"dataframe\">\n",
       "  <thead>\n",
       "    <tr style=\"text-align: right;\">\n",
       "      <th></th>\n",
       "      <th>m_jj</th>\n",
       "      <th>m_jjj</th>\n",
       "      <th>m_lv</th>\n",
       "      <th>m_jlv</th>\n",
       "      <th>m_bb</th>\n",
       "      <th>m_wbb</th>\n",
       "      <th>m_wwbb</th>\n",
       "    </tr>\n",
       "  </thead>\n",
       "  <tbody>\n",
       "    <tr>\n",
       "      <th>0</th>\n",
       "      <td>0.302220</td>\n",
       "      <td>0.833048</td>\n",
       "      <td>0.985700</td>\n",
       "      <td>0.978098</td>\n",
       "      <td>0.779732</td>\n",
       "      <td>0.992356</td>\n",
       "      <td>0.798343</td>\n",
       "    </tr>\n",
       "    <tr>\n",
       "      <th>1</th>\n",
       "      <td>0.909753</td>\n",
       "      <td>1.108330</td>\n",
       "      <td>0.985692</td>\n",
       "      <td>0.951331</td>\n",
       "      <td>0.803252</td>\n",
       "      <td>0.865924</td>\n",
       "      <td>0.780118</td>\n",
       "    </tr>\n",
       "    <tr>\n",
       "      <th>2</th>\n",
       "      <td>0.946652</td>\n",
       "      <td>1.028704</td>\n",
       "      <td>0.998656</td>\n",
       "      <td>0.728281</td>\n",
       "      <td>0.869200</td>\n",
       "      <td>1.026736</td>\n",
       "      <td>0.957904</td>\n",
       "    </tr>\n",
       "    <tr>\n",
       "      <th>3</th>\n",
       "      <td>0.823761</td>\n",
       "      <td>0.938191</td>\n",
       "      <td>0.971758</td>\n",
       "      <td>0.789176</td>\n",
       "      <td>0.430553</td>\n",
       "      <td>0.961357</td>\n",
       "      <td>0.957818</td>\n",
       "    </tr>\n",
       "    <tr>\n",
       "      <th>4</th>\n",
       "      <td>0.869418</td>\n",
       "      <td>1.222083</td>\n",
       "      <td>1.000627</td>\n",
       "      <td>0.545045</td>\n",
       "      <td>0.698653</td>\n",
       "      <td>0.977314</td>\n",
       "      <td>0.828786</td>\n",
       "    </tr>\n",
       "  </tbody>\n",
       "</table>\n",
       "</div>"
      ],
      "text/plain": [
       "       m_jj     m_jjj      m_lv     m_jlv      m_bb     m_wbb    m_wwbb\n",
       "0  0.302220  0.833048  0.985700  0.978098  0.779732  0.992356  0.798343\n",
       "1  0.909753  1.108330  0.985692  0.951331  0.803252  0.865924  0.780118\n",
       "2  0.946652  1.028704  0.998656  0.728281  0.869200  1.026736  0.957904\n",
       "3  0.823761  0.938191  0.971758  0.789176  0.430553  0.961357  0.957818\n",
       "4  0.869418  1.222083  1.000627  0.545045  0.698653  0.977314  0.828786"
      ]
     },
     "execution_count": 24,
     "metadata": {},
     "output_type": "execute_result"
    }
   ],
   "source": [
    "X.head()"
   ]
  },
  {
   "cell_type": "code",
   "execution_count": 31,
   "metadata": {
    "collapsed": true
   },
   "outputs": [],
   "source": [
    "from sklearn.decomposition import PCA\n",
    "pca = PCA(n_components=7)\n",
    "principalComponents = pca.fit_transform(X)"
   ]
  },
  {
   "cell_type": "code",
   "execution_count": 32,
   "metadata": {},
   "outputs": [
    {
     "data": {
      "text/plain": [
       "(68636, 7)"
      ]
     },
     "execution_count": 32,
     "metadata": {},
     "output_type": "execute_result"
    }
   ],
   "source": [
    "principalComponents.shape"
   ]
  },
  {
   "cell_type": "code",
   "execution_count": 33,
   "metadata": {},
   "outputs": [
    {
     "data": {
      "text/plain": [
       "array([50.30214267, 28.2206785 , 11.45967435,  4.89610937,  2.25080465,\n",
       "        2.08209257,  0.7884979 ])"
      ]
     },
     "execution_count": 33,
     "metadata": {},
     "output_type": "execute_result"
    }
   ],
   "source": [
    "pca.explained_variance_ratio_*100"
   ]
  },
  {
   "cell_type": "code",
   "execution_count": 34,
   "metadata": {},
   "outputs": [
    {
     "data": {
      "text/plain": [
       "array([ 50.3 ,  78.52,  89.98,  94.88,  97.13,  99.21, 100.  ])"
      ]
     },
     "execution_count": 34,
     "metadata": {},
     "output_type": "execute_result"
    }
   ],
   "source": [
    "var = pca.explained_variance_ratio_\n",
    "var1 = np.cumsum(np.round(pca.explained_variance_ratio_, decimals=4)*100)\n",
    "var1"
   ]
  },
  {
   "cell_type": "code",
   "execution_count": 35,
   "metadata": {},
   "outputs": [
    {
     "data": {
      "text/plain": [
       "(68636, 7)"
      ]
     },
     "execution_count": 35,
     "metadata": {},
     "output_type": "execute_result"
    }
   ],
   "source": [
    "principalDf = pd.DataFrame(data = principalComponents)\n",
    "principalDf.shape"
   ]
  },
  {
   "cell_type": "code",
   "execution_count": 36,
   "metadata": {
    "scrolled": true
   },
   "outputs": [
    {
     "data": {
      "text/html": [
       "<div>\n",
       "<style scoped>\n",
       "    .dataframe tbody tr th:only-of-type {\n",
       "        vertical-align: middle;\n",
       "    }\n",
       "\n",
       "    .dataframe tbody tr th {\n",
       "        vertical-align: top;\n",
       "    }\n",
       "\n",
       "    .dataframe thead th {\n",
       "        text-align: right;\n",
       "    }\n",
       "</style>\n",
       "<table border=\"1\" class=\"dataframe\">\n",
       "  <thead>\n",
       "    <tr style=\"text-align: right;\">\n",
       "      <th></th>\n",
       "      <th>0</th>\n",
       "      <th>1</th>\n",
       "      <th>2</th>\n",
       "      <th>3</th>\n",
       "      <th>4</th>\n",
       "      <th>5</th>\n",
       "      <th>6</th>\n",
       "    </tr>\n",
       "  </thead>\n",
       "  <tbody>\n",
       "    <tr>\n",
       "      <th>0</th>\n",
       "      <td>-0.715953</td>\n",
       "      <td>0.186832</td>\n",
       "      <td>0.160752</td>\n",
       "      <td>0.212393</td>\n",
       "      <td>0.003126</td>\n",
       "      <td>-0.093423</td>\n",
       "      <td>-0.103746</td>\n",
       "    </tr>\n",
       "    <tr>\n",
       "      <th>1</th>\n",
       "      <td>-0.221549</td>\n",
       "      <td>-0.174827</td>\n",
       "      <td>-0.006224</td>\n",
       "      <td>0.024045</td>\n",
       "      <td>0.083863</td>\n",
       "      <td>-0.175162</td>\n",
       "      <td>-0.000423</td>\n",
       "    </tr>\n",
       "    <tr>\n",
       "      <th>2</th>\n",
       "      <td>-0.142700</td>\n",
       "      <td>-0.130654</td>\n",
       "      <td>-0.145649</td>\n",
       "      <td>0.188602</td>\n",
       "      <td>-0.068445</td>\n",
       "      <td>0.027804</td>\n",
       "      <td>-0.019389</td>\n",
       "    </tr>\n",
       "    <tr>\n",
       "      <th>3</th>\n",
       "      <td>-0.384483</td>\n",
       "      <td>-0.374452</td>\n",
       "      <td>0.166392</td>\n",
       "      <td>0.266487</td>\n",
       "      <td>-0.123513</td>\n",
       "      <td>0.034700</td>\n",
       "      <td>-0.020428</td>\n",
       "    </tr>\n",
       "    <tr>\n",
       "      <th>4</th>\n",
       "      <td>-0.256271</td>\n",
       "      <td>-0.341935</td>\n",
       "      <td>-0.228057</td>\n",
       "      <td>0.360436</td>\n",
       "      <td>0.060549</td>\n",
       "      <td>-0.082050</td>\n",
       "      <td>-0.070153</td>\n",
       "    </tr>\n",
       "    <tr>\n",
       "      <th>5</th>\n",
       "      <td>-0.251050</td>\n",
       "      <td>-0.183779</td>\n",
       "      <td>-0.152828</td>\n",
       "      <td>0.085273</td>\n",
       "      <td>0.040527</td>\n",
       "      <td>-0.122221</td>\n",
       "      <td>-0.032281</td>\n",
       "    </tr>\n",
       "    <tr>\n",
       "      <th>6</th>\n",
       "      <td>3.265277</td>\n",
       "      <td>0.744556</td>\n",
       "      <td>0.114323</td>\n",
       "      <td>2.704598</td>\n",
       "      <td>0.715519</td>\n",
       "      <td>-0.401985</td>\n",
       "      <td>-0.264453</td>\n",
       "    </tr>\n",
       "    <tr>\n",
       "      <th>7</th>\n",
       "      <td>-0.392686</td>\n",
       "      <td>-0.186081</td>\n",
       "      <td>-0.024245</td>\n",
       "      <td>-0.031296</td>\n",
       "      <td>0.055427</td>\n",
       "      <td>-0.133790</td>\n",
       "      <td>0.004877</td>\n",
       "    </tr>\n",
       "    <tr>\n",
       "      <th>8</th>\n",
       "      <td>-0.222831</td>\n",
       "      <td>-0.007545</td>\n",
       "      <td>-0.579160</td>\n",
       "      <td>0.004543</td>\n",
       "      <td>0.006564</td>\n",
       "      <td>-0.055819</td>\n",
       "      <td>0.025620</td>\n",
       "    </tr>\n",
       "    <tr>\n",
       "      <th>9</th>\n",
       "      <td>-0.533368</td>\n",
       "      <td>0.227389</td>\n",
       "      <td>0.389640</td>\n",
       "      <td>-0.118210</td>\n",
       "      <td>-0.012421</td>\n",
       "      <td>-0.124506</td>\n",
       "      <td>-0.078946</td>\n",
       "    </tr>\n",
       "    <tr>\n",
       "      <th>10</th>\n",
       "      <td>-0.094998</td>\n",
       "      <td>0.167206</td>\n",
       "      <td>0.322749</td>\n",
       "      <td>-0.236390</td>\n",
       "      <td>0.017745</td>\n",
       "      <td>-0.027616</td>\n",
       "      <td>-0.021260</td>\n",
       "    </tr>\n",
       "    <tr>\n",
       "      <th>11</th>\n",
       "      <td>-0.734567</td>\n",
       "      <td>-0.529110</td>\n",
       "      <td>0.057589</td>\n",
       "      <td>0.146627</td>\n",
       "      <td>0.025262</td>\n",
       "      <td>0.051538</td>\n",
       "      <td>0.143719</td>\n",
       "    </tr>\n",
       "    <tr>\n",
       "      <th>12</th>\n",
       "      <td>-0.040511</td>\n",
       "      <td>-1.135047</td>\n",
       "      <td>0.061108</td>\n",
       "      <td>-0.213288</td>\n",
       "      <td>-0.110488</td>\n",
       "      <td>0.018538</td>\n",
       "      <td>0.071437</td>\n",
       "    </tr>\n",
       "    <tr>\n",
       "      <th>13</th>\n",
       "      <td>-0.134898</td>\n",
       "      <td>-0.058764</td>\n",
       "      <td>0.234956</td>\n",
       "      <td>0.199996</td>\n",
       "      <td>-0.307022</td>\n",
       "      <td>0.436520</td>\n",
       "      <td>0.038986</td>\n",
       "    </tr>\n",
       "    <tr>\n",
       "      <th>14</th>\n",
       "      <td>-0.078198</td>\n",
       "      <td>0.236229</td>\n",
       "      <td>0.148143</td>\n",
       "      <td>-0.175032</td>\n",
       "      <td>0.064749</td>\n",
       "      <td>0.002609</td>\n",
       "      <td>-0.005420</td>\n",
       "    </tr>\n",
       "    <tr>\n",
       "      <th>15</th>\n",
       "      <td>0.702359</td>\n",
       "      <td>0.858688</td>\n",
       "      <td>0.180167</td>\n",
       "      <td>0.388012</td>\n",
       "      <td>-0.014903</td>\n",
       "      <td>-0.086339</td>\n",
       "      <td>-0.109548</td>\n",
       "    </tr>\n",
       "    <tr>\n",
       "      <th>16</th>\n",
       "      <td>-0.476167</td>\n",
       "      <td>0.167955</td>\n",
       "      <td>0.332529</td>\n",
       "      <td>-0.246138</td>\n",
       "      <td>-0.144254</td>\n",
       "      <td>0.109934</td>\n",
       "      <td>-0.044114</td>\n",
       "    </tr>\n",
       "    <tr>\n",
       "      <th>17</th>\n",
       "      <td>-0.045021</td>\n",
       "      <td>0.213379</td>\n",
       "      <td>0.389233</td>\n",
       "      <td>-0.041848</td>\n",
       "      <td>-0.102896</td>\n",
       "      <td>-0.042291</td>\n",
       "      <td>-0.102971</td>\n",
       "    </tr>\n",
       "    <tr>\n",
       "      <th>18</th>\n",
       "      <td>1.198988</td>\n",
       "      <td>0.684052</td>\n",
       "      <td>-0.342949</td>\n",
       "      <td>-0.190025</td>\n",
       "      <td>0.010835</td>\n",
       "      <td>-0.116373</td>\n",
       "      <td>-0.052539</td>\n",
       "    </tr>\n",
       "    <tr>\n",
       "      <th>19</th>\n",
       "      <td>-0.167488</td>\n",
       "      <td>-0.105503</td>\n",
       "      <td>0.227322</td>\n",
       "      <td>0.122974</td>\n",
       "      <td>0.432898</td>\n",
       "      <td>0.547093</td>\n",
       "      <td>-0.131059</td>\n",
       "    </tr>\n",
       "    <tr>\n",
       "      <th>20</th>\n",
       "      <td>0.026110</td>\n",
       "      <td>-0.054699</td>\n",
       "      <td>0.113971</td>\n",
       "      <td>-0.022364</td>\n",
       "      <td>0.028836</td>\n",
       "      <td>-0.121409</td>\n",
       "      <td>0.047885</td>\n",
       "    </tr>\n",
       "    <tr>\n",
       "      <th>21</th>\n",
       "      <td>-0.661660</td>\n",
       "      <td>-0.587098</td>\n",
       "      <td>-0.031430</td>\n",
       "      <td>-0.011385</td>\n",
       "      <td>-0.006143</td>\n",
       "      <td>-0.017761</td>\n",
       "      <td>0.008842</td>\n",
       "    </tr>\n",
       "    <tr>\n",
       "      <th>22</th>\n",
       "      <td>-0.014331</td>\n",
       "      <td>-0.495178</td>\n",
       "      <td>-0.086397</td>\n",
       "      <td>-0.106613</td>\n",
       "      <td>-0.042883</td>\n",
       "      <td>-0.024463</td>\n",
       "      <td>0.042227</td>\n",
       "    </tr>\n",
       "    <tr>\n",
       "      <th>23</th>\n",
       "      <td>-0.034354</td>\n",
       "      <td>0.158490</td>\n",
       "      <td>-0.333914</td>\n",
       "      <td>-0.249001</td>\n",
       "      <td>-0.025190</td>\n",
       "      <td>-0.079011</td>\n",
       "      <td>0.066777</td>\n",
       "    </tr>\n",
       "    <tr>\n",
       "      <th>24</th>\n",
       "      <td>1.311845</td>\n",
       "      <td>2.946037</td>\n",
       "      <td>0.328041</td>\n",
       "      <td>-0.607234</td>\n",
       "      <td>0.026388</td>\n",
       "      <td>-0.261353</td>\n",
       "      <td>-0.070678</td>\n",
       "    </tr>\n",
       "    <tr>\n",
       "      <th>25</th>\n",
       "      <td>-0.508786</td>\n",
       "      <td>-0.210485</td>\n",
       "      <td>-0.208953</td>\n",
       "      <td>-0.198013</td>\n",
       "      <td>0.075788</td>\n",
       "      <td>-0.017066</td>\n",
       "      <td>0.021339</td>\n",
       "    </tr>\n",
       "    <tr>\n",
       "      <th>26</th>\n",
       "      <td>1.018021</td>\n",
       "      <td>1.757425</td>\n",
       "      <td>-0.959045</td>\n",
       "      <td>0.264662</td>\n",
       "      <td>0.057507</td>\n",
       "      <td>-0.090274</td>\n",
       "      <td>-0.010508</td>\n",
       "    </tr>\n",
       "    <tr>\n",
       "      <th>27</th>\n",
       "      <td>0.556853</td>\n",
       "      <td>0.499179</td>\n",
       "      <td>-0.376675</td>\n",
       "      <td>0.191245</td>\n",
       "      <td>-0.074024</td>\n",
       "      <td>0.018735</td>\n",
       "      <td>-0.042656</td>\n",
       "    </tr>\n",
       "    <tr>\n",
       "      <th>28</th>\n",
       "      <td>0.171375</td>\n",
       "      <td>-0.065517</td>\n",
       "      <td>0.310971</td>\n",
       "      <td>-0.446116</td>\n",
       "      <td>-0.072216</td>\n",
       "      <td>-0.084239</td>\n",
       "      <td>-0.006111</td>\n",
       "    </tr>\n",
       "    <tr>\n",
       "      <th>29</th>\n",
       "      <td>-0.297809</td>\n",
       "      <td>-0.190164</td>\n",
       "      <td>-0.145918</td>\n",
       "      <td>0.050467</td>\n",
       "      <td>-0.061211</td>\n",
       "      <td>-0.005265</td>\n",
       "      <td>-0.062553</td>\n",
       "    </tr>\n",
       "    <tr>\n",
       "      <th>...</th>\n",
       "      <td>...</td>\n",
       "      <td>...</td>\n",
       "      <td>...</td>\n",
       "      <td>...</td>\n",
       "      <td>...</td>\n",
       "      <td>...</td>\n",
       "      <td>...</td>\n",
       "    </tr>\n",
       "    <tr>\n",
       "      <th>68606</th>\n",
       "      <td>-0.590375</td>\n",
       "      <td>-0.461815</td>\n",
       "      <td>0.372667</td>\n",
       "      <td>-0.145427</td>\n",
       "      <td>-0.076907</td>\n",
       "      <td>0.035162</td>\n",
       "      <td>-0.104101</td>\n",
       "    </tr>\n",
       "    <tr>\n",
       "      <th>68607</th>\n",
       "      <td>-0.166788</td>\n",
       "      <td>0.513443</td>\n",
       "      <td>-0.421594</td>\n",
       "      <td>-0.241260</td>\n",
       "      <td>-0.244104</td>\n",
       "      <td>0.170298</td>\n",
       "      <td>-0.085152</td>\n",
       "    </tr>\n",
       "    <tr>\n",
       "      <th>68608</th>\n",
       "      <td>-0.234362</td>\n",
       "      <td>-0.256246</td>\n",
       "      <td>0.205423</td>\n",
       "      <td>-0.015072</td>\n",
       "      <td>0.212745</td>\n",
       "      <td>0.054207</td>\n",
       "      <td>0.068921</td>\n",
       "    </tr>\n",
       "    <tr>\n",
       "      <th>68609</th>\n",
       "      <td>-0.398414</td>\n",
       "      <td>-0.488368</td>\n",
       "      <td>-0.090462</td>\n",
       "      <td>0.120282</td>\n",
       "      <td>0.044363</td>\n",
       "      <td>-0.095212</td>\n",
       "      <td>0.018352</td>\n",
       "    </tr>\n",
       "    <tr>\n",
       "      <th>68610</th>\n",
       "      <td>-0.694188</td>\n",
       "      <td>-0.227809</td>\n",
       "      <td>-0.086349</td>\n",
       "      <td>0.105787</td>\n",
       "      <td>0.005794</td>\n",
       "      <td>-0.071879</td>\n",
       "      <td>0.052698</td>\n",
       "    </tr>\n",
       "    <tr>\n",
       "      <th>68611</th>\n",
       "      <td>-0.082012</td>\n",
       "      <td>0.387340</td>\n",
       "      <td>-0.467492</td>\n",
       "      <td>-0.174999</td>\n",
       "      <td>0.053085</td>\n",
       "      <td>-0.132101</td>\n",
       "      <td>0.055402</td>\n",
       "    </tr>\n",
       "    <tr>\n",
       "      <th>68612</th>\n",
       "      <td>0.690698</td>\n",
       "      <td>0.535213</td>\n",
       "      <td>-0.707306</td>\n",
       "      <td>-0.052930</td>\n",
       "      <td>0.135204</td>\n",
       "      <td>-0.119192</td>\n",
       "      <td>0.014638</td>\n",
       "    </tr>\n",
       "    <tr>\n",
       "      <th>68613</th>\n",
       "      <td>-0.180040</td>\n",
       "      <td>-0.092040</td>\n",
       "      <td>0.245484</td>\n",
       "      <td>-0.141952</td>\n",
       "      <td>0.237122</td>\n",
       "      <td>0.231531</td>\n",
       "      <td>0.008956</td>\n",
       "    </tr>\n",
       "    <tr>\n",
       "      <th>68614</th>\n",
       "      <td>-0.588744</td>\n",
       "      <td>-0.062787</td>\n",
       "      <td>0.176356</td>\n",
       "      <td>0.119803</td>\n",
       "      <td>0.041185</td>\n",
       "      <td>-0.122240</td>\n",
       "      <td>0.068143</td>\n",
       "    </tr>\n",
       "    <tr>\n",
       "      <th>68615</th>\n",
       "      <td>-0.271184</td>\n",
       "      <td>-0.375127</td>\n",
       "      <td>-0.354499</td>\n",
       "      <td>-0.051848</td>\n",
       "      <td>0.070663</td>\n",
       "      <td>-0.123296</td>\n",
       "      <td>-0.006657</td>\n",
       "    </tr>\n",
       "    <tr>\n",
       "      <th>68616</th>\n",
       "      <td>0.226071</td>\n",
       "      <td>0.273306</td>\n",
       "      <td>-0.079575</td>\n",
       "      <td>-0.358251</td>\n",
       "      <td>-0.037948</td>\n",
       "      <td>-0.099792</td>\n",
       "      <td>0.028854</td>\n",
       "    </tr>\n",
       "    <tr>\n",
       "      <th>68617</th>\n",
       "      <td>0.371449</td>\n",
       "      <td>0.708313</td>\n",
       "      <td>-0.351773</td>\n",
       "      <td>-0.345597</td>\n",
       "      <td>-0.109661</td>\n",
       "      <td>0.008460</td>\n",
       "      <td>0.027313</td>\n",
       "    </tr>\n",
       "    <tr>\n",
       "      <th>68618</th>\n",
       "      <td>0.911949</td>\n",
       "      <td>-0.363944</td>\n",
       "      <td>0.438878</td>\n",
       "      <td>-0.124378</td>\n",
       "      <td>0.309163</td>\n",
       "      <td>0.236445</td>\n",
       "      <td>0.012835</td>\n",
       "    </tr>\n",
       "    <tr>\n",
       "      <th>68619</th>\n",
       "      <td>-0.264114</td>\n",
       "      <td>0.137398</td>\n",
       "      <td>0.318199</td>\n",
       "      <td>-0.166111</td>\n",
       "      <td>-0.059837</td>\n",
       "      <td>-0.084362</td>\n",
       "      <td>-0.049545</td>\n",
       "    </tr>\n",
       "    <tr>\n",
       "      <th>68620</th>\n",
       "      <td>-0.537682</td>\n",
       "      <td>-0.043159</td>\n",
       "      <td>-0.059118</td>\n",
       "      <td>-0.116409</td>\n",
       "      <td>0.012143</td>\n",
       "      <td>0.076648</td>\n",
       "      <td>-0.094817</td>\n",
       "    </tr>\n",
       "    <tr>\n",
       "      <th>68621</th>\n",
       "      <td>-0.301876</td>\n",
       "      <td>0.089966</td>\n",
       "      <td>-0.310228</td>\n",
       "      <td>-0.279895</td>\n",
       "      <td>-0.023922</td>\n",
       "      <td>-0.056366</td>\n",
       "      <td>-0.000979</td>\n",
       "    </tr>\n",
       "    <tr>\n",
       "      <th>68622</th>\n",
       "      <td>2.136069</td>\n",
       "      <td>-0.783271</td>\n",
       "      <td>0.133953</td>\n",
       "      <td>-0.590664</td>\n",
       "      <td>-0.015176</td>\n",
       "      <td>-0.125801</td>\n",
       "      <td>0.117336</td>\n",
       "    </tr>\n",
       "    <tr>\n",
       "      <th>68623</th>\n",
       "      <td>-0.031311</td>\n",
       "      <td>-0.084528</td>\n",
       "      <td>0.059711</td>\n",
       "      <td>0.049658</td>\n",
       "      <td>0.112345</td>\n",
       "      <td>0.082027</td>\n",
       "      <td>-0.035145</td>\n",
       "    </tr>\n",
       "    <tr>\n",
       "      <th>68624</th>\n",
       "      <td>-0.182536</td>\n",
       "      <td>-0.070435</td>\n",
       "      <td>0.577149</td>\n",
       "      <td>-0.175849</td>\n",
       "      <td>0.123757</td>\n",
       "      <td>0.038790</td>\n",
       "      <td>-0.040728</td>\n",
       "    </tr>\n",
       "    <tr>\n",
       "      <th>68625</th>\n",
       "      <td>-0.353833</td>\n",
       "      <td>-0.603452</td>\n",
       "      <td>-0.012085</td>\n",
       "      <td>0.045044</td>\n",
       "      <td>-0.004821</td>\n",
       "      <td>-0.054253</td>\n",
       "      <td>0.139235</td>\n",
       "    </tr>\n",
       "    <tr>\n",
       "      <th>68626</th>\n",
       "      <td>-0.307816</td>\n",
       "      <td>-0.281581</td>\n",
       "      <td>-0.059858</td>\n",
       "      <td>0.352364</td>\n",
       "      <td>-0.061698</td>\n",
       "      <td>0.023594</td>\n",
       "      <td>-0.035207</td>\n",
       "    </tr>\n",
       "    <tr>\n",
       "      <th>68627</th>\n",
       "      <td>-0.322614</td>\n",
       "      <td>-0.007338</td>\n",
       "      <td>-0.232598</td>\n",
       "      <td>0.127573</td>\n",
       "      <td>-0.063085</td>\n",
       "      <td>0.021486</td>\n",
       "      <td>-0.057052</td>\n",
       "    </tr>\n",
       "    <tr>\n",
       "      <th>68628</th>\n",
       "      <td>1.470573</td>\n",
       "      <td>1.700877</td>\n",
       "      <td>-0.082750</td>\n",
       "      <td>0.296094</td>\n",
       "      <td>0.420364</td>\n",
       "      <td>-0.537725</td>\n",
       "      <td>0.175834</td>\n",
       "    </tr>\n",
       "    <tr>\n",
       "      <th>68629</th>\n",
       "      <td>-0.334018</td>\n",
       "      <td>-0.133451</td>\n",
       "      <td>-0.096066</td>\n",
       "      <td>0.121114</td>\n",
       "      <td>0.063413</td>\n",
       "      <td>-0.148877</td>\n",
       "      <td>-0.034168</td>\n",
       "    </tr>\n",
       "    <tr>\n",
       "      <th>68630</th>\n",
       "      <td>-0.421147</td>\n",
       "      <td>-0.411743</td>\n",
       "      <td>0.076387</td>\n",
       "      <td>0.171181</td>\n",
       "      <td>0.019821</td>\n",
       "      <td>-0.094657</td>\n",
       "      <td>-0.028555</td>\n",
       "    </tr>\n",
       "    <tr>\n",
       "      <th>68631</th>\n",
       "      <td>1.071839</td>\n",
       "      <td>-0.507215</td>\n",
       "      <td>0.414106</td>\n",
       "      <td>0.588367</td>\n",
       "      <td>-0.401311</td>\n",
       "      <td>0.372479</td>\n",
       "      <td>0.412658</td>\n",
       "    </tr>\n",
       "    <tr>\n",
       "      <th>68632</th>\n",
       "      <td>0.742033</td>\n",
       "      <td>-0.629125</td>\n",
       "      <td>-0.239868</td>\n",
       "      <td>-0.236831</td>\n",
       "      <td>-0.031800</td>\n",
       "      <td>-0.057610</td>\n",
       "      <td>0.015904</td>\n",
       "    </tr>\n",
       "    <tr>\n",
       "      <th>68633</th>\n",
       "      <td>0.206104</td>\n",
       "      <td>0.126192</td>\n",
       "      <td>-0.416621</td>\n",
       "      <td>-0.356402</td>\n",
       "      <td>-0.002954</td>\n",
       "      <td>-0.091059</td>\n",
       "      <td>0.022272</td>\n",
       "    </tr>\n",
       "    <tr>\n",
       "      <th>68634</th>\n",
       "      <td>-1.112569</td>\n",
       "      <td>-0.663952</td>\n",
       "      <td>0.170120</td>\n",
       "      <td>0.055966</td>\n",
       "      <td>-0.015633</td>\n",
       "      <td>0.144871</td>\n",
       "      <td>0.119427</td>\n",
       "    </tr>\n",
       "    <tr>\n",
       "      <th>68635</th>\n",
       "      <td>-0.190189</td>\n",
       "      <td>0.149424</td>\n",
       "      <td>0.222516</td>\n",
       "      <td>0.052719</td>\n",
       "      <td>0.029039</td>\n",
       "      <td>-0.137175</td>\n",
       "      <td>-0.080278</td>\n",
       "    </tr>\n",
       "  </tbody>\n",
       "</table>\n",
       "<p>68636 rows × 7 columns</p>\n",
       "</div>"
      ],
      "text/plain": [
       "              0         1         2         3         4         5         6\n",
       "0     -0.715953  0.186832  0.160752  0.212393  0.003126 -0.093423 -0.103746\n",
       "1     -0.221549 -0.174827 -0.006224  0.024045  0.083863 -0.175162 -0.000423\n",
       "2     -0.142700 -0.130654 -0.145649  0.188602 -0.068445  0.027804 -0.019389\n",
       "3     -0.384483 -0.374452  0.166392  0.266487 -0.123513  0.034700 -0.020428\n",
       "4     -0.256271 -0.341935 -0.228057  0.360436  0.060549 -0.082050 -0.070153\n",
       "5     -0.251050 -0.183779 -0.152828  0.085273  0.040527 -0.122221 -0.032281\n",
       "6      3.265277  0.744556  0.114323  2.704598  0.715519 -0.401985 -0.264453\n",
       "7     -0.392686 -0.186081 -0.024245 -0.031296  0.055427 -0.133790  0.004877\n",
       "8     -0.222831 -0.007545 -0.579160  0.004543  0.006564 -0.055819  0.025620\n",
       "9     -0.533368  0.227389  0.389640 -0.118210 -0.012421 -0.124506 -0.078946\n",
       "10    -0.094998  0.167206  0.322749 -0.236390  0.017745 -0.027616 -0.021260\n",
       "11    -0.734567 -0.529110  0.057589  0.146627  0.025262  0.051538  0.143719\n",
       "12    -0.040511 -1.135047  0.061108 -0.213288 -0.110488  0.018538  0.071437\n",
       "13    -0.134898 -0.058764  0.234956  0.199996 -0.307022  0.436520  0.038986\n",
       "14    -0.078198  0.236229  0.148143 -0.175032  0.064749  0.002609 -0.005420\n",
       "15     0.702359  0.858688  0.180167  0.388012 -0.014903 -0.086339 -0.109548\n",
       "16    -0.476167  0.167955  0.332529 -0.246138 -0.144254  0.109934 -0.044114\n",
       "17    -0.045021  0.213379  0.389233 -0.041848 -0.102896 -0.042291 -0.102971\n",
       "18     1.198988  0.684052 -0.342949 -0.190025  0.010835 -0.116373 -0.052539\n",
       "19    -0.167488 -0.105503  0.227322  0.122974  0.432898  0.547093 -0.131059\n",
       "20     0.026110 -0.054699  0.113971 -0.022364  0.028836 -0.121409  0.047885\n",
       "21    -0.661660 -0.587098 -0.031430 -0.011385 -0.006143 -0.017761  0.008842\n",
       "22    -0.014331 -0.495178 -0.086397 -0.106613 -0.042883 -0.024463  0.042227\n",
       "23    -0.034354  0.158490 -0.333914 -0.249001 -0.025190 -0.079011  0.066777\n",
       "24     1.311845  2.946037  0.328041 -0.607234  0.026388 -0.261353 -0.070678\n",
       "25    -0.508786 -0.210485 -0.208953 -0.198013  0.075788 -0.017066  0.021339\n",
       "26     1.018021  1.757425 -0.959045  0.264662  0.057507 -0.090274 -0.010508\n",
       "27     0.556853  0.499179 -0.376675  0.191245 -0.074024  0.018735 -0.042656\n",
       "28     0.171375 -0.065517  0.310971 -0.446116 -0.072216 -0.084239 -0.006111\n",
       "29    -0.297809 -0.190164 -0.145918  0.050467 -0.061211 -0.005265 -0.062553\n",
       "...         ...       ...       ...       ...       ...       ...       ...\n",
       "68606 -0.590375 -0.461815  0.372667 -0.145427 -0.076907  0.035162 -0.104101\n",
       "68607 -0.166788  0.513443 -0.421594 -0.241260 -0.244104  0.170298 -0.085152\n",
       "68608 -0.234362 -0.256246  0.205423 -0.015072  0.212745  0.054207  0.068921\n",
       "68609 -0.398414 -0.488368 -0.090462  0.120282  0.044363 -0.095212  0.018352\n",
       "68610 -0.694188 -0.227809 -0.086349  0.105787  0.005794 -0.071879  0.052698\n",
       "68611 -0.082012  0.387340 -0.467492 -0.174999  0.053085 -0.132101  0.055402\n",
       "68612  0.690698  0.535213 -0.707306 -0.052930  0.135204 -0.119192  0.014638\n",
       "68613 -0.180040 -0.092040  0.245484 -0.141952  0.237122  0.231531  0.008956\n",
       "68614 -0.588744 -0.062787  0.176356  0.119803  0.041185 -0.122240  0.068143\n",
       "68615 -0.271184 -0.375127 -0.354499 -0.051848  0.070663 -0.123296 -0.006657\n",
       "68616  0.226071  0.273306 -0.079575 -0.358251 -0.037948 -0.099792  0.028854\n",
       "68617  0.371449  0.708313 -0.351773 -0.345597 -0.109661  0.008460  0.027313\n",
       "68618  0.911949 -0.363944  0.438878 -0.124378  0.309163  0.236445  0.012835\n",
       "68619 -0.264114  0.137398  0.318199 -0.166111 -0.059837 -0.084362 -0.049545\n",
       "68620 -0.537682 -0.043159 -0.059118 -0.116409  0.012143  0.076648 -0.094817\n",
       "68621 -0.301876  0.089966 -0.310228 -0.279895 -0.023922 -0.056366 -0.000979\n",
       "68622  2.136069 -0.783271  0.133953 -0.590664 -0.015176 -0.125801  0.117336\n",
       "68623 -0.031311 -0.084528  0.059711  0.049658  0.112345  0.082027 -0.035145\n",
       "68624 -0.182536 -0.070435  0.577149 -0.175849  0.123757  0.038790 -0.040728\n",
       "68625 -0.353833 -0.603452 -0.012085  0.045044 -0.004821 -0.054253  0.139235\n",
       "68626 -0.307816 -0.281581 -0.059858  0.352364 -0.061698  0.023594 -0.035207\n",
       "68627 -0.322614 -0.007338 -0.232598  0.127573 -0.063085  0.021486 -0.057052\n",
       "68628  1.470573  1.700877 -0.082750  0.296094  0.420364 -0.537725  0.175834\n",
       "68629 -0.334018 -0.133451 -0.096066  0.121114  0.063413 -0.148877 -0.034168\n",
       "68630 -0.421147 -0.411743  0.076387  0.171181  0.019821 -0.094657 -0.028555\n",
       "68631  1.071839 -0.507215  0.414106  0.588367 -0.401311  0.372479  0.412658\n",
       "68632  0.742033 -0.629125 -0.239868 -0.236831 -0.031800 -0.057610  0.015904\n",
       "68633  0.206104  0.126192 -0.416621 -0.356402 -0.002954 -0.091059  0.022272\n",
       "68634 -1.112569 -0.663952  0.170120  0.055966 -0.015633  0.144871  0.119427\n",
       "68635 -0.190189  0.149424  0.222516  0.052719  0.029039 -0.137175 -0.080278\n",
       "\n",
       "[68636 rows x 7 columns]"
      ]
     },
     "execution_count": 36,
     "metadata": {},
     "output_type": "execute_result"
    }
   ],
   "source": [
    "principalDf"
   ]
  },
  {
   "cell_type": "code",
   "execution_count": 37,
   "metadata": {},
   "outputs": [
    {
     "data": {
      "text/html": [
       "<div>\n",
       "<style scoped>\n",
       "    .dataframe tbody tr th:only-of-type {\n",
       "        vertical-align: middle;\n",
       "    }\n",
       "\n",
       "    .dataframe tbody tr th {\n",
       "        vertical-align: top;\n",
       "    }\n",
       "\n",
       "    .dataframe thead th {\n",
       "        text-align: right;\n",
       "    }\n",
       "</style>\n",
       "<table border=\"1\" class=\"dataframe\">\n",
       "  <thead>\n",
       "    <tr style=\"text-align: right;\">\n",
       "      <th></th>\n",
       "      <th>0</th>\n",
       "      <th>1</th>\n",
       "      <th>2</th>\n",
       "      <th>3</th>\n",
       "      <th>4</th>\n",
       "      <th>5</th>\n",
       "      <th>6</th>\n",
       "      <th>class</th>\n",
       "    </tr>\n",
       "  </thead>\n",
       "  <tbody>\n",
       "    <tr>\n",
       "      <th>0</th>\n",
       "      <td>-0.715953</td>\n",
       "      <td>0.186832</td>\n",
       "      <td>0.160752</td>\n",
       "      <td>0.212393</td>\n",
       "      <td>0.003126</td>\n",
       "      <td>-0.093423</td>\n",
       "      <td>-0.103746</td>\n",
       "      <td>1</td>\n",
       "    </tr>\n",
       "    <tr>\n",
       "      <th>1</th>\n",
       "      <td>-0.221549</td>\n",
       "      <td>-0.174827</td>\n",
       "      <td>-0.006224</td>\n",
       "      <td>0.024045</td>\n",
       "      <td>0.083863</td>\n",
       "      <td>-0.175162</td>\n",
       "      <td>-0.000423</td>\n",
       "      <td>1</td>\n",
       "    </tr>\n",
       "    <tr>\n",
       "      <th>2</th>\n",
       "      <td>-0.142700</td>\n",
       "      <td>-0.130654</td>\n",
       "      <td>-0.145649</td>\n",
       "      <td>0.188602</td>\n",
       "      <td>-0.068445</td>\n",
       "      <td>0.027804</td>\n",
       "      <td>-0.019389</td>\n",
       "      <td>0</td>\n",
       "    </tr>\n",
       "    <tr>\n",
       "      <th>3</th>\n",
       "      <td>-0.384483</td>\n",
       "      <td>-0.374452</td>\n",
       "      <td>0.166392</td>\n",
       "      <td>0.266487</td>\n",
       "      <td>-0.123513</td>\n",
       "      <td>0.034700</td>\n",
       "      <td>-0.020428</td>\n",
       "      <td>0</td>\n",
       "    </tr>\n",
       "    <tr>\n",
       "      <th>4</th>\n",
       "      <td>-0.256271</td>\n",
       "      <td>-0.341935</td>\n",
       "      <td>-0.228057</td>\n",
       "      <td>0.360436</td>\n",
       "      <td>0.060549</td>\n",
       "      <td>-0.082050</td>\n",
       "      <td>-0.070153</td>\n",
       "      <td>1</td>\n",
       "    </tr>\n",
       "  </tbody>\n",
       "</table>\n",
       "</div>"
      ],
      "text/plain": [
       "          0         1         2         3         4         5         6 class\n",
       "0 -0.715953  0.186832  0.160752  0.212393  0.003126 -0.093423 -0.103746     1\n",
       "1 -0.221549 -0.174827 -0.006224  0.024045  0.083863 -0.175162 -0.000423     1\n",
       "2 -0.142700 -0.130654 -0.145649  0.188602 -0.068445  0.027804 -0.019389     0\n",
       "3 -0.384483 -0.374452  0.166392  0.266487 -0.123513  0.034700 -0.020428     0\n",
       "4 -0.256271 -0.341935 -0.228057  0.360436  0.060549 -0.082050 -0.070153     1"
      ]
     },
     "execution_count": 37,
     "metadata": {},
     "output_type": "execute_result"
    }
   ],
   "source": [
    "finalDf = pd.concat([principalDf, y], axis = 1)\n",
    "finalDf.head()"
   ]
  },
  {
   "cell_type": "code",
   "execution_count": 38,
   "metadata": {
    "collapsed": true
   },
   "outputs": [],
   "source": [
    "# Applying LR on PCA\n",
    "from sklearn.linear_model import LogisticRegression\n",
    "logisticRegr = LogisticRegression(random_state=0)"
   ]
  },
  {
   "cell_type": "code",
   "execution_count": 57,
   "metadata": {
    "collapsed": true
   },
   "outputs": [],
   "source": [
    "train_x = finalDf.iloc[:,0:7]\n",
    "train_y = finalDf.iloc[:,7:8]"
   ]
  },
  {
   "cell_type": "code",
   "execution_count": 58,
   "metadata": {},
   "outputs": [
    {
     "data": {
      "text/html": [
       "<div>\n",
       "<style scoped>\n",
       "    .dataframe tbody tr th:only-of-type {\n",
       "        vertical-align: middle;\n",
       "    }\n",
       "\n",
       "    .dataframe tbody tr th {\n",
       "        vertical-align: top;\n",
       "    }\n",
       "\n",
       "    .dataframe thead th {\n",
       "        text-align: right;\n",
       "    }\n",
       "</style>\n",
       "<table border=\"1\" class=\"dataframe\">\n",
       "  <thead>\n",
       "    <tr style=\"text-align: right;\">\n",
       "      <th></th>\n",
       "      <th>0</th>\n",
       "      <th>1</th>\n",
       "      <th>2</th>\n",
       "      <th>3</th>\n",
       "      <th>4</th>\n",
       "      <th>5</th>\n",
       "      <th>6</th>\n",
       "    </tr>\n",
       "  </thead>\n",
       "  <tbody>\n",
       "    <tr>\n",
       "      <th>0</th>\n",
       "      <td>-0.715953</td>\n",
       "      <td>0.186832</td>\n",
       "      <td>0.160752</td>\n",
       "      <td>0.212393</td>\n",
       "      <td>0.003126</td>\n",
       "      <td>-0.093423</td>\n",
       "      <td>-0.103746</td>\n",
       "    </tr>\n",
       "    <tr>\n",
       "      <th>1</th>\n",
       "      <td>-0.221549</td>\n",
       "      <td>-0.174827</td>\n",
       "      <td>-0.006224</td>\n",
       "      <td>0.024045</td>\n",
       "      <td>0.083863</td>\n",
       "      <td>-0.175162</td>\n",
       "      <td>-0.000423</td>\n",
       "    </tr>\n",
       "    <tr>\n",
       "      <th>2</th>\n",
       "      <td>-0.142700</td>\n",
       "      <td>-0.130654</td>\n",
       "      <td>-0.145649</td>\n",
       "      <td>0.188602</td>\n",
       "      <td>-0.068445</td>\n",
       "      <td>0.027804</td>\n",
       "      <td>-0.019389</td>\n",
       "    </tr>\n",
       "    <tr>\n",
       "      <th>3</th>\n",
       "      <td>-0.384483</td>\n",
       "      <td>-0.374452</td>\n",
       "      <td>0.166392</td>\n",
       "      <td>0.266487</td>\n",
       "      <td>-0.123513</td>\n",
       "      <td>0.034700</td>\n",
       "      <td>-0.020428</td>\n",
       "    </tr>\n",
       "    <tr>\n",
       "      <th>4</th>\n",
       "      <td>-0.256271</td>\n",
       "      <td>-0.341935</td>\n",
       "      <td>-0.228057</td>\n",
       "      <td>0.360436</td>\n",
       "      <td>0.060549</td>\n",
       "      <td>-0.082050</td>\n",
       "      <td>-0.070153</td>\n",
       "    </tr>\n",
       "  </tbody>\n",
       "</table>\n",
       "</div>"
      ],
      "text/plain": [
       "          0         1         2         3         4         5         6\n",
       "0 -0.715953  0.186832  0.160752  0.212393  0.003126 -0.093423 -0.103746\n",
       "1 -0.221549 -0.174827 -0.006224  0.024045  0.083863 -0.175162 -0.000423\n",
       "2 -0.142700 -0.130654 -0.145649  0.188602 -0.068445  0.027804 -0.019389\n",
       "3 -0.384483 -0.374452  0.166392  0.266487 -0.123513  0.034700 -0.020428\n",
       "4 -0.256271 -0.341935 -0.228057  0.360436  0.060549 -0.082050 -0.070153"
      ]
     },
     "execution_count": 58,
     "metadata": {},
     "output_type": "execute_result"
    }
   ],
   "source": [
    "train_x.head()"
   ]
  },
  {
   "cell_type": "code",
   "execution_count": 59,
   "metadata": {
    "collapsed": true
   },
   "outputs": [],
   "source": [
    "X_train, X_test, y_train, y_test = train_test_split(train_x, train_y, random_state=0)"
   ]
  },
  {
   "cell_type": "code",
   "execution_count": 60,
   "metadata": {},
   "outputs": [
    {
     "data": {
      "text/html": [
       "<div>\n",
       "<style scoped>\n",
       "    .dataframe tbody tr th:only-of-type {\n",
       "        vertical-align: middle;\n",
       "    }\n",
       "\n",
       "    .dataframe tbody tr th {\n",
       "        vertical-align: top;\n",
       "    }\n",
       "\n",
       "    .dataframe thead th {\n",
       "        text-align: right;\n",
       "    }\n",
       "</style>\n",
       "<table border=\"1\" class=\"dataframe\">\n",
       "  <thead>\n",
       "    <tr style=\"text-align: right;\">\n",
       "      <th></th>\n",
       "      <th>class</th>\n",
       "    </tr>\n",
       "  </thead>\n",
       "  <tbody>\n",
       "    <tr>\n",
       "      <th>22017</th>\n",
       "      <td>0</td>\n",
       "    </tr>\n",
       "    <tr>\n",
       "      <th>21021</th>\n",
       "      <td>1</td>\n",
       "    </tr>\n",
       "    <tr>\n",
       "      <th>15090</th>\n",
       "      <td>1</td>\n",
       "    </tr>\n",
       "    <tr>\n",
       "      <th>47816</th>\n",
       "      <td>1</td>\n",
       "    </tr>\n",
       "    <tr>\n",
       "      <th>63219</th>\n",
       "      <td>1</td>\n",
       "    </tr>\n",
       "  </tbody>\n",
       "</table>\n",
       "</div>"
      ],
      "text/plain": [
       "      class\n",
       "22017     0\n",
       "21021     1\n",
       "15090     1\n",
       "47816     1\n",
       "63219     1"
      ]
     },
     "execution_count": 60,
     "metadata": {},
     "output_type": "execute_result"
    }
   ],
   "source": [
    "y_train.head()"
   ]
  },
  {
   "cell_type": "code",
   "execution_count": 97,
   "metadata": {},
   "outputs": [
    {
     "data": {
      "text/plain": [
       "(17159, 7)"
      ]
     },
     "execution_count": 97,
     "metadata": {},
     "output_type": "execute_result"
    }
   ],
   "source": [
    "X_test.shape"
   ]
  },
  {
   "cell_type": "code",
   "execution_count": 90,
   "metadata": {},
   "outputs": [
    {
     "name": "stderr",
     "output_type": "stream",
     "text": [
      "C:\\Users\\Prateek\\Anaconda3\\lib\\site-packages\\sklearn\\utils\\validation.py:578: DataConversionWarning: A column-vector y was passed when a 1d array was expected. Please change the shape of y to (n_samples, ), for example using ravel().\n",
      "  y = column_or_1d(y, warn=True)\n"
     ]
    }
   ],
   "source": [
    "logIt = logisticRegr.fit(X_train, y_train)"
   ]
  },
  {
   "cell_type": "code",
   "execution_count": 93,
   "metadata": {},
   "outputs": [
    {
     "data": {
      "text/plain": [
       "LogisticRegression(C=1.0, class_weight=None, dual=False, fit_intercept=True,\n",
       "          intercept_scaling=1, max_iter=100, multi_class='ovr', n_jobs=1,\n",
       "          penalty='l2', random_state=0, solver='liblinear', tol=0.0001,\n",
       "          verbose=0, warm_start=False)"
      ]
     },
     "execution_count": 93,
     "metadata": {},
     "output_type": "execute_result"
    }
   ],
   "source": [
    "logIt"
   ]
  },
  {
   "cell_type": "code",
   "execution_count": 62,
   "metadata": {},
   "outputs": [
    {
     "data": {
      "text/plain": [
       "(17159,)"
      ]
     },
     "execution_count": 62,
     "metadata": {},
     "output_type": "execute_result"
    }
   ],
   "source": [
    "pred_test = logisticRegr.predict(X_test)\n",
    "pred_test.shape"
   ]
  },
  {
   "cell_type": "code",
   "execution_count": 94,
   "metadata": {},
   "outputs": [
    {
     "data": {
      "text/plain": [
       "array([1, 0, 0, ..., 1, 0, 0], dtype=int64)"
      ]
     },
     "execution_count": 94,
     "metadata": {},
     "output_type": "execute_result"
    }
   ],
   "source": [
    "logIt.predict(X_test)"
   ]
  },
  {
   "cell_type": "code",
   "execution_count": 89,
   "metadata": {},
   "outputs": [
    {
     "data": {
      "text/plain": [
       "array([0, 0, 0, ..., 0, 0, 0], dtype=int64)"
      ]
     },
     "execution_count": 89,
     "metadata": {},
     "output_type": "execute_result"
    }
   ],
   "source": [
    "pred_test"
   ]
  },
  {
   "cell_type": "code",
   "execution_count": 63,
   "metadata": {},
   "outputs": [
    {
     "data": {
      "text/plain": [
       "array([[3685, 4379],\n",
       "       [1904, 7191]], dtype=int64)"
      ]
     },
     "execution_count": 63,
     "metadata": {},
     "output_type": "execute_result"
    }
   ],
   "source": [
    "from sklearn import metrics\n",
    "cnf_matrix = metrics.confusion_matrix(y_test, pred_test)\n",
    "cnf_matrix"
   ]
  },
  {
   "cell_type": "code",
   "execution_count": 65,
   "metadata": {},
   "outputs": [
    {
     "data": {
      "text/plain": [
       "Text(0.5,257.44,'Predicted Label')"
      ]
     },
     "execution_count": 65,
     "metadata": {},
     "output_type": "execute_result"
    },
    {
     "data": {
      "image/png": "[encoded data removed]",
      "text/plain": [
       "<Figure size 432x288 with 2 Axes>"
      ]
     },
     "metadata": {},
     "output_type": "display_data"
    }
   ],
   "source": [
    "class_names = [0,1]\n",
    "fig, ax = plt.subplots()\n",
    "tick_marks = np.arange(len(class_names))\n",
    "plt.xticks(tick_marks, class_names)\n",
    "plt.yticks(tick_marks, class_names)\n",
    "#create heatmap\n",
    "sns.heatmap(pd.DataFrame(cnf_matrix), annot=True, cmap=\"YlGnBu\", fmt='g')\n",
    "ax.xaxis.set_label_position(\"top\")\n",
    "plt.tight_layout()\n",
    "plt.title('Confusion matrix for Train Data', y=1.1)\n",
    "plt.ylabel('Actual Label')\n",
    "plt.xlabel('Predicted Label')"
   ]
  },
  {
   "cell_type": "code",
   "execution_count": 66,
   "metadata": {},
   "outputs": [
    {
     "name": "stdout",
     "output_type": "stream",
     "text": [
      "Accuracy :  0.6338364706567982\n",
      "Precision :  0.6215211754537597\n",
      "Recall :  0.7906542056074767\n"
     ]
    }
   ],
   "source": [
    "print('Accuracy : ', metrics.accuracy_score(y_test, pred_test))\n",
    "print('Precision : ', metrics.precision_score(y_test, pred_test))\n",
    "print('Recall : ', metrics.recall_score(y_test, pred_test))"
   ]
  },
  {
   "cell_type": "code",
   "execution_count": 67,
   "metadata": {},
   "outputs": [
    {
     "data": {
      "image/png": "[encoded data removed]",
      "text/plain": [
       "<Figure size 432x288 with 1 Axes>"
      ]
     },
     "metadata": {},
     "output_type": "display_data"
    }
   ],
   "source": [
    "y_pred_proba = logisticRegr.predict_proba(X_test)[::,1]\n",
    "fpr, tpr, _ = metrics.roc_curve(y_test, y_pred_proba)\n",
    "auc = metrics.roc_auc_score(y_test, y_pred_proba)\n",
    "plt.plot(fpr, tpr, label=\"data 1, auc=\"+str(auc))\n",
    "plt.legend(loc=4)\n",
    "plt.show()"
   ]
  },
  {
   "cell_type": "markdown",
   "metadata": {},
   "source": [
    "# So model is above 65%, so will now test this model on actual data"
   ]
  },
  {
   "cell_type": "code",
   "execution_count": 68,
   "metadata": {
    "collapsed": true
   },
   "outputs": [],
   "source": [
    "actual_test_DF = pd.read_csv(\"CSE7302c_test-1539668060821.csv\",sep=',', na_values=[\"?\"])"
   ]
  },
  {
   "cell_type": "code",
   "execution_count": 69,
   "metadata": {
    "collapsed": true
   },
   "outputs": [],
   "source": [
    "actual_test_DF_Selected = actual_test_DF.loc[:,['class','m_jj','m_jjj','m_lv','m_jlv','m_bb','m_wbb','m_wwbb']]"
   ]
  },
  {
   "cell_type": "code",
   "execution_count": 71,
   "metadata": {
    "collapsed": true
   },
   "outputs": [],
   "source": [
    "actual_test_DF_Selected['class'] = actual_test_DF_Selected['class'].astype('category')"
   ]
  },
  {
   "cell_type": "code",
   "execution_count": 75,
   "metadata": {},
   "outputs": [
    {
     "data": {
      "text/plain": [
       "class     category\n",
       "m_jj       float64\n",
       "m_jjj      float64\n",
       "m_lv       float64\n",
       "m_jlv      float64\n",
       "m_bb       float64\n",
       "m_wbb      float64\n",
       "m_wwbb     float64\n",
       "dtype: object"
      ]
     },
     "execution_count": 75,
     "metadata": {},
     "output_type": "execute_result"
    }
   ],
   "source": [
    "actual_test_DF_Selected.dtypes"
   ]
  },
  {
   "cell_type": "code",
   "execution_count": 76,
   "metadata": {},
   "outputs": [
    {
     "data": {
      "text/plain": [
       "(29414, 8)"
      ]
     },
     "execution_count": 76,
     "metadata": {},
     "output_type": "execute_result"
    }
   ],
   "source": [
    "actual_test_DF_Selected.shape"
   ]
  },
  {
   "cell_type": "code",
   "execution_count": 77,
   "metadata": {
    "collapsed": true
   },
   "outputs": [],
   "source": [
    "actual_test_DF_Selected.dropna(inplace=True)"
   ]
  },
  {
   "cell_type": "code",
   "execution_count": 78,
   "metadata": {},
   "outputs": [
    {
     "data": {
      "text/plain": [
       "(29413, 8)"
      ]
     },
     "execution_count": 78,
     "metadata": {},
     "output_type": "execute_result"
    }
   ],
   "source": [
    "actual_test_DF_Selected.shape"
   ]
  },
  {
   "cell_type": "code",
   "execution_count": 79,
   "metadata": {},
   "outputs": [
    {
     "data": {
      "text/html": [
       "<div>\n",
       "<style scoped>\n",
       "    .dataframe tbody tr th:only-of-type {\n",
       "        vertical-align: middle;\n",
       "    }\n",
       "\n",
       "    .dataframe tbody tr th {\n",
       "        vertical-align: top;\n",
       "    }\n",
       "\n",
       "    .dataframe thead th {\n",
       "        text-align: right;\n",
       "    }\n",
       "</style>\n",
       "<table border=\"1\" class=\"dataframe\">\n",
       "  <thead>\n",
       "    <tr style=\"text-align: right;\">\n",
       "      <th></th>\n",
       "      <th>class</th>\n",
       "      <th>m_jj</th>\n",
       "      <th>m_jjj</th>\n",
       "      <th>m_lv</th>\n",
       "      <th>m_jlv</th>\n",
       "      <th>m_bb</th>\n",
       "      <th>m_wbb</th>\n",
       "      <th>m_wwbb</th>\n",
       "    </tr>\n",
       "  </thead>\n",
       "  <tbody>\n",
       "    <tr>\n",
       "      <th>0</th>\n",
       "      <td>1</td>\n",
       "      <td>0.755856</td>\n",
       "      <td>1.361057</td>\n",
       "      <td>0.986610</td>\n",
       "      <td>0.838085</td>\n",
       "      <td>1.133295</td>\n",
       "      <td>0.872245</td>\n",
       "      <td>0.808487</td>\n",
       "    </tr>\n",
       "    <tr>\n",
       "      <th>1</th>\n",
       "      <td>1</td>\n",
       "      <td>0.833175</td>\n",
       "      <td>0.773968</td>\n",
       "      <td>0.985750</td>\n",
       "      <td>1.103696</td>\n",
       "      <td>0.849140</td>\n",
       "      <td>0.937104</td>\n",
       "      <td>0.812364</td>\n",
       "    </tr>\n",
       "    <tr>\n",
       "      <th>2</th>\n",
       "      <td>1</td>\n",
       "      <td>0.959325</td>\n",
       "      <td>0.807376</td>\n",
       "      <td>1.191814</td>\n",
       "      <td>1.221210</td>\n",
       "      <td>0.861141</td>\n",
       "      <td>0.929341</td>\n",
       "      <td>0.838302</td>\n",
       "    </tr>\n",
       "    <tr>\n",
       "      <th>3</th>\n",
       "      <td>1</td>\n",
       "      <td>0.782073</td>\n",
       "      <td>0.672103</td>\n",
       "      <td>0.990002</td>\n",
       "      <td>0.734279</td>\n",
       "      <td>0.379074</td>\n",
       "      <td>0.764760</td>\n",
       "      <td>0.642924</td>\n",
       "    </tr>\n",
       "    <tr>\n",
       "      <th>4</th>\n",
       "      <td>0</td>\n",
       "      <td>1.006643</td>\n",
       "      <td>0.867914</td>\n",
       "      <td>0.999090</td>\n",
       "      <td>1.109608</td>\n",
       "      <td>1.125094</td>\n",
       "      <td>0.882899</td>\n",
       "      <td>0.859396</td>\n",
       "    </tr>\n",
       "  </tbody>\n",
       "</table>\n",
       "</div>"
      ],
      "text/plain": [
       "  class      m_jj     m_jjj      m_lv     m_jlv      m_bb     m_wbb    m_wwbb\n",
       "0     1  0.755856  1.361057  0.986610  0.838085  1.133295  0.872245  0.808487\n",
       "1     1  0.833175  0.773968  0.985750  1.103696  0.849140  0.937104  0.812364\n",
       "2     1  0.959325  0.807376  1.191814  1.221210  0.861141  0.929341  0.838302\n",
       "3     1  0.782073  0.672103  0.990002  0.734279  0.379074  0.764760  0.642924\n",
       "4     0  1.006643  0.867914  0.999090  1.109608  1.125094  0.882899  0.859396"
      ]
     },
     "execution_count": 79,
     "metadata": {},
     "output_type": "execute_result"
    }
   ],
   "source": [
    "actual_test_DF_Selected.head()"
   ]
  },
  {
   "cell_type": "code",
   "execution_count": 81,
   "metadata": {
    "collapsed": true
   },
   "outputs": [],
   "source": [
    "X = actual_test_DF_Selected.iloc[:,1:8]\n",
    "y = actual_test_DF_Selected.iloc[:,0]"
   ]
  },
  {
   "cell_type": "code",
   "execution_count": 87,
   "metadata": {},
   "outputs": [
    {
     "data": {
      "text/plain": [
       "0    1\n",
       "1    1\n",
       "2    1\n",
       "3    1\n",
       "4    0\n",
       "Name: class, dtype: category\n",
       "Categories (2, int64): [0, 1]"
      ]
     },
     "execution_count": 87,
     "metadata": {},
     "output_type": "execute_result"
    }
   ],
   "source": [
    "y.head()"
   ]
  },
  {
   "cell_type": "markdown",
   "metadata": {},
   "source": [
    "# Predicting on Final Test Data"
   ]
  },
  {
   "cell_type": "code",
   "execution_count": 98,
   "metadata": {},
   "outputs": [
    {
     "data": {
      "text/html": [
       "<div>\n",
       "<style scoped>\n",
       "    .dataframe tbody tr th:only-of-type {\n",
       "        vertical-align: middle;\n",
       "    }\n",
       "\n",
       "    .dataframe tbody tr th {\n",
       "        vertical-align: top;\n",
       "    }\n",
       "\n",
       "    .dataframe thead th {\n",
       "        text-align: right;\n",
       "    }\n",
       "</style>\n",
       "<table border=\"1\" class=\"dataframe\">\n",
       "  <thead>\n",
       "    <tr style=\"text-align: right;\">\n",
       "      <th></th>\n",
       "      <th>m_jj</th>\n",
       "      <th>m_jjj</th>\n",
       "      <th>m_lv</th>\n",
       "      <th>m_jlv</th>\n",
       "      <th>m_bb</th>\n",
       "      <th>m_wbb</th>\n",
       "      <th>m_wwbb</th>\n",
       "    </tr>\n",
       "  </thead>\n",
       "  <tbody>\n",
       "    <tr>\n",
       "      <th>0</th>\n",
       "      <td>0.755856</td>\n",
       "      <td>1.361057</td>\n",
       "      <td>0.986610</td>\n",
       "      <td>0.838085</td>\n",
       "      <td>1.133295</td>\n",
       "      <td>0.872245</td>\n",
       "      <td>0.808487</td>\n",
       "    </tr>\n",
       "    <tr>\n",
       "      <th>1</th>\n",
       "      <td>0.833175</td>\n",
       "      <td>0.773968</td>\n",
       "      <td>0.985750</td>\n",
       "      <td>1.103696</td>\n",
       "      <td>0.849140</td>\n",
       "      <td>0.937104</td>\n",
       "      <td>0.812364</td>\n",
       "    </tr>\n",
       "    <tr>\n",
       "      <th>2</th>\n",
       "      <td>0.959325</td>\n",
       "      <td>0.807376</td>\n",
       "      <td>1.191814</td>\n",
       "      <td>1.221210</td>\n",
       "      <td>0.861141</td>\n",
       "      <td>0.929341</td>\n",
       "      <td>0.838302</td>\n",
       "    </tr>\n",
       "    <tr>\n",
       "      <th>3</th>\n",
       "      <td>0.782073</td>\n",
       "      <td>0.672103</td>\n",
       "      <td>0.990002</td>\n",
       "      <td>0.734279</td>\n",
       "      <td>0.379074</td>\n",
       "      <td>0.764760</td>\n",
       "      <td>0.642924</td>\n",
       "    </tr>\n",
       "    <tr>\n",
       "      <th>4</th>\n",
       "      <td>1.006643</td>\n",
       "      <td>0.867914</td>\n",
       "      <td>0.999090</td>\n",
       "      <td>1.109608</td>\n",
       "      <td>1.125094</td>\n",
       "      <td>0.882899</td>\n",
       "      <td>0.859396</td>\n",
       "    </tr>\n",
       "  </tbody>\n",
       "</table>\n",
       "</div>"
      ],
      "text/plain": [
       "       m_jj     m_jjj      m_lv     m_jlv      m_bb     m_wbb    m_wwbb\n",
       "0  0.755856  1.361057  0.986610  0.838085  1.133295  0.872245  0.808487\n",
       "1  0.833175  0.773968  0.985750  1.103696  0.849140  0.937104  0.812364\n",
       "2  0.959325  0.807376  1.191814  1.221210  0.861141  0.929341  0.838302\n",
       "3  0.782073  0.672103  0.990002  0.734279  0.379074  0.764760  0.642924\n",
       "4  1.006643  0.867914  0.999090  1.109608  1.125094  0.882899  0.859396"
      ]
     },
     "execution_count": 98,
     "metadata": {},
     "output_type": "execute_result"
    }
   ],
   "source": [
    "X.head()"
   ]
  },
  {
   "cell_type": "code",
   "execution_count": 99,
   "metadata": {},
   "outputs": [
    {
     "data": {
      "text/plain": [
       "(29413, 7)"
      ]
     },
     "execution_count": 99,
     "metadata": {},
     "output_type": "execute_result"
    }
   ],
   "source": [
    "X.shape"
   ]
  },
  {
   "cell_type": "code",
   "execution_count": 106,
   "metadata": {
    "collapsed": true
   },
   "outputs": [],
   "source": [
    "from sklearn.decomposition import PCA\n",
    "pca = PCA(n_components=7)\n",
    "principalComponents = pca.fit_transform(X)"
   ]
  },
  {
   "cell_type": "code",
   "execution_count": 107,
   "metadata": {},
   "outputs": [
    {
     "data": {
      "text/plain": [
       "(29413, 7)"
      ]
     },
     "execution_count": 107,
     "metadata": {},
     "output_type": "execute_result"
    }
   ],
   "source": [
    "principalDf = pd.DataFrame(data = principalComponents)\n",
    "principalDf.shape"
   ]
  },
  {
   "cell_type": "code",
   "execution_count": 108,
   "metadata": {},
   "outputs": [
    {
     "data": {
      "text/html": [
       "<div>\n",
       "<style scoped>\n",
       "    .dataframe tbody tr th:only-of-type {\n",
       "        vertical-align: middle;\n",
       "    }\n",
       "\n",
       "    .dataframe tbody tr th {\n",
       "        vertical-align: top;\n",
       "    }\n",
       "\n",
       "    .dataframe thead th {\n",
       "        text-align: right;\n",
       "    }\n",
       "</style>\n",
       "<table border=\"1\" class=\"dataframe\">\n",
       "  <thead>\n",
       "    <tr style=\"text-align: right;\">\n",
       "      <th></th>\n",
       "      <th>0</th>\n",
       "      <th>1</th>\n",
       "      <th>2</th>\n",
       "      <th>3</th>\n",
       "      <th>4</th>\n",
       "      <th>5</th>\n",
       "      <th>6</th>\n",
       "      <th>class</th>\n",
       "    </tr>\n",
       "  </thead>\n",
       "  <tbody>\n",
       "    <tr>\n",
       "      <th>0</th>\n",
       "      <td>-0.167421</td>\n",
       "      <td>0.070314</td>\n",
       "      <td>-0.272031</td>\n",
       "      <td>0.195677</td>\n",
       "      <td>0.318395</td>\n",
       "      <td>-0.213305</td>\n",
       "      <td>0.075355</td>\n",
       "      <td>1</td>\n",
       "    </tr>\n",
       "    <tr>\n",
       "      <th>1</th>\n",
       "      <td>-0.338108</td>\n",
       "      <td>0.002981</td>\n",
       "      <td>0.137716</td>\n",
       "      <td>-0.139371</td>\n",
       "      <td>-0.066687</td>\n",
       "      <td>-0.052284</td>\n",
       "      <td>-0.059305</td>\n",
       "      <td>1</td>\n",
       "    </tr>\n",
       "    <tr>\n",
       "      <th>2</th>\n",
       "      <td>-0.200949</td>\n",
       "      <td>-0.006711</td>\n",
       "      <td>0.212025</td>\n",
       "      <td>-0.234238</td>\n",
       "      <td>0.049943</td>\n",
       "      <td>0.110520</td>\n",
       "      <td>-0.033954</td>\n",
       "      <td>1</td>\n",
       "    </tr>\n",
       "    <tr>\n",
       "      <th>3</th>\n",
       "      <td>-0.701956</td>\n",
       "      <td>-0.512534</td>\n",
       "      <td>0.078108</td>\n",
       "      <td>-0.020922</td>\n",
       "      <td>-0.140852</td>\n",
       "      <td>0.007616</td>\n",
       "      <td>-0.122836</td>\n",
       "      <td>1</td>\n",
       "    </tr>\n",
       "    <tr>\n",
       "      <th>4</th>\n",
       "      <td>-0.115314</td>\n",
       "      <td>0.110610</td>\n",
       "      <td>-0.047052</td>\n",
       "      <td>-0.243028</td>\n",
       "      <td>-0.014265</td>\n",
       "      <td>-0.058661</td>\n",
       "      <td>0.048103</td>\n",
       "      <td>0</td>\n",
       "    </tr>\n",
       "  </tbody>\n",
       "</table>\n",
       "</div>"
      ],
      "text/plain": [
       "          0         1         2         3         4         5         6 class\n",
       "0 -0.167421  0.070314 -0.272031  0.195677  0.318395 -0.213305  0.075355     1\n",
       "1 -0.338108  0.002981  0.137716 -0.139371 -0.066687 -0.052284 -0.059305     1\n",
       "2 -0.200949 -0.006711  0.212025 -0.234238  0.049943  0.110520 -0.033954     1\n",
       "3 -0.701956 -0.512534  0.078108 -0.020922 -0.140852  0.007616 -0.122836     1\n",
       "4 -0.115314  0.110610 -0.047052 -0.243028 -0.014265 -0.058661  0.048103     0"
      ]
     },
     "execution_count": 108,
     "metadata": {},
     "output_type": "execute_result"
    }
   ],
   "source": [
    "finalDf = pd.concat([principalDf, y], axis = 1)\n",
    "finalDf.head()"
   ]
  },
  {
   "cell_type": "code",
   "execution_count": 109,
   "metadata": {
    "collapsed": true
   },
   "outputs": [],
   "source": [
    "transformed_x = finalDf.iloc[:,0:7]\n",
    "same_test_y = finalDf.iloc[:,7:8]"
   ]
  },
  {
   "cell_type": "code",
   "execution_count": 110,
   "metadata": {
    "scrolled": true
   },
   "outputs": [
    {
     "data": {
      "text/html": [
       "<div>\n",
       "<style scoped>\n",
       "    .dataframe tbody tr th:only-of-type {\n",
       "        vertical-align: middle;\n",
       "    }\n",
       "\n",
       "    .dataframe tbody tr th {\n",
       "        vertical-align: top;\n",
       "    }\n",
       "\n",
       "    .dataframe thead th {\n",
       "        text-align: right;\n",
       "    }\n",
       "</style>\n",
       "<table border=\"1\" class=\"dataframe\">\n",
       "  <thead>\n",
       "    <tr style=\"text-align: right;\">\n",
       "      <th></th>\n",
       "      <th>0</th>\n",
       "      <th>1</th>\n",
       "      <th>2</th>\n",
       "      <th>3</th>\n",
       "      <th>4</th>\n",
       "      <th>5</th>\n",
       "      <th>6</th>\n",
       "    </tr>\n",
       "  </thead>\n",
       "  <tbody>\n",
       "    <tr>\n",
       "      <th>0</th>\n",
       "      <td>-0.167421</td>\n",
       "      <td>0.070314</td>\n",
       "      <td>-0.272031</td>\n",
       "      <td>0.195677</td>\n",
       "      <td>0.318395</td>\n",
       "      <td>-0.213305</td>\n",
       "      <td>0.075355</td>\n",
       "    </tr>\n",
       "    <tr>\n",
       "      <th>1</th>\n",
       "      <td>-0.338108</td>\n",
       "      <td>0.002981</td>\n",
       "      <td>0.137716</td>\n",
       "      <td>-0.139371</td>\n",
       "      <td>-0.066687</td>\n",
       "      <td>-0.052284</td>\n",
       "      <td>-0.059305</td>\n",
       "    </tr>\n",
       "    <tr>\n",
       "      <th>2</th>\n",
       "      <td>-0.200949</td>\n",
       "      <td>-0.006711</td>\n",
       "      <td>0.212025</td>\n",
       "      <td>-0.234238</td>\n",
       "      <td>0.049943</td>\n",
       "      <td>0.110520</td>\n",
       "      <td>-0.033954</td>\n",
       "    </tr>\n",
       "    <tr>\n",
       "      <th>3</th>\n",
       "      <td>-0.701956</td>\n",
       "      <td>-0.512534</td>\n",
       "      <td>0.078108</td>\n",
       "      <td>-0.020922</td>\n",
       "      <td>-0.140852</td>\n",
       "      <td>0.007616</td>\n",
       "      <td>-0.122836</td>\n",
       "    </tr>\n",
       "    <tr>\n",
       "      <th>4</th>\n",
       "      <td>-0.115314</td>\n",
       "      <td>0.110610</td>\n",
       "      <td>-0.047052</td>\n",
       "      <td>-0.243028</td>\n",
       "      <td>-0.014265</td>\n",
       "      <td>-0.058661</td>\n",
       "      <td>0.048103</td>\n",
       "    </tr>\n",
       "    <tr>\n",
       "      <th>5</th>\n",
       "      <td>-0.227831</td>\n",
       "      <td>-0.450867</td>\n",
       "      <td>0.416768</td>\n",
       "      <td>0.191609</td>\n",
       "      <td>-0.377728</td>\n",
       "      <td>0.148709</td>\n",
       "      <td>0.455137</td>\n",
       "    </tr>\n",
       "    <tr>\n",
       "      <th>6</th>\n",
       "      <td>0.280391</td>\n",
       "      <td>-0.304992</td>\n",
       "      <td>-0.407422</td>\n",
       "      <td>-0.321869</td>\n",
       "      <td>0.026838</td>\n",
       "      <td>0.019011</td>\n",
       "      <td>0.006806</td>\n",
       "    </tr>\n",
       "    <tr>\n",
       "      <th>7</th>\n",
       "      <td>-0.318079</td>\n",
       "      <td>-0.151136</td>\n",
       "      <td>-0.194850</td>\n",
       "      <td>0.049737</td>\n",
       "      <td>0.078457</td>\n",
       "      <td>-0.030290</td>\n",
       "      <td>-0.010667</td>\n",
       "    </tr>\n",
       "    <tr>\n",
       "      <th>8</th>\n",
       "      <td>-0.061425</td>\n",
       "      <td>0.510538</td>\n",
       "      <td>0.130024</td>\n",
       "      <td>-0.130017</td>\n",
       "      <td>0.096188</td>\n",
       "      <td>-0.142839</td>\n",
       "      <td>0.017804</td>\n",
       "    </tr>\n",
       "    <tr>\n",
       "      <th>9</th>\n",
       "      <td>-0.308845</td>\n",
       "      <td>-0.037835</td>\n",
       "      <td>0.612927</td>\n",
       "      <td>-0.281530</td>\n",
       "      <td>0.145693</td>\n",
       "      <td>0.621738</td>\n",
       "      <td>0.035364</td>\n",
       "    </tr>\n",
       "    <tr>\n",
       "      <th>10</th>\n",
       "      <td>-0.756430</td>\n",
       "      <td>-0.566664</td>\n",
       "      <td>-0.236381</td>\n",
       "      <td>-0.083914</td>\n",
       "      <td>-0.148445</td>\n",
       "      <td>0.026842</td>\n",
       "      <td>-0.022031</td>\n",
       "    </tr>\n",
       "    <tr>\n",
       "      <th>11</th>\n",
       "      <td>-0.560846</td>\n",
       "      <td>-0.323539</td>\n",
       "      <td>-0.064802</td>\n",
       "      <td>-0.198047</td>\n",
       "      <td>0.033365</td>\n",
       "      <td>0.047104</td>\n",
       "      <td>-0.044233</td>\n",
       "    </tr>\n",
       "    <tr>\n",
       "      <th>12</th>\n",
       "      <td>-0.240686</td>\n",
       "      <td>-0.115891</td>\n",
       "      <td>-0.054049</td>\n",
       "      <td>0.067975</td>\n",
       "      <td>-0.149171</td>\n",
       "      <td>0.018218</td>\n",
       "      <td>-0.078842</td>\n",
       "    </tr>\n",
       "    <tr>\n",
       "      <th>13</th>\n",
       "      <td>-0.465935</td>\n",
       "      <td>-0.495253</td>\n",
       "      <td>-0.048401</td>\n",
       "      <td>0.036067</td>\n",
       "      <td>0.043128</td>\n",
       "      <td>0.096780</td>\n",
       "      <td>-0.015283</td>\n",
       "    </tr>\n",
       "    <tr>\n",
       "      <th>14</th>\n",
       "      <td>-0.537098</td>\n",
       "      <td>-0.535542</td>\n",
       "      <td>0.237595</td>\n",
       "      <td>0.042326</td>\n",
       "      <td>-0.066631</td>\n",
       "      <td>-0.036897</td>\n",
       "      <td>0.002879</td>\n",
       "    </tr>\n",
       "    <tr>\n",
       "      <th>15</th>\n",
       "      <td>-0.517153</td>\n",
       "      <td>0.517099</td>\n",
       "      <td>-0.455721</td>\n",
       "      <td>0.052179</td>\n",
       "      <td>0.111812</td>\n",
       "      <td>-0.109132</td>\n",
       "      <td>-0.028019</td>\n",
       "    </tr>\n",
       "    <tr>\n",
       "      <th>16</th>\n",
       "      <td>1.538076</td>\n",
       "      <td>1.478815</td>\n",
       "      <td>-0.494344</td>\n",
       "      <td>1.325185</td>\n",
       "      <td>0.015307</td>\n",
       "      <td>0.113121</td>\n",
       "      <td>0.182366</td>\n",
       "    </tr>\n",
       "    <tr>\n",
       "      <th>17</th>\n",
       "      <td>-0.470531</td>\n",
       "      <td>-0.432097</td>\n",
       "      <td>-0.102155</td>\n",
       "      <td>0.105585</td>\n",
       "      <td>0.022805</td>\n",
       "      <td>-0.055081</td>\n",
       "      <td>0.066838</td>\n",
       "    </tr>\n",
       "    <tr>\n",
       "      <th>18</th>\n",
       "      <td>0.073747</td>\n",
       "      <td>1.007972</td>\n",
       "      <td>-0.718087</td>\n",
       "      <td>-0.250411</td>\n",
       "      <td>-0.032774</td>\n",
       "      <td>-0.034759</td>\n",
       "      <td>0.019013</td>\n",
       "    </tr>\n",
       "    <tr>\n",
       "      <th>19</th>\n",
       "      <td>-0.149954</td>\n",
       "      <td>-0.057043</td>\n",
       "      <td>-0.439106</td>\n",
       "      <td>0.233283</td>\n",
       "      <td>-0.071932</td>\n",
       "      <td>0.051971</td>\n",
       "      <td>-0.086316</td>\n",
       "    </tr>\n",
       "    <tr>\n",
       "      <th>20</th>\n",
       "      <td>0.450644</td>\n",
       "      <td>0.949963</td>\n",
       "      <td>0.660743</td>\n",
       "      <td>-0.270564</td>\n",
       "      <td>-0.210582</td>\n",
       "      <td>-0.021993</td>\n",
       "      <td>0.064345</td>\n",
       "    </tr>\n",
       "    <tr>\n",
       "      <th>21</th>\n",
       "      <td>-0.396472</td>\n",
       "      <td>0.695262</td>\n",
       "      <td>-0.301066</td>\n",
       "      <td>-0.057938</td>\n",
       "      <td>-0.069781</td>\n",
       "      <td>0.157088</td>\n",
       "      <td>-0.035570</td>\n",
       "    </tr>\n",
       "    <tr>\n",
       "      <th>22</th>\n",
       "      <td>-0.200259</td>\n",
       "      <td>-0.024920</td>\n",
       "      <td>-0.197399</td>\n",
       "      <td>0.237188</td>\n",
       "      <td>0.104787</td>\n",
       "      <td>-0.101848</td>\n",
       "      <td>-0.011310</td>\n",
       "    </tr>\n",
       "    <tr>\n",
       "      <th>23</th>\n",
       "      <td>0.232182</td>\n",
       "      <td>0.604956</td>\n",
       "      <td>-0.606226</td>\n",
       "      <td>0.168027</td>\n",
       "      <td>0.050148</td>\n",
       "      <td>-0.060873</td>\n",
       "      <td>0.018314</td>\n",
       "    </tr>\n",
       "    <tr>\n",
       "      <th>24</th>\n",
       "      <td>-0.003688</td>\n",
       "      <td>0.462434</td>\n",
       "      <td>-0.264620</td>\n",
       "      <td>-0.232035</td>\n",
       "      <td>0.088045</td>\n",
       "      <td>-0.119065</td>\n",
       "      <td>0.040498</td>\n",
       "    </tr>\n",
       "    <tr>\n",
       "      <th>25</th>\n",
       "      <td>0.104066</td>\n",
       "      <td>0.233901</td>\n",
       "      <td>0.512058</td>\n",
       "      <td>-0.193841</td>\n",
       "      <td>0.071659</td>\n",
       "      <td>-0.144678</td>\n",
       "      <td>-0.054130</td>\n",
       "    </tr>\n",
       "    <tr>\n",
       "      <th>26</th>\n",
       "      <td>-0.037751</td>\n",
       "      <td>-0.967689</td>\n",
       "      <td>-0.100460</td>\n",
       "      <td>-0.079423</td>\n",
       "      <td>-0.018715</td>\n",
       "      <td>-0.050526</td>\n",
       "      <td>0.076033</td>\n",
       "    </tr>\n",
       "    <tr>\n",
       "      <th>27</th>\n",
       "      <td>-0.412498</td>\n",
       "      <td>0.225075</td>\n",
       "      <td>-0.546103</td>\n",
       "      <td>0.282792</td>\n",
       "      <td>0.227922</td>\n",
       "      <td>-0.141002</td>\n",
       "      <td>0.041613</td>\n",
       "    </tr>\n",
       "    <tr>\n",
       "      <th>28</th>\n",
       "      <td>-0.673800</td>\n",
       "      <td>-0.070554</td>\n",
       "      <td>-0.101662</td>\n",
       "      <td>-0.200828</td>\n",
       "      <td>0.035760</td>\n",
       "      <td>-0.088567</td>\n",
       "      <td>-0.009799</td>\n",
       "    </tr>\n",
       "    <tr>\n",
       "      <th>29</th>\n",
       "      <td>3.018781</td>\n",
       "      <td>1.899327</td>\n",
       "      <td>1.796842</td>\n",
       "      <td>1.139209</td>\n",
       "      <td>-0.197393</td>\n",
       "      <td>-0.080001</td>\n",
       "      <td>-0.536682</td>\n",
       "    </tr>\n",
       "    <tr>\n",
       "      <th>...</th>\n",
       "      <td>...</td>\n",
       "      <td>...</td>\n",
       "      <td>...</td>\n",
       "      <td>...</td>\n",
       "      <td>...</td>\n",
       "      <td>...</td>\n",
       "      <td>...</td>\n",
       "    </tr>\n",
       "    <tr>\n",
       "      <th>29383</th>\n",
       "      <td>-0.062748</td>\n",
       "      <td>-0.135516</td>\n",
       "      <td>0.224304</td>\n",
       "      <td>0.207530</td>\n",
       "      <td>-0.041303</td>\n",
       "      <td>-0.041989</td>\n",
       "      <td>-0.016348</td>\n",
       "    </tr>\n",
       "    <tr>\n",
       "      <th>29384</th>\n",
       "      <td>0.032653</td>\n",
       "      <td>0.028742</td>\n",
       "      <td>-0.249285</td>\n",
       "      <td>0.270688</td>\n",
       "      <td>0.063535</td>\n",
       "      <td>-0.083779</td>\n",
       "      <td>0.008208</td>\n",
       "    </tr>\n",
       "    <tr>\n",
       "      <th>29385</th>\n",
       "      <td>-0.491690</td>\n",
       "      <td>-0.138059</td>\n",
       "      <td>0.248038</td>\n",
       "      <td>-0.211821</td>\n",
       "      <td>-0.102691</td>\n",
       "      <td>-0.037130</td>\n",
       "      <td>-0.072097</td>\n",
       "    </tr>\n",
       "    <tr>\n",
       "      <th>29386</th>\n",
       "      <td>-0.489653</td>\n",
       "      <td>-0.588130</td>\n",
       "      <td>-0.034010</td>\n",
       "      <td>-0.067709</td>\n",
       "      <td>0.029590</td>\n",
       "      <td>-0.077544</td>\n",
       "      <td>-0.008765</td>\n",
       "    </tr>\n",
       "    <tr>\n",
       "      <th>29387</th>\n",
       "      <td>-0.614399</td>\n",
       "      <td>0.725360</td>\n",
       "      <td>-0.189397</td>\n",
       "      <td>-0.045192</td>\n",
       "      <td>0.054687</td>\n",
       "      <td>-0.094591</td>\n",
       "      <td>-0.083985</td>\n",
       "    </tr>\n",
       "    <tr>\n",
       "      <th>29388</th>\n",
       "      <td>1.891024</td>\n",
       "      <td>0.173576</td>\n",
       "      <td>-0.826735</td>\n",
       "      <td>-0.014353</td>\n",
       "      <td>-0.124647</td>\n",
       "      <td>0.031194</td>\n",
       "      <td>0.090679</td>\n",
       "    </tr>\n",
       "    <tr>\n",
       "      <th>29389</th>\n",
       "      <td>-0.139911</td>\n",
       "      <td>0.243272</td>\n",
       "      <td>-0.015641</td>\n",
       "      <td>-0.015774</td>\n",
       "      <td>-0.163275</td>\n",
       "      <td>0.010888</td>\n",
       "      <td>-0.105115</td>\n",
       "    </tr>\n",
       "    <tr>\n",
       "      <th>29390</th>\n",
       "      <td>0.182542</td>\n",
       "      <td>-0.082588</td>\n",
       "      <td>0.006404</td>\n",
       "      <td>-0.130955</td>\n",
       "      <td>-0.097497</td>\n",
       "      <td>-0.031791</td>\n",
       "      <td>-0.097640</td>\n",
       "    </tr>\n",
       "    <tr>\n",
       "      <th>29391</th>\n",
       "      <td>-0.184464</td>\n",
       "      <td>-0.011803</td>\n",
       "      <td>-0.088725</td>\n",
       "      <td>0.140007</td>\n",
       "      <td>-0.078133</td>\n",
       "      <td>0.189390</td>\n",
       "      <td>0.079000</td>\n",
       "    </tr>\n",
       "    <tr>\n",
       "      <th>29392</th>\n",
       "      <td>-0.316826</td>\n",
       "      <td>0.011198</td>\n",
       "      <td>-0.035218</td>\n",
       "      <td>-0.041217</td>\n",
       "      <td>-0.178589</td>\n",
       "      <td>0.156551</td>\n",
       "      <td>-0.120554</td>\n",
       "    </tr>\n",
       "    <tr>\n",
       "      <th>29393</th>\n",
       "      <td>-0.171700</td>\n",
       "      <td>1.215239</td>\n",
       "      <td>0.413554</td>\n",
       "      <td>-0.266846</td>\n",
       "      <td>0.003924</td>\n",
       "      <td>-0.127369</td>\n",
       "      <td>-0.090435</td>\n",
       "    </tr>\n",
       "    <tr>\n",
       "      <th>29394</th>\n",
       "      <td>0.006883</td>\n",
       "      <td>-0.019622</td>\n",
       "      <td>0.290122</td>\n",
       "      <td>0.067146</td>\n",
       "      <td>-0.125801</td>\n",
       "      <td>-0.009680</td>\n",
       "      <td>-0.084951</td>\n",
       "    </tr>\n",
       "    <tr>\n",
       "      <th>29395</th>\n",
       "      <td>2.448224</td>\n",
       "      <td>-0.545097</td>\n",
       "      <td>0.164985</td>\n",
       "      <td>0.094111</td>\n",
       "      <td>0.075022</td>\n",
       "      <td>-0.112781</td>\n",
       "      <td>0.302442</td>\n",
       "    </tr>\n",
       "    <tr>\n",
       "      <th>29396</th>\n",
       "      <td>-0.483992</td>\n",
       "      <td>-0.335042</td>\n",
       "      <td>0.197734</td>\n",
       "      <td>0.001958</td>\n",
       "      <td>-0.057881</td>\n",
       "      <td>-0.053337</td>\n",
       "      <td>-0.058593</td>\n",
       "    </tr>\n",
       "    <tr>\n",
       "      <th>29397</th>\n",
       "      <td>-0.262106</td>\n",
       "      <td>-0.250819</td>\n",
       "      <td>0.001748</td>\n",
       "      <td>0.013708</td>\n",
       "      <td>0.144270</td>\n",
       "      <td>-0.010531</td>\n",
       "      <td>-0.008190</td>\n",
       "    </tr>\n",
       "    <tr>\n",
       "      <th>29398</th>\n",
       "      <td>0.026372</td>\n",
       "      <td>-0.041155</td>\n",
       "      <td>-0.070151</td>\n",
       "      <td>0.214044</td>\n",
       "      <td>0.048144</td>\n",
       "      <td>-0.081474</td>\n",
       "      <td>0.021348</td>\n",
       "    </tr>\n",
       "    <tr>\n",
       "      <th>29399</th>\n",
       "      <td>-0.201388</td>\n",
       "      <td>-0.296743</td>\n",
       "      <td>-0.075709</td>\n",
       "      <td>0.318595</td>\n",
       "      <td>-0.205735</td>\n",
       "      <td>0.060721</td>\n",
       "      <td>-0.166042</td>\n",
       "    </tr>\n",
       "    <tr>\n",
       "      <th>29400</th>\n",
       "      <td>-0.007649</td>\n",
       "      <td>-0.056016</td>\n",
       "      <td>-0.117928</td>\n",
       "      <td>0.467938</td>\n",
       "      <td>0.236303</td>\n",
       "      <td>-0.178278</td>\n",
       "      <td>-0.066498</td>\n",
       "    </tr>\n",
       "    <tr>\n",
       "      <th>29401</th>\n",
       "      <td>-0.030786</td>\n",
       "      <td>0.757467</td>\n",
       "      <td>-0.015405</td>\n",
       "      <td>-0.145429</td>\n",
       "      <td>-0.028733</td>\n",
       "      <td>-0.060901</td>\n",
       "      <td>-0.022169</td>\n",
       "    </tr>\n",
       "    <tr>\n",
       "      <th>29402</th>\n",
       "      <td>-0.296293</td>\n",
       "      <td>-0.161394</td>\n",
       "      <td>0.004860</td>\n",
       "      <td>-0.044709</td>\n",
       "      <td>-0.036763</td>\n",
       "      <td>-0.040132</td>\n",
       "      <td>-0.067345</td>\n",
       "    </tr>\n",
       "    <tr>\n",
       "      <th>29403</th>\n",
       "      <td>-0.045524</td>\n",
       "      <td>0.386443</td>\n",
       "      <td>0.524079</td>\n",
       "      <td>-0.123465</td>\n",
       "      <td>0.140165</td>\n",
       "      <td>-0.180639</td>\n",
       "      <td>0.001401</td>\n",
       "    </tr>\n",
       "    <tr>\n",
       "      <th>29404</th>\n",
       "      <td>-0.548813</td>\n",
       "      <td>-0.614284</td>\n",
       "      <td>0.391400</td>\n",
       "      <td>-0.058009</td>\n",
       "      <td>-0.064715</td>\n",
       "      <td>0.083096</td>\n",
       "      <td>0.004791</td>\n",
       "    </tr>\n",
       "    <tr>\n",
       "      <th>29405</th>\n",
       "      <td>-0.336546</td>\n",
       "      <td>-0.502366</td>\n",
       "      <td>0.210167</td>\n",
       "      <td>0.285476</td>\n",
       "      <td>0.145574</td>\n",
       "      <td>-0.152903</td>\n",
       "      <td>-0.062559</td>\n",
       "    </tr>\n",
       "    <tr>\n",
       "      <th>29406</th>\n",
       "      <td>0.135833</td>\n",
       "      <td>0.337659</td>\n",
       "      <td>-0.185344</td>\n",
       "      <td>-0.422485</td>\n",
       "      <td>0.022993</td>\n",
       "      <td>-0.101687</td>\n",
       "      <td>0.024977</td>\n",
       "    </tr>\n",
       "    <tr>\n",
       "      <th>29407</th>\n",
       "      <td>-0.073018</td>\n",
       "      <td>-0.081292</td>\n",
       "      <td>0.042976</td>\n",
       "      <td>-0.083391</td>\n",
       "      <td>0.116049</td>\n",
       "      <td>-0.135103</td>\n",
       "      <td>0.045003</td>\n",
       "    </tr>\n",
       "    <tr>\n",
       "      <th>29408</th>\n",
       "      <td>-0.653790</td>\n",
       "      <td>-0.480421</td>\n",
       "      <td>0.156626</td>\n",
       "      <td>0.048186</td>\n",
       "      <td>-0.025359</td>\n",
       "      <td>-0.059410</td>\n",
       "      <td>-0.086872</td>\n",
       "    </tr>\n",
       "    <tr>\n",
       "      <th>29409</th>\n",
       "      <td>-0.311197</td>\n",
       "      <td>-0.148449</td>\n",
       "      <td>-0.110133</td>\n",
       "      <td>-0.015257</td>\n",
       "      <td>-0.007394</td>\n",
       "      <td>-0.064168</td>\n",
       "      <td>-0.031886</td>\n",
       "    </tr>\n",
       "    <tr>\n",
       "      <th>29410</th>\n",
       "      <td>-0.069882</td>\n",
       "      <td>0.293438</td>\n",
       "      <td>-0.044959</td>\n",
       "      <td>-0.175432</td>\n",
       "      <td>-0.088556</td>\n",
       "      <td>-0.030968</td>\n",
       "      <td>-0.038188</td>\n",
       "    </tr>\n",
       "    <tr>\n",
       "      <th>29411</th>\n",
       "      <td>-0.014785</td>\n",
       "      <td>0.093511</td>\n",
       "      <td>0.230806</td>\n",
       "      <td>0.153614</td>\n",
       "      <td>-0.091778</td>\n",
       "      <td>0.447106</td>\n",
       "      <td>0.223137</td>\n",
       "    </tr>\n",
       "    <tr>\n",
       "      <th>29412</th>\n",
       "      <td>-0.168622</td>\n",
       "      <td>0.264028</td>\n",
       "      <td>0.462545</td>\n",
       "      <td>-0.053441</td>\n",
       "      <td>-0.164931</td>\n",
       "      <td>-0.005013</td>\n",
       "      <td>-0.045341</td>\n",
       "    </tr>\n",
       "  </tbody>\n",
       "</table>\n",
       "<p>29413 rows × 7 columns</p>\n",
       "</div>"
      ],
      "text/plain": [
       "              0         1         2         3         4         5         6\n",
       "0     -0.167421  0.070314 -0.272031  0.195677  0.318395 -0.213305  0.075355\n",
       "1     -0.338108  0.002981  0.137716 -0.139371 -0.066687 -0.052284 -0.059305\n",
       "2     -0.200949 -0.006711  0.212025 -0.234238  0.049943  0.110520 -0.033954\n",
       "3     -0.701956 -0.512534  0.078108 -0.020922 -0.140852  0.007616 -0.122836\n",
       "4     -0.115314  0.110610 -0.047052 -0.243028 -0.014265 -0.058661  0.048103\n",
       "5     -0.227831 -0.450867  0.416768  0.191609 -0.377728  0.148709  0.455137\n",
       "6      0.280391 -0.304992 -0.407422 -0.321869  0.026838  0.019011  0.006806\n",
       "7     -0.318079 -0.151136 -0.194850  0.049737  0.078457 -0.030290 -0.010667\n",
       "8     -0.061425  0.510538  0.130024 -0.130017  0.096188 -0.142839  0.017804\n",
       "9     -0.308845 -0.037835  0.612927 -0.281530  0.145693  0.621738  0.035364\n",
       "10    -0.756430 -0.566664 -0.236381 -0.083914 -0.148445  0.026842 -0.022031\n",
       "11    -0.560846 -0.323539 -0.064802 -0.198047  0.033365  0.047104 -0.044233\n",
       "12    -0.240686 -0.115891 -0.054049  0.067975 -0.149171  0.018218 -0.078842\n",
       "13    -0.465935 -0.495253 -0.048401  0.036067  0.043128  0.096780 -0.015283\n",
       "14    -0.537098 -0.535542  0.237595  0.042326 -0.066631 -0.036897  0.002879\n",
       "15    -0.517153  0.517099 -0.455721  0.052179  0.111812 -0.109132 -0.028019\n",
       "16     1.538076  1.478815 -0.494344  1.325185  0.015307  0.113121  0.182366\n",
       "17    -0.470531 -0.432097 -0.102155  0.105585  0.022805 -0.055081  0.066838\n",
       "18     0.073747  1.007972 -0.718087 -0.250411 -0.032774 -0.034759  0.019013\n",
       "19    -0.149954 -0.057043 -0.439106  0.233283 -0.071932  0.051971 -0.086316\n",
       "20     0.450644  0.949963  0.660743 -0.270564 -0.210582 -0.021993  0.064345\n",
       "21    -0.396472  0.695262 -0.301066 -0.057938 -0.069781  0.157088 -0.035570\n",
       "22    -0.200259 -0.024920 -0.197399  0.237188  0.104787 -0.101848 -0.011310\n",
       "23     0.232182  0.604956 -0.606226  0.168027  0.050148 -0.060873  0.018314\n",
       "24    -0.003688  0.462434 -0.264620 -0.232035  0.088045 -0.119065  0.040498\n",
       "25     0.104066  0.233901  0.512058 -0.193841  0.071659 -0.144678 -0.054130\n",
       "26    -0.037751 -0.967689 -0.100460 -0.079423 -0.018715 -0.050526  0.076033\n",
       "27    -0.412498  0.225075 -0.546103  0.282792  0.227922 -0.141002  0.041613\n",
       "28    -0.673800 -0.070554 -0.101662 -0.200828  0.035760 -0.088567 -0.009799\n",
       "29     3.018781  1.899327  1.796842  1.139209 -0.197393 -0.080001 -0.536682\n",
       "...         ...       ...       ...       ...       ...       ...       ...\n",
       "29383 -0.062748 -0.135516  0.224304  0.207530 -0.041303 -0.041989 -0.016348\n",
       "29384  0.032653  0.028742 -0.249285  0.270688  0.063535 -0.083779  0.008208\n",
       "29385 -0.491690 -0.138059  0.248038 -0.211821 -0.102691 -0.037130 -0.072097\n",
       "29386 -0.489653 -0.588130 -0.034010 -0.067709  0.029590 -0.077544 -0.008765\n",
       "29387 -0.614399  0.725360 -0.189397 -0.045192  0.054687 -0.094591 -0.083985\n",
       "29388  1.891024  0.173576 -0.826735 -0.014353 -0.124647  0.031194  0.090679\n",
       "29389 -0.139911  0.243272 -0.015641 -0.015774 -0.163275  0.010888 -0.105115\n",
       "29390  0.182542 -0.082588  0.006404 -0.130955 -0.097497 -0.031791 -0.097640\n",
       "29391 -0.184464 -0.011803 -0.088725  0.140007 -0.078133  0.189390  0.079000\n",
       "29392 -0.316826  0.011198 -0.035218 -0.041217 -0.178589  0.156551 -0.120554\n",
       "29393 -0.171700  1.215239  0.413554 -0.266846  0.003924 -0.127369 -0.090435\n",
       "29394  0.006883 -0.019622  0.290122  0.067146 -0.125801 -0.009680 -0.084951\n",
       "29395  2.448224 -0.545097  0.164985  0.094111  0.075022 -0.112781  0.302442\n",
       "29396 -0.483992 -0.335042  0.197734  0.001958 -0.057881 -0.053337 -0.058593\n",
       "29397 -0.262106 -0.250819  0.001748  0.013708  0.144270 -0.010531 -0.008190\n",
       "29398  0.026372 -0.041155 -0.070151  0.214044  0.048144 -0.081474  0.021348\n",
       "29399 -0.201388 -0.296743 -0.075709  0.318595 -0.205735  0.060721 -0.166042\n",
       "29400 -0.007649 -0.056016 -0.117928  0.467938  0.236303 -0.178278 -0.066498\n",
       "29401 -0.030786  0.757467 -0.015405 -0.145429 -0.028733 -0.060901 -0.022169\n",
       "29402 -0.296293 -0.161394  0.004860 -0.044709 -0.036763 -0.040132 -0.067345\n",
       "29403 -0.045524  0.386443  0.524079 -0.123465  0.140165 -0.180639  0.001401\n",
       "29404 -0.548813 -0.614284  0.391400 -0.058009 -0.064715  0.083096  0.004791\n",
       "29405 -0.336546 -0.502366  0.210167  0.285476  0.145574 -0.152903 -0.062559\n",
       "29406  0.135833  0.337659 -0.185344 -0.422485  0.022993 -0.101687  0.024977\n",
       "29407 -0.073018 -0.081292  0.042976 -0.083391  0.116049 -0.135103  0.045003\n",
       "29408 -0.653790 -0.480421  0.156626  0.048186 -0.025359 -0.059410 -0.086872\n",
       "29409 -0.311197 -0.148449 -0.110133 -0.015257 -0.007394 -0.064168 -0.031886\n",
       "29410 -0.069882  0.293438 -0.044959 -0.175432 -0.088556 -0.030968 -0.038188\n",
       "29411 -0.014785  0.093511  0.230806  0.153614 -0.091778  0.447106  0.223137\n",
       "29412 -0.168622  0.264028  0.462545 -0.053441 -0.164931 -0.005013 -0.045341\n",
       "\n",
       "[29413 rows x 7 columns]"
      ]
     },
     "execution_count": 110,
     "metadata": {},
     "output_type": "execute_result"
    }
   ],
   "source": [
    "transformed_x"
   ]
  },
  {
   "cell_type": "code",
   "execution_count": 111,
   "metadata": {},
   "outputs": [
    {
     "data": {
      "text/plain": [
       "(29413,)"
      ]
     },
     "execution_count": 111,
     "metadata": {},
     "output_type": "execute_result"
    }
   ],
   "source": [
    "predicted_values_test = logIt.predict(transformed_x)\n",
    "predicted_values_test.shape"
   ]
  },
  {
   "cell_type": "code",
   "execution_count": 112,
   "metadata": {},
   "outputs": [
    {
     "data": {
      "text/plain": [
       "array([1, 1, 1, ..., 1, 0, 1], dtype=int64)"
      ]
     },
     "execution_count": 112,
     "metadata": {},
     "output_type": "execute_result"
    }
   ],
   "source": [
    "predicted_values_test"
   ]
  },
  {
   "cell_type": "code",
   "execution_count": 113,
   "metadata": {},
   "outputs": [
    {
     "data": {
      "text/plain": [
       "(29413, 1)"
      ]
     },
     "execution_count": 113,
     "metadata": {},
     "output_type": "execute_result"
    }
   ],
   "source": [
    "same_test_y.shape"
   ]
  },
  {
   "cell_type": "code",
   "execution_count": 116,
   "metadata": {},
   "outputs": [
    {
     "data": {
      "text/plain": [
       "array([[ 6175,  7691],\n",
       "       [ 3405, 12142]], dtype=int64)"
      ]
     },
     "execution_count": 116,
     "metadata": {},
     "output_type": "execute_result"
    }
   ],
   "source": [
    "cnf_matrix = metrics.confusion_matrix(same_test_y, predicted_values_test)\n",
    "cnf_matrix"
   ]
  },
  {
   "cell_type": "code",
   "execution_count": 115,
   "metadata": {},
   "outputs": [
    {
     "data": {
      "text/plain": [
       "Text(0.5,257.44,'Predicted Label')"
      ]
     },
     "execution_count": 115,
     "metadata": {},
     "output_type": "execute_result"
    },
    {
     "data": {
      "image/png": "[encoded data removed]",
      "text/plain": [
       "<Figure size 432x288 with 2 Axes>"
      ]
     },
     "metadata": {},
     "output_type": "display_data"
    }
   ],
   "source": [
    "class_names = [0,1]\n",
    "fig, ax = plt.subplots()\n",
    "tick_marks = np.arange(len(class_names))\n",
    "plt.xticks(tick_marks, class_names)\n",
    "plt.yticks(tick_marks, class_names)\n",
    "\n",
    "#create heatmap\n",
    "sns.heatmap(pd.DataFrame(cnf_matrix), annot=True, cmap=\"YlGnBu\", fmt='g')\n",
    "ax.xaxis.set_label_position(\"top\")\n",
    "plt.tight_layout()\n",
    "plt.title('Confusion matrix for Test Data', y=1.1)\n",
    "plt.ylabel('Actual Label')\n",
    "plt.xlabel('Predicted Label')"
   ]
  },
  {
   "cell_type": "code",
   "execution_count": 117,
   "metadata": {},
   "outputs": [
    {
     "name": "stdout",
     "output_type": "stream",
     "text": [
      "Accuracy :  0.6227518444225343\n",
      "Precision :  0.6122119699490748\n",
      "Recall :  0.7809866855341867\n"
     ]
    }
   ],
   "source": [
    "print('Accuracy : ', metrics.accuracy_score(same_test_y, predicted_values_test))\n",
    "print('Precision : ', metrics.precision_score(same_test_y, predicted_values_test))\n",
    "print('Recall : ', metrics.recall_score(same_test_y, predicted_values_test))"
   ]
  },
  {
   "cell_type": "code",
   "execution_count": 119,
   "metadata": {},
   "outputs": [
    {
     "data": {
      "image/png": "[encoded data removed]",
      "text/plain": [
       "<Figure size 432x288 with 1 Axes>"
      ]
     },
     "metadata": {},
     "output_type": "display_data"
    }
   ],
   "source": [
    "y_pred_proba = logisticRegr.predict_proba(transformed_x)[::,1]\n",
    "fpr, tpr, _ = metrics.roc_curve(y, y_pred_proba)\n",
    "auc = metrics.roc_auc_score(same_test_y, y_pred_proba)\n",
    "plt.plot(fpr, tpr, label=\"data 1, auc=\"+str(auc))\n",
    "plt.legend(loc=4)\n",
    "plt.show()"
   ]
  },
  {
   "cell_type": "markdown",
   "metadata": {},
   "source": [
    "# Model with 65% AUC value"
   ]
  }
 ],
 "metadata": {
  "kernelspec": {
   "display_name": "Python 3",
   "language": "python",
   "name": "python3"
  },
  "language_info": {
   "codemirror_mode": {
    "name": "ipython",
    "version": 3
   },
   "file_extension": ".py",
   "mimetype": "text/x-python",
   "name": "python",
   "nbconvert_exporter": "python",
   "pygments_lexer": "ipython3",
   "version": "3.7.3"
  }
 },
 "nbformat": 4,
 "nbformat_minor": 2
}

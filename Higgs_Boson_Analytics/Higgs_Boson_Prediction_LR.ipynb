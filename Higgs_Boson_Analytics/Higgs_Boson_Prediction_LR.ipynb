{
 "cells": [
  {
   "cell_type": "markdown",
   "metadata": {
    "slideshow": {
     "slide_type": "slide"
    }
   },
   "source": [
    "# <font color=green>Data Analysis for CUTE-2</font>"
   ]
  },
  {
   "cell_type": "markdown",
   "metadata": {
    "slideshow": {
     "slide_type": "slide"
    }
   },
   "source": [
    "#### <font color=orange>Click bellow for redirecting to repsective sections</font>"
   ]
  },
  {
   "cell_type": "markdown",
   "metadata": {},
   "source": [
    "1. [Load the Train Data file](#Load-the-Train-Data-file)\n",
    "2. [Drop columns which will not be part of analysis](#Drop-columns-which-will-not-be-part-of-analysis)\n",
    "3. [Change target attribute data type to categorical type](#Change-target-attribute-data-type-to-categorical-type)\n",
    "    \n",
    "4. [Descriptive Analysis of Dataset](#Descriptive-Analysis-of-Dataset)\n",
    "    \n",
    "    4.1 [Let's see how many records and attributes we have in our data set](#Let's-see-how-many-records-and-attributes-we-have-in-our-data-set)\n",
    "    \n",
    "    4.2 [Let's explore the features of our dataset](#Let's-explore-the-features-of-our-dataset)\n",
    "    \n",
    "         \n",
    "5. [Check for missing values](#Check-for-missing-values)\n",
    "6. [Correlation plot among independent variable](#Correlation-plot-among-independent-variable)\n",
    "7. [Split the data into predictor and target variable](#Split-the-data-into-predictor-and-target-variable)\n",
    "8. [Apply Logistic Regression](#Apply-Logistic-Regression)\n",
    "9. [K-Fold Cross validation](#K-Fold-Cross-validation)\n",
    "10. [Predict on Train data](#Predict-on-Train-data)\n",
    "11. [Confusion Matrix Evaluation Metrics](#Confusion-Matrix-Evaluation-Metrics)\n",
    "12. [ROC Curve](#ROC-Curve)\n",
    "13. [Load the Test data](#Load-the-Test-data)\n",
    "    \n",
    "    13.1 [Confusion Matrix Evaluation Metrics for Test data](#Confusion-Matrix-Evaluation-Metrics-for-Test-data)\n",
    "14. [ROC Curve of Test Data](#ROC-Curve-of-Test-Data)"
   ]
  },
  {
   "cell_type": "code",
   "execution_count": 3,
   "metadata": {},
   "outputs": [],
   "source": [
    "import pandas as pd\n",
    "import numpy as np\n",
    "import matplotlib.pyplot as plt \n",
    "plt.rc(\"font\", size=14)\n",
    "from sklearn import preprocessing\n",
    "from sklearn.linear_model import LogisticRegression\n",
    "from sklearn.cross_validation import train_test_split\n",
    "from sklearn.feature_selection import \n",
    "import seaborn as sns\n",
    "sns.set(style=\"white\")\n",
    "sns.set(style=\"whitegrid\", color_codes=True)"
   ]
  },
  {
   "cell_type": "markdown",
   "metadata": {},
   "source": [
    "# <font color=green>Load the Train Data file</font>"
   ]
  },
  {
   "cell_type": "code",
   "execution_count": 3,
   "metadata": {},
   "outputs": [],
   "source": [
    "train_DF = pd.read_csv(\"CSE7302c_train-1539668060821.csv\",sep=',')"
   ]
  },
  {
   "cell_type": "markdown",
   "metadata": {},
   "source": [
    "# <font color='green'>Drop columns which will not be part of analysis</font>"
   ]
  },
  {
   "cell_type": "code",
   "execution_count": 4,
   "metadata": {},
   "outputs": [],
   "source": [
    "train_DF = train_DF.drop(['m_jj','m_jjj','m_lv','m_jlv','m_bb','m_wbb','m_wwbb','id'], axis=1)"
   ]
  },
  {
   "cell_type": "markdown",
   "metadata": {},
   "source": [
    "# <font color=green>Change target attribute data type to categorical type</font>"
   ]
  },
  {
   "cell_type": "code",
   "execution_count": 5,
   "metadata": {},
   "outputs": [],
   "source": [
    "train_DF['class'] = train_DF['class'].astype('category')"
   ]
  },
  {
   "cell_type": "markdown",
   "metadata": {},
   "source": [
    "# <font color=green>Descriptive Analysis of Dataset</font>"
   ]
  },
  {
   "cell_type": "code",
   "execution_count": 6,
   "metadata": {},
   "outputs": [
    {
     "data": {
      "text/html": [
       "<div>\n",
       "<style scoped>\n",
       "    .dataframe tbody tr th:only-of-type {\n",
       "        vertical-align: middle;\n",
       "    }\n",
       "\n",
       "    .dataframe tbody tr th {\n",
       "        vertical-align: top;\n",
       "    }\n",
       "\n",
       "    .dataframe thead th {\n",
       "        text-align: right;\n",
       "    }\n",
       "</style>\n",
       "<table border=\"1\" class=\"dataframe\">\n",
       "  <thead>\n",
       "    <tr style=\"text-align: right;\">\n",
       "      <th></th>\n",
       "      <th>class</th>\n",
       "      <th>lepton_pT</th>\n",
       "      <th>lepton_eta</th>\n",
       "      <th>lepton_phi</th>\n",
       "      <th>missing_energy_magnitude</th>\n",
       "      <th>missing_energy_phi</th>\n",
       "      <th>jet1pt</th>\n",
       "      <th>jet1eta</th>\n",
       "      <th>jet1phi</th>\n",
       "      <th>jet1b.tag</th>\n",
       "      <th>...</th>\n",
       "      <th>jet2phi</th>\n",
       "      <th>jet2b.tag</th>\n",
       "      <th>jet3pt</th>\n",
       "      <th>jet3eta</th>\n",
       "      <th>jet3phi</th>\n",
       "      <th>jet3b.tag</th>\n",
       "      <th>jet4pt</th>\n",
       "      <th>jet4eta</th>\n",
       "      <th>jet4phi</th>\n",
       "      <th>jet4b.tag</th>\n",
       "    </tr>\n",
       "  </thead>\n",
       "  <tbody>\n",
       "    <tr>\n",
       "      <th>0</th>\n",
       "      <td>1</td>\n",
       "      <td>0.907542</td>\n",
       "      <td>0.329147</td>\n",
       "      <td>0.359412</td>\n",
       "      <td>1.497970</td>\n",
       "      <td>-0.313010</td>\n",
       "      <td>1.095531</td>\n",
       "      <td>-0.557525</td>\n",
       "      <td>-1.588230</td>\n",
       "      <td>2.173076</td>\n",
       "      <td>...</td>\n",
       "      <td>1.271015</td>\n",
       "      <td>2.214872</td>\n",
       "      <td>0.499994</td>\n",
       "      <td>-1.261432</td>\n",
       "      <td>0.732156</td>\n",
       "      <td>0.000000</td>\n",
       "      <td>0.398701</td>\n",
       "      <td>-1.138930</td>\n",
       "      <td>-0.000819</td>\n",
       "      <td>0.000000</td>\n",
       "    </tr>\n",
       "    <tr>\n",
       "      <th>1</th>\n",
       "      <td>1</td>\n",
       "      <td>0.798835</td>\n",
       "      <td>1.470639</td>\n",
       "      <td>-1.635975</td>\n",
       "      <td>0.453773</td>\n",
       "      <td>0.425629</td>\n",
       "      <td>1.104875</td>\n",
       "      <td>1.282322</td>\n",
       "      <td>1.381664</td>\n",
       "      <td>0.000000</td>\n",
       "      <td>...</td>\n",
       "      <td>-0.819690</td>\n",
       "      <td>2.214872</td>\n",
       "      <td>0.993490</td>\n",
       "      <td>0.356080</td>\n",
       "      <td>-0.208778</td>\n",
       "      <td>2.548224</td>\n",
       "      <td>1.256955</td>\n",
       "      <td>1.128848</td>\n",
       "      <td>0.900461</td>\n",
       "      <td>0.000000</td>\n",
       "    </tr>\n",
       "    <tr>\n",
       "      <th>2</th>\n",
       "      <td>0</td>\n",
       "      <td>1.344385</td>\n",
       "      <td>-0.876626</td>\n",
       "      <td>0.935913</td>\n",
       "      <td>1.992050</td>\n",
       "      <td>0.882454</td>\n",
       "      <td>1.786066</td>\n",
       "      <td>-1.646778</td>\n",
       "      <td>-0.942383</td>\n",
       "      <td>0.000000</td>\n",
       "      <td>...</td>\n",
       "      <td>0.736159</td>\n",
       "      <td>2.214872</td>\n",
       "      <td>1.298720</td>\n",
       "      <td>-1.430738</td>\n",
       "      <td>-0.364658</td>\n",
       "      <td>0.000000</td>\n",
       "      <td>0.745313</td>\n",
       "      <td>-0.678379</td>\n",
       "      <td>-1.360356</td>\n",
       "      <td>0.000000</td>\n",
       "    </tr>\n",
       "    <tr>\n",
       "      <th>3</th>\n",
       "      <td>0</td>\n",
       "      <td>1.595839</td>\n",
       "      <td>-0.607811</td>\n",
       "      <td>0.007075</td>\n",
       "      <td>1.818450</td>\n",
       "      <td>-0.111906</td>\n",
       "      <td>0.847550</td>\n",
       "      <td>-0.566437</td>\n",
       "      <td>1.581239</td>\n",
       "      <td>2.173076</td>\n",
       "      <td>...</td>\n",
       "      <td>1.426367</td>\n",
       "      <td>0.000000</td>\n",
       "      <td>0.921661</td>\n",
       "      <td>-1.190432</td>\n",
       "      <td>-1.615589</td>\n",
       "      <td>0.000000</td>\n",
       "      <td>0.651114</td>\n",
       "      <td>-0.654227</td>\n",
       "      <td>-1.274345</td>\n",
       "      <td>3.101961</td>\n",
       "    </tr>\n",
       "    <tr>\n",
       "      <th>4</th>\n",
       "      <td>1</td>\n",
       "      <td>0.409391</td>\n",
       "      <td>-1.884684</td>\n",
       "      <td>-1.027292</td>\n",
       "      <td>1.672452</td>\n",
       "      <td>-1.604598</td>\n",
       "      <td>1.338015</td>\n",
       "      <td>0.055427</td>\n",
       "      <td>0.013466</td>\n",
       "      <td>2.173076</td>\n",
       "      <td>...</td>\n",
       "      <td>0.707862</td>\n",
       "      <td>0.000000</td>\n",
       "      <td>0.746918</td>\n",
       "      <td>-0.358465</td>\n",
       "      <td>-1.646654</td>\n",
       "      <td>0.000000</td>\n",
       "      <td>0.367058</td>\n",
       "      <td>0.069496</td>\n",
       "      <td>1.377130</td>\n",
       "      <td>3.101961</td>\n",
       "    </tr>\n",
       "  </tbody>\n",
       "</table>\n",
       "<p>5 rows × 22 columns</p>\n",
       "</div>"
      ],
      "text/plain": [
       "  class  lepton_pT  lepton_eta  lepton_phi  missing_energy_magnitude  \\\n",
       "0     1   0.907542    0.329147    0.359412                  1.497970   \n",
       "1     1   0.798835    1.470639   -1.635975                  0.453773   \n",
       "2     0   1.344385   -0.876626    0.935913                  1.992050   \n",
       "3     0   1.595839   -0.607811    0.007075                  1.818450   \n",
       "4     1   0.409391   -1.884684   -1.027292                  1.672452   \n",
       "\n",
       "   missing_energy_phi    jet1pt   jet1eta   jet1phi  jet1b.tag    ...      \\\n",
       "0           -0.313010  1.095531 -0.557525 -1.588230   2.173076    ...       \n",
       "1            0.425629  1.104875  1.282322  1.381664   0.000000    ...       \n",
       "2            0.882454  1.786066 -1.646778 -0.942383   0.000000    ...       \n",
       "3           -0.111906  0.847550 -0.566437  1.581239   2.173076    ...       \n",
       "4           -1.604598  1.338015  0.055427  0.013466   2.173076    ...       \n",
       "\n",
       "    jet2phi  jet2b.tag    jet3pt   jet3eta   jet3phi  jet3b.tag    jet4pt  \\\n",
       "0  1.271015   2.214872  0.499994 -1.261432  0.732156   0.000000  0.398701   \n",
       "1 -0.819690   2.214872  0.993490  0.356080 -0.208778   2.548224  1.256955   \n",
       "2  0.736159   2.214872  1.298720 -1.430738 -0.364658   0.000000  0.745313   \n",
       "3  1.426367   0.000000  0.921661 -1.190432 -1.615589   0.000000  0.651114   \n",
       "4  0.707862   0.000000  0.746918 -0.358465 -1.646654   0.000000  0.367058   \n",
       "\n",
       "    jet4eta   jet4phi  jet4b.tag  \n",
       "0 -1.138930 -0.000819   0.000000  \n",
       "1  1.128848  0.900461   0.000000  \n",
       "2 -0.678379 -1.360356   0.000000  \n",
       "3 -0.654227 -1.274345   3.101961  \n",
       "4  0.069496  1.377130   3.101961  \n",
       "\n",
       "[5 rows x 22 columns]"
      ]
     },
     "execution_count": 6,
     "metadata": {},
     "output_type": "execute_result"
    }
   ],
   "source": [
    "train_DF.head()"
   ]
  },
  {
   "cell_type": "code",
   "execution_count": 7,
   "metadata": {
    "scrolled": false
   },
   "outputs": [
    {
     "data": {
      "text/html": [
       "<div>\n",
       "<style scoped>\n",
       "    .dataframe tbody tr th:only-of-type {\n",
       "        vertical-align: middle;\n",
       "    }\n",
       "\n",
       "    .dataframe tbody tr th {\n",
       "        vertical-align: top;\n",
       "    }\n",
       "\n",
       "    .dataframe thead th {\n",
       "        text-align: right;\n",
       "    }\n",
       "</style>\n",
       "<table border=\"1\" class=\"dataframe\">\n",
       "  <thead>\n",
       "    <tr style=\"text-align: right;\">\n",
       "      <th></th>\n",
       "      <th>lepton_pT</th>\n",
       "      <th>lepton_eta</th>\n",
       "      <th>lepton_phi</th>\n",
       "      <th>missing_energy_magnitude</th>\n",
       "      <th>missing_energy_phi</th>\n",
       "      <th>jet1pt</th>\n",
       "      <th>jet1eta</th>\n",
       "      <th>jet1phi</th>\n",
       "      <th>jet1b.tag</th>\n",
       "      <th>jet2pt</th>\n",
       "      <th>...</th>\n",
       "      <th>jet2phi</th>\n",
       "      <th>jet2b.tag</th>\n",
       "      <th>jet3pt</th>\n",
       "      <th>jet3eta</th>\n",
       "      <th>jet3phi</th>\n",
       "      <th>jet3b.tag</th>\n",
       "      <th>jet4pt</th>\n",
       "      <th>jet4eta</th>\n",
       "      <th>jet4phi</th>\n",
       "      <th>jet4b.tag</th>\n",
       "    </tr>\n",
       "  </thead>\n",
       "  <tbody>\n",
       "    <tr>\n",
       "      <th>count</th>\n",
       "      <td>68636.000000</td>\n",
       "      <td>68636.000000</td>\n",
       "      <td>68636.000000</td>\n",
       "      <td>68636.000000</td>\n",
       "      <td>68636.000000</td>\n",
       "      <td>68636.000000</td>\n",
       "      <td>68636.000000</td>\n",
       "      <td>68636.000000</td>\n",
       "      <td>68636.000000</td>\n",
       "      <td>68636.000000</td>\n",
       "      <td>...</td>\n",
       "      <td>68636.000000</td>\n",
       "      <td>68636.000000</td>\n",
       "      <td>68636.000000</td>\n",
       "      <td>68636.000000</td>\n",
       "      <td>68636.000000</td>\n",
       "      <td>68636.000000</td>\n",
       "      <td>68636.000000</td>\n",
       "      <td>68636.000000</td>\n",
       "      <td>68636.000000</td>\n",
       "      <td>68636.000000</td>\n",
       "    </tr>\n",
       "    <tr>\n",
       "      <th>mean</th>\n",
       "      <td>0.989390</td>\n",
       "      <td>-0.004752</td>\n",
       "      <td>-0.000865</td>\n",
       "      <td>0.998634</td>\n",
       "      <td>-0.004615</td>\n",
       "      <td>0.988293</td>\n",
       "      <td>-0.004521</td>\n",
       "      <td>0.001059</td>\n",
       "      <td>0.997492</td>\n",
       "      <td>0.991622</td>\n",
       "      <td>...</td>\n",
       "      <td>0.006480</td>\n",
       "      <td>1.005221</td>\n",
       "      <td>0.992581</td>\n",
       "      <td>0.002618</td>\n",
       "      <td>0.000623</td>\n",
       "      <td>1.003886</td>\n",
       "      <td>0.985643</td>\n",
       "      <td>-0.005873</td>\n",
       "      <td>-0.001390</td>\n",
       "      <td>0.989418</td>\n",
       "    </tr>\n",
       "    <tr>\n",
       "      <th>std</th>\n",
       "      <td>0.562599</td>\n",
       "      <td>1.005846</td>\n",
       "      <td>1.006407</td>\n",
       "      <td>0.597851</td>\n",
       "      <td>1.006065</td>\n",
       "      <td>0.473853</td>\n",
       "      <td>1.010098</td>\n",
       "      <td>1.007629</td>\n",
       "      <td>1.026956</td>\n",
       "      <td>0.498138</td>\n",
       "      <td>...</td>\n",
       "      <td>1.006456</td>\n",
       "      <td>1.049643</td>\n",
       "      <td>0.488648</td>\n",
       "      <td>1.009840</td>\n",
       "      <td>1.005934</td>\n",
       "      <td>1.196556</td>\n",
       "      <td>0.502981</td>\n",
       "      <td>1.009085</td>\n",
       "      <td>1.007525</td>\n",
       "      <td>1.395692</td>\n",
       "    </tr>\n",
       "    <tr>\n",
       "      <th>min</th>\n",
       "      <td>0.274697</td>\n",
       "      <td>-2.434976</td>\n",
       "      <td>-1.742508</td>\n",
       "      <td>0.001283</td>\n",
       "      <td>-1.743944</td>\n",
       "      <td>0.140434</td>\n",
       "      <td>-2.968735</td>\n",
       "      <td>-1.741237</td>\n",
       "      <td>0.000000</td>\n",
       "      <td>0.189737</td>\n",
       "      <td>...</td>\n",
       "      <td>-1.742372</td>\n",
       "      <td>0.000000</td>\n",
       "      <td>0.263608</td>\n",
       "      <td>-2.728753</td>\n",
       "      <td>-1.742069</td>\n",
       "      <td>0.000000</td>\n",
       "      <td>0.365354</td>\n",
       "      <td>-2.497265</td>\n",
       "      <td>-1.742691</td>\n",
       "      <td>0.000000</td>\n",
       "    </tr>\n",
       "    <tr>\n",
       "      <th>25%</th>\n",
       "      <td>0.590204</td>\n",
       "      <td>-0.744166</td>\n",
       "      <td>-0.869156</td>\n",
       "      <td>0.578363</td>\n",
       "      <td>-0.877512</td>\n",
       "      <td>0.676977</td>\n",
       "      <td>-0.696157</td>\n",
       "      <td>-0.864770</td>\n",
       "      <td>0.000000</td>\n",
       "      <td>0.656964</td>\n",
       "      <td>...</td>\n",
       "      <td>-0.863521</td>\n",
       "      <td>0.000000</td>\n",
       "      <td>0.653311</td>\n",
       "      <td>-0.695257</td>\n",
       "      <td>-0.866142</td>\n",
       "      <td>0.000000</td>\n",
       "      <td>0.617767</td>\n",
       "      <td>-0.721686</td>\n",
       "      <td>-0.874392</td>\n",
       "      <td>0.000000</td>\n",
       "    </tr>\n",
       "    <tr>\n",
       "      <th>50%</th>\n",
       "      <td>0.853738</td>\n",
       "      <td>-0.003950</td>\n",
       "      <td>0.003191</td>\n",
       "      <td>0.892574</td>\n",
       "      <td>-0.008968</td>\n",
       "      <td>0.892804</td>\n",
       "      <td>-0.002006</td>\n",
       "      <td>-0.006040</td>\n",
       "      <td>1.086538</td>\n",
       "      <td>0.889382</td>\n",
       "      <td>...</td>\n",
       "      <td>0.012106</td>\n",
       "      <td>1.107436</td>\n",
       "      <td>0.897249</td>\n",
       "      <td>0.002904</td>\n",
       "      <td>-0.000197</td>\n",
       "      <td>0.000000</td>\n",
       "      <td>0.870424</td>\n",
       "      <td>-0.007956</td>\n",
       "      <td>-0.004703</td>\n",
       "      <td>0.000000</td>\n",
       "    </tr>\n",
       "    <tr>\n",
       "      <th>75%</th>\n",
       "      <td>1.234030</td>\n",
       "      <td>0.734318</td>\n",
       "      <td>0.869884</td>\n",
       "      <td>1.294878</td>\n",
       "      <td>0.867539</td>\n",
       "      <td>1.167717</td>\n",
       "      <td>0.689175</td>\n",
       "      <td>0.873302</td>\n",
       "      <td>2.173076</td>\n",
       "      <td>1.200490</td>\n",
       "      <td>...</td>\n",
       "      <td>0.880414</td>\n",
       "      <td>2.214872</td>\n",
       "      <td>1.221973</td>\n",
       "      <td>0.701975</td>\n",
       "      <td>0.875833</td>\n",
       "      <td>2.548224</td>\n",
       "      <td>1.220443</td>\n",
       "      <td>0.709938</td>\n",
       "      <td>0.874380</td>\n",
       "      <td>3.101961</td>\n",
       "    </tr>\n",
       "    <tr>\n",
       "      <th>max</th>\n",
       "      <td>7.805887</td>\n",
       "      <td>2.433894</td>\n",
       "      <td>1.743236</td>\n",
       "      <td>7.998711</td>\n",
       "      <td>1.743229</td>\n",
       "      <td>6.534160</td>\n",
       "      <td>2.964723</td>\n",
       "      <td>1.741454</td>\n",
       "      <td>2.173076</td>\n",
       "      <td>6.498635</td>\n",
       "      <td>...</td>\n",
       "      <td>1.743175</td>\n",
       "      <td>2.214872</td>\n",
       "      <td>8.509908</td>\n",
       "      <td>2.730009</td>\n",
       "      <td>1.742884</td>\n",
       "      <td>2.548224</td>\n",
       "      <td>6.605096</td>\n",
       "      <td>2.498009</td>\n",
       "      <td>1.743372</td>\n",
       "      <td>3.101961</td>\n",
       "    </tr>\n",
       "  </tbody>\n",
       "</table>\n",
       "<p>8 rows × 21 columns</p>\n",
       "</div>"
      ],
      "text/plain": [
       "          lepton_pT    lepton_eta    lepton_phi  missing_energy_magnitude  \\\n",
       "count  68636.000000  68636.000000  68636.000000              68636.000000   \n",
       "mean       0.989390     -0.004752     -0.000865                  0.998634   \n",
       "std        0.562599      1.005846      1.006407                  0.597851   \n",
       "min        0.274697     -2.434976     -1.742508                  0.001283   \n",
       "25%        0.590204     -0.744166     -0.869156                  0.578363   \n",
       "50%        0.853738     -0.003950      0.003191                  0.892574   \n",
       "75%        1.234030      0.734318      0.869884                  1.294878   \n",
       "max        7.805887      2.433894      1.743236                  7.998711   \n",
       "\n",
       "       missing_energy_phi        jet1pt       jet1eta       jet1phi  \\\n",
       "count        68636.000000  68636.000000  68636.000000  68636.000000   \n",
       "mean            -0.004615      0.988293     -0.004521      0.001059   \n",
       "std              1.006065      0.473853      1.010098      1.007629   \n",
       "min             -1.743944      0.140434     -2.968735     -1.741237   \n",
       "25%             -0.877512      0.676977     -0.696157     -0.864770   \n",
       "50%             -0.008968      0.892804     -0.002006     -0.006040   \n",
       "75%              0.867539      1.167717      0.689175      0.873302   \n",
       "max              1.743229      6.534160      2.964723      1.741454   \n",
       "\n",
       "          jet1b.tag        jet2pt      ...            jet2phi     jet2b.tag  \\\n",
       "count  68636.000000  68636.000000      ...       68636.000000  68636.000000   \n",
       "mean       0.997492      0.991622      ...           0.006480      1.005221   \n",
       "std        1.026956      0.498138      ...           1.006456      1.049643   \n",
       "min        0.000000      0.189737      ...          -1.742372      0.000000   \n",
       "25%        0.000000      0.656964      ...          -0.863521      0.000000   \n",
       "50%        1.086538      0.889382      ...           0.012106      1.107436   \n",
       "75%        2.173076      1.200490      ...           0.880414      2.214872   \n",
       "max        2.173076      6.498635      ...           1.743175      2.214872   \n",
       "\n",
       "             jet3pt       jet3eta       jet3phi     jet3b.tag        jet4pt  \\\n",
       "count  68636.000000  68636.000000  68636.000000  68636.000000  68636.000000   \n",
       "mean       0.992581      0.002618      0.000623      1.003886      0.985643   \n",
       "std        0.488648      1.009840      1.005934      1.196556      0.502981   \n",
       "min        0.263608     -2.728753     -1.742069      0.000000      0.365354   \n",
       "25%        0.653311     -0.695257     -0.866142      0.000000      0.617767   \n",
       "50%        0.897249      0.002904     -0.000197      0.000000      0.870424   \n",
       "75%        1.221973      0.701975      0.875833      2.548224      1.220443   \n",
       "max        8.509908      2.730009      1.742884      2.548224      6.605096   \n",
       "\n",
       "            jet4eta       jet4phi     jet4b.tag  \n",
       "count  68636.000000  68636.000000  68636.000000  \n",
       "mean      -0.005873     -0.001390      0.989418  \n",
       "std        1.009085      1.007525      1.395692  \n",
       "min       -2.497265     -1.742691      0.000000  \n",
       "25%       -0.721686     -0.874392      0.000000  \n",
       "50%       -0.007956     -0.004703      0.000000  \n",
       "75%        0.709938      0.874380      3.101961  \n",
       "max        2.498009      1.743372      3.101961  \n",
       "\n",
       "[8 rows x 21 columns]"
      ]
     },
     "execution_count": 7,
     "metadata": {},
     "output_type": "execute_result"
    }
   ],
   "source": [
    "train_DF.describe()"
   ]
  },
  {
   "cell_type": "markdown",
   "metadata": {},
   "source": [
    "<font color=red>lepton_pT, missing_energy_magnitude, jet1pt, jet2pt, jet3pt, jet4pt features might contains influential points or outliers</font>"
   ]
  },
  {
   "cell_type": "markdown",
   "metadata": {},
   "source": [
    "### Let's see how many records and attributes we have in our data set"
   ]
  },
  {
   "cell_type": "code",
   "execution_count": 8,
   "metadata": {},
   "outputs": [
    {
     "data": {
      "text/plain": [
       "(68636, 22)"
      ]
     },
     "execution_count": 8,
     "metadata": {},
     "output_type": "execute_result"
    }
   ],
   "source": [
    "train_DF.shape"
   ]
  },
  {
   "cell_type": "markdown",
   "metadata": {},
   "source": [
    "Our Dataset has 22 features with 68636 records"
   ]
  },
  {
   "cell_type": "markdown",
   "metadata": {},
   "source": [
    "### Let's explore the features of our dataset"
   ]
  },
  {
   "cell_type": "code",
   "execution_count": 9,
   "metadata": {},
   "outputs": [
    {
     "data": {
      "text/plain": [
       "class                       category\n",
       "lepton_pT                    float64\n",
       "lepton_eta                   float64\n",
       "lepton_phi                   float64\n",
       "missing_energy_magnitude     float64\n",
       "missing_energy_phi           float64\n",
       "jet1pt                       float64\n",
       "jet1eta                      float64\n",
       "jet1phi                      float64\n",
       "jet1b.tag                    float64\n",
       "jet2pt                       float64\n",
       "jet2eta                      float64\n",
       "jet2phi                      float64\n",
       "jet2b.tag                    float64\n",
       "jet3pt                       float64\n",
       "jet3eta                      float64\n",
       "jet3phi                      float64\n",
       "jet3b.tag                    float64\n",
       "jet4pt                       float64\n",
       "jet4eta                      float64\n",
       "jet4phi                      float64\n",
       "jet4b.tag                    float64\n",
       "dtype: object"
      ]
     },
     "execution_count": 9,
     "metadata": {},
     "output_type": "execute_result"
    }
   ],
   "source": [
    "train_DF.dtypes"
   ]
  },
  {
   "cell_type": "code",
   "execution_count": 10,
   "metadata": {},
   "outputs": [
    {
     "data": {
      "image/png": "[encoded data removed]",
      "text/plain": [
       "<Figure size 432x288 with 1 Axes>"
      ]
     },
     "metadata": {},
     "output_type": "display_data"
    }
   ],
   "source": [
    "sns.countplot(x=train_DF['class'],data=train_DF, palette='hls')\n",
    "plt.show()"
   ]
  },
  {
   "cell_type": "markdown",
   "metadata": {},
   "source": [
    "# <font color=green>Check for missing values</font>"
   ]
  },
  {
   "cell_type": "code",
   "execution_count": 11,
   "metadata": {},
   "outputs": [
    {
     "data": {
      "text/plain": [
       "class                       0\n",
       "lepton_pT                   0\n",
       "lepton_eta                  0\n",
       "lepton_phi                  0\n",
       "missing_energy_magnitude    0\n",
       "missing_energy_phi          0\n",
       "jet1pt                      0\n",
       "jet1eta                     0\n",
       "jet1phi                     0\n",
       "jet1b.tag                   0\n",
       "jet2pt                      0\n",
       "jet2eta                     0\n",
       "jet2phi                     0\n",
       "jet2b.tag                   0\n",
       "jet3pt                      0\n",
       "jet3eta                     0\n",
       "jet3phi                     0\n",
       "jet3b.tag                   0\n",
       "jet4pt                      0\n",
       "jet4eta                     0\n",
       "jet4phi                     0\n",
       "jet4b.tag                   0\n",
       "dtype: int64"
      ]
     },
     "execution_count": 11,
     "metadata": {},
     "output_type": "execute_result"
    }
   ],
   "source": [
    "train_DF.isna().sum()"
   ]
  },
  {
   "cell_type": "markdown",
   "metadata": {},
   "source": [
    "# <font color=green>Correlation plot among independent variable</font>"
   ]
  },
  {
   "cell_type": "code",
   "execution_count": 12,
   "metadata": {},
   "outputs": [
    {
     "data": {
      "image/png": "[encoded data removed]",
      "text/plain": [
       "<Figure size 432x288 with 2 Axes>"
      ]
     },
     "metadata": {},
     "output_type": "display_data"
    }
   ],
   "source": [
    "sns.heatmap(train_DF.corr())\n",
    "plt.show()"
   ]
  },
  {
   "cell_type": "markdown",
   "metadata": {},
   "source": [
    "# <font color=green>Split the data into predictor and target variable</font>"
   ]
  },
  {
   "cell_type": "code",
   "execution_count": 13,
   "metadata": {},
   "outputs": [],
   "source": [
    "X = train_DF.iloc[:,1:22]\n",
    "y = train_DF.iloc[:,0]"
   ]
  },
  {
   "cell_type": "markdown",
   "metadata": {},
   "source": [
    "# <font color=green>Apply Logistic Regression</font>"
   ]
  },
  {
   "cell_type": "code",
   "execution_count": 14,
   "metadata": {},
   "outputs": [
    {
     "data": {
      "text/plain": [
       "LogisticRegression(C=1.0, class_weight=None, dual=False, fit_intercept=True,\n",
       "          intercept_scaling=1, max_iter=100, multi_class='ovr', n_jobs=1,\n",
       "          penalty='l2', random_state=0, solver='liblinear', tol=0.0001,\n",
       "          verbose=0, warm_start=False)"
      ]
     },
     "execution_count": 14,
     "metadata": {},
     "output_type": "execute_result"
    }
   ],
   "source": [
    "from sklearn.linear_model import LogisticRegression\n",
    "logisticRegr = LogisticRegression(random_state=0)\n",
    "\n",
    "X_train, X_test, y_train, y_test = train_test_split(X, y, random_state=0)\n",
    "logisticRegr.fit(X_train, y_train)"
   ]
  },
  {
   "cell_type": "markdown",
   "metadata": {},
   "source": [
    "# <font color=green>K-Fold Cross validation</font>"
   ]
  },
  {
   "cell_type": "code",
   "execution_count": 15,
   "metadata": {},
   "outputs": [],
   "source": [
    "model = logisticRegr"
   ]
  },
  {
   "cell_type": "code",
   "execution_count": 16,
   "metadata": {},
   "outputs": [
    {
     "name": "stdout",
     "output_type": "stream",
     "text": [
      "[0.5372960372960373, 0.5483682983682984, 0.5501165501165501, 0.5510204081632653, 0.5611888111888111, 0.5652680652680653, 0.567016317016317, 0.567016317016317, 0.5728438228438228, 0.5775058275058275]\n"
     ]
    }
   ],
   "source": [
    "from sklearn.model_selection import KFold\n",
    "from sklearn.model_selection import cross_val_score\n",
    "kf = KFold(n_splits=10,random_state=9, shuffle=True)\n",
    "print(sorted(list(cross_val_score(model, X_test, y_test, cv=kf))))\n",
    "#print(cross_val_score(model, X_test, y_test, cv=kf).mean())"
   ]
  },
  {
   "cell_type": "markdown",
   "metadata": {},
   "source": [
    "Accuracy is within the range of 52% to 56%"
   ]
  },
  {
   "cell_type": "markdown",
   "metadata": {},
   "source": [
    "# <font color=green>Predict on Train data</font>"
   ]
  },
  {
   "cell_type": "code",
   "execution_count": 17,
   "metadata": {},
   "outputs": [
    {
     "data": {
      "text/plain": [
       "(17159,)"
      ]
     },
     "execution_count": 17,
     "metadata": {},
     "output_type": "execute_result"
    }
   ],
   "source": [
    "pred_test = logisticRegr.predict(X_test)\n",
    "pred_test.shape"
   ]
  },
  {
   "cell_type": "markdown",
   "metadata": {},
   "source": [
    "# <font color=green>Confusion Matrix Evaluation Metrics for Train Data</font>"
   ]
  },
  {
   "cell_type": "code",
   "execution_count": 18,
   "metadata": {},
   "outputs": [
    {
     "data": {
      "text/plain": [
       "array([[3436, 4628],\n",
       "       [2868, 6227]], dtype=int64)"
      ]
     },
     "execution_count": 18,
     "metadata": {},
     "output_type": "execute_result"
    }
   ],
   "source": [
    "from sklearn import metrics\n",
    "cnf_matrix = metrics.confusion_matrix(y_test, pred_test)\n",
    "cnf_matrix"
   ]
  },
  {
   "cell_type": "markdown",
   "metadata": {},
   "source": [
    "The result is telling us that we have 4162+6366 correct predictions and 3902+2729 incorrect predictions"
   ]
  },
  {
   "cell_type": "code",
   "execution_count": 20,
   "metadata": {},
   "outputs": [
    {
     "data": {
      "text/plain": [
       "Text(0.5,257.44,'Predicted Label')"
      ]
     },
     "execution_count": 20,
     "metadata": {},
     "output_type": "execute_result"
    },
    {
     "data": {
      "image/png": "[encoded data removed]",
      "text/plain": [
       "<Figure size 432x288 with 2 Axes>"
      ]
     },
     "metadata": {},
     "output_type": "display_data"
    }
   ],
   "source": [
    "class_names = [0,1]\n",
    "fig, ax = plt.subplots()\n",
    "tick_marks = np.arange(len(class_names))\n",
    "plt.xticks(tick_marks, class_names)\n",
    "plt.yticks(tick_marks, class_names)\n",
    "\n",
    "#create heatmap\n",
    "sns.heatmap(pd.DataFrame(cnf_matrix), annot=True, cmap=\"YlGnBu\", fmt='g')\n",
    "ax.xaxis.set_label_position(\"top\")\n",
    "plt.tight_layout()\n",
    "plt.title('Confusion matrix for Train Data', y=1.1)\n",
    "plt.ylabel('Actual Label')\n",
    "plt.xlabel('Predicted Label')"
   ]
  },
  {
   "cell_type": "code",
   "execution_count": 21,
   "metadata": {},
   "outputs": [
    {
     "name": "stdout",
     "output_type": "stream",
     "text": [
      "Accuracy :  0.5631447054024127\n",
      "Precision :  0.5736526946107784\n",
      "Recall :  0.6846619021440352\n"
     ]
    }
   ],
   "source": [
    "print('Accuracy : ', metrics.accuracy_score(y_test, pred_test))\n",
    "print('Precision : ', metrics.precision_score(y_test, pred_test))\n",
    "print('Recall : ', metrics.recall_score(y_test, pred_test))"
   ]
  },
  {
   "cell_type": "markdown",
   "metadata": {},
   "source": [
    "# <font color=green>ROC Curve</font>"
   ]
  },
  {
   "cell_type": "code",
   "execution_count": 22,
   "metadata": {},
   "outputs": [
    {
     "data": {
      "image/png": "[encoded data removed]",
      "text/plain": [
       "<Figure size 432x288 with 1 Axes>"
      ]
     },
     "metadata": {},
     "output_type": "display_data"
    }
   ],
   "source": [
    "y_pred_proba = logisticRegr.predict_proba(X_test)[::,1]\n",
    "fpr, tpr, _ = metrics.roc_curve(y_test, y_pred_proba)\n",
    "auc = metrics.roc_auc_score(y_test, y_pred_proba)\n",
    "plt.plot(fpr, tpr, label=\"data 1, auc=\"+str(auc))\n",
    "plt.legend(loc=4)\n",
    "plt.show()"
   ]
  },
  {
   "cell_type": "markdown",
   "metadata": {},
   "source": [
    "# <font color=green>Load the Test data</font>"
   ]
  },
  {
   "cell_type": "code",
   "execution_count": 43,
   "metadata": {},
   "outputs": [],
   "source": [
    "test_DF = pd.read_csv(\"CSE7302c_test-1539668060821.csv\",sep=',', na_values=[\"?\"])"
   ]
  },
  {
   "cell_type": "code",
   "execution_count": 44,
   "metadata": {},
   "outputs": [],
   "source": [
    "test_DF = test_DF.drop(['m_jj','m_jjj','m_lv','m_jlv','m_bb','m_wbb','m_wwbb','id'], axis=1)"
   ]
  },
  {
   "cell_type": "code",
   "execution_count": 45,
   "metadata": {},
   "outputs": [
    {
     "data": {
      "text/plain": [
       "(29414, 22)"
      ]
     },
     "execution_count": 45,
     "metadata": {},
     "output_type": "execute_result"
    }
   ],
   "source": [
    "test_DF.shape"
   ]
  },
  {
   "cell_type": "code",
   "execution_count": 46,
   "metadata": {},
   "outputs": [],
   "source": [
    "test_DF['class'] = test_DF['class'].astype('category')"
   ]
  },
  {
   "cell_type": "code",
   "execution_count": 47,
   "metadata": {
    "scrolled": true
   },
   "outputs": [
    {
     "data": {
      "text/plain": [
       "class                       category\n",
       "lepton_pT                    float64\n",
       "lepton_eta                   float64\n",
       "lepton_phi                   float64\n",
       "missing_energy_magnitude     float64\n",
       "missing_energy_phi           float64\n",
       "jet1pt                       float64\n",
       "jet1eta                      float64\n",
       "jet1phi                      float64\n",
       "jet1b.tag                    float64\n",
       "jet2pt                       float64\n",
       "jet2eta                      float64\n",
       "jet2phi                      float64\n",
       "jet2b.tag                    float64\n",
       "jet3pt                       float64\n",
       "jet3eta                      float64\n",
       "jet3phi                      float64\n",
       "jet3b.tag                    float64\n",
       "jet4pt                       float64\n",
       "jet4eta                      float64\n",
       "jet4phi                      float64\n",
       "jet4b.tag                    float64\n",
       "dtype: object"
      ]
     },
     "execution_count": 47,
     "metadata": {},
     "output_type": "execute_result"
    }
   ],
   "source": [
    "test_DF.dtypes"
   ]
  },
  {
   "cell_type": "code",
   "execution_count": 48,
   "metadata": {},
   "outputs": [],
   "source": [
    "test_DF.dropna(inplace=True)"
   ]
  },
  {
   "cell_type": "code",
   "execution_count": 49,
   "metadata": {},
   "outputs": [],
   "source": [
    "X = test_DF.iloc[:,1:22]\n",
    "y = test_DF.iloc[:,0]"
   ]
  },
  {
   "cell_type": "code",
   "execution_count": 50,
   "metadata": {},
   "outputs": [
    {
     "data": {
      "text/plain": [
       "(29413,)"
      ]
     },
     "execution_count": 50,
     "metadata": {},
     "output_type": "execute_result"
    }
   ],
   "source": [
    "pred_test = logisticRegr.predict(X)\n",
    "pred_test.shape"
   ]
  },
  {
   "cell_type": "code",
   "execution_count": 51,
   "metadata": {},
   "outputs": [
    {
     "data": {
      "text/plain": [
       "array([[ 5796,  8070],\n",
       "       [ 4812, 10735]], dtype=int64)"
      ]
     },
     "execution_count": 51,
     "metadata": {},
     "output_type": "execute_result"
    }
   ],
   "source": [
    "cnf_matrix = metrics.confusion_matrix(y, pred_test)\n",
    "cnf_matrix"
   ]
  },
  {
   "cell_type": "markdown",
   "metadata": {},
   "source": [
    "# <font color=green>Confusion Matrix Evaluation Metrics for Test data</font>"
   ]
  },
  {
   "cell_type": "code",
   "execution_count": 52,
   "metadata": {},
   "outputs": [
    {
     "data": {
      "text/plain": [
       "Text(0.5,257.44,'Predicted Label')"
      ]
     },
     "execution_count": 52,
     "metadata": {},
     "output_type": "execute_result"
    },
    {
     "data": {
      "image/png": "[encoded data removed]",
      "text/plain": [
       "<Figure size 432x288 with 2 Axes>"
      ]
     },
     "metadata": {},
     "output_type": "display_data"
    }
   ],
   "source": [
    "class_names = [0,1]\n",
    "fig, ax = plt.subplots()\n",
    "tick_marks = np.arange(len(class_names))\n",
    "plt.xticks(tick_marks, class_names)\n",
    "plt.yticks(tick_marks, class_names)\n",
    "\n",
    "#create heatmap\n",
    "sns.heatmap(pd.DataFrame(cnf_matrix), annot=True, cmap=\"YlGnBu\", fmt='g')\n",
    "ax.xaxis.set_label_position(\"top\")\n",
    "plt.tight_layout()\n",
    "plt.title('Confusion matrix for Test Data', y=1.1)\n",
    "plt.ylabel('Actual Label')\n",
    "plt.xlabel('Predicted Label')"
   ]
  },
  {
   "cell_type": "code",
   "execution_count": 53,
   "metadata": {},
   "outputs": [
    {
     "name": "stdout",
     "output_type": "stream",
     "text": [
      "Accuracy :  0.5620303947234216\n",
      "Precision :  0.5708588141451741\n",
      "Recall :  0.6904869106580047\n"
     ]
    }
   ],
   "source": [
    "print('Accuracy : ', metrics.accuracy_score(y, pred_test))\n",
    "print('Precision : ', metrics.precision_score(y, pred_test))\n",
    "print('Recall : ', metrics.recall_score(y, pred_test))"
   ]
  },
  {
   "cell_type": "markdown",
   "metadata": {},
   "source": [
    "# <font color=green>ROC Curve of Test Data</font>"
   ]
  },
  {
   "cell_type": "code",
   "execution_count": 54,
   "metadata": {},
   "outputs": [
    {
     "data": {
      "image/png": "[encoded data removed]",
      "text/plain": [
       "<Figure size 432x288 with 1 Axes>"
      ]
     },
     "metadata": {},
     "output_type": "display_data"
    }
   ],
   "source": [
    "y_pred_proba = logisticRegr.predict_proba(X)[::,1]\n",
    "fpr, tpr, _ = metrics.roc_curve(y, y_pred_proba)\n",
    "auc = metrics.roc_auc_score(y, y_pred_proba)\n",
    "plt.plot(fpr, tpr, label=\"data 1, auc=\"+str(auc))\n",
    "plt.legend(loc=4)\n",
    "plt.show()"
   ]
  },
  {
   "cell_type": "markdown",
   "metadata": {},
   "source": [
    "# Considerering significant variables only"
   ]
  },
  {
   "cell_type": "code",
   "execution_count": 4,
   "metadata": {},
   "outputs": [],
   "source": [
    "train_DF_3 = pd.read_csv(\"CSE7302c_train-1539668060821.csv\",sep=',')"
   ]
  },
  {
   "cell_type": "code",
   "execution_count": 7,
   "metadata": {},
   "outputs": [],
   "source": [
    "train_DF_Selected1 = train_DF_3.loc[:,['class','lepton_pT','missing_energy_magnitude','jet1pt','jet1b.tag','jet2b.tag','jet1pt','jet3pt','jet4pt','jet3b.tag','jet4b.tag','m_jj','m_jjj','m_lv','m_jlv','m_bb','m_wbb','m_wwbb']]"
   ]
  },
  {
   "cell_type": "code",
   "execution_count": 8,
   "metadata": {},
   "outputs": [
    {
     "data": {
      "text/plain": [
       "(68636, 18)"
      ]
     },
     "execution_count": 8,
     "metadata": {},
     "output_type": "execute_result"
    }
   ],
   "source": [
    "train_DF_Selected1.shape"
   ]
  },
  {
   "cell_type": "code",
   "execution_count": 10,
   "metadata": {},
   "outputs": [
    {
     "name": "stderr",
     "output_type": "stream",
     "text": [
      "C:\\Users\\Prateek\\Anaconda3\\lib\\site-packages\\ipykernel_launcher.py:1: SettingWithCopyWarning: \n",
      "A value is trying to be set on a copy of a slice from a DataFrame.\n",
      "Try using .loc[row_indexer,col_indexer] = value instead\n",
      "\n",
      "See the caveats in the documentation: http://pandas.pydata.org/pandas-docs/stable/indexing.html#indexing-view-versus-copy\n",
      "  \"\"\"Entry point for launching an IPython kernel.\n"
     ]
    }
   ],
   "source": [
    "train_DF_Selected1['class'] = train_DF_Selected1['class'].astype('category')"
   ]
  },
  {
   "cell_type": "code",
   "execution_count": 11,
   "metadata": {},
   "outputs": [
    {
     "data": {
      "text/plain": [
       "class                       category\n",
       "lepton_pT                    float64\n",
       "missing_energy_magnitude     float64\n",
       "jet1pt                       float64\n",
       "jet1b.tag                    float64\n",
       "jet2b.tag                    float64\n",
       "jet1pt                       float64\n",
       "jet3pt                       float64\n",
       "jet4pt                       float64\n",
       "jet3b.tag                    float64\n",
       "jet4b.tag                    float64\n",
       "m_jj                         float64\n",
       "m_jjj                        float64\n",
       "m_lv                         float64\n",
       "m_jlv                        float64\n",
       "m_bb                         float64\n",
       "m_wbb                        float64\n",
       "m_wwbb                       float64\n",
       "dtype: object"
      ]
     },
     "execution_count": 11,
     "metadata": {},
     "output_type": "execute_result"
    }
   ],
   "source": [
    "train_DF_Selected1.dtypes"
   ]
  },
  {
   "cell_type": "code",
   "execution_count": 12,
   "metadata": {},
   "outputs": [],
   "source": [
    "X = train_DF_Selected1.iloc[:,1:18]\n",
    "y = train_DF_Selected1.iloc[:,0]"
   ]
  },
  {
   "cell_type": "code",
   "execution_count": 13,
   "metadata": {},
   "outputs": [
    {
     "data": {
      "text/plain": [
       "(68636, 17)"
      ]
     },
     "execution_count": 13,
     "metadata": {},
     "output_type": "execute_result"
    }
   ],
   "source": [
    "X.shape"
   ]
  },
  {
   "cell_type": "code",
   "execution_count": 14,
   "metadata": {},
   "outputs": [],
   "source": [
    "from sklearn.linear_model import LogisticRegression\n",
    "logisticRegr = LogisticRegression(random_state=0)"
   ]
  },
  {
   "cell_type": "code",
   "execution_count": 15,
   "metadata": {},
   "outputs": [
    {
     "data": {
      "text/plain": [
       "LogisticRegression(C=1.0, class_weight=None, dual=False, fit_intercept=True,\n",
       "          intercept_scaling=1, max_iter=100, multi_class='ovr', n_jobs=1,\n",
       "          penalty='l2', random_state=0, solver='liblinear', tol=0.0001,\n",
       "          verbose=0, warm_start=False)"
      ]
     },
     "execution_count": 15,
     "metadata": {},
     "output_type": "execute_result"
    }
   ],
   "source": [
    "X_train, X_test, y_train, y_test = train_test_split(X, y, random_state=0)\n",
    "logisticRegr.fit(X_train, y_train)"
   ]
  },
  {
   "cell_type": "code",
   "execution_count": 16,
   "metadata": {},
   "outputs": [
    {
     "data": {
      "text/plain": [
       "(17159,)"
      ]
     },
     "execution_count": 16,
     "metadata": {},
     "output_type": "execute_result"
    }
   ],
   "source": [
    "pred_test = logisticRegr.predict(X_test)\n",
    "pred_test.shape"
   ]
  },
  {
   "cell_type": "code",
   "execution_count": 17,
   "metadata": {},
   "outputs": [
    {
     "data": {
      "text/plain": [
       "array([[4314, 3750],\n",
       "       [2414, 6681]], dtype=int64)"
      ]
     },
     "execution_count": 17,
     "metadata": {},
     "output_type": "execute_result"
    }
   ],
   "source": [
    "from sklearn import metrics\n",
    "cnf_matrix = metrics.confusion_matrix(y_test, pred_test)\n",
    "cnf_matrix"
   ]
  },
  {
   "cell_type": "code",
   "execution_count": 18,
   "metadata": {},
   "outputs": [
    {
     "data": {
      "text/plain": [
       "Text(0.5,257.44,'Predicted Label')"
      ]
     },
     "execution_count": 18,
     "metadata": {},
     "output_type": "execute_result"
    },
    {
     "data": {
      "image/png": "[encoded data removed]",
      "text/plain": [
       "<Figure size 432x288 with 2 Axes>"
      ]
     },
     "metadata": {},
     "output_type": "display_data"
    }
   ],
   "source": [
    "class_names = [0,1]\n",
    "fig, ax = plt.subplots()\n",
    "tick_marks = np.arange(len(class_names))\n",
    "plt.xticks(tick_marks, class_names)\n",
    "plt.yticks(tick_marks, class_names)\n",
    "\n",
    "#create heatmap\n",
    "sns.heatmap(pd.DataFrame(cnf_matrix), annot=True, cmap=\"YlGnBu\", fmt='g')\n",
    "ax.xaxis.set_label_position(\"top\")\n",
    "plt.tight_layout()\n",
    "plt.title('Confusion matrix for Train Data', y=1.1)\n",
    "plt.ylabel('Actual Label')\n",
    "plt.xlabel('Predicted Label')"
   ]
  },
  {
   "cell_type": "code",
   "execution_count": 19,
   "metadata": {},
   "outputs": [
    {
     "name": "stdout",
     "output_type": "stream",
     "text": [
      "Accuracy :  0.6407716067369893\n",
      "Precision :  0.6404946793212539\n",
      "Recall :  0.7345794392523365\n"
     ]
    }
   ],
   "source": [
    "print('Accuracy : ', metrics.accuracy_score(y_test, pred_test))\n",
    "print('Precision : ', metrics.precision_score(y_test, pred_test))\n",
    "print('Recall : ', metrics.recall_score(y_test, pred_test))"
   ]
  },
  {
   "cell_type": "code",
   "execution_count": 20,
   "metadata": {},
   "outputs": [
    {
     "data": {
      "image/png": "[encoded data removed]",
      "text/plain": [
       "<Figure size 432x288 with 1 Axes>"
      ]
     },
     "metadata": {},
     "output_type": "display_data"
    }
   ],
   "source": [
    "y_pred_proba = logisticRegr.predict_proba(X_test)[::,1]\n",
    "fpr, tpr, _ = metrics.roc_curve(y_test, y_pred_proba)\n",
    "auc = metrics.roc_auc_score(y_test, y_pred_proba)\n",
    "plt.plot(fpr, tpr, label=\"data 1, auc=\"+str(auc))\n",
    "plt.legend(loc=4)\n",
    "plt.show()"
   ]
  },
  {
   "cell_type": "code",
   "execution_count": 21,
   "metadata": {},
   "outputs": [],
   "source": [
    "test_DF3 = pd.read_csv(\"CSE7302c_test-1539668060821.csv\",sep=',', na_values=[\"?\"])"
   ]
  },
  {
   "cell_type": "code",
   "execution_count": 22,
   "metadata": {},
   "outputs": [],
   "source": [
    "test_DF3['class'] = test_DF3['class'].astype('category')"
   ]
  },
  {
   "cell_type": "code",
   "execution_count": 23,
   "metadata": {},
   "outputs": [],
   "source": [
    "test_DF3.dropna(inplace=True)"
   ]
  },
  {
   "cell_type": "code",
   "execution_count": 25,
   "metadata": {},
   "outputs": [],
   "source": [
    "test_DF_Selected1 = test_DF3.loc[:,['class','lepton_pT','missing_energy_magnitude','jet1pt','jet1b.tag','jet2b.tag','jet1pt','jet3pt','jet4pt','jet3b.tag','jet4b.tag','m_jj','m_jjj','m_lv','m_jlv','m_bb','m_wbb','m_wwbb']]"
   ]
  },
  {
   "cell_type": "code",
   "execution_count": 26,
   "metadata": {},
   "outputs": [
    {
     "data": {
      "text/plain": [
       "(29413, 18)"
      ]
     },
     "execution_count": 26,
     "metadata": {},
     "output_type": "execute_result"
    }
   ],
   "source": [
    "test_DF_Selected1.shape"
   ]
  },
  {
   "cell_type": "code",
   "execution_count": 27,
   "metadata": {},
   "outputs": [],
   "source": [
    "X = test_DF_Selected1.iloc[:,1:18]\n",
    "y = test_DF_Selected1.iloc[:,0]"
   ]
  },
  {
   "cell_type": "code",
   "execution_count": 28,
   "metadata": {},
   "outputs": [
    {
     "data": {
      "text/plain": [
       "(29413,)"
      ]
     },
     "execution_count": 28,
     "metadata": {},
     "output_type": "execute_result"
    }
   ],
   "source": [
    "pred_test3 = logisticRegr.predict(X)\n",
    "pred_test3.shape"
   ]
  },
  {
   "cell_type": "code",
   "execution_count": 29,
   "metadata": {},
   "outputs": [
    {
     "data": {
      "text/plain": [
       "array([0, 1, 1, ..., 1, 0, 0], dtype=int64)"
      ]
     },
     "execution_count": 29,
     "metadata": {},
     "output_type": "execute_result"
    }
   ],
   "source": [
    "pred_test3"
   ]
  },
  {
   "cell_type": "code",
   "execution_count": 30,
   "metadata": {},
   "outputs": [
    {
     "data": {
      "text/plain": [
       "array([[ 7413,  6453],\n",
       "       [ 4112, 11435]], dtype=int64)"
      ]
     },
     "execution_count": 30,
     "metadata": {},
     "output_type": "execute_result"
    }
   ],
   "source": [
    "cnf_matrix3 = metrics.confusion_matrix(y, pred_test3)\n",
    "cnf_matrix3"
   ]
  },
  {
   "cell_type": "code",
   "execution_count": 31,
   "metadata": {},
   "outputs": [
    {
     "data": {
      "text/plain": [
       "Text(0.5,257.44,'Predicted Label')"
      ]
     },
     "execution_count": 31,
     "metadata": {},
     "output_type": "execute_result"
    },
    {
     "data": {
      "image/png": "[encoded data removed]",
      "text/plain": [
       "<Figure size 432x288 with 2 Axes>"
      ]
     },
     "metadata": {},
     "output_type": "display_data"
    }
   ],
   "source": [
    "class_names = [0,1]\n",
    "fig, ax = plt.subplots()\n",
    "tick_marks = np.arange(len(class_names))\n",
    "plt.xticks(tick_marks, class_names)\n",
    "plt.yticks(tick_marks, class_names)\n",
    "\n",
    "#create heatmap\n",
    "sns.heatmap(pd.DataFrame(cnf_matrix3), annot=True, cmap=\"YlGnBu\", fmt='g')\n",
    "ax.xaxis.set_label_position(\"top\")\n",
    "plt.tight_layout()\n",
    "plt.title('Confusion matrix for Test Data', y=1.1)\n",
    "plt.ylabel('Actual Label')\n",
    "plt.xlabel('Predicted Label')"
   ]
  },
  {
   "cell_type": "code",
   "execution_count": 33,
   "metadata": {},
   "outputs": [
    {
     "name": "stdout",
     "output_type": "stream",
     "text": [
      "Accuracy :  0.6408050861863802\n",
      "Precision :  0.639255366726297\n",
      "Recall :  0.7355116742779958\n"
     ]
    }
   ],
   "source": [
    "print('Accuracy : ', metrics.accuracy_score(y, pred_test3))\n",
    "print('Precision : ', metrics.precision_score(y, pred_test3))\n",
    "print('Recall : ', metrics.recall_score(y, pred_test3))"
   ]
  },
  {
   "cell_type": "code",
   "execution_count": 34,
   "metadata": {},
   "outputs": [
    {
     "data": {
      "image/png": "[encoded data removed]",
      "text/plain": [
       "<Figure size 432x288 with 1 Axes>"
      ]
     },
     "metadata": {},
     "output_type": "display_data"
    }
   ],
   "source": [
    "y_pred_proba3 = logisticRegr.predict_proba(X)[::,1]\n",
    "fpr, tpr, _ = metrics.roc_curve(y, y_pred_proba3)\n",
    "auc = metrics.roc_auc_score(y, y_pred_proba3)\n",
    "plt.plot(fpr, tpr, label=\"data 1, auc=\"+str(auc))\n",
    "plt.legend(loc=4)\n",
    "plt.show()"
   ]
  },
  {
   "cell_type": "markdown",
   "metadata": {},
   "source": [
    "# With Combination : AUC increased to 68.1 % on test data"
   ]
  },
  {
   "cell_type": "code",
   "execution_count": null,
   "metadata": {},
   "outputs": [],
   "source": []
  }
 ],
 "metadata": {
  "kernelspec": {
   "display_name": "Python 3",
   "language": "python",
   "name": "python3"
  },
  "language_info": {
   "codemirror_mode": {
    "name": "ipython",
    "version": 3
   },
   "file_extension": ".py",
   "mimetype": "text/x-python",
   "name": "python",
   "nbconvert_exporter": "python",
   "pygments_lexer": "ipython3",
   "version": "3.7.3"
  }
 },
 "nbformat": 4,
 "nbformat_minor": 2
}

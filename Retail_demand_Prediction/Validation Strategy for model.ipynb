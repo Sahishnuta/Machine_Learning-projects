{
 "cells": [
  {
   "cell_type": "markdown",
   "metadata": {},
   "source": [
    "---\n",
    "\n",
    "## VALIDATION STRATEGY\n",
    "\n",
    "- Now, that we have seen Tree based models were giving better results. So, we will use RandomForest Regressor Model in this notebook and we will define our validation strategy to make sure that the model we build is robust.\n",
    "\n",
    "We need to find out what would be the \n",
    "- right number of validation sets such that we can get reliable estimates of RMSLE\n",
    "- right size of the training data to get a robust model\n",
    "\n",
    "\n",
    "---\n"
   ]
  },
  {
   "cell_type": "code",
   "execution_count": 2,
   "metadata": {},
   "outputs": [],
   "source": [
    "# importing the required libraries\n",
    "import pandas as pd\n",
    "import numpy as np\n",
    "\n",
    "import matplotlib.pyplot as plt\n",
    "%matplotlib inline\n",
    "import seaborn as sns\n",
    "from tqdm import tqdm\n",
    "\n",
    "from datetime import timedelta\n",
    "\n",
    "from sklearn.ensemble import RandomForestRegressor\n",
    "from sklearn.metrics import mean_squared_log_error as msle\n",
    "from sklearn.tree import DecisionTreeRegressor\n",
    "\n",
    "import warnings\n",
    "warnings.filterwarnings('ignore')"
   ]
  },
  {
   "cell_type": "code",
   "execution_count": 3,
   "metadata": {},
   "outputs": [],
   "source": [
    "# read the updated(preprocessed) train data\n",
    "train_data = pd.read_csv('updated_dataset/updated_train_data.csv')"
   ]
  },
  {
   "cell_type": "code",
   "execution_count": 4,
   "metadata": {},
   "outputs": [
    {
     "data": {
      "text/html": [
       "<div>\n",
       "<style scoped>\n",
       "    .dataframe tbody tr th:only-of-type {\n",
       "        vertical-align: middle;\n",
       "    }\n",
       "\n",
       "    .dataframe tbody tr th {\n",
       "        vertical-align: top;\n",
       "    }\n",
       "\n",
       "    .dataframe thead th {\n",
       "        text-align: right;\n",
       "    }\n",
       "</style>\n",
       "<table border=\"1\" class=\"dataframe\">\n",
       "  <thead>\n",
       "    <tr style=\"text-align: right;\">\n",
       "      <th></th>\n",
       "      <th>WEEK_END_DATE</th>\n",
       "      <th>STORE_NUM</th>\n",
       "      <th>UPC</th>\n",
       "      <th>BASE_PRICE</th>\n",
       "      <th>FEATURE</th>\n",
       "      <th>DISPLAY</th>\n",
       "      <th>UNITS</th>\n",
       "    </tr>\n",
       "  </thead>\n",
       "  <tbody>\n",
       "    <tr>\n",
       "      <th>0</th>\n",
       "      <td>14-Jan-09</td>\n",
       "      <td>367</td>\n",
       "      <td>1111009477</td>\n",
       "      <td>1.57</td>\n",
       "      <td>0</td>\n",
       "      <td>0</td>\n",
       "      <td>13</td>\n",
       "    </tr>\n",
       "    <tr>\n",
       "      <th>1</th>\n",
       "      <td>14-Jan-09</td>\n",
       "      <td>367</td>\n",
       "      <td>1111009497</td>\n",
       "      <td>1.39</td>\n",
       "      <td>0</td>\n",
       "      <td>0</td>\n",
       "      <td>20</td>\n",
       "    </tr>\n",
       "    <tr>\n",
       "      <th>2</th>\n",
       "      <td>14-Jan-09</td>\n",
       "      <td>367</td>\n",
       "      <td>1111085319</td>\n",
       "      <td>1.88</td>\n",
       "      <td>0</td>\n",
       "      <td>0</td>\n",
       "      <td>14</td>\n",
       "    </tr>\n",
       "    <tr>\n",
       "      <th>3</th>\n",
       "      <td>14-Jan-09</td>\n",
       "      <td>367</td>\n",
       "      <td>1111085345</td>\n",
       "      <td>1.88</td>\n",
       "      <td>0</td>\n",
       "      <td>0</td>\n",
       "      <td>29</td>\n",
       "    </tr>\n",
       "    <tr>\n",
       "      <th>4</th>\n",
       "      <td>14-Jan-09</td>\n",
       "      <td>367</td>\n",
       "      <td>1111085350</td>\n",
       "      <td>1.98</td>\n",
       "      <td>0</td>\n",
       "      <td>0</td>\n",
       "      <td>35</td>\n",
       "    </tr>\n",
       "  </tbody>\n",
       "</table>\n",
       "</div>"
      ],
      "text/plain": [
       "  WEEK_END_DATE  STORE_NUM         UPC  BASE_PRICE  FEATURE  DISPLAY  UNITS\n",
       "0     14-Jan-09        367  1111009477        1.57        0        0     13\n",
       "1     14-Jan-09        367  1111009497        1.39        0        0     20\n",
       "2     14-Jan-09        367  1111085319        1.88        0        0     14\n",
       "3     14-Jan-09        367  1111085345        1.88        0        0     29\n",
       "4     14-Jan-09        367  1111085350        1.98        0        0     35"
      ]
     },
     "execution_count": 4,
     "metadata": {},
     "output_type": "execute_result"
    }
   ],
   "source": [
    "# top results of the data\n",
    "train_data.head()"
   ]
  },
  {
   "cell_type": "code",
   "execution_count": 6,
   "metadata": {},
   "outputs": [],
   "source": [
    "# convert the WEEK_END_DATE to datetime\n",
    "train_data['WEEK_END_DATE'] = pd.to_datetime(train_data['WEEK_END_DATE'])"
   ]
  },
  {
   "cell_type": "code",
   "execution_count": 7,
   "metadata": {},
   "outputs": [
    {
     "data": {
      "text/plain": [
       "(Timestamp('2009-01-14 00:00:00'), Timestamp('2011-09-28 00:00:00'))"
      ]
     },
     "execution_count": 7,
     "metadata": {},
     "output_type": "execute_result"
    }
   ],
   "source": [
    "# first and last week in the dataset\n",
    "train_data.WEEK_END_DATE.min() , train_data.WEEK_END_DATE.max()"
   ]
  },
  {
   "cell_type": "code",
   "execution_count": 8,
   "metadata": {},
   "outputs": [
    {
     "data": {
      "text/plain": [
       "142"
      ]
     },
     "execution_count": 8,
     "metadata": {},
     "output_type": "execute_result"
    }
   ],
   "source": [
    "# number of weeks in the dataset\n",
    "train_data.WEEK_END_DATE.nunique()"
   ]
  },
  {
   "cell_type": "code",
   "execution_count": 9,
   "metadata": {},
   "outputs": [],
   "source": [
    "# create an array of unique week dates\n",
    "week = train_data.WEEK_END_DATE.unique()"
   ]
  },
  {
   "cell_type": "code",
   "execution_count": 10,
   "metadata": {},
   "outputs": [],
   "source": [
    "# read the other datasets\n",
    "product_data = pd.read_csv('updated_dataset/updated_product_data.csv')\n",
    "store_data = pd.read_csv('updated_dataset/updated_store_data.csv')"
   ]
  },
  {
   "cell_type": "code",
   "execution_count": 11,
   "metadata": {},
   "outputs": [],
   "source": [
    "merged_data = train_data.merge(product_data,how='left', on='UPC')\n",
    "merged_data = merged_data.merge(store_data, how='left', left_on='STORE_NUM', right_on='STORE_ID')"
   ]
  },
  {
   "cell_type": "code",
   "execution_count": 12,
   "metadata": {},
   "outputs": [],
   "source": [
    "merged_data = merged_data.drop(columns=['STORE_ID'])"
   ]
  },
  {
   "cell_type": "code",
   "execution_count": 13,
   "metadata": {},
   "outputs": [
    {
     "data": {
      "text/plain": [
       "WEEK_END_DATE                2009-01-14 00:00:00\n",
       "STORE_NUM                                    367\n",
       "UPC                                   1111009477\n",
       "BASE_PRICE                                  1.57\n",
       "FEATURE                                        0\n",
       "DISPLAY                                        0\n",
       "UNITS                                         13\n",
       "MANUFACTURER_1                                 1\n",
       "MANUFACTURER_2                                 0\n",
       "MANUFACTURER_3                                 0\n",
       "MANUFACTURER_4                                 0\n",
       "MANUFACTURER_5                                 0\n",
       "MANUFACTURER_6                                 0\n",
       "MANUFACTURER_7                                 0\n",
       "MANUFACTURER_8                                 0\n",
       "MANUFACTURER_9                                 0\n",
       "CATEGORY_1                                     1\n",
       "CATEGORY_2                                     0\n",
       "CATEGORY_3                                     0\n",
       "CATEGORY_4                                     0\n",
       "SUB_CATEGORY_1                                 1\n",
       "SUB_CATEGORY_2                                 0\n",
       "SUB_CATEGORY_3                                 0\n",
       "SUB_CATEGORY_4                                 0\n",
       "SUB_CATEGORY_5                                 0\n",
       "SUB_CATEGORY_6                                 0\n",
       "SUB_CATEGORY_7                                 0\n",
       "PRODUCT_SIZE                                   2\n",
       "ADDRESS_STATE_PROV_CODE_1                      1\n",
       "ADDRESS_STATE_PROV_CODE_2                      0\n",
       "ADDRESS_STATE_PROV_CODE_3                      0\n",
       "ADDRESS_STATE_PROV_CODE_4                      0\n",
       "MSA_CODE_1                                     1\n",
       "MSA_CODE_2                                     0\n",
       "MSA_CODE_3                                     0\n",
       "MSA_CODE_4                                     0\n",
       "MSA_CODE_5                                     0\n",
       "MSA_CODE_6                                     0\n",
       "MSA_CODE_7                                     0\n",
       "MSA_CODE_8                                     0\n",
       "MSA_CODE_9                                     0\n",
       "SEG_VALUE_NAME                                 1\n",
       "SALES_AREA_SIZE_NUM                        24721\n",
       "AVG_WEEKLY_BASKETS                         12707\n",
       "Name: 0, dtype: object"
      ]
     },
     "execution_count": 13,
     "metadata": {},
     "output_type": "execute_result"
    }
   ],
   "source": [
    "# look at data in the first row \n",
    "merged_data.loc[0]"
   ]
  },
  {
   "cell_type": "code",
   "execution_count": 14,
   "metadata": {},
   "outputs": [],
   "source": [
    "# function to create validation data_frame\n",
    "def validation_df(data, week, no_of_months, no_of_validation):\n",
    "    \n",
    "    model_set = []\n",
    "    set_n = 1\n",
    "    for w in range(len(week)-1,0,-1):\n",
    "        x_data = {}\n",
    "\n",
    "        x_data['train_start'] = week[w-3-4*no_of_months]\n",
    "        x_data['train_end'] = week[w-4]\n",
    "        x_data['validate_week'] = week[w-2]\n",
    "        x_data['test_week'] = week[w]\n",
    "        x_data['no_days_train'] = x_data['train_end'] - x_data['train_start']\n",
    "        x_data['set_no'] = 'set'+str(set_n)\n",
    "        set_n +=1\n",
    "        model_set.append(x_data)\n",
    "        if(len(model_set) == no_of_validation):\n",
    "            break\n",
    "        \n",
    "        \n",
    "    datapoints = []\n",
    "\n",
    "    for s in model_set :\n",
    "        x = {}\n",
    "        train_set = data[(data.WEEK_END_DATE >= s['train_start']) & (data.WEEK_END_DATE <= s['train_end'])]\n",
    "        x['train_shape'] = train_set.shape[0]\n",
    "        x['validation_shape']  = data[data.WEEK_END_DATE == s['validate_week']].shape[0]\n",
    "        x['test_shape'] = data[data.WEEK_END_DATE == s['test_week']].shape[0]\n",
    "        x.update(s)\n",
    "        datapoints.append(x)\n",
    "\n",
    "    df = pd.DataFrame.from_dict(datapoints)\n",
    "    df['no_days_train'] = df['no_days_train'] + timedelta(days=7)\n",
    "    return df    "
   ]
  },
  {
   "cell_type": "code",
   "execution_count": 15,
   "metadata": {},
   "outputs": [
    {
     "data": {
      "text/html": [
       "<div>\n",
       "<style scoped>\n",
       "    .dataframe tbody tr th:only-of-type {\n",
       "        vertical-align: middle;\n",
       "    }\n",
       "\n",
       "    .dataframe tbody tr th {\n",
       "        vertical-align: top;\n",
       "    }\n",
       "\n",
       "    .dataframe thead th {\n",
       "        text-align: right;\n",
       "    }\n",
       "</style>\n",
       "<table border=\"1\" class=\"dataframe\">\n",
       "  <thead>\n",
       "    <tr style=\"text-align: right;\">\n",
       "      <th></th>\n",
       "      <th>no_days_train</th>\n",
       "      <th>set_no</th>\n",
       "      <th>test_shape</th>\n",
       "      <th>test_week</th>\n",
       "      <th>train_end</th>\n",
       "      <th>train_shape</th>\n",
       "      <th>train_start</th>\n",
       "      <th>validate_week</th>\n",
       "      <th>validation_shape</th>\n",
       "    </tr>\n",
       "  </thead>\n",
       "  <tbody>\n",
       "    <tr>\n",
       "      <th>0</th>\n",
       "      <td>84 days</td>\n",
       "      <td>set1</td>\n",
       "      <td>1642</td>\n",
       "      <td>2011-09-28</td>\n",
       "      <td>2011-08-31</td>\n",
       "      <td>19647</td>\n",
       "      <td>2011-06-15</td>\n",
       "      <td>2011-09-14</td>\n",
       "      <td>1640</td>\n",
       "    </tr>\n",
       "    <tr>\n",
       "      <th>1</th>\n",
       "      <td>84 days</td>\n",
       "      <td>set2</td>\n",
       "      <td>1638</td>\n",
       "      <td>2011-09-21</td>\n",
       "      <td>2011-08-24</td>\n",
       "      <td>19657</td>\n",
       "      <td>2011-06-08</td>\n",
       "      <td>2011-09-07</td>\n",
       "      <td>1632</td>\n",
       "    </tr>\n",
       "    <tr>\n",
       "      <th>2</th>\n",
       "      <td>84 days</td>\n",
       "      <td>set3</td>\n",
       "      <td>1640</td>\n",
       "      <td>2011-09-14</td>\n",
       "      <td>2011-08-17</td>\n",
       "      <td>19654</td>\n",
       "      <td>2011-06-01</td>\n",
       "      <td>2011-08-31</td>\n",
       "      <td>1629</td>\n",
       "    </tr>\n",
       "  </tbody>\n",
       "</table>\n",
       "</div>"
      ],
      "text/plain": [
       "  no_days_train set_no  test_shape  test_week  train_end  train_shape  \\\n",
       "0       84 days   set1        1642 2011-09-28 2011-08-31        19647   \n",
       "1       84 days   set2        1638 2011-09-21 2011-08-24        19657   \n",
       "2       84 days   set3        1640 2011-09-14 2011-08-17        19654   \n",
       "\n",
       "  train_start validate_week  validation_shape  \n",
       "0  2011-06-15    2011-09-14              1640  \n",
       "1  2011-06-08    2011-09-07              1632  \n",
       "2  2011-06-01    2011-08-31              1629  "
      ]
     },
     "execution_count": 15,
     "metadata": {},
     "output_type": "execute_result"
    }
   ],
   "source": [
    "# validation sets for training size = 3 months and number of validation sets = 3\n",
    "validation_df(merged_data, week, no_of_months= 3, no_of_validation= 3)"
   ]
  },
  {
   "cell_type": "code",
   "execution_count": 16,
   "metadata": {},
   "outputs": [
    {
     "data": {
      "text/html": [
       "<div>\n",
       "<style scoped>\n",
       "    .dataframe tbody tr th:only-of-type {\n",
       "        vertical-align: middle;\n",
       "    }\n",
       "\n",
       "    .dataframe tbody tr th {\n",
       "        vertical-align: top;\n",
       "    }\n",
       "\n",
       "    .dataframe thead th {\n",
       "        text-align: right;\n",
       "    }\n",
       "</style>\n",
       "<table border=\"1\" class=\"dataframe\">\n",
       "  <thead>\n",
       "    <tr style=\"text-align: right;\">\n",
       "      <th></th>\n",
       "      <th>no_days_train</th>\n",
       "      <th>set_no</th>\n",
       "      <th>test_shape</th>\n",
       "      <th>test_week</th>\n",
       "      <th>train_end</th>\n",
       "      <th>train_shape</th>\n",
       "      <th>train_start</th>\n",
       "      <th>validate_week</th>\n",
       "      <th>validation_shape</th>\n",
       "    </tr>\n",
       "  </thead>\n",
       "  <tbody>\n",
       "    <tr>\n",
       "      <th>0</th>\n",
       "      <td>168 days</td>\n",
       "      <td>set1</td>\n",
       "      <td>1642</td>\n",
       "      <td>2011-09-28</td>\n",
       "      <td>2011-08-31</td>\n",
       "      <td>39294</td>\n",
       "      <td>2011-03-23</td>\n",
       "      <td>2011-09-14</td>\n",
       "      <td>1640</td>\n",
       "    </tr>\n",
       "    <tr>\n",
       "      <th>1</th>\n",
       "      <td>168 days</td>\n",
       "      <td>set2</td>\n",
       "      <td>1638</td>\n",
       "      <td>2011-09-21</td>\n",
       "      <td>2011-08-24</td>\n",
       "      <td>39308</td>\n",
       "      <td>2011-03-16</td>\n",
       "      <td>2011-09-07</td>\n",
       "      <td>1632</td>\n",
       "    </tr>\n",
       "    <tr>\n",
       "      <th>2</th>\n",
       "      <td>168 days</td>\n",
       "      <td>set3</td>\n",
       "      <td>1640</td>\n",
       "      <td>2011-09-14</td>\n",
       "      <td>2011-08-17</td>\n",
       "      <td>39308</td>\n",
       "      <td>2011-03-09</td>\n",
       "      <td>2011-08-31</td>\n",
       "      <td>1629</td>\n",
       "    </tr>\n",
       "    <tr>\n",
       "      <th>3</th>\n",
       "      <td>168 days</td>\n",
       "      <td>set4</td>\n",
       "      <td>1632</td>\n",
       "      <td>2011-09-07</td>\n",
       "      <td>2011-08-10</td>\n",
       "      <td>39308</td>\n",
       "      <td>2011-03-02</td>\n",
       "      <td>2011-08-24</td>\n",
       "      <td>1640</td>\n",
       "    </tr>\n",
       "  </tbody>\n",
       "</table>\n",
       "</div>"
      ],
      "text/plain": [
       "  no_days_train set_no  test_shape  test_week  train_end  train_shape  \\\n",
       "0      168 days   set1        1642 2011-09-28 2011-08-31        39294   \n",
       "1      168 days   set2        1638 2011-09-21 2011-08-24        39308   \n",
       "2      168 days   set3        1640 2011-09-14 2011-08-17        39308   \n",
       "3      168 days   set4        1632 2011-09-07 2011-08-10        39308   \n",
       "\n",
       "  train_start validate_week  validation_shape  \n",
       "0  2011-03-23    2011-09-14              1640  \n",
       "1  2011-03-16    2011-09-07              1632  \n",
       "2  2011-03-09    2011-08-31              1629  \n",
       "3  2011-03-02    2011-08-24              1640  "
      ]
     },
     "execution_count": 16,
     "metadata": {},
     "output_type": "execute_result"
    }
   ],
   "source": [
    "# validation sets for training size = 6 months and number of validation sets = 4\n",
    "validation_df(merged_data, week, no_of_months= 6, no_of_validation= 4)"
   ]
  },
  {
   "cell_type": "code",
   "execution_count": 17,
   "metadata": {},
   "outputs": [],
   "source": [
    "# function to calculate the root mean squared log error\n",
    "def get_msle(true, predicted) :\n",
    "    return np.sqrt(msle( true, predicted))\n",
    "\n",
    "# function to train the model \n",
    "# it will calculate and return the RMSLE on train and validation set\n",
    "def my_model(train_d, validate_d):\n",
    "    \n",
    "    train_x = train_d.drop(columns=['WEEK_END_DATE', 'STORE_NUM', 'UPC', 'UNITS'])\n",
    "    train_y = train_d['UNITS']\n",
    "    \n",
    "    valid_x = validate_d.drop(columns=['WEEK_END_DATE', 'STORE_NUM', 'UPC', 'UNITS'])\n",
    "    valid_y = validate_d['UNITS']\n",
    "    \n",
    "    model_RFR = RandomForestRegressor(max_depth=20,random_state=0)\n",
    "    model_RFR.fit(train_x, train_y)\n",
    "            \n",
    "    predict_validate = model_RFR.predict(valid_x)\n",
    "    predict_validate = predict_validate.clip(min=0)\n",
    "    \n",
    "    return get_msle(valid_y, predict_validate)\n",
    "    \n",
    "\n",
    "# function will extract the train and validation set using validation dataframe\n",
    "# The defined model will train on each of the set and the average RMSLE and standard deviation on validation \n",
    "    \n",
    "def train_model(df,no_of_month):\n",
    "    \n",
    "    model_results = []\n",
    "    for row in range(df.shape[0]):\n",
    "        row = df.iloc[row]\n",
    "        train_set = train_data[(train_data.WEEK_END_DATE >= row['train_start']) & (train_data.WEEK_END_DATE <= row['train_end'])]\n",
    "        validate_set = train_data[train_data.WEEK_END_DATE == row['validate_week']]\n",
    "        train_set['month'] = no_of_month\n",
    "        validate_set['month'] = no_of_month\n",
    "        model_results.append(my_model(train_set,validate_set))\n",
    "        \n",
    "    return np.mean(model_results), np.std(model_results)"
   ]
  },
  {
   "cell_type": "code",
   "execution_count": 18,
   "metadata": {},
   "outputs": [],
   "source": [
    "# define get matrix\n",
    "def get_matrix(max_months=1, max_cv=1):\n",
    "    final_results_mean = []\n",
    "    final_results_std = []\n",
    "    \n",
    "    for i in tqdm(range(1,max_months+1,1)):\n",
    "        for j in range(1,max_cv+1,1):\n",
    "            #print(i,j,'done')\n",
    "            x = {}\n",
    "            y = {}\n",
    "            x['No_of_months'] = i\n",
    "            x['validation_sets'] = j\n",
    "            y['No_of_months'] = i\n",
    "            y['validation_sets'] = j\n",
    "            x['Results'] , y['Results'] = train_model(validation_df(merged_data, week, no_of_months=i, no_of_validation=j),i)\n",
    "            final_results_mean.append(x)\n",
    "            final_results_std.append(y)\n",
    "            \n",
    "            \n",
    "    return pd.DataFrame.from_dict(final_results_mean).pivot_table(index= 'No_of_months', columns= 'validation_sets',fill_value=0) , pd.DataFrame.from_dict(final_results_std).pivot_table(index= 'No_of_months', columns= 'validation_sets',fill_value=0)"
   ]
  },
  {
   "cell_type": "code",
   "execution_count": 19,
   "metadata": {},
   "outputs": [
    {
     "name": "stderr",
     "output_type": "stream",
     "text": [
      "100%|██████████| 12/12 [00:43<00:00,  3.64s/it]\n"
     ]
    }
   ],
   "source": [
    "# let's first try with the months from range 1 to 12 and validation sets 1 to 5\n",
    "final_mean, final_std = get_matrix(max_months=12,max_cv=5)"
   ]
  },
  {
   "cell_type": "markdown",
   "metadata": {},
   "source": [
    "---\n",
    "\n",
    "### Let's see how different combinations of training periods and validation sets give results.\n",
    "\n",
    "---"
   ]
  },
  {
   "cell_type": "code",
   "execution_count": 30,
   "metadata": {},
   "outputs": [],
   "source": [
    "# As the returned dataframe has multiindex columns, so drop one level\n",
    "final_mean.columns = final_mean.columns.droplevel()"
   ]
  },
  {
   "cell_type": "code",
   "execution_count": 31,
   "metadata": {},
   "outputs": [
    {
     "data": {
      "text/plain": [
       "(12.0, 0.0)"
      ]
     },
     "execution_count": 31,
     "metadata": {},
     "output_type": "execute_result"
    },
    {
     "data": {
      "image/png": "[encoded data removed]",
      "text/plain": [
       "<Figure size 1080x504 with 2 Axes>"
      ]
     },
     "metadata": {
      "needs_background": "light"
     },
     "output_type": "display_data"
    }
   ],
   "source": [
    "# correlation plot of the variables in the train data\n",
    "plot = final_mean[final_mean.columns]\n",
    "plt.figure(figsize=(15,7))\n",
    "ax = sns.heatmap(plot,annot=True)\n",
    "bottom, top = ax.get_ylim()\n",
    "ax.set_ylim(bottom + 0.5, top - 0.5)"
   ]
  },
  {
   "cell_type": "code",
   "execution_count": 22,
   "metadata": {},
   "outputs": [
    {
     "name": "stderr",
     "output_type": "stream",
     "text": [
      "100%|██████████| 4/4 [01:14<00:00, 18.53s/it]\n"
     ]
    }
   ],
   "source": [
    "final_mean2, final_std2 = get_matrix(max_months=4,max_cv=15)"
   ]
  },
  {
   "cell_type": "code",
   "execution_count": 33,
   "metadata": {},
   "outputs": [
    {
     "data": {
      "text/plain": [
       "(4.0, 0.0)"
      ]
     },
     "execution_count": 33,
     "metadata": {},
     "output_type": "execute_result"
    },
    {
     "data": {
      "image/png": "[encoded data removed]",
      "text/plain": [
       "<Figure size 1080x504 with 2 Axes>"
      ]
     },
     "metadata": {
      "needs_background": "light"
     },
     "output_type": "display_data"
    }
   ],
   "source": [
    "# correlation plot of the variables in the train data\n",
    "final_mean2.columns = final_mean2.columns.droplevel()\n",
    "plot = final_mean2[final_mean2.columns]\n",
    "plt.figure(figsize=(15,7))\n",
    "ax = sns.heatmap(plot,annot=True)\n",
    "bottom, top = ax.get_ylim()\n",
    "ax.set_ylim(bottom + 0.5, top - 0.5)"
   ]
  },
  {
   "cell_type": "code",
   "execution_count": 35,
   "metadata": {
    "scrolled": false
   },
   "outputs": [
    {
     "data": {
      "text/plain": [
       "(4.0, 0.0)"
      ]
     },
     "execution_count": 35,
     "metadata": {},
     "output_type": "execute_result"
    },
    {
     "data": {
      "image/png": "[encoded data removed]",
      "text/plain": [
       "<Figure size 1080x504 with 2 Axes>"
      ]
     },
     "metadata": {
      "needs_background": "light"
     },
     "output_type": "display_data"
    }
   ],
   "source": [
    "# correlation plot of the variables in the train data\n",
    "final_std2.columns = final_std2.columns.droplevel()\n",
    "plot = final_std2[final_std2.columns]\n",
    "plt.figure(figsize=(15,7))\n",
    "ax = sns.heatmap(plot,annot=True)\n",
    "bottom, top = ax.get_ylim()\n",
    "ax.set_ylim(bottom + 0.5, top - 0.5)"
   ]
  }
 ],
 "metadata": {
  "kernelspec": {
   "display_name": "Python 3 (ipykernel)",
   "language": "python",
   "name": "python3"
  },
  "language_info": {
   "codemirror_mode": {
    "name": "ipython",
    "version": 3
   },
   "file_extension": ".py",
   "mimetype": "text/x-python",
   "name": "python",
   "nbconvert_exporter": "python",
   "pygments_lexer": "ipython3",
   "version": "3.9.12"
  }
 },
 "nbformat": 4,
 "nbformat_minor": 2
}

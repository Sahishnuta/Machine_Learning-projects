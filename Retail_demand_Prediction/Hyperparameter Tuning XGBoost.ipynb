{
 "cells": [
  {
   "cell_type": "markdown",
   "metadata": {},
   "source": [
    "---\n",
    "\n",
    "\n",
    "### `Hyperparameter Tuning for XGBoost`\n",
    "\n",
    "---\n",
    "\n",
    "In the last notebook, we did Feature Engineering, and created some features like \n",
    "\n",
    "- ***Time Based Features***\n",
    "- ***Unique number of Manufacturers, Category and SubCategory in a Store***\n",
    "- ***Lag Feature - Number of units sold 52 weeks before***\n",
    "- ***Price Difference from the last week***\n",
    "- ***Average Number of units sold in the last two months***\n",
    "\n",
    "---\n",
    "\n",
    "Now, In this Notebook we will use a gradient boosting based model - XGBoost (Extreme Gradient Boosting). Gradient boosting models tend to overfit quickly and hence careful tuning of hyperparameters is required in order to avoid this. Here we will tune the following parameters:\n",
    "\n",
    "- **`N_ESTIMATORS`** :  Number of trees to fit\n",
    "- **`MAX_DEPTH`** :  Maximum tree depth for base learners\n",
    "- **`GAMMA`** : Minimum loss reduction required to make a further partition on a leaf node of the tree.\n",
    "- **`MIN_CHILD_WEIGHT`** : Minimum sum of instance weight needed in a child.\n",
    "- **`SUBSAMPLE`** : Subsample ratio of the training instance.\n",
    "\n",
    "---"
   ]
  },
  {
   "cell_type": "code",
   "execution_count": 1,
   "metadata": {
    "collapsed": true
   },
   "outputs": [],
   "source": [
    "# importing required libraries\n",
    "import pandas as pd\n",
    "import numpy as np\n",
    "import matplotlib.pyplot as plt\n",
    "%matplotlib inline\n",
    "import xgboost as xgb\n",
    "import warnings\n",
    "warnings.filterwarnings('ignore')\n",
    "from tqdm import tqdm\n",
    "from datetime import timedelta\n",
    "\n",
    "from sklearn.metrics import mean_squared_log_error as msle"
   ]
  },
  {
   "cell_type": "code",
   "execution_count": 2,
   "metadata": {
    "collapsed": true
   },
   "outputs": [],
   "source": [
    "# read the final data set with the newly created features\n",
    "data = pd.read_csv('final_data.csv')"
   ]
  },
  {
   "cell_type": "code",
   "execution_count": 3,
   "metadata": {},
   "outputs": [
    {
     "data": {
      "text/html": [
       "<div>\n",
       "<style scoped>\n",
       "    .dataframe tbody tr th:only-of-type {\n",
       "        vertical-align: middle;\n",
       "    }\n",
       "\n",
       "    .dataframe tbody tr th {\n",
       "        vertical-align: top;\n",
       "    }\n",
       "\n",
       "    .dataframe thead th {\n",
       "        text-align: right;\n",
       "    }\n",
       "</style>\n",
       "<table border=\"1\" class=\"dataframe\">\n",
       "  <thead>\n",
       "    <tr style=\"text-align: right;\">\n",
       "      <th></th>\n",
       "      <th>WEEK_END_DATE</th>\n",
       "      <th>STORE_NUM</th>\n",
       "      <th>UPC</th>\n",
       "      <th>BASE_PRICE</th>\n",
       "      <th>FEATURE</th>\n",
       "      <th>DISPLAY</th>\n",
       "      <th>UNITS</th>\n",
       "      <th>MANUFACTURER_1</th>\n",
       "      <th>MANUFACTURER_2</th>\n",
       "      <th>MANUFACTURER_3</th>\n",
       "      <th>...</th>\n",
       "      <th>week</th>\n",
       "      <th>quarter</th>\n",
       "      <th>U_MANUFACTURER</th>\n",
       "      <th>U_CATEGORY</th>\n",
       "      <th>U_SUB_CATEGORY</th>\n",
       "      <th>UNITS_BEFORE_52WEEK</th>\n",
       "      <th>price_difference</th>\n",
       "      <th>2_MONTH_BEFORE</th>\n",
       "      <th>1_WEEK_BEFORE</th>\n",
       "      <th>AVERAGE_UNITS_IN_2_MONTH</th>\n",
       "    </tr>\n",
       "  </thead>\n",
       "  <tbody>\n",
       "    <tr>\n",
       "      <th>0</th>\n",
       "      <td>2009-01-14</td>\n",
       "      <td>367</td>\n",
       "      <td>1111009477</td>\n",
       "      <td>1.57</td>\n",
       "      <td>0</td>\n",
       "      <td>0</td>\n",
       "      <td>13</td>\n",
       "      <td>1</td>\n",
       "      <td>0</td>\n",
       "      <td>0</td>\n",
       "      <td>...</td>\n",
       "      <td>3</td>\n",
       "      <td>1</td>\n",
       "      <td>4</td>\n",
       "      <td>3</td>\n",
       "      <td>5</td>\n",
       "      <td>0.0</td>\n",
       "      <td>0.0</td>\n",
       "      <td>2008-11-12</td>\n",
       "      <td>2009-01-07</td>\n",
       "      <td>0.0</td>\n",
       "    </tr>\n",
       "    <tr>\n",
       "      <th>1</th>\n",
       "      <td>2009-01-14</td>\n",
       "      <td>367</td>\n",
       "      <td>1111009497</td>\n",
       "      <td>1.39</td>\n",
       "      <td>0</td>\n",
       "      <td>0</td>\n",
       "      <td>20</td>\n",
       "      <td>1</td>\n",
       "      <td>0</td>\n",
       "      <td>0</td>\n",
       "      <td>...</td>\n",
       "      <td>3</td>\n",
       "      <td>1</td>\n",
       "      <td>4</td>\n",
       "      <td>3</td>\n",
       "      <td>5</td>\n",
       "      <td>0.0</td>\n",
       "      <td>0.0</td>\n",
       "      <td>2008-11-12</td>\n",
       "      <td>2009-01-07</td>\n",
       "      <td>0.0</td>\n",
       "    </tr>\n",
       "  </tbody>\n",
       "</table>\n",
       "<p>2 rows × 42 columns</p>\n",
       "</div>"
      ],
      "text/plain": [
       "  WEEK_END_DATE  STORE_NUM         UPC  BASE_PRICE  FEATURE  DISPLAY  UNITS  \\\n",
       "0    2009-01-14        367  1111009477        1.57        0        0     13   \n",
       "1    2009-01-14        367  1111009497        1.39        0        0     20   \n",
       "\n",
       "   MANUFACTURER_1  MANUFACTURER_2  MANUFACTURER_3            ...             \\\n",
       "0               1               0               0            ...              \n",
       "1               1               0               0            ...              \n",
       "\n",
       "   week  quarter  U_MANUFACTURER  U_CATEGORY  U_SUB_CATEGORY  \\\n",
       "0     3        1               4           3               5   \n",
       "1     3        1               4           3               5   \n",
       "\n",
       "   UNITS_BEFORE_52WEEK  price_difference  2_MONTH_BEFORE  1_WEEK_BEFORE  \\\n",
       "0                  0.0               0.0      2008-11-12     2009-01-07   \n",
       "1                  0.0               0.0      2008-11-12     2009-01-07   \n",
       "\n",
       "   AVERAGE_UNITS_IN_2_MONTH  \n",
       "0                       0.0  \n",
       "1                       0.0  \n",
       "\n",
       "[2 rows x 42 columns]"
      ]
     },
     "execution_count": 3,
     "metadata": {},
     "output_type": "execute_result"
    }
   ],
   "source": [
    "# top rows of the data\n",
    "data.head(2)"
   ]
  },
  {
   "cell_type": "code",
   "execution_count": 4,
   "metadata": {
    "collapsed": true
   },
   "outputs": [],
   "source": [
    "# convert the WEEK_END_DATE to datetime format\n",
    "data.WEEK_END_DATE = pd.to_datetime(data.WEEK_END_DATE)"
   ]
  },
  {
   "cell_type": "code",
   "execution_count": 5,
   "metadata": {},
   "outputs": [
    {
     "data": {
      "text/plain": [
       "WEEK_END_DATE               2009-01-14 00:00:00\n",
       "STORE_NUM                                   367\n",
       "UPC                                  1111009477\n",
       "BASE_PRICE                                 1.57\n",
       "FEATURE                                       0\n",
       "DISPLAY                                       0\n",
       "UNITS                                        13\n",
       "MANUFACTURER_1                                1\n",
       "MANUFACTURER_2                                0\n",
       "MANUFACTURER_3                                0\n",
       "MANUFACTURER_4                                0\n",
       "MANUFACTURER_5                                0\n",
       "MANUFACTURER_6                                0\n",
       "MANUFACTURER_7                                0\n",
       "MANUFACTURER_8                                0\n",
       "MANUFACTURER_9                                0\n",
       "CATEGORY_1                                    1\n",
       "CATEGORY_2                                    0\n",
       "CATEGORY_3                                    0\n",
       "CATEGORY_4                                    0\n",
       "SUB_CATEGORY_1                                1\n",
       "SUB_CATEGORY_2                                0\n",
       "SUB_CATEGORY_3                                0\n",
       "SUB_CATEGORY_4                                0\n",
       "SUB_CATEGORY_5                                0\n",
       "SUB_CATEGORY_6                                0\n",
       "SUB_CATEGORY_7                                0\n",
       "PRODUCT_SIZE                                  2\n",
       "year                                       2009\n",
       "month                                         1\n",
       "day                                          14\n",
       "day_of_year                                  14\n",
       "week                                          3\n",
       "quarter                                       1\n",
       "U_MANUFACTURER                                4\n",
       "U_CATEGORY                                    3\n",
       "U_SUB_CATEGORY                                5\n",
       "UNITS_BEFORE_52WEEK                           0\n",
       "price_difference                              0\n",
       "2_MONTH_BEFORE                       2008-11-12\n",
       "1_WEEK_BEFORE                        2009-01-07\n",
       "AVERAGE_UNITS_IN_2_MONTH                      0\n",
       "Name: 0, dtype: object"
      ]
     },
     "execution_count": 5,
     "metadata": {},
     "output_type": "execute_result"
    }
   ],
   "source": [
    "# let's look at all the features we have in the first row.\n",
    "data.loc[0]"
   ]
  },
  {
   "cell_type": "code",
   "execution_count": 6,
   "metadata": {
    "collapsed": true
   },
   "outputs": [],
   "source": [
    "# we will drop the 2 date columns,  2_MONTH_BEFORE and 1_WEEK_BEFORE as they are not required now.\n",
    "data = data.drop(columns=['2_MONTH_BEFORE', '1_WEEK_BEFORE'])"
   ]
  },
  {
   "cell_type": "code",
   "execution_count": 7,
   "metadata": {},
   "outputs": [
    {
     "data": {
      "text/plain": [
       "0"
      ]
     },
     "execution_count": 7,
     "metadata": {},
     "output_type": "execute_result"
    }
   ],
   "source": [
    "# check for the null values\n",
    "data.isna().sum().sum()"
   ]
  },
  {
   "cell_type": "markdown",
   "metadata": {},
   "source": [
    "---\n",
    "### `Validation Sets`\n",
    "\n",
    "- We will use the same `validation_df` function to create the validation sets. \n",
    "- It will take the parameters, a list of unique WEEK_END_DATES, dataset and no of months in training period and no of training validation sets required.\n",
    "- We will use the training period of 2 months and 14 validation sets as discussed in the Validation Strategy Notebook.\n",
    "---"
   ]
  },
  {
   "cell_type": "code",
   "execution_count": 8,
   "metadata": {
    "collapsed": true
   },
   "outputs": [],
   "source": [
    "# create an array of unique week dates\n",
    "week = data.WEEK_END_DATE.unique()"
   ]
  },
  {
   "cell_type": "code",
   "execution_count": 9,
   "metadata": {
    "collapsed": true
   },
   "outputs": [],
   "source": [
    "\n",
    "def validation_df(data, week, no_of_months, no_of_validation):\n",
    "    \n",
    "    model_set = []\n",
    "    set_n = 1\n",
    "    for w in range(len(week)-1,0,-1):\n",
    "        x_data = {}\n",
    "\n",
    "        x_data['train_start'] = week[w-3-4*no_of_months]\n",
    "        x_data['train_end'] = week[w-4]\n",
    "        x_data['validate_week'] = week[w-2]\n",
    "        x_data['test_week'] = week[w]\n",
    "        x_data['no_days_train'] = x_data['train_end'] - x_data['train_start']\n",
    "        x_data['set_no'] = 'set'+str(set_n)\n",
    "        set_n +=1\n",
    "        model_set.append(x_data)\n",
    "        if(len(model_set) == no_of_validation):\n",
    "            break\n",
    "        \n",
    "        \n",
    "    datapoints = []\n",
    "\n",
    "    for s in model_set :\n",
    "        x = {}\n",
    "        train_set = data[(data.WEEK_END_DATE >= s['train_start']) & (data.WEEK_END_DATE <= s['train_end'])]\n",
    "        x['train_shape'] = train_set.shape[0]\n",
    "        x['validation_shape']  = data[data.WEEK_END_DATE == s['validate_week']].shape[0]\n",
    "        x['test_shape'] = data[data.WEEK_END_DATE == s['test_week']].shape[0]\n",
    "        x.update(s)\n",
    "        datapoints.append(x)\n",
    "\n",
    "    df = pd.DataFrame.from_dict(datapoints)\n",
    "    df['no_days_train'] = df['no_days_train'] + timedelta(days=7)\n",
    "    return df    "
   ]
  },
  {
   "cell_type": "code",
   "execution_count": 10,
   "metadata": {},
   "outputs": [
    {
     "data": {
      "text/html": [
       "<div>\n",
       "<style scoped>\n",
       "    .dataframe tbody tr th:only-of-type {\n",
       "        vertical-align: middle;\n",
       "    }\n",
       "\n",
       "    .dataframe tbody tr th {\n",
       "        vertical-align: top;\n",
       "    }\n",
       "\n",
       "    .dataframe thead th {\n",
       "        text-align: right;\n",
       "    }\n",
       "</style>\n",
       "<table border=\"1\" class=\"dataframe\">\n",
       "  <thead>\n",
       "    <tr style=\"text-align: right;\">\n",
       "      <th></th>\n",
       "      <th>no_days_train</th>\n",
       "      <th>set_no</th>\n",
       "      <th>test_shape</th>\n",
       "      <th>test_week</th>\n",
       "      <th>train_end</th>\n",
       "      <th>train_shape</th>\n",
       "      <th>train_start</th>\n",
       "      <th>validate_week</th>\n",
       "      <th>validation_shape</th>\n",
       "    </tr>\n",
       "  </thead>\n",
       "  <tbody>\n",
       "    <tr>\n",
       "      <th>0</th>\n",
       "      <td>56 days</td>\n",
       "      <td>set1</td>\n",
       "      <td>1642</td>\n",
       "      <td>2011-09-28</td>\n",
       "      <td>2011-08-31</td>\n",
       "      <td>13089</td>\n",
       "      <td>2011-07-13</td>\n",
       "      <td>2011-09-14</td>\n",
       "      <td>1640</td>\n",
       "    </tr>\n",
       "    <tr>\n",
       "      <th>1</th>\n",
       "      <td>56 days</td>\n",
       "      <td>set2</td>\n",
       "      <td>1638</td>\n",
       "      <td>2011-09-21</td>\n",
       "      <td>2011-08-24</td>\n",
       "      <td>13102</td>\n",
       "      <td>2011-07-06</td>\n",
       "      <td>2011-09-07</td>\n",
       "      <td>1632</td>\n",
       "    </tr>\n",
       "    <tr>\n",
       "      <th>2</th>\n",
       "      <td>56 days</td>\n",
       "      <td>set3</td>\n",
       "      <td>1640</td>\n",
       "      <td>2011-09-14</td>\n",
       "      <td>2011-08-17</td>\n",
       "      <td>13101</td>\n",
       "      <td>2011-06-29</td>\n",
       "      <td>2011-08-31</td>\n",
       "      <td>1629</td>\n",
       "    </tr>\n",
       "    <tr>\n",
       "      <th>3</th>\n",
       "      <td>56 days</td>\n",
       "      <td>set4</td>\n",
       "      <td>1632</td>\n",
       "      <td>2011-09-07</td>\n",
       "      <td>2011-08-10</td>\n",
       "      <td>13101</td>\n",
       "      <td>2011-06-22</td>\n",
       "      <td>2011-08-24</td>\n",
       "      <td>1640</td>\n",
       "    </tr>\n",
       "    <tr>\n",
       "      <th>4</th>\n",
       "      <td>56 days</td>\n",
       "      <td>set5</td>\n",
       "      <td>1629</td>\n",
       "      <td>2011-08-31</td>\n",
       "      <td>2011-08-03</td>\n",
       "      <td>13109</td>\n",
       "      <td>2011-06-15</td>\n",
       "      <td>2011-08-17</td>\n",
       "      <td>1638</td>\n",
       "    </tr>\n",
       "    <tr>\n",
       "      <th>5</th>\n",
       "      <td>56 days</td>\n",
       "      <td>set6</td>\n",
       "      <td>1640</td>\n",
       "      <td>2011-08-24</td>\n",
       "      <td>2011-07-27</td>\n",
       "      <td>13108</td>\n",
       "      <td>2011-06-08</td>\n",
       "      <td>2011-08-10</td>\n",
       "      <td>1631</td>\n",
       "    </tr>\n",
       "    <tr>\n",
       "      <th>6</th>\n",
       "      <td>56 days</td>\n",
       "      <td>set7</td>\n",
       "      <td>1638</td>\n",
       "      <td>2011-08-17</td>\n",
       "      <td>2011-07-20</td>\n",
       "      <td>13108</td>\n",
       "      <td>2011-06-01</td>\n",
       "      <td>2011-08-03</td>\n",
       "      <td>1640</td>\n",
       "    </tr>\n",
       "    <tr>\n",
       "      <th>7</th>\n",
       "      <td>56 days</td>\n",
       "      <td>set8</td>\n",
       "      <td>1631</td>\n",
       "      <td>2011-08-10</td>\n",
       "      <td>2011-07-13</td>\n",
       "      <td>13112</td>\n",
       "      <td>2011-05-25</td>\n",
       "      <td>2011-07-27</td>\n",
       "      <td>1637</td>\n",
       "    </tr>\n",
       "    <tr>\n",
       "      <th>8</th>\n",
       "      <td>56 days</td>\n",
       "      <td>set9</td>\n",
       "      <td>1640</td>\n",
       "      <td>2011-08-03</td>\n",
       "      <td>2011-07-06</td>\n",
       "      <td>13104</td>\n",
       "      <td>2011-05-18</td>\n",
       "      <td>2011-07-20</td>\n",
       "      <td>1635</td>\n",
       "    </tr>\n",
       "    <tr>\n",
       "      <th>9</th>\n",
       "      <td>56 days</td>\n",
       "      <td>set10</td>\n",
       "      <td>1637</td>\n",
       "      <td>2011-07-27</td>\n",
       "      <td>2011-06-29</td>\n",
       "      <td>13101</td>\n",
       "      <td>2011-05-11</td>\n",
       "      <td>2011-07-13</td>\n",
       "      <td>1639</td>\n",
       "    </tr>\n",
       "    <tr>\n",
       "      <th>10</th>\n",
       "      <td>56 days</td>\n",
       "      <td>set11</td>\n",
       "      <td>1635</td>\n",
       "      <td>2011-07-20</td>\n",
       "      <td>2011-06-22</td>\n",
       "      <td>13106</td>\n",
       "      <td>2011-05-04</td>\n",
       "      <td>2011-07-06</td>\n",
       "      <td>1642</td>\n",
       "    </tr>\n",
       "    <tr>\n",
       "      <th>11</th>\n",
       "      <td>56 days</td>\n",
       "      <td>set12</td>\n",
       "      <td>1639</td>\n",
       "      <td>2011-07-13</td>\n",
       "      <td>2011-06-15</td>\n",
       "      <td>13102</td>\n",
       "      <td>2011-04-27</td>\n",
       "      <td>2011-06-29</td>\n",
       "      <td>1639</td>\n",
       "    </tr>\n",
       "    <tr>\n",
       "      <th>12</th>\n",
       "      <td>56 days</td>\n",
       "      <td>set13</td>\n",
       "      <td>1642</td>\n",
       "      <td>2011-07-06</td>\n",
       "      <td>2011-06-08</td>\n",
       "      <td>13096</td>\n",
       "      <td>2011-04-20</td>\n",
       "      <td>2011-06-22</td>\n",
       "      <td>1638</td>\n",
       "    </tr>\n",
       "    <tr>\n",
       "      <th>13</th>\n",
       "      <td>56 days</td>\n",
       "      <td>set14</td>\n",
       "      <td>1639</td>\n",
       "      <td>2011-06-29</td>\n",
       "      <td>2011-06-01</td>\n",
       "      <td>13093</td>\n",
       "      <td>2011-04-13</td>\n",
       "      <td>2011-06-15</td>\n",
       "      <td>1639</td>\n",
       "    </tr>\n",
       "  </tbody>\n",
       "</table>\n",
       "</div>"
      ],
      "text/plain": [
       "   no_days_train set_no  test_shape  test_week  train_end  train_shape  \\\n",
       "0        56 days   set1        1642 2011-09-28 2011-08-31        13089   \n",
       "1        56 days   set2        1638 2011-09-21 2011-08-24        13102   \n",
       "2        56 days   set3        1640 2011-09-14 2011-08-17        13101   \n",
       "3        56 days   set4        1632 2011-09-07 2011-08-10        13101   \n",
       "4        56 days   set5        1629 2011-08-31 2011-08-03        13109   \n",
       "5        56 days   set6        1640 2011-08-24 2011-07-27        13108   \n",
       "6        56 days   set7        1638 2011-08-17 2011-07-20        13108   \n",
       "7        56 days   set8        1631 2011-08-10 2011-07-13        13112   \n",
       "8        56 days   set9        1640 2011-08-03 2011-07-06        13104   \n",
       "9        56 days  set10        1637 2011-07-27 2011-06-29        13101   \n",
       "10       56 days  set11        1635 2011-07-20 2011-06-22        13106   \n",
       "11       56 days  set12        1639 2011-07-13 2011-06-15        13102   \n",
       "12       56 days  set13        1642 2011-07-06 2011-06-08        13096   \n",
       "13       56 days  set14        1639 2011-06-29 2011-06-01        13093   \n",
       "\n",
       "   train_start validate_week  validation_shape  \n",
       "0   2011-07-13    2011-09-14              1640  \n",
       "1   2011-07-06    2011-09-07              1632  \n",
       "2   2011-06-29    2011-08-31              1629  \n",
       "3   2011-06-22    2011-08-24              1640  \n",
       "4   2011-06-15    2011-08-17              1638  \n",
       "5   2011-06-08    2011-08-10              1631  \n",
       "6   2011-06-01    2011-08-03              1640  \n",
       "7   2011-05-25    2011-07-27              1637  \n",
       "8   2011-05-18    2011-07-20              1635  \n",
       "9   2011-05-11    2011-07-13              1639  \n",
       "10  2011-05-04    2011-07-06              1642  \n",
       "11  2011-04-27    2011-06-29              1639  \n",
       "12  2011-04-20    2011-06-22              1638  \n",
       "13  2011-04-13    2011-06-15              1639  "
      ]
     },
     "execution_count": 10,
     "metadata": {},
     "output_type": "execute_result"
    }
   ],
   "source": [
    "# we will use the same combination of 2 month training data with 14 validation sets\n",
    "validation_df(data, week, no_of_months=2, no_of_validation= 14)"
   ]
  },
  {
   "cell_type": "markdown",
   "metadata": {
    "collapsed": true
   },
   "source": [
    "---\n",
    "\n",
    "- We will create a list of tuples `evaluation_set` that will contain train and validation data extracted using the validation dataframe.\n",
    "- We will use the columns `train_start`, `train_end` and `validate_week` and filter out the data which lies in that training period and validation period.\n",
    "- We will define a function `get_evaluation_sets` to get the required list of tuples. The output list will look something like the following list.\n",
    "\n",
    "\n",
    "\n",
    "***`evaluation_set = [  (train_set_1, validation_set_1),\n",
    "                     (),\n",
    "                     (),\n",
    "                     .\n",
    "                     .\n",
    "                     .\n",
    "                     ( train_set_n, validation_set_n)  ]`***\n",
    "\n",
    "---"
   ]
  },
  {
   "cell_type": "code",
   "execution_count": 11,
   "metadata": {
    "collapsed": true
   },
   "outputs": [],
   "source": [
    "# train validation set\n",
    "def get_evaluation_sets(df):\n",
    "    evaluation_set = []\n",
    "    \n",
    "    for row in range(df.shape[0]):\n",
    "        print(df.loc[row]['validate_week'])\n",
    "        # get the train data\n",
    "        train_data = data[(data.WEEK_END_DATE >= df.loc[row]['train_start']) & (data.WEEK_END_DATE <= df.loc[row]['train_end'])]        \n",
    "        # get the validate data\n",
    "        validation_data = data[data.WEEK_END_DATE == df.loc[row]['validate_week']]\n",
    "        evaluation_set.append((train_data, validation_data))\n",
    "    return evaluation_set"
   ]
  },
  {
   "cell_type": "code",
   "execution_count": 12,
   "metadata": {},
   "outputs": [
    {
     "name": "stdout",
     "output_type": "stream",
     "text": [
      "2011-09-14 00:00:00\n",
      "2011-09-07 00:00:00\n",
      "2011-08-31 00:00:00\n",
      "2011-08-24 00:00:00\n",
      "2011-08-17 00:00:00\n",
      "2011-08-10 00:00:00\n",
      "2011-08-03 00:00:00\n",
      "2011-07-27 00:00:00\n",
      "2011-07-20 00:00:00\n",
      "2011-07-13 00:00:00\n",
      "2011-07-06 00:00:00\n",
      "2011-06-29 00:00:00\n",
      "2011-06-22 00:00:00\n",
      "2011-06-15 00:00:00\n"
     ]
    }
   ],
   "source": [
    "# store the train and validation sets in a list\n",
    "evaluation_set = get_evaluation_sets(validation_df(data, week, no_of_months=2, no_of_validation=14))"
   ]
  },
  {
   "cell_type": "markdown",
   "metadata": {},
   "source": [
    "---\n",
    "\n",
    "Now, We will define one function to calculate the RMSLE `get_msle` and custom evaluation metric function `custom_eval` for the XGBoost Regressor. This custom evaluation metric is very simple and just calculates the same RMSLE value as we did for other models. We have done this because XGBoost does not have it internally defined.\n",
    "\n",
    "---"
   ]
  },
  {
   "cell_type": "code",
   "execution_count": 13,
   "metadata": {
    "collapsed": true
   },
   "outputs": [],
   "source": [
    "\n",
    "# function to calculate the RMSLE\n",
    "def get_msle(true, predicted) :\n",
    "    return np.sqrt(msle(true, predicted))\n",
    "\n",
    "\n",
    "# custom evaluation metric function for the XGBoost\n",
    "def custom_eval(preds, dtrain):\n",
    "    labels = dtrain.get_label().astype(np.int)\n",
    "    preds = preds.clip(min=0)\n",
    "    \n",
    "    return [('rmsle', get_msle(labels, preds))]\n"
   ]
  },
  {
   "cell_type": "markdown",
   "metadata": {},
   "source": [
    "---\n",
    "\n",
    "### `N_ESTIMATORS`\n",
    "\n",
    "- We cannot use the function XGBoost.cv to find out the best set of parameters as it randomly splits the data. Here we have a time series data so we will use the same 14 validation sets and take average.\n",
    "- We will track both the train RMSLE and validation RMSLE for different n estimators and check the scores\n",
    "- First of all, we will tune `N_ESTIMATORS` and we will find mean RMSLE over 14 validation sets that we have defined.\n",
    "- We will check for the n_estimators value for the values 20, 40, 60, ..... 400.\n",
    "\n",
    "---"
   ]
  },
  {
   "cell_type": "code",
   "execution_count": 14,
   "metadata": {
    "collapsed": true
   },
   "outputs": [],
   "source": [
    "def get_n_estimators(evaluation_set, min_r, max_r):\n",
    "    \n",
    "    results = []\n",
    "    \n",
    "    for n_est in (range(min_r, max_r, 20)):\n",
    "        x = {}\n",
    "        SCORE_TRAIN = []\n",
    "        SCORE_VALID = []\n",
    "        for train, valid in (evaluation_set):\n",
    "            \n",
    "            # seperate the independent and target variable from the train and validation set\n",
    "            train_data_x = train.drop(columns= ['WEEK_END_DATE', 'UNITS'])\n",
    "            train_data_y = train['UNITS']\n",
    "\n",
    "            valid_data_x = valid.drop(columns= ['WEEK_END_DATE', 'UNITS'])\n",
    "            valid_data_y = valid['UNITS']\n",
    "\n",
    "            # evaluation sets\n",
    "            # we will evaluate our model on both train and validation data\n",
    "            e_set = [(train_data_x, train_data_y), (valid_data_x, valid_data_y)]\n",
    "            \n",
    "            \n",
    "            # define the XGBRegressor Model \n",
    "            model = xgb.XGBRegressor(n_estimators = n_est,\n",
    "                                     learning_rate = 0.01,\n",
    "                                     n_jobs=4,\n",
    "                                     random_state=0,\n",
    "                                     objective='reg:squarederror')\n",
    "            # fit the model\n",
    "            model.fit(train_data_x, train_data_y, eval_metric= custom_eval ,eval_set= e_set, verbose=False)\n",
    "            \n",
    "            \n",
    "            # store the RMSLE on train and validation sets in different lists \n",
    "            # so that at the end we can calculate the mean of results at the end \n",
    "            SCORE_TRAIN.append(model.evals_result_['validation_0']['rmsle'][-1])\n",
    "            SCORE_VALID.append(model.evals_result_['validation_1']['rmsle'][-1])\n",
    "            \n",
    "            \n",
    "        # calculate the mean rmsle on train and valid\n",
    "        mean_score_train = np.mean(SCORE_TRAIN)\n",
    "        mean_score_valid = np.mean(SCORE_VALID)\n",
    "        \n",
    "        print('With N_ESTIMATORS:\\t'+ str(n_est) + '\\tMEAN RMSLE TRAIN:\\t' + str(mean_score_train) + \"\\tMEAN RMSLE VALID: \"+str(mean_score_valid))\n",
    "        x['n_estimators'] = n_est\n",
    "        x['mean_rmsle_train'] = mean_score_train\n",
    "        x['mean_rmsle_valid'] = mean_score_valid\n",
    "        results.append(x)\n",
    "        \n",
    "\n",
    "    return pd.DataFrame.from_dict(results) "
   ]
  },
  {
   "cell_type": "code",
   "execution_count": 15,
   "metadata": {},
   "outputs": [
    {
     "name": "stdout",
     "output_type": "stream",
     "text": [
      "With N_ESTIMATORS:\t20\tMEAN RMSLE TRAIN:\t1.3655357857142858\tMEAN RMSLE VALID: 1.3646570714285713\n",
      "With N_ESTIMATORS:\t40\tMEAN RMSLE TRAIN:\t0.9561604285714286\tMEAN RMSLE VALID: 0.9568562142857143\n",
      "With N_ESTIMATORS:\t60\tMEAN RMSLE TRAIN:\t0.7452255714285715\tMEAN RMSLE VALID: 0.7508122857142858\n",
      "With N_ESTIMATORS:\t80\tMEAN RMSLE TRAIN:\t0.6257344285714286\tMEAN RMSLE VALID: 0.6371919285714285\n",
      "With N_ESTIMATORS:\t100\tMEAN RMSLE TRAIN:\t0.5559502142857143\tMEAN RMSLE VALID: 0.5735750000000001\n",
      "With N_ESTIMATORS:\t120\tMEAN RMSLE TRAIN:\t0.5159422142857143\tMEAN RMSLE VALID: 0.5388188571428572\n",
      "With N_ESTIMATORS:\t140\tMEAN RMSLE TRAIN:\t0.49303371428571424\tMEAN RMSLE VALID: 0.5196828571428571\n",
      "With N_ESTIMATORS:\t160\tMEAN RMSLE TRAIN:\t0.4797654285714286\tMEAN RMSLE VALID: 0.5094190714285716\n",
      "With N_ESTIMATORS:\t180\tMEAN RMSLE TRAIN:\t0.47228735714285713\tMEAN RMSLE VALID: 0.5037192857142857\n",
      "With N_ESTIMATORS:\t200\tMEAN RMSLE TRAIN:\t0.4679698571428572\tMEAN RMSLE VALID: 0.5013480714285715\n",
      "With N_ESTIMATORS:\t220\tMEAN RMSLE TRAIN:\t0.4650301428571429\tMEAN RMSLE VALID: 0.4995215714285714\n",
      "With N_ESTIMATORS:\t240\tMEAN RMSLE TRAIN:\t0.46314371428571427\tMEAN RMSLE VALID: 0.49847407142857136\n",
      "With N_ESTIMATORS:\t260\tMEAN RMSLE TRAIN:\t0.4617356428571428\tMEAN RMSLE VALID: 0.4979417857142857\n",
      "With N_ESTIMATORS:\t280\tMEAN RMSLE TRAIN:\t0.4604904285714285\tMEAN RMSLE VALID: 0.49713771428571424\n",
      "With N_ESTIMATORS:\t300\tMEAN RMSLE TRAIN:\t0.4593560714285715\tMEAN RMSLE VALID: 0.4959699285714286\n",
      "With N_ESTIMATORS:\t320\tMEAN RMSLE TRAIN:\t0.45831692857142853\tMEAN RMSLE VALID: 0.4948598571428571\n",
      "With N_ESTIMATORS:\t340\tMEAN RMSLE TRAIN:\t0.4572222857142857\tMEAN RMSLE VALID: 0.4935663571428571\n",
      "With N_ESTIMATORS:\t360\tMEAN RMSLE TRAIN:\t0.45617721428571434\tMEAN RMSLE VALID: 0.4926912857142858\n",
      "With N_ESTIMATORS:\t380\tMEAN RMSLE TRAIN:\t0.45478614285714286\tMEAN RMSLE VALID: 0.49173021428571434\n",
      "With N_ESTIMATORS:\t400\tMEAN RMSLE TRAIN:\t0.4531634999999999\tMEAN RMSLE VALID: 0.49069778571428563\n",
      "With N_ESTIMATORS:\t420\tMEAN RMSLE TRAIN:\t0.4512113571428572\tMEAN RMSLE VALID: 0.48909250000000004\n",
      "With N_ESTIMATORS:\t440\tMEAN RMSLE TRAIN:\t0.44931807142857144\tMEAN RMSLE VALID: 0.4877492142857142\n",
      "With N_ESTIMATORS:\t460\tMEAN RMSLE TRAIN:\t0.4473460714285714\tMEAN RMSLE VALID: 0.48625250000000003\n",
      "With N_ESTIMATORS:\t480\tMEAN RMSLE TRAIN:\t0.44563271428571427\tMEAN RMSLE VALID: 0.48516342857142863\n",
      "With N_ESTIMATORS:\t500\tMEAN RMSLE TRAIN:\t0.44374907142857145\tMEAN RMSLE VALID: 0.48398135714285717\n",
      "With N_ESTIMATORS:\t520\tMEAN RMSLE TRAIN:\t0.44205185714285716\tMEAN RMSLE VALID: 0.4830387857142857\n",
      "With N_ESTIMATORS:\t540\tMEAN RMSLE TRAIN:\t0.44041442857142865\tMEAN RMSLE VALID: 0.48203164285714284\n",
      "With N_ESTIMATORS:\t560\tMEAN RMSLE TRAIN:\t0.4387661428571429\tMEAN RMSLE VALID: 0.480908\n",
      "With N_ESTIMATORS:\t580\tMEAN RMSLE TRAIN:\t0.43721264285714284\tMEAN RMSLE VALID: 0.47999492857142856\n",
      "With N_ESTIMATORS:\t600\tMEAN RMSLE TRAIN:\t0.43573164285714283\tMEAN RMSLE VALID: 0.4795025714285715\n",
      "With N_ESTIMATORS:\t620\tMEAN RMSLE TRAIN:\t0.43444192857142844\tMEAN RMSLE VALID: 0.4790411428571428\n",
      "With N_ESTIMATORS:\t640\tMEAN RMSLE TRAIN:\t0.4332021428571428\tMEAN RMSLE VALID: 0.47870514285714283\n",
      "With N_ESTIMATORS:\t660\tMEAN RMSLE TRAIN:\t0.4320321428571429\tMEAN RMSLE VALID: 0.4784137142857142\n",
      "With N_ESTIMATORS:\t680\tMEAN RMSLE TRAIN:\t0.4308222857142857\tMEAN RMSLE VALID: 0.47802992857142856\n",
      "With N_ESTIMATORS:\t700\tMEAN RMSLE TRAIN:\t0.42975657142857143\tMEAN RMSLE VALID: 0.4779795\n",
      "With N_ESTIMATORS:\t720\tMEAN RMSLE TRAIN:\t0.42870921428571424\tMEAN RMSLE VALID: 0.47793221428571436\n",
      "With N_ESTIMATORS:\t740\tMEAN RMSLE TRAIN:\t0.4277327857142857\tMEAN RMSLE VALID: 0.4779989285714286\n",
      "With N_ESTIMATORS:\t760\tMEAN RMSLE TRAIN:\t0.42673321428571426\tMEAN RMSLE VALID: 0.47801828571428573\n",
      "With N_ESTIMATORS:\t780\tMEAN RMSLE TRAIN:\t0.4258064285714286\tMEAN RMSLE VALID: 0.4783598571428572\n",
      "With N_ESTIMATORS:\t800\tMEAN RMSLE TRAIN:\t0.424907\tMEAN RMSLE VALID: 0.47849078571428577\n",
      "With N_ESTIMATORS:\t820\tMEAN RMSLE TRAIN:\t0.42404221428571426\tMEAN RMSLE VALID: 0.4791645714285714\n",
      "With N_ESTIMATORS:\t840\tMEAN RMSLE TRAIN:\t0.4231967142857143\tMEAN RMSLE VALID: 0.47926835714285704\n",
      "With N_ESTIMATORS:\t860\tMEAN RMSLE TRAIN:\t0.42238107142857134\tMEAN RMSLE VALID: 0.4794755714285714\n",
      "With N_ESTIMATORS:\t880\tMEAN RMSLE TRAIN:\t0.42169057142857147\tMEAN RMSLE VALID: 0.4803517142857142\n",
      "With N_ESTIMATORS:\t900\tMEAN RMSLE TRAIN:\t0.4209389999999999\tMEAN RMSLE VALID: 0.48103414285714285\n"
     ]
    }
   ],
   "source": [
    "n_estimators_result = get_n_estimators(evaluation_set,min_r = 20, max_r = 901)"
   ]
  },
  {
   "cell_type": "markdown",
   "metadata": {},
   "source": [
    "---\n",
    "\n",
    "- We can see that RMSLE gets stable at 0.479 with n_estimators more than 700.\n",
    "- And on the validation set RMSLE starts increasing again with n_estimators value 820 while the training RMSLE is continuously improving\n",
    "- RMSLE at validation is lowest with n_estimators value 720, so we will fix this value and tune the model for the best value of max_depth.\n",
    "\n",
    "---\n",
    "\n",
    "### `MAX_DEPTH`\n",
    "\n",
    "- Next very important hyperparameter to be tuned is Max Depth. This is used to control over-fitting as higher depth will allow model to learn relations very specific to a particular sample.\n",
    "- Now, we will check the performance of the model for various max_depth values 2, 3, ....14.\n",
    "- If the performance keeps improving till max_depth 14, we will increase the values and try again.\n",
    "\n",
    "---"
   ]
  },
  {
   "cell_type": "code",
   "execution_count": 17,
   "metadata": {
    "collapsed": true
   },
   "outputs": [],
   "source": [
    "def get_max_depth(evaluation_set):\n",
    "    \n",
    "    results = []\n",
    "    \n",
    "    for depth in (range(2, 15, 1)):\n",
    "        x = {}\n",
    "        SCORE_TRAIN = []\n",
    "        SCORE_VALID = []\n",
    "        for train, valid in (evaluation_set):\n",
    "                        \n",
    "            # seperate the independent and target variable from the train and validation set    \n",
    "            train_data_x = train.drop(columns= ['WEEK_END_DATE', 'UNITS'])\n",
    "            train_data_y = train['UNITS']\n",
    "\n",
    "            valid_data_x = valid.drop(columns= ['WEEK_END_DATE', 'UNITS'])\n",
    "            valid_data_y = valid['UNITS']\n",
    "            \n",
    "            # evaluation sets\n",
    "            # we will evaluate our model on both train and validation data\n",
    "            e_set = [ (train_data_x, train_data_y),(valid_data_x, valid_data_y)]\n",
    "\n",
    "            # fit the model keeping the n_estimator value fixed 720\n",
    "            model = xgb.XGBRegressor(n_estimators = 720,\n",
    "                                     max_depth=depth,\n",
    "                                     learning_rate=0.01,\n",
    "                                     n_jobs=4,\n",
    "                                     random_state=0,\n",
    "                                     objective='reg:squarederror')\n",
    "            model.fit(train_data_x, train_data_y, eval_metric= custom_eval ,eval_set= e_set, verbose=False)\n",
    "\n",
    "            SCORE_TRAIN.append(model.evals_result_['validation_0']['rmsle'][-1])\n",
    "            SCORE_VALID.append(model.evals_result_['validation_1']['rmsle'][-1])\n",
    "            \n",
    "        # calculate the mean rmsle on train and valid   \n",
    "        mean_score_train = np.mean(SCORE_TRAIN)\n",
    "        mean_score_valid = np.mean(SCORE_VALID)\n",
    "        \n",
    "    \n",
    "        print('With DEPTH:\\t'+ str(depth) + '\\tMEAN RMSLE TRAIN:\\t' + str(mean_score_train)+ '\\tMEAN RMSLE VALID: '+str(mean_score_valid))\n",
    "        x['depth']= depth\n",
    "        x['mean_rmsle_train'] = mean_score_train\n",
    "        x['mean_rmsle_valid'] = mean_score_valid\n",
    "        results.append(x)\n",
    "\n",
    "    return pd.DataFrame.from_dict(results)"
   ]
  },
  {
   "cell_type": "code",
   "execution_count": 18,
   "metadata": {},
   "outputs": [
    {
     "name": "stdout",
     "output_type": "stream",
     "text": [
      "With DEPTH:\t2\tMEAN RMSLE TRAIN:\t0.4727829285714286\tMEAN RMSLE VALID: 0.510592\n",
      "With DEPTH:\t3\tMEAN RMSLE TRAIN:\t0.42870921428571424\tMEAN RMSLE VALID: 0.47793221428571436\n",
      "With DEPTH:\t4\tMEAN RMSLE TRAIN:\t0.4008241428571428\tMEAN RMSLE VALID: 0.46364599999999995\n",
      "With DEPTH:\t5\tMEAN RMSLE TRAIN:\t0.3796030714285714\tMEAN RMSLE VALID: 0.46506028571428565\n",
      "With DEPTH:\t6\tMEAN RMSLE TRAIN:\t0.3601991428571428\tMEAN RMSLE VALID: 0.4605922142857143\n",
      "With DEPTH:\t7\tMEAN RMSLE TRAIN:\t0.33986921428571426\tMEAN RMSLE VALID: 0.4612017857142856\n",
      "With DEPTH:\t8\tMEAN RMSLE TRAIN:\t0.3187993571428572\tMEAN RMSLE VALID: 0.46384485714285717\n",
      "With DEPTH:\t9\tMEAN RMSLE TRAIN:\t0.2950674285714286\tMEAN RMSLE VALID: 0.46604014285714285\n",
      "With DEPTH:\t10\tMEAN RMSLE TRAIN:\t0.2669810714285714\tMEAN RMSLE VALID: 0.4656375714285714\n",
      "With DEPTH:\t11\tMEAN RMSLE TRAIN:\t0.23624592857142854\tMEAN RMSLE VALID: 0.46647528571428565\n",
      "With DEPTH:\t12\tMEAN RMSLE TRAIN:\t0.20559471428571427\tMEAN RMSLE VALID: 0.4710164999999999\n",
      "With DEPTH:\t13\tMEAN RMSLE TRAIN:\t0.1742792142857143\tMEAN RMSLE VALID: 0.4734031428571428\n",
      "With DEPTH:\t14\tMEAN RMSLE TRAIN:\t0.14163635714285716\tMEAN RMSLE VALID: 0.4750345\n"
     ]
    }
   ],
   "source": [
    "max_depth_results = get_max_depth(evaluation_set)"
   ]
  },
  {
   "cell_type": "code",
   "execution_count": 19,
   "metadata": {},
   "outputs": [
    {
     "data": {
      "image/png": "[encoded data removed]",
      "text/plain": [
       "<Figure size 1080x504 with 1 Axes>"
      ]
     },
     "metadata": {},
     "output_type": "display_data"
    }
   ],
   "source": [
    "plt.figure(figsize=(15,7))\n",
    "plt.plot(max_depth_results['depth'], max_depth_results['mean_rmsle_train'],label='train',marker='o');\n",
    "plt.plot(max_depth_results['depth'], max_depth_results['mean_rmsle_valid'],label='valid',marker='o');\n",
    "plt.legend();"
   ]
  },
  {
   "cell_type": "markdown",
   "metadata": {},
   "source": [
    "---\n",
    "\n",
    "- We can see that the model starts overfitting with max_depth more than 4 as it is improving only on train data.\n",
    "- So, we will fix the value of max_depth to 4 and find out the best value of min_child_weight\n",
    "\n",
    "---\n",
    "\n",
    "### `MIN_CHILD_WEIGHT`\n",
    "\n",
    "- `min_child_weight` is another parameter to control overfitting. The larger min_child_weight is, the more bias the algorithm has.\n",
    "- We will check the performance of the model for the values 1 to 5.\n",
    "- The value of n_estimators will be 720 and max_depth will be 4.\n",
    "\n",
    "---"
   ]
  },
  {
   "cell_type": "code",
   "execution_count": 20,
   "metadata": {
    "collapsed": true
   },
   "outputs": [],
   "source": [
    "def get_min_child_weight(evaluation_set):\n",
    "    \n",
    "    results = []\n",
    "    \n",
    "    for mcw in (range(1, 6, 1)):\n",
    "        x = {}\n",
    "        SCORE_TRAIN = []\n",
    "        SCORE_VALID = []\n",
    "        for train, valid in (evaluation_set):\n",
    "                        \n",
    "            # separate the independent and target variables from the train and valid data.    \n",
    "            train_data_x = train.drop(columns= ['WEEK_END_DATE', 'UNITS'])\n",
    "            train_data_y = train['UNITS']\n",
    "\n",
    "            valid_data_x = valid.drop(columns= ['WEEK_END_DATE', 'UNITS'])\n",
    "            valid_data_y = valid['UNITS']\n",
    "            \n",
    "            \n",
    "            # evaluation sets\n",
    "            # we will evaluate our model on both train and validation data\n",
    "            e_set = [(train_data_x, train_data_y),(valid_data_x, valid_data_y)]\n",
    "\n",
    "            model = xgb.XGBRegressor(n_estimators = 720,\n",
    "                                     max_depth=4,\n",
    "                                     min_child_weight= mcw,\n",
    "                                     learning_rate=0.01,\n",
    "                                     n_jobs=4,\n",
    "                                     random_state=0,\n",
    "                                     objective='reg:squarederror')\n",
    "            model.fit(train_data_x, train_data_y, eval_metric= custom_eval ,eval_set= e_set, verbose=False)\n",
    "\n",
    "            SCORE_TRAIN.append(model.evals_result_['validation_0']['rmsle'][-1])\n",
    "            SCORE_VALID.append(model.evals_result_['validation_1']['rmsle'][-1])\n",
    "            \n",
    "            \n",
    "        # calculate the mean rmsle on train and valid     \n",
    "        mean_score_train = np.mean(SCORE_TRAIN)\n",
    "        mean_score_valid = np.mean(SCORE_VALID)\n",
    "        \n",
    "        print('With Min Child Weight:\\t'+ str(mcw) + '\\tMEAN RMSLE TRAIN:\\t' + str(mean_score_train)+ '\\tMEAN RMSLE VALID: '+str(mean_score_valid))\n",
    "        x['mcw'] = mcw\n",
    "        x['mean_rmsle_train'] = mean_score_train\n",
    "        x['mean_rmsle_valid'] = mean_score_valid\n",
    "        results.append(x)\n",
    "\n",
    "    return pd.DataFrame.from_dict(results)"
   ]
  },
  {
   "cell_type": "code",
   "execution_count": 21,
   "metadata": {},
   "outputs": [
    {
     "name": "stdout",
     "output_type": "stream",
     "text": [
      "With Min Child Weight:\t1\tMEAN RMSLE TRAIN:\t0.4008241428571428\tMEAN RMSLE VALID: 0.46364599999999995\n",
      "With Min Child Weight:\t2\tMEAN RMSLE TRAIN:\t0.4007882142857143\tMEAN RMSLE VALID: 0.4630388571428572\n",
      "With Min Child Weight:\t3\tMEAN RMSLE TRAIN:\t0.4009015000000001\tMEAN RMSLE VALID: 0.46427192857142857\n",
      "With Min Child Weight:\t4\tMEAN RMSLE TRAIN:\t0.4006355714285714\tMEAN RMSLE VALID: 0.46499285714285715\n",
      "With Min Child Weight:\t5\tMEAN RMSLE TRAIN:\t0.4007522857142857\tMEAN RMSLE VALID: 0.46515264285714286\n"
     ]
    }
   ],
   "source": [
    "mcw_results = get_min_child_weight(evaluation_set)"
   ]
  },
  {
   "cell_type": "code",
   "execution_count": 22,
   "metadata": {},
   "outputs": [
    {
     "data": {
      "image/png": "[encoded data removed]",
      "text/plain": [
       "<Figure size 1080x504 with 1 Axes>"
      ]
     },
     "metadata": {},
     "output_type": "display_data"
    }
   ],
   "source": [
    "plt.figure(figsize=(15,7))\n",
    "plt.plot(mcw_results['mcw'], mcw_results['mean_rmsle_train'],label='train',marker='o');\n",
    "plt.plot(mcw_results['mcw'], mcw_results['mean_rmsle_valid'],label='valid',marker='o');\n",
    "plt.legend();"
   ]
  },
  {
   "cell_type": "markdown",
   "metadata": {
    "collapsed": true
   },
   "source": [
    "---\n",
    "\n",
    "- The values of `min_child_weight` doesn't make much difference to the model performance. So, we will choose any smaller value to keep the model less complex.   \n",
    "- So, we will fix `min_child_weight` as 2 and find out the best value of gamma.\n",
    "\n",
    "---\n",
    "\n",
    "### `GAMMA`\n",
    "\n",
    "- A node is split only when the resulting split gives a positive reduction in the loss function. Gamma specifies the minimum loss reduction required to make a split. The larger gamma is, the more biased the algorithm will be.\n",
    "- We will check the performance of the model on values 0, 0.01, 0.1, 0.5, 1, 10 and 100.\n",
    "\n",
    "---"
   ]
  },
  {
   "cell_type": "code",
   "execution_count": 23,
   "metadata": {
    "collapsed": true
   },
   "outputs": [],
   "source": [
    "def get_gamma(evaluation_set):\n",
    "    \n",
    "    results = []\n",
    "    \n",
    "    for g in [0, 0.01, 0.1, 0.5, 1, 10, 100]:\n",
    "        x = {}\n",
    "        SCORE_TRAIN = []\n",
    "        SCORE_VALID = []\n",
    "        \n",
    "        for train, valid in (evaluation_set):\n",
    "                        \n",
    "            # separate the target and independent variables from the train and valid    \n",
    "            train_data_x = train.drop(columns= ['WEEK_END_DATE', 'UNITS'])\n",
    "            train_data_y = train['UNITS']\n",
    "\n",
    "            valid_data_x = valid.drop(columns= ['WEEK_END_DATE', 'UNITS'])\n",
    "            valid_data_y = valid['UNITS']\n",
    "\n",
    "            \n",
    "            # evaluation sets\n",
    "            # we will evaluate our model on both train and validation data\n",
    "            e_set = [ (train_data_x, train_data_y), (valid_data_x, valid_data_y)]\n",
    "\n",
    "            # fit the model \n",
    "            model = xgb.XGBRegressor(n_estimators = 720,\n",
    "                                     max_depth=4,\n",
    "                                     min_child_weight= 2,\n",
    "                                     gamma=g,\n",
    "                                     learning_rate=0.01,\n",
    "                                     n_jobs=4,\n",
    "                                     random_state=0,\n",
    "                                     objective='reg:squarederror')\n",
    "            model.fit(train_data_x, train_data_y, eval_metric= custom_eval ,eval_set= e_set, verbose=False)\n",
    "\n",
    "            SCORE_TRAIN.append(model.evals_result_['validation_0']['rmsle'][-1])\n",
    "            SCORE_VALID.append(model.evals_result_['validation_1']['rmsle'][-1])\n",
    "            \n",
    "            \n",
    "        # calculate the mean rmsle on train and valid.    \n",
    "        mean_score_train = np.mean(SCORE_TRAIN)\n",
    "        mean_score_valid = np.mean(SCORE_VALID)\n",
    "        \n",
    "        print('With Gamma:\\t'+ str(g) + '\\tMEAN RMSLE TRAIN:\\t' + str(mean_score_train)+'\\tMEAN RMSLE VALID: '+str(mean_score_valid))\n",
    "        x['gamma'] = g\n",
    "        x['mean_rmsle_train'] = mean_score_train\n",
    "        x['mean_rmsle_valid'] = mean_score_valid\n",
    "        results.append(x)\n",
    "\n",
    "    return pd.DataFrame.from_dict(results)"
   ]
  },
  {
   "cell_type": "code",
   "execution_count": 24,
   "metadata": {},
   "outputs": [
    {
     "name": "stdout",
     "output_type": "stream",
     "text": [
      "With Gamma:\t0\tMEAN RMSLE TRAIN:\t0.4007882142857143\tMEAN RMSLE VALID: 0.4630388571428572\n",
      "With Gamma:\t0.01\tMEAN RMSLE TRAIN:\t0.4007882142857143\tMEAN RMSLE VALID: 0.4630388571428572\n",
      "With Gamma:\t0.1\tMEAN RMSLE TRAIN:\t0.4007882142857143\tMEAN RMSLE VALID: 0.4630388571428572\n",
      "With Gamma:\t0.5\tMEAN RMSLE TRAIN:\t0.4007882142857143\tMEAN RMSLE VALID: 0.4630389285714286\n",
      "With Gamma:\t1\tMEAN RMSLE TRAIN:\t0.40080828571428573\tMEAN RMSLE VALID: 0.46302392857142866\n",
      "With Gamma:\t10\tMEAN RMSLE TRAIN:\t0.4007325714285715\tMEAN RMSLE VALID: 0.4631236428571429\n",
      "With Gamma:\t100\tMEAN RMSLE TRAIN:\t0.4009129285714286\tMEAN RMSLE VALID: 0.46337200000000006\n"
     ]
    }
   ],
   "source": [
    "gamma_results= get_gamma(evaluation_set)"
   ]
  },
  {
   "cell_type": "code",
   "execution_count": 25,
   "metadata": {},
   "outputs": [
    {
     "data": {
      "image/png": "[encoded data removed]",
      "text/plain": [
       "<Figure size 1080x504 with 1 Axes>"
      ]
     },
     "metadata": {},
     "output_type": "display_data"
    }
   ],
   "source": [
    "plt.figure(figsize=(15,7))\n",
    "plt.plot(gamma_results['gamma'], gamma_results['mean_rmsle_train'],label='train',marker='o');\n",
    "plt.plot(gamma_results['gamma'], gamma_results['mean_rmsle_valid'],label='valid',marker='o');\n",
    "plt.legend();"
   ]
  },
  {
   "cell_type": "markdown",
   "metadata": {
    "collapsed": true
   },
   "source": [
    "---\n",
    "\n",
    "- The value of gamma is also not making much difference to the model performance.\n",
    "- We will keep the value of gamma fixed to 0 and find the best value of the subsample.\n",
    "\n",
    "\n",
    "### `SUB SAMPLE`\n",
    "\n",
    "- Subsample ratio of the training instances. Setting it to a value less than 1 means that XGBoost would randomly sample a percentage of the training data prior to growing trees and this will prevent overfitting. \n",
    "- We will choose different values from 0 to 1 and check the performance.\n",
    "\n",
    "---"
   ]
  },
  {
   "cell_type": "code",
   "execution_count": 26,
   "metadata": {
    "collapsed": true
   },
   "outputs": [],
   "source": [
    "def get_subsample(evaluation_set):\n",
    "    \n",
    "    results = []\n",
    "    \n",
    "    for ss in [ 0.01, 0.05, 0.075, 0.1, 0.4, 0.6, 0.7, 0.8, 0.9, 0.95, 0.97, 0.99, 0.999, 1]:\n",
    "        x = {}\n",
    "        SCORE_TRAIN = []\n",
    "        SCORE_VALID = []\n",
    "        \n",
    "        for train, valid in (evaluation_set):\n",
    "            \n",
    "            # separate the independent and target variable from train and valid\n",
    "            train_data_x = train.drop(columns= ['WEEK_END_DATE', 'UNITS'])\n",
    "            train_data_y = train['UNITS']\n",
    "\n",
    "            valid_data_x = valid.drop(columns= ['WEEK_END_DATE', 'UNITS'])\n",
    "            valid_data_y = valid['UNITS']\n",
    "\n",
    "            # evaluation sets\n",
    "            # we will evaluate our model on both train and validation data\n",
    "            e_set = [ (train_data_x, train_data_y), (valid_data_x, valid_data_y)]\n",
    "\n",
    "            # fit the model\n",
    "            model = xgb.XGBRegressor(n_estimators = 720,\n",
    "                                     subsample=ss,\n",
    "                                     max_depth=4,\n",
    "                                     min_child_weight= 2,\n",
    "                                     gamma=0,\n",
    "                                     learning_rate=0.01,\n",
    "                                     n_jobs=4,\n",
    "                                     random_state=0,\n",
    "                                     objective='reg:squarederror')\n",
    "            \n",
    "            model.fit(train_data_x, train_data_y, eval_metric= custom_eval ,eval_set= e_set, verbose=False)\n",
    "\n",
    "            SCORE_TRAIN.append(model.evals_result_['validation_0']['rmsle'][-1])\n",
    "            SCORE_VALID.append(model.evals_result_['validation_1']['rmsle'][-1])\n",
    "            \n",
    "        # calculate the mean rmsle on train and valid.\n",
    "        mean_score_train = np.mean(SCORE_TRAIN)\n",
    "        mean_score_valid = np.mean(SCORE_VALID)\n",
    "        \n",
    "        print('With Subsample:\\t'+ str(ss) + '\\tMEAN RMSLE TRAIN:\\t' + str(mean_score_train)+'\\tMEAN RMSLE VALID: '+str(mean_score_valid))\n",
    "        x['sub_sample'] = ss\n",
    "        x['mean_rmsle_train'] = mean_score_train\n",
    "        x['mean_rmsle_valid'] = mean_score_valid\n",
    "        results.append(x)\n",
    "\n",
    "    return pd.DataFrame.from_dict(results)"
   ]
  },
  {
   "cell_type": "code",
   "execution_count": 27,
   "metadata": {},
   "outputs": [
    {
     "name": "stdout",
     "output_type": "stream",
     "text": [
      "With Subsample:\t0.01\tMEAN RMSLE TRAIN:\t0.4290293571428571\tMEAN RMSLE VALID: 0.4820673571428572\n",
      "With Subsample:\t0.05\tMEAN RMSLE TRAIN:\t0.41628135714285713\tMEAN RMSLE VALID: 0.46945721428571435\n",
      "With Subsample:\t0.075\tMEAN RMSLE TRAIN:\t0.4152914285714286\tMEAN RMSLE VALID: 0.47027478571428577\n",
      "With Subsample:\t0.1\tMEAN RMSLE TRAIN:\t0.41419700000000004\tMEAN RMSLE VALID: 0.4685147857142857\n",
      "With Subsample:\t0.4\tMEAN RMSLE TRAIN:\t0.40639192857142853\tMEAN RMSLE VALID: 0.46711885714285717\n",
      "With Subsample:\t0.6\tMEAN RMSLE TRAIN:\t0.40301585714285704\tMEAN RMSLE VALID: 0.4651850714285714\n",
      "With Subsample:\t0.7\tMEAN RMSLE TRAIN:\t0.40198971428571423\tMEAN RMSLE VALID: 0.4648130714285715\n",
      "With Subsample:\t0.8\tMEAN RMSLE TRAIN:\t0.4009331428571428\tMEAN RMSLE VALID: 0.46436071428571424\n",
      "With Subsample:\t0.9\tMEAN RMSLE TRAIN:\t0.4001194285714285\tMEAN RMSLE VALID: 0.4640319285714286\n",
      "With Subsample:\t0.95\tMEAN RMSLE TRAIN:\t0.4000869285714286\tMEAN RMSLE VALID: 0.46309871428571425\n",
      "With Subsample:\t0.97\tMEAN RMSLE TRAIN:\t0.40010221428571435\tMEAN RMSLE VALID: 0.46380400000000005\n",
      "With Subsample:\t0.99\tMEAN RMSLE TRAIN:\t0.40037542857142855\tMEAN RMSLE VALID: 0.46347449999999996\n",
      "With Subsample:\t0.999\tMEAN RMSLE TRAIN:\t0.40077157142857145\tMEAN RMSLE VALID: 0.4640002142857143\n",
      "With Subsample:\t1\tMEAN RMSLE TRAIN:\t0.4007882142857143\tMEAN RMSLE VALID: 0.4630388571428572\n"
     ]
    }
   ],
   "source": [
    "subsample_results = get_subsample(evaluation_set)"
   ]
  },
  {
   "cell_type": "code",
   "execution_count": 28,
   "metadata": {},
   "outputs": [
    {
     "data": {
      "image/png": "[encoded data removed]",
      "text/plain": [
       "<Figure size 1080x504 with 1 Axes>"
      ]
     },
     "metadata": {},
     "output_type": "display_data"
    }
   ],
   "source": [
    "plt.figure(figsize=(15,7))\n",
    "plt.plot(subsample_results['sub_sample'], subsample_results['mean_rmsle_train'],label='train',marker='o');\n",
    "plt.plot(subsample_results['sub_sample'], subsample_results['mean_rmsle_valid'],label='valid',marker='o');\n",
    "plt.legend();"
   ]
  },
  {
   "cell_type": "markdown",
   "metadata": {},
   "source": [
    "---\n",
    "\n",
    "- We can see that with increase in subsample ratio the model performance improves on both the train and validation. \n",
    "\n",
    "\n",
    "\n",
    "\n",
    "---"
   ]
  },
  {
   "cell_type": "markdown",
   "metadata": {
    "collapsed": true
   },
   "source": [
    "---\n",
    "\n",
    "### `Final Hyperparameters`\n",
    "\n",
    "So after all the steps for tuning the hyperparameters for XGBoost, this is what we have. \n",
    "\n",
    "\n",
    "- **`N_ESTIMATORS`** :  720\n",
    "- **`MAX_DEPTH`** :  4\n",
    "- **`LEARNING RATE`** : 0.01\n",
    "- **`GAMMA`** : 0\n",
    "- **`MIN_CHILD_WEIGHT`** : 2\n",
    "- **`SUBSAMPLE`** : 1\n",
    "\n",
    "Lower the learning rate and simultaneously tune the number of estimators to finally finetune this model.\n",
    "\n",
    "---"
   ]
  }
 ],
 "metadata": {
  "kernelspec": {
   "display_name": "Python 3",
   "language": "python",
   "name": "python3"
  },
  "language_info": {
   "codemirror_mode": {
    "name": "ipython",
    "version": 3
   },
   "file_extension": ".py",
   "mimetype": "text/x-python",
   "name": "python",
   "nbconvert_exporter": "python",
   "pygments_lexer": "ipython3",
   "version": "3.7.4"
  }
 },
 "nbformat": 4,
 "nbformat_minor": 2
}

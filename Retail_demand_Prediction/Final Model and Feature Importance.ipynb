{
 "cells": [
  {
   "cell_type": "markdown",
   "metadata": {},
   "source": [
    "---\n",
    "\n",
    "\n",
    "## `Testing Final Models and Feature Importance`\n",
    "\n",
    "\n",
    "---"
   ]
  },
  {
   "cell_type": "code",
   "execution_count": 1,
   "metadata": {
    "collapsed": true
   },
   "outputs": [],
   "source": [
    "# importing required libraries\n",
    "\n",
    "import pandas as pd\n",
    "import numpy as np\n",
    "import matplotlib.pyplot as plt\n",
    "%matplotlib inline\n",
    "\n",
    "import warnings\n",
    "warnings.filterwarnings('ignore')\n",
    "\n",
    "import xgboost as xgb\n",
    "from catboost import CatBoostRegressor\n",
    "from sklearn.ensemble import RandomForestRegressor\n",
    "from tqdm import tqdm\n",
    "from datetime import timedelta\n",
    "from sklearn.metrics import mean_squared_log_error as msle"
   ]
  },
  {
   "cell_type": "code",
   "execution_count": 2,
   "metadata": {
    "collapsed": true
   },
   "outputs": [],
   "source": [
    "# read the dataset\n",
    "data = pd.read_csv('final_data.csv')"
   ]
  },
  {
   "cell_type": "code",
   "execution_count": 3,
   "metadata": {},
   "outputs": [
    {
     "data": {
      "text/plain": [
       "0"
      ]
     },
     "execution_count": 3,
     "metadata": {},
     "output_type": "execute_result"
    }
   ],
   "source": [
    "# check for the null values\n",
    "data.isna().sum().sum()"
   ]
  },
  {
   "cell_type": "code",
   "execution_count": 4,
   "metadata": {},
   "outputs": [
    {
     "data": {
      "text/plain": [
       "WEEK_END_DATE               2009-01-14\n",
       "STORE_NUM                          367\n",
       "UPC                         1111009477\n",
       "BASE_PRICE                        1.57\n",
       "FEATURE                              0\n",
       "DISPLAY                              0\n",
       "UNITS                               13\n",
       "MANUFACTURER_1                       1\n",
       "MANUFACTURER_2                       0\n",
       "MANUFACTURER_3                       0\n",
       "MANUFACTURER_4                       0\n",
       "MANUFACTURER_5                       0\n",
       "MANUFACTURER_6                       0\n",
       "MANUFACTURER_7                       0\n",
       "MANUFACTURER_8                       0\n",
       "MANUFACTURER_9                       0\n",
       "CATEGORY_1                           1\n",
       "CATEGORY_2                           0\n",
       "CATEGORY_3                           0\n",
       "CATEGORY_4                           0\n",
       "SUB_CATEGORY_1                       1\n",
       "SUB_CATEGORY_2                       0\n",
       "SUB_CATEGORY_3                       0\n",
       "SUB_CATEGORY_4                       0\n",
       "SUB_CATEGORY_5                       0\n",
       "SUB_CATEGORY_6                       0\n",
       "SUB_CATEGORY_7                       0\n",
       "PRODUCT_SIZE                         2\n",
       "year                              2009\n",
       "month                                1\n",
       "day                                 14\n",
       "day_of_year                         14\n",
       "week                                 3\n",
       "quarter                              1\n",
       "U_MANUFACTURER                       4\n",
       "U_CATEGORY                           3\n",
       "U_SUB_CATEGORY                       5\n",
       "UNITS_BEFORE_52WEEK                  0\n",
       "price_difference                     0\n",
       "2_MONTH_BEFORE              2008-11-12\n",
       "1_WEEK_BEFORE               2009-01-07\n",
       "AVERAGE_UNITS_IN_2_MONTH             0\n",
       "Name: 0, dtype: object"
      ]
     },
     "execution_count": 4,
     "metadata": {},
     "output_type": "execute_result"
    }
   ],
   "source": [
    "data.loc[0]"
   ]
  },
  {
   "cell_type": "code",
   "execution_count": 5,
   "metadata": {
    "collapsed": true
   },
   "outputs": [],
   "source": [
    "# drop the columns that are not required\n",
    "data = data.drop(columns= ['2_MONTH_BEFORE', '1_WEEK_BEFORE'])"
   ]
  },
  {
   "cell_type": "code",
   "execution_count": 6,
   "metadata": {
    "collapsed": true
   },
   "outputs": [],
   "source": [
    "data.WEEK_END_DATE = pd.to_datetime(data.WEEK_END_DATE)"
   ]
  },
  {
   "cell_type": "code",
   "execution_count": 7,
   "metadata": {
    "collapsed": true
   },
   "outputs": [],
   "source": [
    "week = data.WEEK_END_DATE.unique()"
   ]
  },
  {
   "cell_type": "code",
   "execution_count": 8,
   "metadata": {
    "collapsed": true
   },
   "outputs": [],
   "source": [
    "def validation_df(data, week, no_of_months, no_of_validation):\n",
    "    \n",
    "    model_set = []\n",
    "    set_n = 1\n",
    "    for w in range(len(week)-1,0,-1):\n",
    "        x_data = {}\n",
    "\n",
    "        x_data['train_start_1'] = week[w-3-4*no_of_months]\n",
    "        x_data['train_end_1'] = week[w-4]\n",
    "        x_data['train_start_2'] = week[w-1-4*no_of_months]\n",
    "        x_data['validate_week'] = week[w-2]\n",
    "        x_data['test_week'] = week[w]\n",
    "        x_data['no_days_train_1'] = x_data['train_end_1'] - x_data['train_start_1']\n",
    "        x_data['no_days_train_2'] = x_data['validate_week'] - x_data['train_start_2']\n",
    "        x_data['set_no'] = 'set'+str(set_n)\n",
    "        set_n +=1\n",
    "        model_set.append(x_data)\n",
    "        if(len(model_set) == no_of_validation):\n",
    "            break\n",
    "        \n",
    "\n",
    "    df = pd.DataFrame.from_dict(model_set)\n",
    "    df['no_days_train_1'] = df['no_days_train_1'] + timedelta(days=7)\n",
    "    df['no_days_train_2'] = df['no_days_train_2'] + timedelta(days=7)\n",
    "    return df    "
   ]
  },
  {
   "cell_type": "code",
   "execution_count": 9,
   "metadata": {},
   "outputs": [
    {
     "data": {
      "text/html": [
       "<div>\n",
       "<style scoped>\n",
       "    .dataframe tbody tr th:only-of-type {\n",
       "        vertical-align: middle;\n",
       "    }\n",
       "\n",
       "    .dataframe tbody tr th {\n",
       "        vertical-align: top;\n",
       "    }\n",
       "\n",
       "    .dataframe thead th {\n",
       "        text-align: right;\n",
       "    }\n",
       "</style>\n",
       "<table border=\"1\" class=\"dataframe\">\n",
       "  <thead>\n",
       "    <tr style=\"text-align: right;\">\n",
       "      <th></th>\n",
       "      <th>no_days_train_1</th>\n",
       "      <th>no_days_train_2</th>\n",
       "      <th>set_no</th>\n",
       "      <th>test_week</th>\n",
       "      <th>train_end_1</th>\n",
       "      <th>train_start_1</th>\n",
       "      <th>train_start_2</th>\n",
       "      <th>validate_week</th>\n",
       "    </tr>\n",
       "  </thead>\n",
       "  <tbody>\n",
       "    <tr>\n",
       "      <th>0</th>\n",
       "      <td>56 days</td>\n",
       "      <td>56 days</td>\n",
       "      <td>set1</td>\n",
       "      <td>2011-09-28</td>\n",
       "      <td>2011-08-31</td>\n",
       "      <td>2011-07-13</td>\n",
       "      <td>2011-07-27</td>\n",
       "      <td>2011-09-14</td>\n",
       "    </tr>\n",
       "    <tr>\n",
       "      <th>1</th>\n",
       "      <td>56 days</td>\n",
       "      <td>56 days</td>\n",
       "      <td>set2</td>\n",
       "      <td>2011-09-21</td>\n",
       "      <td>2011-08-24</td>\n",
       "      <td>2011-07-06</td>\n",
       "      <td>2011-07-20</td>\n",
       "      <td>2011-09-07</td>\n",
       "    </tr>\n",
       "    <tr>\n",
       "      <th>2</th>\n",
       "      <td>56 days</td>\n",
       "      <td>56 days</td>\n",
       "      <td>set3</td>\n",
       "      <td>2011-09-14</td>\n",
       "      <td>2011-08-17</td>\n",
       "      <td>2011-06-29</td>\n",
       "      <td>2011-07-13</td>\n",
       "      <td>2011-08-31</td>\n",
       "    </tr>\n",
       "    <tr>\n",
       "      <th>3</th>\n",
       "      <td>56 days</td>\n",
       "      <td>56 days</td>\n",
       "      <td>set4</td>\n",
       "      <td>2011-09-07</td>\n",
       "      <td>2011-08-10</td>\n",
       "      <td>2011-06-22</td>\n",
       "      <td>2011-07-06</td>\n",
       "      <td>2011-08-24</td>\n",
       "    </tr>\n",
       "    <tr>\n",
       "      <th>4</th>\n",
       "      <td>56 days</td>\n",
       "      <td>56 days</td>\n",
       "      <td>set5</td>\n",
       "      <td>2011-08-31</td>\n",
       "      <td>2011-08-03</td>\n",
       "      <td>2011-06-15</td>\n",
       "      <td>2011-06-29</td>\n",
       "      <td>2011-08-17</td>\n",
       "    </tr>\n",
       "    <tr>\n",
       "      <th>5</th>\n",
       "      <td>56 days</td>\n",
       "      <td>56 days</td>\n",
       "      <td>set6</td>\n",
       "      <td>2011-08-24</td>\n",
       "      <td>2011-07-27</td>\n",
       "      <td>2011-06-08</td>\n",
       "      <td>2011-06-22</td>\n",
       "      <td>2011-08-10</td>\n",
       "    </tr>\n",
       "    <tr>\n",
       "      <th>6</th>\n",
       "      <td>56 days</td>\n",
       "      <td>56 days</td>\n",
       "      <td>set7</td>\n",
       "      <td>2011-08-17</td>\n",
       "      <td>2011-07-20</td>\n",
       "      <td>2011-06-01</td>\n",
       "      <td>2011-06-15</td>\n",
       "      <td>2011-08-03</td>\n",
       "    </tr>\n",
       "    <tr>\n",
       "      <th>7</th>\n",
       "      <td>56 days</td>\n",
       "      <td>56 days</td>\n",
       "      <td>set8</td>\n",
       "      <td>2011-08-10</td>\n",
       "      <td>2011-07-13</td>\n",
       "      <td>2011-05-25</td>\n",
       "      <td>2011-06-08</td>\n",
       "      <td>2011-07-27</td>\n",
       "    </tr>\n",
       "    <tr>\n",
       "      <th>8</th>\n",
       "      <td>56 days</td>\n",
       "      <td>56 days</td>\n",
       "      <td>set9</td>\n",
       "      <td>2011-08-03</td>\n",
       "      <td>2011-07-06</td>\n",
       "      <td>2011-05-18</td>\n",
       "      <td>2011-06-01</td>\n",
       "      <td>2011-07-20</td>\n",
       "    </tr>\n",
       "    <tr>\n",
       "      <th>9</th>\n",
       "      <td>56 days</td>\n",
       "      <td>56 days</td>\n",
       "      <td>set10</td>\n",
       "      <td>2011-07-27</td>\n",
       "      <td>2011-06-29</td>\n",
       "      <td>2011-05-11</td>\n",
       "      <td>2011-05-25</td>\n",
       "      <td>2011-07-13</td>\n",
       "    </tr>\n",
       "    <tr>\n",
       "      <th>10</th>\n",
       "      <td>56 days</td>\n",
       "      <td>56 days</td>\n",
       "      <td>set11</td>\n",
       "      <td>2011-07-20</td>\n",
       "      <td>2011-06-22</td>\n",
       "      <td>2011-05-04</td>\n",
       "      <td>2011-05-18</td>\n",
       "      <td>2011-07-06</td>\n",
       "    </tr>\n",
       "    <tr>\n",
       "      <th>11</th>\n",
       "      <td>56 days</td>\n",
       "      <td>56 days</td>\n",
       "      <td>set12</td>\n",
       "      <td>2011-07-13</td>\n",
       "      <td>2011-06-15</td>\n",
       "      <td>2011-04-27</td>\n",
       "      <td>2011-05-11</td>\n",
       "      <td>2011-06-29</td>\n",
       "    </tr>\n",
       "    <tr>\n",
       "      <th>12</th>\n",
       "      <td>56 days</td>\n",
       "      <td>56 days</td>\n",
       "      <td>set13</td>\n",
       "      <td>2011-07-06</td>\n",
       "      <td>2011-06-08</td>\n",
       "      <td>2011-04-20</td>\n",
       "      <td>2011-05-04</td>\n",
       "      <td>2011-06-22</td>\n",
       "    </tr>\n",
       "    <tr>\n",
       "      <th>13</th>\n",
       "      <td>56 days</td>\n",
       "      <td>56 days</td>\n",
       "      <td>set14</td>\n",
       "      <td>2011-06-29</td>\n",
       "      <td>2011-06-01</td>\n",
       "      <td>2011-04-13</td>\n",
       "      <td>2011-04-27</td>\n",
       "      <td>2011-06-15</td>\n",
       "    </tr>\n",
       "  </tbody>\n",
       "</table>\n",
       "</div>"
      ],
      "text/plain": [
       "   no_days_train_1 no_days_train_2 set_no  test_week train_end_1  \\\n",
       "0          56 days         56 days   set1 2011-09-28  2011-08-31   \n",
       "1          56 days         56 days   set2 2011-09-21  2011-08-24   \n",
       "2          56 days         56 days   set3 2011-09-14  2011-08-17   \n",
       "3          56 days         56 days   set4 2011-09-07  2011-08-10   \n",
       "4          56 days         56 days   set5 2011-08-31  2011-08-03   \n",
       "5          56 days         56 days   set6 2011-08-24  2011-07-27   \n",
       "6          56 days         56 days   set7 2011-08-17  2011-07-20   \n",
       "7          56 days         56 days   set8 2011-08-10  2011-07-13   \n",
       "8          56 days         56 days   set9 2011-08-03  2011-07-06   \n",
       "9          56 days         56 days  set10 2011-07-27  2011-06-29   \n",
       "10         56 days         56 days  set11 2011-07-20  2011-06-22   \n",
       "11         56 days         56 days  set12 2011-07-13  2011-06-15   \n",
       "12         56 days         56 days  set13 2011-07-06  2011-06-08   \n",
       "13         56 days         56 days  set14 2011-06-29  2011-06-01   \n",
       "\n",
       "   train_start_1 train_start_2 validate_week  \n",
       "0     2011-07-13    2011-07-27    2011-09-14  \n",
       "1     2011-07-06    2011-07-20    2011-09-07  \n",
       "2     2011-06-29    2011-07-13    2011-08-31  \n",
       "3     2011-06-22    2011-07-06    2011-08-24  \n",
       "4     2011-06-15    2011-06-29    2011-08-17  \n",
       "5     2011-06-08    2011-06-22    2011-08-10  \n",
       "6     2011-06-01    2011-06-15    2011-08-03  \n",
       "7     2011-05-25    2011-06-08    2011-07-27  \n",
       "8     2011-05-18    2011-06-01    2011-07-20  \n",
       "9     2011-05-11    2011-05-25    2011-07-13  \n",
       "10    2011-05-04    2011-05-18    2011-07-06  \n",
       "11    2011-04-27    2011-05-11    2011-06-29  \n",
       "12    2011-04-20    2011-05-04    2011-06-22  \n",
       "13    2011-04-13    2011-04-27    2011-06-15  "
      ]
     },
     "execution_count": 9,
     "metadata": {},
     "output_type": "execute_result"
    }
   ],
   "source": [
    "validation_df(data, week, no_of_months=2, no_of_validation = 14)"
   ]
  },
  {
   "cell_type": "code",
   "execution_count": 10,
   "metadata": {
    "collapsed": true
   },
   "outputs": [],
   "source": [
    "# define a function to calculate the evaluation sets.\n",
    "# this time we will include test set also\n",
    "def get_evaluation_sets(data, df):\n",
    "    evaluation_set = []\n",
    "    \n",
    "    for row in range(df.shape[0]):\n",
    "        print(df.loc[row]['set_no'])\n",
    "        # get the train data 1\n",
    "        train_data_1 = data[(data.WEEK_END_DATE >= df.loc[row]['train_start_1']) & (data.WEEK_END_DATE <= df.loc[row]['train_end_1'])]        \n",
    "        # get the validate data\n",
    "        validation_data = data[data.WEEK_END_DATE == df.loc[row]['validate_week']]\n",
    "        # get the train data 2\n",
    "        train_data_2 = data[(data.WEEK_END_DATE >= df.loc[row]['train_start_2']) & (data.WEEK_END_DATE <= df.loc[row]['validate_week'])]\n",
    "        # get the test data\n",
    "        test_data = data[data.WEEK_END_DATE == df.loc[row]['test_week']]\n",
    "        evaluation_set.append((train_data_1, validation_data, train_data_2, test_data))\n",
    "    return evaluation_set"
   ]
  },
  {
   "cell_type": "code",
   "execution_count": 11,
   "metadata": {},
   "outputs": [
    {
     "name": "stdout",
     "output_type": "stream",
     "text": [
      "set1\n",
      "set2\n",
      "set3\n",
      "set4\n",
      "set5\n",
      "set6\n",
      "set7\n",
      "set8\n",
      "set9\n",
      "set10\n",
      "set11\n",
      "set12\n",
      "set13\n",
      "set14\n"
     ]
    }
   ],
   "source": [
    "# get the evaluation sets\n",
    "evaluation_sets = get_evaluation_sets(data,\n",
    "                                      validation_df(data,\n",
    "                                                    week,\n",
    "                                                    no_of_months= 2,\n",
    "                                                    no_of_validation=14)\n",
    "                                     )"
   ]
  },
  {
   "cell_type": "code",
   "execution_count": 12,
   "metadata": {
    "collapsed": true
   },
   "outputs": [],
   "source": [
    "# function to calculate the root mean squared log error\n",
    "def get_msle(true, predicted) :\n",
    "    return np.sqrt(msle(true, predicted))"
   ]
  },
  {
   "cell_type": "markdown",
   "metadata": {},
   "source": [
    "---\n",
    "\n",
    "***Define function to calculate results on the evaluation sets.***\n",
    "\n",
    "---"
   ]
  },
  {
   "cell_type": "code",
   "execution_count": 13,
   "metadata": {
    "collapsed": true
   },
   "outputs": [],
   "source": [
    "def get_results_on_evaluation_set(eval_set, model):\n",
    "    results = []\n",
    "    set_n = 1\n",
    "    for eval_data in tqdm(eval_set):\n",
    "        \n",
    "        x = {}\n",
    "        train_data_1, validate, train_data_2, test = eval_data\n",
    "        \n",
    "        # separate the independent and target variables from train and valid\n",
    "        train_data_1_x = train_data_1.drop(columns= ['WEEK_END_DATE', 'STORE_NUM', 'UPC', 'UNITS'])\n",
    "        train_data_1_y = train_data_1['UNITS']\n",
    "        \n",
    "        validate_x = validate.drop(columns= ['WEEK_END_DATE', 'STORE_NUM', 'UPC', 'UNITS'])\n",
    "        validate_y = validate['UNITS']\n",
    "        \n",
    "        train_data_2_x = train_data_2.drop(columns= ['WEEK_END_DATE', 'STORE_NUM', 'UPC', 'UNITS'])\n",
    "        train_data_2_y = train_data_2['UNITS']\n",
    "        \n",
    "        test_x = test.drop(columns= ['WEEK_END_DATE', 'STORE_NUM', 'UPC', 'UNITS'])\n",
    "        test_y = test['UNITS']\n",
    "        \n",
    "        \n",
    "        # fit the model on the training data\n",
    "        model_valid = model.fit(train_data_1_x, train_data_1_y)\n",
    "        \n",
    "        # predict the target on train and validate\n",
    "        predict_train_1 = model_valid.predict(train_data_1_x).clip(min=0)\n",
    "        predict_valid   = model_valid.predict(validate_x).clip(min=0)\n",
    "                \n",
    "        \n",
    "        # fit the model on the training data\n",
    "        model_test  = model.fit(train_data_2_x, train_data_2_y)\n",
    "        \n",
    "        # predict the target on train and test\n",
    "        predict_train_2 = model_test.predict(train_data_2_x).clip(min=0)\n",
    "        predict_test    = model_test.predict(test_x).clip(min=0)\n",
    "        \n",
    "        \n",
    "        # calculate the rmsle on train and valid\n",
    "        rmsle_train_1 = get_msle(train_data_1_y, predict_train_1)\n",
    "        rmsle_valid   = get_msle(validate_y, predict_valid)\n",
    "        \n",
    "        # calculate the rmsle on train and test\n",
    "        rmsle_train_2 = get_msle(train_data_2_y, predict_train_2)\n",
    "        rmsle_test    = get_msle(test_y, predict_test)\n",
    "        \n",
    "        \n",
    "        x['set_no'] = set_n\n",
    "        set_n +=1\n",
    "        x['rmsle_train_1'] = rmsle_train_1\n",
    "        x['rmsle_valid'] = rmsle_valid\n",
    "        x['rmsle_train_2'] = rmsle_train_2\n",
    "        x['rmsle_test'] = rmsle_test\n",
    "        results.append(x)\n",
    "        \n",
    "        \n",
    "    return pd.DataFrame.from_dict(results)\n",
    "        "
   ]
  },
  {
   "cell_type": "code",
   "execution_count": 14,
   "metadata": {
    "collapsed": true
   },
   "outputs": [],
   "source": [
    "# define function to get the best 10 feature importance plot\n",
    "def get_feature_importance(eval_set, model):\n",
    "    train_data_1, validate, train_data_2, test = eval_set\n",
    "    \n",
    "    train_data_x = train_data_2.drop(columns= ['WEEK_END_DATE', 'STORE_NUM', 'UPC', 'UNITS'])\n",
    "    train_data_y = train_data_2['UNITS']\n",
    "        \n",
    "    test_x = test.drop(columns= ['WEEK_END_DATE', 'STORE_NUM', 'UPC', 'UNITS'])\n",
    "    test_y = test['UNITS']\n",
    "    \n",
    "    model.fit(train_data_x, train_data_y)\n",
    "    (pd.Series(model.feature_importances_, index=train_data_x.columns).nlargest(10).plot(kind='barh')) \n"
   ]
  },
  {
   "cell_type": "markdown",
   "metadata": {},
   "source": [
    "---\n",
    "\n",
    "## `RANDOM FOREST`\n",
    "\n",
    "---"
   ]
  },
  {
   "cell_type": "code",
   "execution_count": 15,
   "metadata": {},
   "outputs": [
    {
     "name": "stderr",
     "output_type": "stream",
     "text": [
      "100%|██████████| 14/14 [03:57<00:00, 17.05s/it]\n"
     ]
    }
   ],
   "source": [
    "### define randomforest model\n",
    "model_rf = RandomForestRegressor(max_depth=10, n_estimators=175, random_state=0)\n",
    "\n",
    "# calculate the results using the random forest\n",
    "results_RFR = get_results_on_evaluation_set(evaluation_sets, model_rf)"
   ]
  },
  {
   "cell_type": "code",
   "execution_count": 49,
   "metadata": {},
   "outputs": [
    {
     "data": {
      "text/html": [
       "<div>\n",
       "<style scoped>\n",
       "    .dataframe tbody tr th:only-of-type {\n",
       "        vertical-align: middle;\n",
       "    }\n",
       "\n",
       "    .dataframe tbody tr th {\n",
       "        vertical-align: top;\n",
       "    }\n",
       "\n",
       "    .dataframe thead th {\n",
       "        text-align: right;\n",
       "    }\n",
       "</style>\n",
       "<table border=\"1\" class=\"dataframe\">\n",
       "  <thead>\n",
       "    <tr style=\"text-align: right;\">\n",
       "      <th></th>\n",
       "      <th>rmsle_train_2</th>\n",
       "      <th>rmsle_test</th>\n",
       "    </tr>\n",
       "  </thead>\n",
       "  <tbody>\n",
       "    <tr>\n",
       "      <th>0</th>\n",
       "      <td>0.354970</td>\n",
       "      <td>0.415476</td>\n",
       "    </tr>\n",
       "    <tr>\n",
       "      <th>1</th>\n",
       "      <td>0.357439</td>\n",
       "      <td>0.499669</td>\n",
       "    </tr>\n",
       "    <tr>\n",
       "      <th>2</th>\n",
       "      <td>0.365272</td>\n",
       "      <td>0.406321</td>\n",
       "    </tr>\n",
       "    <tr>\n",
       "      <th>3</th>\n",
       "      <td>0.352390</td>\n",
       "      <td>0.466678</td>\n",
       "    </tr>\n",
       "    <tr>\n",
       "      <th>4</th>\n",
       "      <td>0.348456</td>\n",
       "      <td>0.556271</td>\n",
       "    </tr>\n",
       "    <tr>\n",
       "      <th>5</th>\n",
       "      <td>0.353550</td>\n",
       "      <td>0.480295</td>\n",
       "    </tr>\n",
       "    <tr>\n",
       "      <th>6</th>\n",
       "      <td>0.344304</td>\n",
       "      <td>0.490637</td>\n",
       "    </tr>\n",
       "    <tr>\n",
       "      <th>7</th>\n",
       "      <td>0.339212</td>\n",
       "      <td>0.545311</td>\n",
       "    </tr>\n",
       "    <tr>\n",
       "      <th>8</th>\n",
       "      <td>0.334285</td>\n",
       "      <td>0.439274</td>\n",
       "    </tr>\n",
       "    <tr>\n",
       "      <th>9</th>\n",
       "      <td>0.337396</td>\n",
       "      <td>0.478067</td>\n",
       "    </tr>\n",
       "    <tr>\n",
       "      <th>10</th>\n",
       "      <td>0.351010</td>\n",
       "      <td>0.429001</td>\n",
       "    </tr>\n",
       "    <tr>\n",
       "      <th>11</th>\n",
       "      <td>0.353564</td>\n",
       "      <td>0.437271</td>\n",
       "    </tr>\n",
       "    <tr>\n",
       "      <th>12</th>\n",
       "      <td>0.352670</td>\n",
       "      <td>0.455333</td>\n",
       "    </tr>\n",
       "    <tr>\n",
       "      <th>13</th>\n",
       "      <td>0.348114</td>\n",
       "      <td>0.427477</td>\n",
       "    </tr>\n",
       "  </tbody>\n",
       "</table>\n",
       "</div>"
      ],
      "text/plain": [
       "    rmsle_train_2  rmsle_test\n",
       "0        0.354970    0.415476\n",
       "1        0.357439    0.499669\n",
       "2        0.365272    0.406321\n",
       "3        0.352390    0.466678\n",
       "4        0.348456    0.556271\n",
       "5        0.353550    0.480295\n",
       "6        0.344304    0.490637\n",
       "7        0.339212    0.545311\n",
       "8        0.334285    0.439274\n",
       "9        0.337396    0.478067\n",
       "10       0.351010    0.429001\n",
       "11       0.353564    0.437271\n",
       "12       0.352670    0.455333\n",
       "13       0.348114    0.427477"
      ]
     },
     "execution_count": 49,
     "metadata": {},
     "output_type": "execute_result"
    }
   ],
   "source": [
    "results_RFR[['rmsle_train_2', 'rmsle_test']]"
   ]
  },
  {
   "cell_type": "code",
   "execution_count": 47,
   "metadata": {},
   "outputs": [
    {
     "data": {
      "text/plain": [
       "rmsle_train_2    0.349474\n",
       "rmsle_test       0.466220\n",
       "dtype: float64"
      ]
     },
     "execution_count": 47,
     "metadata": {},
     "output_type": "execute_result"
    }
   ],
   "source": [
    "# average rmsle\n",
    "results_RFR[['rmsle_train_2', 'rmsle_test']].mean()"
   ]
  },
  {
   "cell_type": "markdown",
   "metadata": {},
   "source": [
    "---\n",
    "\n",
    "### `XGBOOST`\n",
    "---"
   ]
  },
  {
   "cell_type": "code",
   "execution_count": 18,
   "metadata": {
    "collapsed": true
   },
   "outputs": [],
   "source": [
    "# define the xgboost model\n",
    "model_XGB = xgb.XGBRegressor(n_estimators = 720,\n",
    "                             subsample = 1,\n",
    "                             max_depth = 4,\n",
    "                             min_child_weight = 2,\n",
    "                             gamma = 0,\n",
    "                             learning_rate = 0.01,\n",
    "                             n_jobs = 4,\n",
    "                             random_state = 0,\n",
    "                             objective ='reg:squarederror')"
   ]
  },
  {
   "cell_type": "code",
   "execution_count": 19,
   "metadata": {},
   "outputs": [
    {
     "name": "stderr",
     "output_type": "stream",
     "text": [
      "100%|██████████| 14/14 [02:20<00:00, 10.37s/it]\n"
     ]
    }
   ],
   "source": [
    "# calculate the results using xgboost\n",
    "results_XGB = get_results_on_evaluation_set(evaluation_sets, model_XGB)"
   ]
  },
  {
   "cell_type": "code",
   "execution_count": 46,
   "metadata": {},
   "outputs": [
    {
     "data": {
      "text/html": [
       "<div>\n",
       "<style scoped>\n",
       "    .dataframe tbody tr th:only-of-type {\n",
       "        vertical-align: middle;\n",
       "    }\n",
       "\n",
       "    .dataframe tbody tr th {\n",
       "        vertical-align: top;\n",
       "    }\n",
       "\n",
       "    .dataframe thead th {\n",
       "        text-align: right;\n",
       "    }\n",
       "</style>\n",
       "<table border=\"1\" class=\"dataframe\">\n",
       "  <thead>\n",
       "    <tr style=\"text-align: right;\">\n",
       "      <th></th>\n",
       "      <th>rmsle_train_2</th>\n",
       "      <th>rmsle_test</th>\n",
       "    </tr>\n",
       "  </thead>\n",
       "  <tbody>\n",
       "    <tr>\n",
       "      <th>0</th>\n",
       "      <td>0.409002</td>\n",
       "      <td>0.428923</td>\n",
       "    </tr>\n",
       "    <tr>\n",
       "      <th>1</th>\n",
       "      <td>0.412636</td>\n",
       "      <td>0.479892</td>\n",
       "    </tr>\n",
       "    <tr>\n",
       "      <th>2</th>\n",
       "      <td>0.416334</td>\n",
       "      <td>0.405766</td>\n",
       "    </tr>\n",
       "    <tr>\n",
       "      <th>3</th>\n",
       "      <td>0.408288</td>\n",
       "      <td>0.474191</td>\n",
       "    </tr>\n",
       "    <tr>\n",
       "      <th>4</th>\n",
       "      <td>0.405199</td>\n",
       "      <td>0.537664</td>\n",
       "    </tr>\n",
       "    <tr>\n",
       "      <th>5</th>\n",
       "      <td>0.406760</td>\n",
       "      <td>0.477474</td>\n",
       "    </tr>\n",
       "    <tr>\n",
       "      <th>6</th>\n",
       "      <td>0.395314</td>\n",
       "      <td>0.456209</td>\n",
       "    </tr>\n",
       "    <tr>\n",
       "      <th>7</th>\n",
       "      <td>0.393476</td>\n",
       "      <td>0.538499</td>\n",
       "    </tr>\n",
       "    <tr>\n",
       "      <th>8</th>\n",
       "      <td>0.388115</td>\n",
       "      <td>0.432922</td>\n",
       "    </tr>\n",
       "    <tr>\n",
       "      <th>9</th>\n",
       "      <td>0.387916</td>\n",
       "      <td>0.467024</td>\n",
       "    </tr>\n",
       "    <tr>\n",
       "      <th>10</th>\n",
       "      <td>0.401050</td>\n",
       "      <td>0.436018</td>\n",
       "    </tr>\n",
       "    <tr>\n",
       "      <th>11</th>\n",
       "      <td>0.406525</td>\n",
       "      <td>0.448887</td>\n",
       "    </tr>\n",
       "    <tr>\n",
       "      <th>12</th>\n",
       "      <td>0.406538</td>\n",
       "      <td>0.468584</td>\n",
       "    </tr>\n",
       "    <tr>\n",
       "      <th>13</th>\n",
       "      <td>0.404706</td>\n",
       "      <td>0.441323</td>\n",
       "    </tr>\n",
       "  </tbody>\n",
       "</table>\n",
       "</div>"
      ],
      "text/plain": [
       "    rmsle_train_2  rmsle_test\n",
       "0        0.409002    0.428923\n",
       "1        0.412636    0.479892\n",
       "2        0.416334    0.405766\n",
       "3        0.408288    0.474191\n",
       "4        0.405199    0.537664\n",
       "5        0.406760    0.477474\n",
       "6        0.395314    0.456209\n",
       "7        0.393476    0.538499\n",
       "8        0.388115    0.432922\n",
       "9        0.387916    0.467024\n",
       "10       0.401050    0.436018\n",
       "11       0.406525    0.448887\n",
       "12       0.406538    0.468584\n",
       "13       0.404706    0.441323"
      ]
     },
     "execution_count": 46,
     "metadata": {},
     "output_type": "execute_result"
    }
   ],
   "source": [
    "results_XGB[['rmsle_train_2', 'rmsle_test']]"
   ]
  },
  {
   "cell_type": "code",
   "execution_count": 45,
   "metadata": {},
   "outputs": [
    {
     "data": {
      "text/plain": [
       "rmsle_train_2    0.402990\n",
       "rmsle_test       0.463813\n",
       "dtype: float64"
      ]
     },
     "execution_count": 45,
     "metadata": {},
     "output_type": "execute_result"
    }
   ],
   "source": [
    "results_XGB[['rmsle_train_2', 'rmsle_test']].mean()"
   ]
  },
  {
   "cell_type": "markdown",
   "metadata": {},
   "source": [
    "---\n",
    "\n",
    "## `CATBOOST`\n",
    "\n",
    "---"
   ]
  },
  {
   "cell_type": "code",
   "execution_count": 22,
   "metadata": {
    "collapsed": true
   },
   "outputs": [],
   "source": [
    "# read the data for the catboost model\n",
    "catboost_data = pd.read_csv('catboost_data.csv')"
   ]
  },
  {
   "cell_type": "code",
   "execution_count": 23,
   "metadata": {
    "collapsed": true
   },
   "outputs": [],
   "source": [
    "# convert WEEK_END_DATE to datetime format\n",
    "catboost_data.WEEK_END_DATE = pd.to_datetime(catboost_data.WEEK_END_DATE)"
   ]
  },
  {
   "cell_type": "code",
   "execution_count": 24,
   "metadata": {},
   "outputs": [
    {
     "data": {
      "text/html": [
       "<div>\n",
       "<style scoped>\n",
       "    .dataframe tbody tr th:only-of-type {\n",
       "        vertical-align: middle;\n",
       "    }\n",
       "\n",
       "    .dataframe tbody tr th {\n",
       "        vertical-align: top;\n",
       "    }\n",
       "\n",
       "    .dataframe thead th {\n",
       "        text-align: right;\n",
       "    }\n",
       "</style>\n",
       "<table border=\"1\" class=\"dataframe\">\n",
       "  <thead>\n",
       "    <tr style=\"text-align: right;\">\n",
       "      <th></th>\n",
       "      <th>no_days_train_1</th>\n",
       "      <th>no_days_train_2</th>\n",
       "      <th>set_no</th>\n",
       "      <th>test_week</th>\n",
       "      <th>train_end_1</th>\n",
       "      <th>train_start_1</th>\n",
       "      <th>train_start_2</th>\n",
       "      <th>validate_week</th>\n",
       "    </tr>\n",
       "  </thead>\n",
       "  <tbody>\n",
       "    <tr>\n",
       "      <th>0</th>\n",
       "      <td>56 days</td>\n",
       "      <td>56 days</td>\n",
       "      <td>set1</td>\n",
       "      <td>2011-09-28</td>\n",
       "      <td>2011-08-31</td>\n",
       "      <td>2011-07-13</td>\n",
       "      <td>2011-07-27</td>\n",
       "      <td>2011-09-14</td>\n",
       "    </tr>\n",
       "    <tr>\n",
       "      <th>1</th>\n",
       "      <td>56 days</td>\n",
       "      <td>56 days</td>\n",
       "      <td>set2</td>\n",
       "      <td>2011-09-21</td>\n",
       "      <td>2011-08-24</td>\n",
       "      <td>2011-07-06</td>\n",
       "      <td>2011-07-20</td>\n",
       "      <td>2011-09-07</td>\n",
       "    </tr>\n",
       "    <tr>\n",
       "      <th>2</th>\n",
       "      <td>56 days</td>\n",
       "      <td>56 days</td>\n",
       "      <td>set3</td>\n",
       "      <td>2011-09-14</td>\n",
       "      <td>2011-08-17</td>\n",
       "      <td>2011-06-29</td>\n",
       "      <td>2011-07-13</td>\n",
       "      <td>2011-08-31</td>\n",
       "    </tr>\n",
       "    <tr>\n",
       "      <th>3</th>\n",
       "      <td>56 days</td>\n",
       "      <td>56 days</td>\n",
       "      <td>set4</td>\n",
       "      <td>2011-09-07</td>\n",
       "      <td>2011-08-10</td>\n",
       "      <td>2011-06-22</td>\n",
       "      <td>2011-07-06</td>\n",
       "      <td>2011-08-24</td>\n",
       "    </tr>\n",
       "    <tr>\n",
       "      <th>4</th>\n",
       "      <td>56 days</td>\n",
       "      <td>56 days</td>\n",
       "      <td>set5</td>\n",
       "      <td>2011-08-31</td>\n",
       "      <td>2011-08-03</td>\n",
       "      <td>2011-06-15</td>\n",
       "      <td>2011-06-29</td>\n",
       "      <td>2011-08-17</td>\n",
       "    </tr>\n",
       "    <tr>\n",
       "      <th>5</th>\n",
       "      <td>56 days</td>\n",
       "      <td>56 days</td>\n",
       "      <td>set6</td>\n",
       "      <td>2011-08-24</td>\n",
       "      <td>2011-07-27</td>\n",
       "      <td>2011-06-08</td>\n",
       "      <td>2011-06-22</td>\n",
       "      <td>2011-08-10</td>\n",
       "    </tr>\n",
       "    <tr>\n",
       "      <th>6</th>\n",
       "      <td>56 days</td>\n",
       "      <td>56 days</td>\n",
       "      <td>set7</td>\n",
       "      <td>2011-08-17</td>\n",
       "      <td>2011-07-20</td>\n",
       "      <td>2011-06-01</td>\n",
       "      <td>2011-06-15</td>\n",
       "      <td>2011-08-03</td>\n",
       "    </tr>\n",
       "    <tr>\n",
       "      <th>7</th>\n",
       "      <td>56 days</td>\n",
       "      <td>56 days</td>\n",
       "      <td>set8</td>\n",
       "      <td>2011-08-10</td>\n",
       "      <td>2011-07-13</td>\n",
       "      <td>2011-05-25</td>\n",
       "      <td>2011-06-08</td>\n",
       "      <td>2011-07-27</td>\n",
       "    </tr>\n",
       "    <tr>\n",
       "      <th>8</th>\n",
       "      <td>56 days</td>\n",
       "      <td>56 days</td>\n",
       "      <td>set9</td>\n",
       "      <td>2011-08-03</td>\n",
       "      <td>2011-07-06</td>\n",
       "      <td>2011-05-18</td>\n",
       "      <td>2011-06-01</td>\n",
       "      <td>2011-07-20</td>\n",
       "    </tr>\n",
       "    <tr>\n",
       "      <th>9</th>\n",
       "      <td>56 days</td>\n",
       "      <td>56 days</td>\n",
       "      <td>set10</td>\n",
       "      <td>2011-07-27</td>\n",
       "      <td>2011-06-29</td>\n",
       "      <td>2011-05-11</td>\n",
       "      <td>2011-05-25</td>\n",
       "      <td>2011-07-13</td>\n",
       "    </tr>\n",
       "    <tr>\n",
       "      <th>10</th>\n",
       "      <td>56 days</td>\n",
       "      <td>56 days</td>\n",
       "      <td>set11</td>\n",
       "      <td>2011-07-20</td>\n",
       "      <td>2011-06-22</td>\n",
       "      <td>2011-05-04</td>\n",
       "      <td>2011-05-18</td>\n",
       "      <td>2011-07-06</td>\n",
       "    </tr>\n",
       "    <tr>\n",
       "      <th>11</th>\n",
       "      <td>56 days</td>\n",
       "      <td>56 days</td>\n",
       "      <td>set12</td>\n",
       "      <td>2011-07-13</td>\n",
       "      <td>2011-06-15</td>\n",
       "      <td>2011-04-27</td>\n",
       "      <td>2011-05-11</td>\n",
       "      <td>2011-06-29</td>\n",
       "    </tr>\n",
       "    <tr>\n",
       "      <th>12</th>\n",
       "      <td>56 days</td>\n",
       "      <td>56 days</td>\n",
       "      <td>set13</td>\n",
       "      <td>2011-07-06</td>\n",
       "      <td>2011-06-08</td>\n",
       "      <td>2011-04-20</td>\n",
       "      <td>2011-05-04</td>\n",
       "      <td>2011-06-22</td>\n",
       "    </tr>\n",
       "    <tr>\n",
       "      <th>13</th>\n",
       "      <td>56 days</td>\n",
       "      <td>56 days</td>\n",
       "      <td>set14</td>\n",
       "      <td>2011-06-29</td>\n",
       "      <td>2011-06-01</td>\n",
       "      <td>2011-04-13</td>\n",
       "      <td>2011-04-27</td>\n",
       "      <td>2011-06-15</td>\n",
       "    </tr>\n",
       "  </tbody>\n",
       "</table>\n",
       "</div>"
      ],
      "text/plain": [
       "   no_days_train_1 no_days_train_2 set_no  test_week train_end_1  \\\n",
       "0          56 days         56 days   set1 2011-09-28  2011-08-31   \n",
       "1          56 days         56 days   set2 2011-09-21  2011-08-24   \n",
       "2          56 days         56 days   set3 2011-09-14  2011-08-17   \n",
       "3          56 days         56 days   set4 2011-09-07  2011-08-10   \n",
       "4          56 days         56 days   set5 2011-08-31  2011-08-03   \n",
       "5          56 days         56 days   set6 2011-08-24  2011-07-27   \n",
       "6          56 days         56 days   set7 2011-08-17  2011-07-20   \n",
       "7          56 days         56 days   set8 2011-08-10  2011-07-13   \n",
       "8          56 days         56 days   set9 2011-08-03  2011-07-06   \n",
       "9          56 days         56 days  set10 2011-07-27  2011-06-29   \n",
       "10         56 days         56 days  set11 2011-07-20  2011-06-22   \n",
       "11         56 days         56 days  set12 2011-07-13  2011-06-15   \n",
       "12         56 days         56 days  set13 2011-07-06  2011-06-08   \n",
       "13         56 days         56 days  set14 2011-06-29  2011-06-01   \n",
       "\n",
       "   train_start_1 train_start_2 validate_week  \n",
       "0     2011-07-13    2011-07-27    2011-09-14  \n",
       "1     2011-07-06    2011-07-20    2011-09-07  \n",
       "2     2011-06-29    2011-07-13    2011-08-31  \n",
       "3     2011-06-22    2011-07-06    2011-08-24  \n",
       "4     2011-06-15    2011-06-29    2011-08-17  \n",
       "5     2011-06-08    2011-06-22    2011-08-10  \n",
       "6     2011-06-01    2011-06-15    2011-08-03  \n",
       "7     2011-05-25    2011-06-08    2011-07-27  \n",
       "8     2011-05-18    2011-06-01    2011-07-20  \n",
       "9     2011-05-11    2011-05-25    2011-07-13  \n",
       "10    2011-05-04    2011-05-18    2011-07-06  \n",
       "11    2011-04-27    2011-05-11    2011-06-29  \n",
       "12    2011-04-20    2011-05-04    2011-06-22  \n",
       "13    2011-04-13    2011-04-27    2011-06-15  "
      ]
     },
     "execution_count": 24,
     "metadata": {},
     "output_type": "execute_result"
    }
   ],
   "source": [
    "validation_df(catboost_data, week, no_of_months=2, no_of_validation=14)"
   ]
  },
  {
   "cell_type": "code",
   "execution_count": 25,
   "metadata": {},
   "outputs": [
    {
     "name": "stdout",
     "output_type": "stream",
     "text": [
      "set1\n",
      "set2\n",
      "set3\n",
      "set4\n",
      "set5\n",
      "set6\n",
      "set7\n",
      "set8\n",
      "set9\n",
      "set10\n",
      "set11\n",
      "set12\n",
      "set13\n",
      "set14\n"
     ]
    }
   ],
   "source": [
    "# evaluation sets for the catboost model\n",
    "catboost_evaluation_set = get_evaluation_sets(catboost_data,\n",
    "                                              validation_df(catboost_data,\n",
    "                                                            week,\n",
    "                                                            no_of_months=2,\n",
    "                                                            no_of_validation=14))"
   ]
  },
  {
   "cell_type": "code",
   "execution_count": 26,
   "metadata": {
    "collapsed": true
   },
   "outputs": [],
   "source": [
    "# indices of the catboost model\n",
    "categorical_feature_indices = [1, 16, 17, 18, 19, 20, 21, 22, 23]"
   ]
  },
  {
   "cell_type": "code",
   "execution_count": 27,
   "metadata": {
    "collapsed": true
   },
   "outputs": [],
   "source": [
    "# define catboost model\n",
    "model_CBR = CatBoostRegressor(n_estimators=1800,\n",
    "                              l2_leaf_reg=3,\n",
    "                              max_depth=8,\n",
    "                              learning_rate= 0.075,\n",
    "                              objective='RMSE',\n",
    "                              verbose=False,\n",
    "                              eval_metric='MSLE',\n",
    "                              cat_features=categorical_feature_indices)"
   ]
  },
  {
   "cell_type": "code",
   "execution_count": 28,
   "metadata": {},
   "outputs": [
    {
     "name": "stderr",
     "output_type": "stream",
     "text": [
      "100%|██████████| 14/14 [27:15<00:00, 117.54s/it]\n"
     ]
    }
   ],
   "source": [
    "# calculate the results using the catboost model\n",
    "results_CBR = get_results_on_evaluation_set(catboost_evaluation_set, model_CBR)"
   ]
  },
  {
   "cell_type": "code",
   "execution_count": 43,
   "metadata": {},
   "outputs": [
    {
     "data": {
      "text/html": [
       "<div>\n",
       "<style scoped>\n",
       "    .dataframe tbody tr th:only-of-type {\n",
       "        vertical-align: middle;\n",
       "    }\n",
       "\n",
       "    .dataframe tbody tr th {\n",
       "        vertical-align: top;\n",
       "    }\n",
       "\n",
       "    .dataframe thead th {\n",
       "        text-align: right;\n",
       "    }\n",
       "</style>\n",
       "<table border=\"1\" class=\"dataframe\">\n",
       "  <thead>\n",
       "    <tr style=\"text-align: right;\">\n",
       "      <th></th>\n",
       "      <th>rmsle_train_2</th>\n",
       "      <th>rmsle_test</th>\n",
       "    </tr>\n",
       "  </thead>\n",
       "  <tbody>\n",
       "    <tr>\n",
       "      <th>0</th>\n",
       "      <td>0.387403</td>\n",
       "      <td>0.447869</td>\n",
       "    </tr>\n",
       "    <tr>\n",
       "      <th>1</th>\n",
       "      <td>0.386485</td>\n",
       "      <td>0.493929</td>\n",
       "    </tr>\n",
       "    <tr>\n",
       "      <th>2</th>\n",
       "      <td>0.379700</td>\n",
       "      <td>0.408507</td>\n",
       "    </tr>\n",
       "    <tr>\n",
       "      <th>3</th>\n",
       "      <td>0.376091</td>\n",
       "      <td>0.468958</td>\n",
       "    </tr>\n",
       "    <tr>\n",
       "      <th>4</th>\n",
       "      <td>0.366734</td>\n",
       "      <td>0.538464</td>\n",
       "    </tr>\n",
       "    <tr>\n",
       "      <th>5</th>\n",
       "      <td>0.372218</td>\n",
       "      <td>0.486320</td>\n",
       "    </tr>\n",
       "    <tr>\n",
       "      <th>6</th>\n",
       "      <td>0.356649</td>\n",
       "      <td>0.437900</td>\n",
       "    </tr>\n",
       "    <tr>\n",
       "      <th>7</th>\n",
       "      <td>0.361327</td>\n",
       "      <td>0.529742</td>\n",
       "    </tr>\n",
       "    <tr>\n",
       "      <th>8</th>\n",
       "      <td>0.360224</td>\n",
       "      <td>0.451461</td>\n",
       "    </tr>\n",
       "    <tr>\n",
       "      <th>9</th>\n",
       "      <td>0.356200</td>\n",
       "      <td>0.473449</td>\n",
       "    </tr>\n",
       "    <tr>\n",
       "      <th>10</th>\n",
       "      <td>0.377539</td>\n",
       "      <td>0.451388</td>\n",
       "    </tr>\n",
       "    <tr>\n",
       "      <th>11</th>\n",
       "      <td>0.385822</td>\n",
       "      <td>0.426120</td>\n",
       "    </tr>\n",
       "    <tr>\n",
       "      <th>12</th>\n",
       "      <td>0.388917</td>\n",
       "      <td>0.432665</td>\n",
       "    </tr>\n",
       "    <tr>\n",
       "      <th>13</th>\n",
       "      <td>0.391650</td>\n",
       "      <td>0.436990</td>\n",
       "    </tr>\n",
       "  </tbody>\n",
       "</table>\n",
       "</div>"
      ],
      "text/plain": [
       "    rmsle_train_2  rmsle_test\n",
       "0        0.387403    0.447869\n",
       "1        0.386485    0.493929\n",
       "2        0.379700    0.408507\n",
       "3        0.376091    0.468958\n",
       "4        0.366734    0.538464\n",
       "5        0.372218    0.486320\n",
       "6        0.356649    0.437900\n",
       "7        0.361327    0.529742\n",
       "8        0.360224    0.451461\n",
       "9        0.356200    0.473449\n",
       "10       0.377539    0.451388\n",
       "11       0.385822    0.426120\n",
       "12       0.388917    0.432665\n",
       "13       0.391650    0.436990"
      ]
     },
     "execution_count": 43,
     "metadata": {},
     "output_type": "execute_result"
    }
   ],
   "source": [
    "results_CBR[['rmsle_train_2', 'rmsle_test']]"
   ]
  },
  {
   "cell_type": "code",
   "execution_count": 44,
   "metadata": {},
   "outputs": [
    {
     "data": {
      "text/plain": [
       "rmsle_train_2    0.374783\n",
       "rmsle_test       0.463126\n",
       "dtype: float64"
      ]
     },
     "execution_count": 44,
     "metadata": {},
     "output_type": "execute_result"
    }
   ],
   "source": [
    "results_CBR[['rmsle_train_2', 'rmsle_test']].mean()"
   ]
  },
  {
   "cell_type": "markdown",
   "metadata": {},
   "source": [
    "---\n",
    "\n",
    "### `FEATURE IMPORTANCE`\n",
    "\n",
    "---"
   ]
  },
  {
   "cell_type": "code",
   "execution_count": 31,
   "metadata": {},
   "outputs": [
    {
     "data": {
      "image/png": "[encoded data removed]",
      "text/plain": [
       "<Figure size 432x288 with 1 Axes>"
      ]
     },
     "metadata": {},
     "output_type": "display_data"
    }
   ],
   "source": [
    "get_feature_importance(evaluation_sets[0], model_rf)"
   ]
  },
  {
   "cell_type": "code",
   "execution_count": 32,
   "metadata": {},
   "outputs": [
    {
     "data": {
      "image/png": "[encoded data removed]",
      "text/plain": [
       "<Figure size 432x288 with 1 Axes>"
      ]
     },
     "metadata": {},
     "output_type": "display_data"
    }
   ],
   "source": [
    "get_feature_importance(evaluation_sets[0], model_XGB)"
   ]
  },
  {
   "cell_type": "code",
   "execution_count": 33,
   "metadata": {},
   "outputs": [
    {
     "data": {
      "image/png": "[encoded data removed]",
      "text/plain": [
       "<Figure size 432x288 with 1 Axes>"
      ]
     },
     "metadata": {},
     "output_type": "display_data"
    }
   ],
   "source": [
    "get_feature_importance(catboost_evaluation_set[0], model_CBR)"
   ]
  },
  {
   "cell_type": "markdown",
   "metadata": {},
   "source": [
    "---\n",
    "\n",
    "## `ENSEMBLE MODEL`\n",
    "\n",
    "\n",
    "---\n",
    "\n"
   ]
  },
  {
   "cell_type": "code",
   "execution_count": 38,
   "metadata": {
    "collapsed": true
   },
   "outputs": [],
   "source": [
    "def get_score(model_result1, model_result2, weight=0.35):\n",
    "    \n",
    "    true1, prediction1 = model_result1\n",
    "    true2, prediction2 = model_result2\n",
    "    prediction = prediction1*weight + prediction2*(1 - weight)\n",
    "    return get_msle(true1, prediction)\n",
    "\n",
    "def get_ensemble_score(results_model1, results_model2, set_n) :\n",
    "    \n",
    "    train_1_model1, valid_model1 = results_model1\n",
    "    \n",
    "    train_1_model2, valid_model2 = results_model2\n",
    "      \n",
    "   \n",
    "    x = {}\n",
    "    x['set_n'] = set_n\n",
    "    x['train_rmsle'] = get_score(train_1_model1, train_1_model2)\n",
    "    x['test_rmsle']   = get_score(valid_model1, valid_model2)\n",
    "        \n",
    "    return x\n",
    "\n",
    "def get_ensemble_results_on_evaluation_set(eval_set, eval_set_2, model1, model2):\n",
    "    results = []\n",
    "    set_n = 1\n",
    "    for eval_data, eval_data_2 in tqdm(zip(eval_set,eval_set_2)):\n",
    "        \n",
    "        train_data_1, validate, train_data_2, test = eval_data\n",
    "        \n",
    "        \n",
    "        train_data_x = train_data_2.drop(columns= ['WEEK_END_DATE', 'STORE_NUM', 'UPC', 'UNITS'])\n",
    "        train_data_y = train_data_2['UNITS']\n",
    "        \n",
    "        test_x = test.drop(columns= ['WEEK_END_DATE', 'STORE_NUM', 'UPC', 'UNITS'])\n",
    "        test_y = test['UNITS']\n",
    "        \n",
    "        \n",
    "        model = model1.fit(train_data_x, train_data_y)\n",
    "        \n",
    "        predict_train = model.predict(train_data_x).clip(min=0)\n",
    "        predict_test   = model.predict(test_x).clip(min=0)\n",
    "        \n",
    "        results_model1 = ((train_data_y, predict_train),\n",
    "                          (test_y, predict_test))\n",
    "         \n",
    "        \n",
    "        ############################################################################\n",
    "        \n",
    "        train_data_1, validate, train_data_2, test = eval_data_2\n",
    "        \n",
    "        \n",
    "        train_data_x = train_data_2.drop(columns= ['WEEK_END_DATE', 'STORE_NUM', 'UPC', 'UNITS'])\n",
    "        train_data_y = train_data_2['UNITS']\n",
    "        \n",
    "        test_x = test.drop(columns= ['WEEK_END_DATE', 'STORE_NUM', 'UPC', 'UNITS'])\n",
    "        test_y = test['UNITS']\n",
    "        \n",
    "        \n",
    "        model = model2.fit(train_data_x, train_data_y)\n",
    "        \n",
    "        predict_train = model.predict(train_data_x).clip(min=0)\n",
    "        predict_test  = model.predict(test_x).clip(min=0)\n",
    "        \n",
    "        results_model2 = ((train_data_y, predict_train),\n",
    "                          (test_y, predict_test))\n",
    "        \n",
    "        results.append(get_ensemble_score(results_model1, results_model2,set_n))\n",
    "        set_n += 1\n",
    "        \n",
    "        \n",
    "    return results"
   ]
  },
  {
   "cell_type": "code",
   "execution_count": 39,
   "metadata": {},
   "outputs": [
    {
     "name": "stderr",
     "output_type": "stream",
     "text": [
      "\n",
      "\n",
      "0it [00:00, ?it/s]\u001b[A\u001b[A\n",
      "\n",
      "1it [00:39, 39.64s/it]\u001b[A\u001b[A\n",
      "\n",
      "2it [01:19, 39.74s/it]\u001b[A\u001b[A\n",
      "\n",
      "3it [01:59, 39.71s/it]\u001b[A\u001b[A\n",
      "\n",
      "4it [02:39, 39.94s/it]\u001b[A\u001b[A\n",
      "\n",
      "5it [03:20, 40.08s/it]\u001b[A\u001b[A\n",
      "\n",
      "6it [04:00, 40.25s/it]\u001b[A\u001b[A\n",
      "\n",
      "7it [04:41, 40.46s/it]\u001b[A\u001b[A\n",
      "\n",
      "8it [05:23, 40.72s/it]\u001b[A\u001b[A\n",
      "\n",
      "9it [06:03, 40.58s/it]\u001b[A\u001b[A\n",
      "\n",
      "10it [06:43, 40.41s/it]\u001b[A\u001b[A\n",
      "\n",
      "11it [07:23, 40.48s/it]\u001b[A\u001b[A\n",
      "\n",
      "12it [08:02, 39.99s/it]\u001b[A\u001b[A\n",
      "\n",
      "13it [08:41, 39.60s/it]\u001b[A\u001b[A\n",
      "\n",
      "14it [09:21, 39.80s/it]\u001b[A\u001b[A"
     ]
    }
   ],
   "source": [
    "final_ensemble_results = get_ensemble_results_on_evaluation_set(evaluation_sets, \n",
    "                                                                catboost_evaluation_set, \n",
    "                                                                model_XGB,\n",
    "                                                                model_CBR)"
   ]
  },
  {
   "cell_type": "code",
   "execution_count": 42,
   "metadata": {},
   "outputs": [
    {
     "data": {
      "text/plain": [
       "set_n          7.500000\n",
       "test_rmsle     0.455714\n",
       "train_rmsle    0.379992\n",
       "dtype: float64"
      ]
     },
     "execution_count": 42,
     "metadata": {},
     "output_type": "execute_result"
    }
   ],
   "source": [
    "pd.DataFrame.from_dict(final_ensemble_results).mean()"
   ]
  }
 ],
 "metadata": {
  "kernelspec": {
   "display_name": "Python 3",
   "language": "python",
   "name": "python3"
  },
  "language_info": {
   "codemirror_mode": {
    "name": "ipython",
    "version": 3
   },
   "file_extension": ".py",
   "mimetype": "text/x-python",
   "name": "python",
   "nbconvert_exporter": "python",
   "pygments_lexer": "ipython3",
   "version": "3.7.4"
  }
 },
 "nbformat": 4,
 "nbformat_minor": 2
}

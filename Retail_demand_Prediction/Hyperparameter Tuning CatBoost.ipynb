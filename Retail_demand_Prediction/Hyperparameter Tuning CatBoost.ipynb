{
 "cells": [
  {
   "cell_type": "markdown",
   "metadata": {},
   "source": [
    "---\n",
    "\n",
    "### `Hyperparameter Tuning CatBoost`\n",
    "\n",
    "---\n",
    "\n",
    "\n",
    "In this notebook, we will tune parameters of CatBoost which is another gradient boosting based technique especially for dealing with categorical variables. It has similar parameters as XGBoost:\n",
    "\n",
    "- **`N_ESTIMATORS`** : Number of Trees. It is recommended to check that there is no obvious underfitting or overfitting before tuning any other parameters. This can be done by setting the number of iterations to a large value, using the overfitting detector parameters. But, Here we will use the same approach that we used in XGBoost Tuning. We will check performance over all the validation sets to check the overfitting.\n",
    "- **`MAX_DEPTH`** : Maximum Tree Depth of the base learners.\n",
    "- **`LEARNING RATE`** : This setting is used for reducing the gradient step. It affects the overall time of training: the smaller the value, the more iterations are required for training. Choose the value based on the performance expectations.\n",
    "- **`L2_REG`** : We will try different values of the regularizer to find the best possible.\n",
    "\n",
    "---\n"
   ]
  },
  {
   "cell_type": "code",
   "execution_count": 46,
   "metadata": {
    "collapsed": true
   },
   "outputs": [],
   "source": [
    "# importing required libraries\n",
    "import pandas as pd\n",
    "import numpy as np\n",
    "import matplotlib.pyplot as plt\n",
    "%matplotlib inline\n",
    "\n",
    "from catboost import CatBoostRegressor\n",
    "from sklearn.metrics import mean_squared_log_error as msle\n",
    "from datetime import timedelta"
   ]
  },
  {
   "cell_type": "markdown",
   "metadata": {
    "collapsed": true
   },
   "source": [
    "---\n",
    "\n",
    "- We know that we have done some preprocessing on the datasets like converted categorical variable into numerical one. CatBoost handles categorical variables automatically. According to the official documentation of CatBoost https://catboost.ai/docs/concepts/parameter-tuning.html `Do not use One Hot Encoding while Preprocessing`.\n",
    "- So, first of all we are going to read the original dataset.\n",
    "\n",
    "---\n",
    "\n",
    "### Reading the Dataset\n",
    "---"
   ]
  },
  {
   "cell_type": "code",
   "execution_count": 47,
   "metadata": {
    "collapsed": true
   },
   "outputs": [],
   "source": [
    "# read the train data\n",
    "train_data = pd.read_csv('train.csv')\n",
    "\n",
    "# read the product data\n",
    "product_data = pd.read_csv('product_data.csv')\n",
    "\n",
    "# read the store data\n",
    "store_data = pd.read_csv('store_data.csv')"
   ]
  },
  {
   "cell_type": "code",
   "execution_count": 48,
   "metadata": {},
   "outputs": [
    {
     "data": {
      "text/html": [
       "<div>\n",
       "<style scoped>\n",
       "    .dataframe tbody tr th:only-of-type {\n",
       "        vertical-align: middle;\n",
       "    }\n",
       "\n",
       "    .dataframe tbody tr th {\n",
       "        vertical-align: top;\n",
       "    }\n",
       "\n",
       "    .dataframe thead th {\n",
       "        text-align: right;\n",
       "    }\n",
       "</style>\n",
       "<table border=\"1\" class=\"dataframe\">\n",
       "  <thead>\n",
       "    <tr style=\"text-align: right;\">\n",
       "      <th></th>\n",
       "      <th>WEEK_END_DATE</th>\n",
       "      <th>STORE_NUM</th>\n",
       "      <th>UPC</th>\n",
       "      <th>BASE_PRICE</th>\n",
       "      <th>FEATURE</th>\n",
       "      <th>DISPLAY</th>\n",
       "      <th>UNITS</th>\n",
       "    </tr>\n",
       "  </thead>\n",
       "  <tbody>\n",
       "    <tr>\n",
       "      <th>0</th>\n",
       "      <td>14-Jan-09</td>\n",
       "      <td>367</td>\n",
       "      <td>1111009477</td>\n",
       "      <td>1.57</td>\n",
       "      <td>0</td>\n",
       "      <td>0</td>\n",
       "      <td>13</td>\n",
       "    </tr>\n",
       "    <tr>\n",
       "      <th>1</th>\n",
       "      <td>14-Jan-09</td>\n",
       "      <td>367</td>\n",
       "      <td>1111009497</td>\n",
       "      <td>1.39</td>\n",
       "      <td>0</td>\n",
       "      <td>0</td>\n",
       "      <td>20</td>\n",
       "    </tr>\n",
       "  </tbody>\n",
       "</table>\n",
       "</div>"
      ],
      "text/plain": [
       "  WEEK_END_DATE  STORE_NUM         UPC  BASE_PRICE  FEATURE  DISPLAY  UNITS\n",
       "0     14-Jan-09        367  1111009477        1.57        0        0     13\n",
       "1     14-Jan-09        367  1111009497        1.39        0        0     20"
      ]
     },
     "execution_count": 48,
     "metadata": {},
     "output_type": "execute_result"
    }
   ],
   "source": [
    "# view the train data\n",
    "train_data.head(2)"
   ]
  },
  {
   "cell_type": "markdown",
   "metadata": {},
   "source": [
    "- Convert the WEEK_END_DATE to datetime format."
   ]
  },
  {
   "cell_type": "code",
   "execution_count": 49,
   "metadata": {
    "collapsed": true
   },
   "outputs": [],
   "source": [
    "train_data['WEEK_END_DATE'] = pd.to_datetime(train_data.WEEK_END_DATE)"
   ]
  },
  {
   "cell_type": "code",
   "execution_count": 50,
   "metadata": {},
   "outputs": [
    {
     "data": {
      "text/html": [
       "<div>\n",
       "<style scoped>\n",
       "    .dataframe tbody tr th:only-of-type {\n",
       "        vertical-align: middle;\n",
       "    }\n",
       "\n",
       "    .dataframe tbody tr th {\n",
       "        vertical-align: top;\n",
       "    }\n",
       "\n",
       "    .dataframe thead th {\n",
       "        text-align: right;\n",
       "    }\n",
       "</style>\n",
       "<table border=\"1\" class=\"dataframe\">\n",
       "  <thead>\n",
       "    <tr style=\"text-align: right;\">\n",
       "      <th></th>\n",
       "      <th>UPC</th>\n",
       "      <th>DESCRIPTION</th>\n",
       "      <th>MANUFACTURER</th>\n",
       "      <th>CATEGORY</th>\n",
       "      <th>SUB_CATEGORY</th>\n",
       "      <th>PRODUCT_SIZE</th>\n",
       "    </tr>\n",
       "  </thead>\n",
       "  <tbody>\n",
       "    <tr>\n",
       "      <th>0</th>\n",
       "      <td>1111009477</td>\n",
       "      <td>PL MINI TWIST PRETZELS</td>\n",
       "      <td>PRIVATE LABEL</td>\n",
       "      <td>BAG SNACKS</td>\n",
       "      <td>PRETZELS</td>\n",
       "      <td>15 OZ</td>\n",
       "    </tr>\n",
       "    <tr>\n",
       "      <th>1</th>\n",
       "      <td>1111009497</td>\n",
       "      <td>PL PRETZEL STICKS</td>\n",
       "      <td>PRIVATE LABEL</td>\n",
       "      <td>BAG SNACKS</td>\n",
       "      <td>PRETZELS</td>\n",
       "      <td>15 OZ</td>\n",
       "    </tr>\n",
       "  </tbody>\n",
       "</table>\n",
       "</div>"
      ],
      "text/plain": [
       "          UPC             DESCRIPTION   MANUFACTURER    CATEGORY SUB_CATEGORY  \\\n",
       "0  1111009477  PL MINI TWIST PRETZELS  PRIVATE LABEL  BAG SNACKS     PRETZELS   \n",
       "1  1111009497       PL PRETZEL STICKS  PRIVATE LABEL  BAG SNACKS     PRETZELS   \n",
       "\n",
       "  PRODUCT_SIZE  \n",
       "0        15 OZ  \n",
       "1        15 OZ  "
      ]
     },
     "execution_count": 50,
     "metadata": {},
     "output_type": "execute_result"
    }
   ],
   "source": [
    "# view the product data\n",
    "product_data.head(2)"
   ]
  },
  {
   "cell_type": "code",
   "execution_count": 51,
   "metadata": {},
   "outputs": [
    {
     "data": {
      "text/html": [
       "<div>\n",
       "<style scoped>\n",
       "    .dataframe tbody tr th:only-of-type {\n",
       "        vertical-align: middle;\n",
       "    }\n",
       "\n",
       "    .dataframe tbody tr th {\n",
       "        vertical-align: top;\n",
       "    }\n",
       "\n",
       "    .dataframe thead th {\n",
       "        text-align: right;\n",
       "    }\n",
       "</style>\n",
       "<table border=\"1\" class=\"dataframe\">\n",
       "  <thead>\n",
       "    <tr style=\"text-align: right;\">\n",
       "      <th></th>\n",
       "      <th>STORE_ID</th>\n",
       "      <th>STORE_NAME</th>\n",
       "      <th>ADDRESS_CITY_NAME</th>\n",
       "      <th>ADDRESS_STATE_PROV_CODE</th>\n",
       "      <th>MSA_CODE</th>\n",
       "      <th>SEG_VALUE_NAME</th>\n",
       "      <th>PARKING_SPACE_QTY</th>\n",
       "      <th>SALES_AREA_SIZE_NUM</th>\n",
       "      <th>AVG_WEEKLY_BASKETS</th>\n",
       "    </tr>\n",
       "  </thead>\n",
       "  <tbody>\n",
       "    <tr>\n",
       "      <th>0</th>\n",
       "      <td>367</td>\n",
       "      <td>15TH &amp; MADISON</td>\n",
       "      <td>COVINGTON</td>\n",
       "      <td>KY</td>\n",
       "      <td>17140</td>\n",
       "      <td>VALUE</td>\n",
       "      <td>196.0</td>\n",
       "      <td>24721</td>\n",
       "      <td>12707</td>\n",
       "    </tr>\n",
       "    <tr>\n",
       "      <th>1</th>\n",
       "      <td>389</td>\n",
       "      <td>SILVERLAKE</td>\n",
       "      <td>ERLANGER</td>\n",
       "      <td>KY</td>\n",
       "      <td>17140</td>\n",
       "      <td>MAINSTREAM</td>\n",
       "      <td>408.0</td>\n",
       "      <td>46073</td>\n",
       "      <td>24767</td>\n",
       "    </tr>\n",
       "  </tbody>\n",
       "</table>\n",
       "</div>"
      ],
      "text/plain": [
       "   STORE_ID      STORE_NAME ADDRESS_CITY_NAME ADDRESS_STATE_PROV_CODE  \\\n",
       "0       367  15TH & MADISON         COVINGTON                      KY   \n",
       "1       389      SILVERLAKE          ERLANGER                      KY   \n",
       "\n",
       "   MSA_CODE SEG_VALUE_NAME  PARKING_SPACE_QTY  SALES_AREA_SIZE_NUM  \\\n",
       "0     17140          VALUE              196.0                24721   \n",
       "1     17140     MAINSTREAM              408.0                46073   \n",
       "\n",
       "   AVG_WEEKLY_BASKETS  \n",
       "0               12707  \n",
       "1               24767  "
      ]
     },
     "execution_count": 51,
     "metadata": {},
     "output_type": "execute_result"
    }
   ],
   "source": [
    "# view the store data\n",
    "store_data.head(2)"
   ]
  },
  {
   "cell_type": "markdown",
   "metadata": {},
   "source": [
    "---\n",
    "\n",
    "***Merge all the datasets***"
   ]
  },
  {
   "cell_type": "code",
   "execution_count": 52,
   "metadata": {
    "collapsed": true
   },
   "outputs": [],
   "source": [
    "# merge all the datasets\n",
    "merged_data = train_data.merge(product_data, how= 'left', on= 'UPC')\n",
    "merged_data = merged_data.merge(store_data,  how= 'left', left_on= 'STORE_NUM', right_on= 'STORE_ID')"
   ]
  },
  {
   "cell_type": "code",
   "execution_count": 53,
   "metadata": {},
   "outputs": [
    {
     "data": {
      "text/html": [
       "<div>\n",
       "<style scoped>\n",
       "    .dataframe tbody tr th:only-of-type {\n",
       "        vertical-align: middle;\n",
       "    }\n",
       "\n",
       "    .dataframe tbody tr th {\n",
       "        vertical-align: top;\n",
       "    }\n",
       "\n",
       "    .dataframe thead th {\n",
       "        text-align: right;\n",
       "    }\n",
       "</style>\n",
       "<table border=\"1\" class=\"dataframe\">\n",
       "  <thead>\n",
       "    <tr style=\"text-align: right;\">\n",
       "      <th></th>\n",
       "      <th>WEEK_END_DATE</th>\n",
       "      <th>STORE_NUM</th>\n",
       "      <th>UPC</th>\n",
       "      <th>BASE_PRICE</th>\n",
       "      <th>FEATURE</th>\n",
       "      <th>DISPLAY</th>\n",
       "      <th>UNITS</th>\n",
       "      <th>DESCRIPTION</th>\n",
       "      <th>MANUFACTURER</th>\n",
       "      <th>CATEGORY</th>\n",
       "      <th>...</th>\n",
       "      <th>PRODUCT_SIZE</th>\n",
       "      <th>STORE_ID</th>\n",
       "      <th>STORE_NAME</th>\n",
       "      <th>ADDRESS_CITY_NAME</th>\n",
       "      <th>ADDRESS_STATE_PROV_CODE</th>\n",
       "      <th>MSA_CODE</th>\n",
       "      <th>SEG_VALUE_NAME</th>\n",
       "      <th>PARKING_SPACE_QTY</th>\n",
       "      <th>SALES_AREA_SIZE_NUM</th>\n",
       "      <th>AVG_WEEKLY_BASKETS</th>\n",
       "    </tr>\n",
       "  </thead>\n",
       "  <tbody>\n",
       "    <tr>\n",
       "      <th>0</th>\n",
       "      <td>2009-01-14</td>\n",
       "      <td>367</td>\n",
       "      <td>1111009477</td>\n",
       "      <td>1.57</td>\n",
       "      <td>0</td>\n",
       "      <td>0</td>\n",
       "      <td>13</td>\n",
       "      <td>PL MINI TWIST PRETZELS</td>\n",
       "      <td>PRIVATE LABEL</td>\n",
       "      <td>BAG SNACKS</td>\n",
       "      <td>...</td>\n",
       "      <td>15 OZ</td>\n",
       "      <td>367</td>\n",
       "      <td>15TH &amp; MADISON</td>\n",
       "      <td>COVINGTON</td>\n",
       "      <td>KY</td>\n",
       "      <td>17140</td>\n",
       "      <td>VALUE</td>\n",
       "      <td>196.0</td>\n",
       "      <td>24721</td>\n",
       "      <td>12707</td>\n",
       "    </tr>\n",
       "    <tr>\n",
       "      <th>1</th>\n",
       "      <td>2009-01-14</td>\n",
       "      <td>367</td>\n",
       "      <td>1111009497</td>\n",
       "      <td>1.39</td>\n",
       "      <td>0</td>\n",
       "      <td>0</td>\n",
       "      <td>20</td>\n",
       "      <td>PL PRETZEL STICKS</td>\n",
       "      <td>PRIVATE LABEL</td>\n",
       "      <td>BAG SNACKS</td>\n",
       "      <td>...</td>\n",
       "      <td>15 OZ</td>\n",
       "      <td>367</td>\n",
       "      <td>15TH &amp; MADISON</td>\n",
       "      <td>COVINGTON</td>\n",
       "      <td>KY</td>\n",
       "      <td>17140</td>\n",
       "      <td>VALUE</td>\n",
       "      <td>196.0</td>\n",
       "      <td>24721</td>\n",
       "      <td>12707</td>\n",
       "    </tr>\n",
       "  </tbody>\n",
       "</table>\n",
       "<p>2 rows × 21 columns</p>\n",
       "</div>"
      ],
      "text/plain": [
       "  WEEK_END_DATE  STORE_NUM         UPC  BASE_PRICE  FEATURE  DISPLAY  UNITS  \\\n",
       "0    2009-01-14        367  1111009477        1.57        0        0     13   \n",
       "1    2009-01-14        367  1111009497        1.39        0        0     20   \n",
       "\n",
       "              DESCRIPTION   MANUFACTURER    CATEGORY         ...          \\\n",
       "0  PL MINI TWIST PRETZELS  PRIVATE LABEL  BAG SNACKS         ...           \n",
       "1       PL PRETZEL STICKS  PRIVATE LABEL  BAG SNACKS         ...           \n",
       "\n",
       "  PRODUCT_SIZE STORE_ID      STORE_NAME ADDRESS_CITY_NAME  \\\n",
       "0        15 OZ      367  15TH & MADISON         COVINGTON   \n",
       "1        15 OZ      367  15TH & MADISON         COVINGTON   \n",
       "\n",
       "  ADDRESS_STATE_PROV_CODE MSA_CODE  SEG_VALUE_NAME PARKING_SPACE_QTY  \\\n",
       "0                      KY    17140           VALUE             196.0   \n",
       "1                      KY    17140           VALUE             196.0   \n",
       "\n",
       "   SALES_AREA_SIZE_NUM  AVG_WEEKLY_BASKETS  \n",
       "0                24721               12707  \n",
       "1                24721               12707  \n",
       "\n",
       "[2 rows x 21 columns]"
      ]
     },
     "execution_count": 53,
     "metadata": {},
     "output_type": "execute_result"
    }
   ],
   "source": [
    "# view the merged data\n",
    "merged_data.head(2)"
   ]
  },
  {
   "cell_type": "code",
   "execution_count": 54,
   "metadata": {},
   "outputs": [
    {
     "data": {
      "text/plain": [
       "(232287, 21)"
      ]
     },
     "execution_count": 54,
     "metadata": {},
     "output_type": "execute_result"
    }
   ],
   "source": [
    "# shape of the merged data\n",
    "merged_data.shape"
   ]
  },
  {
   "cell_type": "code",
   "execution_count": 55,
   "metadata": {},
   "outputs": [
    {
     "data": {
      "text/plain": [
       "WEEK_END_DATE                 2009-01-14 00:00:00\n",
       "STORE_NUM                                     367\n",
       "UPC                                    1111009477\n",
       "BASE_PRICE                                   1.57\n",
       "FEATURE                                         0\n",
       "DISPLAY                                         0\n",
       "UNITS                                          13\n",
       "DESCRIPTION                PL MINI TWIST PRETZELS\n",
       "MANUFACTURER                        PRIVATE LABEL\n",
       "CATEGORY                               BAG SNACKS\n",
       "SUB_CATEGORY                             PRETZELS\n",
       "PRODUCT_SIZE                                15 OZ\n",
       "STORE_ID                                      367\n",
       "STORE_NAME                         15TH & MADISON\n",
       "ADDRESS_CITY_NAME                       COVINGTON\n",
       "ADDRESS_STATE_PROV_CODE                        KY\n",
       "MSA_CODE                                    17140\n",
       "SEG_VALUE_NAME                              VALUE\n",
       "PARKING_SPACE_QTY                             196\n",
       "SALES_AREA_SIZE_NUM                         24721\n",
       "AVG_WEEKLY_BASKETS                          12707\n",
       "Name: 0, dtype: object"
      ]
     },
     "execution_count": 55,
     "metadata": {},
     "output_type": "execute_result"
    }
   ],
   "source": [
    "# view the data in first row\n",
    "merged_data.loc[0]"
   ]
  },
  {
   "cell_type": "markdown",
   "metadata": {},
   "source": [
    "---\n",
    "\n",
    "- While preprocessing, there were some missing values in `BASE_PRICE`, so we will not impute it here again and use the `final_data.csv` to get that column.\n",
    "- We have done some transformations on the `PRODUCT_SIZE` also, we will use that from the updated file also.\n",
    "- We have removed some features like `PARKING_SPACE_QTY` as it has high correlation with the `SALES_AREA_SIZE_NUM`.\n",
    "\n",
    "---"
   ]
  },
  {
   "cell_type": "code",
   "execution_count": 56,
   "metadata": {
    "collapsed": true
   },
   "outputs": [],
   "source": [
    "# drop the columns\n",
    "merged_data = merged_data.drop(columns= ['BASE_PRICE',\n",
    "                                         'DESCRIPTION',\n",
    "                                         'PRODUCT_SIZE',\n",
    "                                         'STORE_ID',\n",
    "                                         'PARKING_SPACE_QTY'])"
   ]
  },
  {
   "cell_type": "code",
   "execution_count": 57,
   "metadata": {},
   "outputs": [
    {
     "data": {
      "text/plain": [
       "Index(['WEEK_END_DATE', 'STORE_NUM', 'UPC', 'FEATURE', 'DISPLAY', 'UNITS',\n",
       "       'MANUFACTURER', 'CATEGORY', 'SUB_CATEGORY', 'STORE_NAME',\n",
       "       'ADDRESS_CITY_NAME', 'ADDRESS_STATE_PROV_CODE', 'MSA_CODE',\n",
       "       'SEG_VALUE_NAME', 'SALES_AREA_SIZE_NUM', 'AVG_WEEKLY_BASKETS'],\n",
       "      dtype='object')"
      ]
     },
     "execution_count": 57,
     "metadata": {},
     "output_type": "execute_result"
    }
   ],
   "source": [
    "# updated columns\n",
    "merged_data.columns"
   ]
  },
  {
   "cell_type": "markdown",
   "metadata": {},
   "source": [
    "---\n",
    "\n",
    "- `We have also created some more features like` :\n",
    "\n",
    "  - ***Time Based Features***\n",
    "  - ***Unique number of Manufacturers, Category and SubCategory in a Store.***\n",
    "  - ***Lag Feature - Number of units sold 52 weeks before.***\n",
    "  - ***Price Difference from the last week.***\n",
    "  - ***Average Number of units sold in the last two months.***\n",
    "\n",
    "- So, we will read these features form the final_data.csv that was generated after doing the feature engineering aling with the some columns like `WEEK_END_DATE`, `STORE_NUM`, `UPC`, `BASE_PRICE`, `PRODUCT_SIZE`.\n",
    "\n",
    "---"
   ]
  },
  {
   "cell_type": "code",
   "execution_count": 58,
   "metadata": {
    "collapsed": true
   },
   "outputs": [],
   "source": [
    "# read the data with the new features.\n",
    "data_with_new_features = pd.read_csv('final_data.csv',usecols=['WEEK_END_DATE',\n",
    "                                                               'STORE_NUM',\n",
    "                                                               'UPC',\n",
    "                                                               'BASE_PRICE',\n",
    "                                                               'PRODUCT_SIZE',\n",
    "                                                               'year',\n",
    "                                                               'month',\n",
    "                                                               'day',\n",
    "                                                               'day_of_year',\n",
    "                                                               'week',\n",
    "                                                               'quarter',\n",
    "                                                               'U_MANUFACTURER',\n",
    "                                                               'U_CATEGORY',\n",
    "                                                               'U_SUB_CATEGORY',\n",
    "                                                               'UNITS_BEFORE_52WEEK', \n",
    "                                                               'price_difference',\n",
    "                                                               'AVERAGE_UNITS_IN_2_MONTH'])"
   ]
  },
  {
   "cell_type": "code",
   "execution_count": 59,
   "metadata": {
    "collapsed": true
   },
   "outputs": [],
   "source": [
    "# convert the WEEK_END_DATE to datetime\n",
    "data_with_new_features.WEEK_END_DATE = pd.to_datetime(data_with_new_features.WEEK_END_DATE)"
   ]
  },
  {
   "cell_type": "code",
   "execution_count": 60,
   "metadata": {},
   "outputs": [
    {
     "data": {
      "text/plain": [
       "((232287, 16), (232266, 17))"
      ]
     },
     "execution_count": 60,
     "metadata": {},
     "output_type": "execute_result"
    }
   ],
   "source": [
    "# let's check the shape of the merged data, and data with new features\n",
    "merged_data.shape, data_with_new_features.shape"
   ]
  },
  {
   "cell_type": "markdown",
   "metadata": {},
   "source": [
    "---\n",
    "\n",
    "### `Outlier Removal`\n",
    "\n",
    "- So, you can see that there is a difference between the number of rows in both the datasets. This is because we have removed some outliers from the data while preprocessing.\n",
    "- As we know that the combination of `WEEK_END_DATE`, `STORE_NUM`, `UPC` is unique for each row. So, we will do a left join and merge both the data sets on these keys.\n",
    "\n",
    "---"
   ]
  },
  {
   "cell_type": "code",
   "execution_count": 61,
   "metadata": {
    "collapsed": true
   },
   "outputs": [],
   "source": [
    "# final data : do a left join\n",
    "final_data = data_with_new_features.merge(merged_data, how = 'left', on= ['WEEK_END_DATE',\n",
    "                                                                          'STORE_NUM',\n",
    "                                                                          'UPC'])"
   ]
  },
  {
   "cell_type": "code",
   "execution_count": 62,
   "metadata": {},
   "outputs": [
    {
     "data": {
      "text/plain": [
       "(232266, 30)"
      ]
     },
     "execution_count": 62,
     "metadata": {},
     "output_type": "execute_result"
    }
   ],
   "source": [
    "# shape of the final data\n",
    "final_data.shape"
   ]
  },
  {
   "cell_type": "code",
   "execution_count": 63,
   "metadata": {},
   "outputs": [
    {
     "data": {
      "text/plain": [
       "WEEK_END_DATE               2009-01-14 00:00:00\n",
       "STORE_NUM                                   367\n",
       "UPC                                  1111009477\n",
       "BASE_PRICE                                 1.57\n",
       "PRODUCT_SIZE                                  2\n",
       "year                                       2009\n",
       "month                                         1\n",
       "day                                          14\n",
       "day_of_year                                  14\n",
       "week                                          3\n",
       "quarter                                       1\n",
       "U_MANUFACTURER                                4\n",
       "U_CATEGORY                                    3\n",
       "U_SUB_CATEGORY                                5\n",
       "UNITS_BEFORE_52WEEK                           0\n",
       "price_difference                              0\n",
       "AVERAGE_UNITS_IN_2_MONTH                      0\n",
       "FEATURE                                       0\n",
       "DISPLAY                                       0\n",
       "UNITS                                        13\n",
       "MANUFACTURER                      PRIVATE LABEL\n",
       "CATEGORY                             BAG SNACKS\n",
       "SUB_CATEGORY                           PRETZELS\n",
       "STORE_NAME                       15TH & MADISON\n",
       "ADDRESS_CITY_NAME                     COVINGTON\n",
       "ADDRESS_STATE_PROV_CODE                      KY\n",
       "MSA_CODE                                  17140\n",
       "SEG_VALUE_NAME                            VALUE\n",
       "SALES_AREA_SIZE_NUM                       24721\n",
       "AVG_WEEKLY_BASKETS                        12707\n",
       "Name: 0, dtype: object"
      ]
     },
     "execution_count": 63,
     "metadata": {},
     "output_type": "execute_result"
    }
   ],
   "source": [
    "# view the data in the first row.\n",
    "final_data.loc[0]"
   ]
  },
  {
   "cell_type": "markdown",
   "metadata": {},
   "source": [
    "---\n",
    "\n",
    "\n",
    "### `Validation Strategy`\n",
    "\n",
    "- We will use the same validation stategy for the catboost and we will use 14 validation sets with training period of 2 months.\n"
   ]
  },
  {
   "cell_type": "code",
   "execution_count": 64,
   "metadata": {
    "collapsed": true
   },
   "outputs": [],
   "source": [
    "# create an array of unique week dates\n",
    "week = final_data.WEEK_END_DATE.unique()"
   ]
  },
  {
   "cell_type": "code",
   "execution_count": 65,
   "metadata": {
    "collapsed": true
   },
   "outputs": [],
   "source": [
    "# define the function to get the validation dataframe\n",
    "def validation_df(data, week, no_of_months, no_of_validation):\n",
    "    \n",
    "    model_set = []\n",
    "    set_n = 1\n",
    "    for w in range(len(week)-1,0,-1):\n",
    "        x_data = {}\n",
    "\n",
    "        x_data['train_start'] = week[w-3-4*no_of_months]\n",
    "        x_data['train_end'] = week[w-4]\n",
    "        x_data['validate_week'] = week[w-2]\n",
    "        x_data['test_week'] = week[w]\n",
    "        x_data['no_days_train'] = x_data['train_end'] - x_data['train_start']\n",
    "        x_data['set_no'] = 'set'+str(set_n)\n",
    "        set_n +=1\n",
    "        model_set.append(x_data)\n",
    "        if(len(model_set) == no_of_validation):\n",
    "            break\n",
    "        \n",
    "        \n",
    "    datapoints = []\n",
    "\n",
    "    for s in model_set :\n",
    "        x = {}\n",
    "        train_set = data[(data.WEEK_END_DATE >= s['train_start']) & (data.WEEK_END_DATE <= s['train_end'])]\n",
    "        x['train_shape'] = train_set.shape[0]\n",
    "        x['validation_shape']  = data[data.WEEK_END_DATE == s['validate_week']].shape[0]\n",
    "        x['test_shape'] = data[data.WEEK_END_DATE == s['test_week']].shape[0]\n",
    "        x.update(s)\n",
    "        datapoints.append(x)\n",
    "\n",
    "    df = pd.DataFrame.from_dict(datapoints)\n",
    "    df['no_days_train'] = df['no_days_train'] + timedelta(days=7)\n",
    "    return df    "
   ]
  },
  {
   "cell_type": "code",
   "execution_count": 66,
   "metadata": {},
   "outputs": [
    {
     "data": {
      "text/html": [
       "<div>\n",
       "<style scoped>\n",
       "    .dataframe tbody tr th:only-of-type {\n",
       "        vertical-align: middle;\n",
       "    }\n",
       "\n",
       "    .dataframe tbody tr th {\n",
       "        vertical-align: top;\n",
       "    }\n",
       "\n",
       "    .dataframe thead th {\n",
       "        text-align: right;\n",
       "    }\n",
       "</style>\n",
       "<table border=\"1\" class=\"dataframe\">\n",
       "  <thead>\n",
       "    <tr style=\"text-align: right;\">\n",
       "      <th></th>\n",
       "      <th>no_days_train</th>\n",
       "      <th>set_no</th>\n",
       "      <th>test_shape</th>\n",
       "      <th>test_week</th>\n",
       "      <th>train_end</th>\n",
       "      <th>train_shape</th>\n",
       "      <th>train_start</th>\n",
       "      <th>validate_week</th>\n",
       "      <th>validation_shape</th>\n",
       "    </tr>\n",
       "  </thead>\n",
       "  <tbody>\n",
       "    <tr>\n",
       "      <th>0</th>\n",
       "      <td>56 days</td>\n",
       "      <td>set1</td>\n",
       "      <td>1642</td>\n",
       "      <td>2011-09-28</td>\n",
       "      <td>2011-08-31</td>\n",
       "      <td>13089</td>\n",
       "      <td>2011-07-13</td>\n",
       "      <td>2011-09-14</td>\n",
       "      <td>1640</td>\n",
       "    </tr>\n",
       "    <tr>\n",
       "      <th>1</th>\n",
       "      <td>56 days</td>\n",
       "      <td>set2</td>\n",
       "      <td>1638</td>\n",
       "      <td>2011-09-21</td>\n",
       "      <td>2011-08-24</td>\n",
       "      <td>13102</td>\n",
       "      <td>2011-07-06</td>\n",
       "      <td>2011-09-07</td>\n",
       "      <td>1632</td>\n",
       "    </tr>\n",
       "    <tr>\n",
       "      <th>2</th>\n",
       "      <td>56 days</td>\n",
       "      <td>set3</td>\n",
       "      <td>1640</td>\n",
       "      <td>2011-09-14</td>\n",
       "      <td>2011-08-17</td>\n",
       "      <td>13101</td>\n",
       "      <td>2011-06-29</td>\n",
       "      <td>2011-08-31</td>\n",
       "      <td>1629</td>\n",
       "    </tr>\n",
       "    <tr>\n",
       "      <th>3</th>\n",
       "      <td>56 days</td>\n",
       "      <td>set4</td>\n",
       "      <td>1632</td>\n",
       "      <td>2011-09-07</td>\n",
       "      <td>2011-08-10</td>\n",
       "      <td>13101</td>\n",
       "      <td>2011-06-22</td>\n",
       "      <td>2011-08-24</td>\n",
       "      <td>1640</td>\n",
       "    </tr>\n",
       "    <tr>\n",
       "      <th>4</th>\n",
       "      <td>56 days</td>\n",
       "      <td>set5</td>\n",
       "      <td>1629</td>\n",
       "      <td>2011-08-31</td>\n",
       "      <td>2011-08-03</td>\n",
       "      <td>13109</td>\n",
       "      <td>2011-06-15</td>\n",
       "      <td>2011-08-17</td>\n",
       "      <td>1638</td>\n",
       "    </tr>\n",
       "    <tr>\n",
       "      <th>5</th>\n",
       "      <td>56 days</td>\n",
       "      <td>set6</td>\n",
       "      <td>1640</td>\n",
       "      <td>2011-08-24</td>\n",
       "      <td>2011-07-27</td>\n",
       "      <td>13108</td>\n",
       "      <td>2011-06-08</td>\n",
       "      <td>2011-08-10</td>\n",
       "      <td>1631</td>\n",
       "    </tr>\n",
       "    <tr>\n",
       "      <th>6</th>\n",
       "      <td>56 days</td>\n",
       "      <td>set7</td>\n",
       "      <td>1638</td>\n",
       "      <td>2011-08-17</td>\n",
       "      <td>2011-07-20</td>\n",
       "      <td>13108</td>\n",
       "      <td>2011-06-01</td>\n",
       "      <td>2011-08-03</td>\n",
       "      <td>1640</td>\n",
       "    </tr>\n",
       "    <tr>\n",
       "      <th>7</th>\n",
       "      <td>56 days</td>\n",
       "      <td>set8</td>\n",
       "      <td>1631</td>\n",
       "      <td>2011-08-10</td>\n",
       "      <td>2011-07-13</td>\n",
       "      <td>13112</td>\n",
       "      <td>2011-05-25</td>\n",
       "      <td>2011-07-27</td>\n",
       "      <td>1637</td>\n",
       "    </tr>\n",
       "    <tr>\n",
       "      <th>8</th>\n",
       "      <td>56 days</td>\n",
       "      <td>set9</td>\n",
       "      <td>1640</td>\n",
       "      <td>2011-08-03</td>\n",
       "      <td>2011-07-06</td>\n",
       "      <td>13104</td>\n",
       "      <td>2011-05-18</td>\n",
       "      <td>2011-07-20</td>\n",
       "      <td>1635</td>\n",
       "    </tr>\n",
       "    <tr>\n",
       "      <th>9</th>\n",
       "      <td>56 days</td>\n",
       "      <td>set10</td>\n",
       "      <td>1637</td>\n",
       "      <td>2011-07-27</td>\n",
       "      <td>2011-06-29</td>\n",
       "      <td>13101</td>\n",
       "      <td>2011-05-11</td>\n",
       "      <td>2011-07-13</td>\n",
       "      <td>1639</td>\n",
       "    </tr>\n",
       "    <tr>\n",
       "      <th>10</th>\n",
       "      <td>56 days</td>\n",
       "      <td>set11</td>\n",
       "      <td>1635</td>\n",
       "      <td>2011-07-20</td>\n",
       "      <td>2011-06-22</td>\n",
       "      <td>13106</td>\n",
       "      <td>2011-05-04</td>\n",
       "      <td>2011-07-06</td>\n",
       "      <td>1642</td>\n",
       "    </tr>\n",
       "    <tr>\n",
       "      <th>11</th>\n",
       "      <td>56 days</td>\n",
       "      <td>set12</td>\n",
       "      <td>1639</td>\n",
       "      <td>2011-07-13</td>\n",
       "      <td>2011-06-15</td>\n",
       "      <td>13102</td>\n",
       "      <td>2011-04-27</td>\n",
       "      <td>2011-06-29</td>\n",
       "      <td>1639</td>\n",
       "    </tr>\n",
       "    <tr>\n",
       "      <th>12</th>\n",
       "      <td>56 days</td>\n",
       "      <td>set13</td>\n",
       "      <td>1642</td>\n",
       "      <td>2011-07-06</td>\n",
       "      <td>2011-06-08</td>\n",
       "      <td>13096</td>\n",
       "      <td>2011-04-20</td>\n",
       "      <td>2011-06-22</td>\n",
       "      <td>1638</td>\n",
       "    </tr>\n",
       "    <tr>\n",
       "      <th>13</th>\n",
       "      <td>56 days</td>\n",
       "      <td>set14</td>\n",
       "      <td>1639</td>\n",
       "      <td>2011-06-29</td>\n",
       "      <td>2011-06-01</td>\n",
       "      <td>13093</td>\n",
       "      <td>2011-04-13</td>\n",
       "      <td>2011-06-15</td>\n",
       "      <td>1639</td>\n",
       "    </tr>\n",
       "  </tbody>\n",
       "</table>\n",
       "</div>"
      ],
      "text/plain": [
       "   no_days_train set_no  test_shape  test_week  train_end  train_shape  \\\n",
       "0        56 days   set1        1642 2011-09-28 2011-08-31        13089   \n",
       "1        56 days   set2        1638 2011-09-21 2011-08-24        13102   \n",
       "2        56 days   set3        1640 2011-09-14 2011-08-17        13101   \n",
       "3        56 days   set4        1632 2011-09-07 2011-08-10        13101   \n",
       "4        56 days   set5        1629 2011-08-31 2011-08-03        13109   \n",
       "5        56 days   set6        1640 2011-08-24 2011-07-27        13108   \n",
       "6        56 days   set7        1638 2011-08-17 2011-07-20        13108   \n",
       "7        56 days   set8        1631 2011-08-10 2011-07-13        13112   \n",
       "8        56 days   set9        1640 2011-08-03 2011-07-06        13104   \n",
       "9        56 days  set10        1637 2011-07-27 2011-06-29        13101   \n",
       "10       56 days  set11        1635 2011-07-20 2011-06-22        13106   \n",
       "11       56 days  set12        1639 2011-07-13 2011-06-15        13102   \n",
       "12       56 days  set13        1642 2011-07-06 2011-06-08        13096   \n",
       "13       56 days  set14        1639 2011-06-29 2011-06-01        13093   \n",
       "\n",
       "   train_start validate_week  validation_shape  \n",
       "0   2011-07-13    2011-09-14              1640  \n",
       "1   2011-07-06    2011-09-07              1632  \n",
       "2   2011-06-29    2011-08-31              1629  \n",
       "3   2011-06-22    2011-08-24              1640  \n",
       "4   2011-06-15    2011-08-17              1638  \n",
       "5   2011-06-08    2011-08-10              1631  \n",
       "6   2011-06-01    2011-08-03              1640  \n",
       "7   2011-05-25    2011-07-27              1637  \n",
       "8   2011-05-18    2011-07-20              1635  \n",
       "9   2011-05-11    2011-07-13              1639  \n",
       "10  2011-05-04    2011-07-06              1642  \n",
       "11  2011-04-27    2011-06-29              1639  \n",
       "12  2011-04-20    2011-06-22              1638  \n",
       "13  2011-04-13    2011-06-15              1639  "
      ]
     },
     "execution_count": 66,
     "metadata": {},
     "output_type": "execute_result"
    }
   ],
   "source": [
    "# see the validation dataframe\n",
    "validation_df(final_data, week, no_of_months= 2, no_of_validation= 14)"
   ]
  },
  {
   "cell_type": "code",
   "execution_count": 67,
   "metadata": {
    "collapsed": true
   },
   "outputs": [],
   "source": [
    "# define the function to get the evaluation sets from the validation dataframe\n",
    "\n",
    "\"\"\"\n",
    "\n",
    "get_evaluation_sets will take 2 parameters\n",
    "    - df: validation dataframe\n",
    "    - data: dataset\n",
    "    \n",
    "return:\n",
    "evaluation_set = [ (train_data_1, validation_data_1), \n",
    "                   (train_data_2, validation_data_2),\n",
    "                    .\n",
    "                    .\n",
    "                   (train_data_n, validation_data_n)]\n",
    "\n",
    "\"\"\"\n",
    "\n",
    "def get_evaluation_sets(df, data):\n",
    "    evaluation_set = []\n",
    "    \n",
    "    for row in range(df.shape[0]):\n",
    "        print(df.loc[row]['validate_week'])\n",
    "        train_data = data[(data.WEEK_END_DATE >= df.loc[row]['train_start']) & (data.WEEK_END_DATE <= df.loc[row]['train_end'])]\n",
    "        validation_data = data[data.WEEK_END_DATE == df.loc[row]['validate_week']]\n",
    "        evaluation_set.append((train_data, validation_data))\n",
    "    return evaluation_set"
   ]
  },
  {
   "cell_type": "code",
   "execution_count": 68,
   "metadata": {},
   "outputs": [
    {
     "name": "stdout",
     "output_type": "stream",
     "text": [
      "2011-09-14 00:00:00\n",
      "2011-09-07 00:00:00\n",
      "2011-08-31 00:00:00\n",
      "2011-08-24 00:00:00\n",
      "2011-08-17 00:00:00\n",
      "2011-08-10 00:00:00\n",
      "2011-08-03 00:00:00\n",
      "2011-07-27 00:00:00\n",
      "2011-07-20 00:00:00\n",
      "2011-07-13 00:00:00\n",
      "2011-07-06 00:00:00\n",
      "2011-06-29 00:00:00\n",
      "2011-06-22 00:00:00\n",
      "2011-06-15 00:00:00\n"
     ]
    }
   ],
   "source": [
    "# get the evaluation sets\n",
    "evaluation_sets = get_evaluation_sets(validation_df(final_data,\n",
    "                                                    week,\n",
    "                                                    no_of_months= 2,\n",
    "                                                    no_of_validation= 14),\n",
    "                                      final_data)"
   ]
  },
  {
   "cell_type": "code",
   "execution_count": 69,
   "metadata": {
    "collapsed": true
   },
   "outputs": [],
   "source": [
    "# define the function to get the rmsle\n",
    "def get_msle(true, predicted) :\n",
    "    return np.sqrt(msle(true, predicted))"
   ]
  },
  {
   "cell_type": "markdown",
   "metadata": {},
   "source": [
    "---\n",
    "\n",
    "### `Training CatBoost Model`\n",
    "- CatBoost is a little different to train as it treats categorical variables separately and we need to specify which of the features are categorical in nature.\n",
    "\n",
    "---"
   ]
  },
  {
   "cell_type": "code",
   "execution_count": 70,
   "metadata": {
    "collapsed": true
   },
   "outputs": [],
   "source": [
    "# get the first data\n",
    "train, valid = evaluation_sets[0]"
   ]
  },
  {
   "cell_type": "code",
   "execution_count": 71,
   "metadata": {
    "collapsed": true
   },
   "outputs": [],
   "source": [
    "# separate the independent and target variables from the data\n",
    "train_x = train.drop(columns=['WEEK_END_DATE', 'STORE_NUM', 'UPC', 'UNITS'])\n",
    "train_y = train['UNITS']\n",
    "\n",
    "valid_x = valid.drop(columns= ['WEEK_END_DATE', 'STORE_NUM', 'UPC', 'UNITS'])\n",
    "valid_y = valid['UNITS']"
   ]
  },
  {
   "cell_type": "code",
   "execution_count": 72,
   "metadata": {},
   "outputs": [
    {
     "data": {
      "text/html": [
       "<div>\n",
       "<style scoped>\n",
       "    .dataframe tbody tr th:only-of-type {\n",
       "        vertical-align: middle;\n",
       "    }\n",
       "\n",
       "    .dataframe tbody tr th {\n",
       "        vertical-align: top;\n",
       "    }\n",
       "\n",
       "    .dataframe thead th {\n",
       "        text-align: right;\n",
       "    }\n",
       "</style>\n",
       "<table border=\"1\" class=\"dataframe\">\n",
       "  <thead>\n",
       "    <tr style=\"text-align: right;\">\n",
       "      <th></th>\n",
       "      <th>BASE_PRICE</th>\n",
       "      <th>PRODUCT_SIZE</th>\n",
       "      <th>year</th>\n",
       "      <th>month</th>\n",
       "      <th>day</th>\n",
       "      <th>day_of_year</th>\n",
       "      <th>week</th>\n",
       "      <th>quarter</th>\n",
       "      <th>U_MANUFACTURER</th>\n",
       "      <th>U_CATEGORY</th>\n",
       "      <th>...</th>\n",
       "      <th>MANUFACTURER</th>\n",
       "      <th>CATEGORY</th>\n",
       "      <th>SUB_CATEGORY</th>\n",
       "      <th>STORE_NAME</th>\n",
       "      <th>ADDRESS_CITY_NAME</th>\n",
       "      <th>ADDRESS_STATE_PROV_CODE</th>\n",
       "      <th>MSA_CODE</th>\n",
       "      <th>SEG_VALUE_NAME</th>\n",
       "      <th>SALES_AREA_SIZE_NUM</th>\n",
       "      <th>AVG_WEEKLY_BASKETS</th>\n",
       "    </tr>\n",
       "  </thead>\n",
       "  <tbody>\n",
       "    <tr>\n",
       "      <th>212625</th>\n",
       "      <td>1.52</td>\n",
       "      <td>2</td>\n",
       "      <td>2011</td>\n",
       "      <td>7</td>\n",
       "      <td>13</td>\n",
       "      <td>194</td>\n",
       "      <td>28</td>\n",
       "      <td>3</td>\n",
       "      <td>4</td>\n",
       "      <td>3</td>\n",
       "      <td>...</td>\n",
       "      <td>PRIVATE LABEL</td>\n",
       "      <td>BAG SNACKS</td>\n",
       "      <td>PRETZELS</td>\n",
       "      <td>15TH &amp; MADISON</td>\n",
       "      <td>COVINGTON</td>\n",
       "      <td>KY</td>\n",
       "      <td>17140</td>\n",
       "      <td>VALUE</td>\n",
       "      <td>24721</td>\n",
       "      <td>12707</td>\n",
       "    </tr>\n",
       "    <tr>\n",
       "      <th>212626</th>\n",
       "      <td>1.53</td>\n",
       "      <td>2</td>\n",
       "      <td>2011</td>\n",
       "      <td>7</td>\n",
       "      <td>13</td>\n",
       "      <td>194</td>\n",
       "      <td>28</td>\n",
       "      <td>3</td>\n",
       "      <td>4</td>\n",
       "      <td>3</td>\n",
       "      <td>...</td>\n",
       "      <td>PRIVATE LABEL</td>\n",
       "      <td>BAG SNACKS</td>\n",
       "      <td>PRETZELS</td>\n",
       "      <td>15TH &amp; MADISON</td>\n",
       "      <td>COVINGTON</td>\n",
       "      <td>KY</td>\n",
       "      <td>17140</td>\n",
       "      <td>VALUE</td>\n",
       "      <td>24721</td>\n",
       "      <td>12707</td>\n",
       "    </tr>\n",
       "  </tbody>\n",
       "</table>\n",
       "<p>2 rows × 26 columns</p>\n",
       "</div>"
      ],
      "text/plain": [
       "        BASE_PRICE  PRODUCT_SIZE  year  month  day  day_of_year  week  \\\n",
       "212625        1.52             2  2011      7   13          194    28   \n",
       "212626        1.53             2  2011      7   13          194    28   \n",
       "\n",
       "        quarter  U_MANUFACTURER  U_CATEGORY        ...           MANUFACTURER  \\\n",
       "212625        3               4           3        ...          PRIVATE LABEL   \n",
       "212626        3               4           3        ...          PRIVATE LABEL   \n",
       "\n",
       "          CATEGORY  SUB_CATEGORY      STORE_NAME  ADDRESS_CITY_NAME  \\\n",
       "212625  BAG SNACKS      PRETZELS  15TH & MADISON          COVINGTON   \n",
       "212626  BAG SNACKS      PRETZELS  15TH & MADISON          COVINGTON   \n",
       "\n",
       "        ADDRESS_STATE_PROV_CODE MSA_CODE SEG_VALUE_NAME SALES_AREA_SIZE_NUM  \\\n",
       "212625                       KY    17140          VALUE               24721   \n",
       "212626                       KY    17140          VALUE               24721   \n",
       "\n",
       "       AVG_WEEKLY_BASKETS  \n",
       "212625              12707  \n",
       "212626              12707  \n",
       "\n",
       "[2 rows x 26 columns]"
      ]
     },
     "execution_count": 72,
     "metadata": {},
     "output_type": "execute_result"
    }
   ],
   "source": [
    "# view the independent variables \n",
    "train_x.head(2)"
   ]
  },
  {
   "cell_type": "code",
   "execution_count": 73,
   "metadata": {},
   "outputs": [
    {
     "data": {
      "text/plain": [
       "BASE_PRICE                            1.52\n",
       "PRODUCT_SIZE                             2\n",
       "year                                  2011\n",
       "month                                    7\n",
       "day                                     13\n",
       "day_of_year                            194\n",
       "week                                    28\n",
       "quarter                                  3\n",
       "U_MANUFACTURER                           4\n",
       "U_CATEGORY                               3\n",
       "U_SUB_CATEGORY                           5\n",
       "UNITS_BEFORE_52WEEK                     21\n",
       "price_difference                     -0.03\n",
       "AVERAGE_UNITS_IN_2_MONTH           10.6667\n",
       "FEATURE                                  0\n",
       "DISPLAY                                  0\n",
       "MANUFACTURER                 PRIVATE LABEL\n",
       "CATEGORY                        BAG SNACKS\n",
       "SUB_CATEGORY                      PRETZELS\n",
       "STORE_NAME                  15TH & MADISON\n",
       "ADDRESS_CITY_NAME                COVINGTON\n",
       "ADDRESS_STATE_PROV_CODE                 KY\n",
       "MSA_CODE                             17140\n",
       "SEG_VALUE_NAME                       VALUE\n",
       "SALES_AREA_SIZE_NUM                  24721\n",
       "AVG_WEEKLY_BASKETS                   12707\n",
       "Name: 212625, dtype: object"
      ]
     },
     "execution_count": 73,
     "metadata": {},
     "output_type": "execute_result"
    }
   ],
   "source": [
    "# look at the first row.\n",
    "train_x.iloc[0]"
   ]
  },
  {
   "cell_type": "markdown",
   "metadata": {},
   "source": [
    "---\n",
    "\n",
    "- Now, we need to identify the indices of the categorical variables in the data.\n",
    "    \n",
    "    - 1:  PRODUCT_SIZE has 3 categories 1, 2, 3.\n",
    "    - 15: MANUFACTURER\n",
    "    - 16: CATEGORY\n",
    "    - 17: SUB_CATEGORY\n",
    "    - 18: STORE_NAME\n",
    "    - 19: ADDRESS_CITY_NAME\n",
    "    - 20: ADDRESS_STATE_PROV_CODE\n",
    "    - 21: MSA_CODE\n",
    "    - 22: SEG_VALUE_NAME\n",
    "\n",
    "---"
   ]
  },
  {
   "cell_type": "code",
   "execution_count": 74,
   "metadata": {
    "collapsed": true
   },
   "outputs": [],
   "source": [
    "# create a list of categorical feature indices\n",
    "categorical_feature_indices = [1, 16, 17, 18, 19, 20, 21, 22, 23]"
   ]
  },
  {
   "cell_type": "code",
   "execution_count": 75,
   "metadata": {
    "collapsed": true
   },
   "outputs": [],
   "source": [
    "# create the object of the model\n",
    "model_cb = CatBoostRegressor(n_estimators=2000,\n",
    "                             objective='RMSE',\n",
    "                             od_type='Iter',\n",
    "                             eval_metric='MSLE',\n",
    "                             cat_features= categorical_feature_indices,\n",
    "                             random_seed=0)"
   ]
  },
  {
   "cell_type": "code",
   "execution_count": 76,
   "metadata": {},
   "outputs": [
    {
     "name": "stdout",
     "output_type": "stream",
     "text": [
      "0:\tlearn: 6.2220595\ttest: 6.4631149\tbest: 6.4631149 (0)\ttotal: 27.1ms\tremaining: 54.1s\n",
      "1:\tlearn: 4.7176801\ttest: 5.0113031\tbest: 5.0113031 (1)\ttotal: 46ms\tremaining: 45.9s\n",
      "2:\tlearn: 3.7822227\ttest: 4.0751111\tbest: 4.0751111 (2)\ttotal: 61.4ms\tremaining: 40.9s\n",
      "3:\tlearn: 3.1276696\ttest: 3.4112497\tbest: 3.4112497 (3)\ttotal: 78.7ms\tremaining: 39.3s\n",
      "4:\tlearn: 2.6401352\ttest: 2.9044933\tbest: 2.9044933 (4)\ttotal: 92.5ms\tremaining: 36.9s\n",
      "5:\tlearn: 2.2687076\ttest: 2.5225771\tbest: 2.5225771 (5)\ttotal: 105ms\tremaining: 35s\n",
      "6:\tlearn: 1.9705941\ttest: 2.2137590\tbest: 2.2137590 (6)\ttotal: 118ms\tremaining: 33.7s\n",
      "7:\tlearn: 1.7325440\ttest: 1.9741185\tbest: 1.9741185 (7)\ttotal: 131ms\tremaining: 32.6s\n",
      "8:\tlearn: 1.5390142\ttest: 1.7639771\tbest: 1.7639771 (8)\ttotal: 142ms\tremaining: 31.5s\n",
      "9:\tlearn: 1.3705958\ttest: 1.6080192\tbest: 1.6080192 (9)\ttotal: 155ms\tremaining: 30.8s\n",
      "10:\tlearn: 1.2343409\ttest: 1.4580449\tbest: 1.4580449 (10)\ttotal: 167ms\tremaining: 30.2s\n",
      "11:\tlearn: 1.1199962\ttest: 1.3283703\tbest: 1.3283703 (11)\ttotal: 178ms\tremaining: 29.5s\n",
      "12:\tlearn: 1.0198383\ttest: 1.2163838\tbest: 1.2163838 (12)\ttotal: 190ms\tremaining: 29.1s\n",
      "13:\tlearn: 0.9340238\ttest: 1.1226524\tbest: 1.1226524 (13)\ttotal: 202ms\tremaining: 28.7s\n",
      "14:\tlearn: 0.8593747\ttest: 1.0353325\tbest: 1.0353325 (14)\ttotal: 212ms\tremaining: 28s\n",
      "15:\tlearn: 0.7931833\ttest: 0.9622546\tbest: 0.9622546 (15)\ttotal: 223ms\tremaining: 27.7s\n",
      "16:\tlearn: 0.7372247\ttest: 0.8965020\tbest: 0.8965020 (16)\ttotal: 239ms\tremaining: 27.9s\n",
      "17:\tlearn: 0.6842961\ttest: 0.8392583\tbest: 0.8392583 (17)\ttotal: 253ms\tremaining: 27.9s\n",
      "18:\tlearn: 0.6360766\ttest: 0.7798095\tbest: 0.7798095 (18)\ttotal: 271ms\tremaining: 28.2s\n",
      "19:\tlearn: 0.5974354\ttest: 0.7368789\tbest: 0.7368789 (19)\ttotal: 285ms\tremaining: 28.2s\n",
      "20:\tlearn: 0.5629872\ttest: 0.6953356\tbest: 0.6953356 (20)\ttotal: 301ms\tremaining: 28.4s\n",
      "21:\tlearn: 0.5332280\ttest: 0.6585100\tbest: 0.6585100 (21)\ttotal: 314ms\tremaining: 28.2s\n",
      "22:\tlearn: 0.5073299\ttest: 0.6247916\tbest: 0.6247916 (22)\ttotal: 323ms\tremaining: 27.8s\n",
      "23:\tlearn: 0.4844998\ttest: 0.5944782\tbest: 0.5944782 (23)\ttotal: 334ms\tremaining: 27.5s\n",
      "24:\tlearn: 0.4626864\ttest: 0.5657686\tbest: 0.5657686 (24)\ttotal: 346ms\tremaining: 27.3s\n",
      "25:\tlearn: 0.4434453\ttest: 0.5394651\tbest: 0.5394651 (25)\ttotal: 358ms\tremaining: 27.2s\n",
      "26:\tlearn: 0.4243755\ttest: 0.5150130\tbest: 0.5150130 (26)\ttotal: 370ms\tremaining: 27s\n",
      "27:\tlearn: 0.4071463\ttest: 0.4936811\tbest: 0.4936811 (27)\ttotal: 385ms\tremaining: 27.1s\n",
      "28:\tlearn: 0.3927258\ttest: 0.4737886\tbest: 0.4737886 (28)\ttotal: 400ms\tremaining: 27.2s\n",
      "29:\tlearn: 0.3791765\ttest: 0.4573080\tbest: 0.4573080 (29)\ttotal: 415ms\tremaining: 27.3s\n",
      "30:\tlearn: 0.3663625\ttest: 0.4398229\tbest: 0.4398229 (30)\ttotal: 427ms\tremaining: 27.1s\n",
      "31:\tlearn: 0.3544557\ttest: 0.4245631\tbest: 0.4245631 (31)\ttotal: 438ms\tremaining: 27s\n",
      "32:\tlearn: 0.3434663\ttest: 0.4102358\tbest: 0.4102358 (32)\ttotal: 453ms\tremaining: 27s\n",
      "33:\tlearn: 0.3331756\ttest: 0.3958380\tbest: 0.3958380 (33)\ttotal: 465ms\tremaining: 26.9s\n",
      "34:\tlearn: 0.3247309\ttest: 0.3847636\tbest: 0.3847636 (34)\ttotal: 476ms\tremaining: 26.7s\n",
      "35:\tlearn: 0.3186167\ttest: 0.3754059\tbest: 0.3754059 (35)\ttotal: 488ms\tremaining: 26.6s\n",
      "36:\tlearn: 0.3105404\ttest: 0.3635598\tbest: 0.3635598 (36)\ttotal: 500ms\tremaining: 26.5s\n",
      "37:\tlearn: 0.3055294\ttest: 0.3560969\tbest: 0.3560969 (37)\ttotal: 513ms\tremaining: 26.5s\n",
      "38:\tlearn: 0.2995804\ttest: 0.3471713\tbest: 0.3471713 (38)\ttotal: 527ms\tremaining: 26.5s\n",
      "39:\tlearn: 0.2931401\ttest: 0.3379508\tbest: 0.3379508 (39)\ttotal: 541ms\tremaining: 26.5s\n",
      "40:\tlearn: 0.2889417\ttest: 0.3302563\tbest: 0.3302563 (40)\ttotal: 553ms\tremaining: 26.4s\n",
      "41:\tlearn: 0.2840250\ttest: 0.3236877\tbest: 0.3236877 (41)\ttotal: 569ms\tremaining: 26.5s\n",
      "42:\tlearn: 0.2790818\ttest: 0.3165473\tbest: 0.3165473 (42)\ttotal: 584ms\tremaining: 26.6s\n",
      "43:\tlearn: 0.2754660\ttest: 0.3110831\tbest: 0.3110831 (43)\ttotal: 593ms\tremaining: 26.3s\n",
      "44:\tlearn: 0.2717727\ttest: 0.3054558\tbest: 0.3054558 (44)\ttotal: 604ms\tremaining: 26.3s\n",
      "45:\tlearn: 0.2696065\ttest: 0.3005354\tbest: 0.3005354 (45)\ttotal: 616ms\tremaining: 26.2s\n",
      "46:\tlearn: 0.2668419\ttest: 0.2954402\tbest: 0.2954402 (46)\ttotal: 625ms\tremaining: 26s\n",
      "47:\tlearn: 0.2640877\ttest: 0.2915724\tbest: 0.2915724 (47)\ttotal: 637ms\tremaining: 25.9s\n",
      "48:\tlearn: 0.2617067\ttest: 0.2881315\tbest: 0.2881315 (48)\ttotal: 648ms\tremaining: 25.8s\n",
      "49:\tlearn: 0.2585472\ttest: 0.2824213\tbest: 0.2824213 (49)\ttotal: 659ms\tremaining: 25.7s\n",
      "50:\tlearn: 0.2566223\ttest: 0.2793296\tbest: 0.2793296 (50)\ttotal: 671ms\tremaining: 25.7s\n",
      "51:\tlearn: 0.2535307\ttest: 0.2730755\tbest: 0.2730755 (51)\ttotal: 683ms\tremaining: 25.6s\n",
      "52:\tlearn: 0.2528310\ttest: 0.2709274\tbest: 0.2709274 (52)\ttotal: 694ms\tremaining: 25.5s\n",
      "53:\tlearn: 0.2524741\ttest: 0.2684968\tbest: 0.2684968 (53)\ttotal: 703ms\tremaining: 25.3s\n",
      "54:\tlearn: 0.2521756\ttest: 0.2664868\tbest: 0.2664868 (54)\ttotal: 714ms\tremaining: 25.2s\n",
      "55:\tlearn: 0.2510001\ttest: 0.2636202\tbest: 0.2636202 (55)\ttotal: 725ms\tremaining: 25.2s\n",
      "56:\tlearn: 0.2500955\ttest: 0.2618611\tbest: 0.2618611 (56)\ttotal: 740ms\tremaining: 25.2s\n",
      "57:\tlearn: 0.2482401\ttest: 0.2585585\tbest: 0.2585585 (57)\ttotal: 754ms\tremaining: 25.2s\n",
      "58:\tlearn: 0.2478055\ttest: 0.2568095\tbest: 0.2568095 (58)\ttotal: 768ms\tremaining: 25.3s\n",
      "59:\tlearn: 0.2469762\ttest: 0.2548857\tbest: 0.2548857 (59)\ttotal: 779ms\tremaining: 25.2s\n",
      "60:\tlearn: 0.2459315\ttest: 0.2527393\tbest: 0.2527393 (60)\ttotal: 792ms\tremaining: 25.2s\n",
      "61:\tlearn: 0.2448523\ttest: 0.2505866\tbest: 0.2505866 (61)\ttotal: 807ms\tremaining: 25.2s\n",
      "62:\tlearn: 0.2440202\ttest: 0.2488939\tbest: 0.2488939 (62)\ttotal: 817ms\tremaining: 25.1s\n",
      "63:\tlearn: 0.2424228\ttest: 0.2464120\tbest: 0.2464120 (63)\ttotal: 828ms\tremaining: 25.1s\n",
      "64:\tlearn: 0.2421335\ttest: 0.2450276\tbest: 0.2450276 (64)\ttotal: 840ms\tremaining: 25s\n",
      "65:\tlearn: 0.2424392\ttest: 0.2439153\tbest: 0.2439153 (65)\ttotal: 851ms\tremaining: 24.9s\n",
      "66:\tlearn: 0.2414070\ttest: 0.2416672\tbest: 0.2416672 (66)\ttotal: 862ms\tremaining: 24.9s\n",
      "67:\tlearn: 0.2415723\ttest: 0.2401860\tbest: 0.2401860 (67)\ttotal: 876ms\tremaining: 24.9s\n",
      "68:\tlearn: 0.2413654\ttest: 0.2389931\tbest: 0.2389931 (68)\ttotal: 888ms\tremaining: 24.8s\n",
      "69:\tlearn: 0.2408353\ttest: 0.2383128\tbest: 0.2383128 (69)\ttotal: 899ms\tremaining: 24.8s\n",
      "70:\tlearn: 0.2408413\ttest: 0.2374350\tbest: 0.2374350 (70)\ttotal: 909ms\tremaining: 24.7s\n",
      "71:\tlearn: 0.2406976\ttest: 0.2365080\tbest: 0.2365080 (71)\ttotal: 921ms\tremaining: 24.6s\n",
      "72:\tlearn: 0.2405538\ttest: 0.2365175\tbest: 0.2365080 (71)\ttotal: 936ms\tremaining: 24.7s\n",
      "73:\tlearn: 0.2394283\ttest: 0.2347151\tbest: 0.2347151 (73)\ttotal: 949ms\tremaining: 24.7s\n",
      "74:\tlearn: 0.2389800\ttest: 0.2336598\tbest: 0.2336598 (74)\ttotal: 958ms\tremaining: 24.6s\n",
      "75:\tlearn: 0.2388099\ttest: 0.2323852\tbest: 0.2323852 (75)\ttotal: 969ms\tremaining: 24.5s\n",
      "76:\tlearn: 0.2375610\ttest: 0.2296418\tbest: 0.2296418 (76)\ttotal: 979ms\tremaining: 24.5s\n",
      "77:\tlearn: 0.2373409\ttest: 0.2288649\tbest: 0.2288649 (77)\ttotal: 992ms\tremaining: 24.4s\n",
      "78:\tlearn: 0.2366256\ttest: 0.2275536\tbest: 0.2275536 (78)\ttotal: 1s\tremaining: 24.4s\n",
      "79:\tlearn: 0.2353741\ttest: 0.2258687\tbest: 0.2258687 (79)\ttotal: 1.01s\tremaining: 24.4s\n",
      "80:\tlearn: 0.2343264\ttest: 0.2238341\tbest: 0.2238341 (80)\ttotal: 1.02s\tremaining: 24.3s\n",
      "81:\tlearn: 0.2344545\ttest: 0.2232783\tbest: 0.2232783 (81)\ttotal: 1.04s\tremaining: 24.2s\n",
      "82:\tlearn: 0.2340514\ttest: 0.2222692\tbest: 0.2222692 (82)\ttotal: 1.05s\tremaining: 24.3s\n",
      "83:\tlearn: 0.2337488\ttest: 0.2211302\tbest: 0.2211302 (83)\ttotal: 1.06s\tremaining: 24.3s\n",
      "84:\tlearn: 0.2340137\ttest: 0.2210530\tbest: 0.2210530 (84)\ttotal: 1.07s\tremaining: 24.2s\n",
      "85:\tlearn: 0.2334963\ttest: 0.2197904\tbest: 0.2197904 (85)\ttotal: 1.08s\tremaining: 24.2s\n",
      "86:\tlearn: 0.2332715\ttest: 0.2189907\tbest: 0.2189907 (86)\ttotal: 1.1s\tremaining: 24.1s\n",
      "87:\tlearn: 0.2323704\ttest: 0.2181436\tbest: 0.2181436 (87)\ttotal: 1.11s\tremaining: 24.1s\n",
      "88:\tlearn: 0.2325870\ttest: 0.2177714\tbest: 0.2177714 (88)\ttotal: 1.12s\tremaining: 24s\n",
      "89:\tlearn: 0.2322935\ttest: 0.2167197\tbest: 0.2167197 (89)\ttotal: 1.13s\tremaining: 24s\n",
      "90:\tlearn: 0.2320446\ttest: 0.2160864\tbest: 0.2160864 (90)\ttotal: 1.14s\tremaining: 24s\n",
      "91:\tlearn: 0.2321584\ttest: 0.2159020\tbest: 0.2159020 (91)\ttotal: 1.15s\tremaining: 23.9s\n",
      "92:\tlearn: 0.2323545\ttest: 0.2156195\tbest: 0.2156195 (92)\ttotal: 1.17s\tremaining: 23.9s\n",
      "93:\tlearn: 0.2320987\ttest: 0.2152940\tbest: 0.2152940 (93)\ttotal: 1.18s\tremaining: 23.9s\n",
      "94:\tlearn: 0.2316091\ttest: 0.2142682\tbest: 0.2142682 (94)\ttotal: 1.19s\tremaining: 23.8s\n",
      "95:\tlearn: 0.2318387\ttest: 0.2141213\tbest: 0.2141213 (95)\ttotal: 1.2s\tremaining: 23.8s\n",
      "96:\tlearn: 0.2320442\ttest: 0.2138511\tbest: 0.2138511 (96)\ttotal: 1.21s\tremaining: 23.8s\n",
      "97:\tlearn: 0.2319149\ttest: 0.2134058\tbest: 0.2134058 (97)\ttotal: 1.22s\tremaining: 23.7s\n",
      "98:\tlearn: 0.2316972\ttest: 0.2126367\tbest: 0.2126367 (98)\ttotal: 1.23s\tremaining: 23.7s\n",
      "99:\tlearn: 0.2317138\ttest: 0.2125076\tbest: 0.2125076 (99)\ttotal: 1.25s\tremaining: 23.7s\n"
     ]
    },
    {
     "name": "stdout",
     "output_type": "stream",
     "text": [
      "100:\tlearn: 0.2312512\ttest: 0.2121684\tbest: 0.2121684 (100)\ttotal: 1.26s\tremaining: 23.6s\n",
      "101:\tlearn: 0.2309773\ttest: 0.2115394\tbest: 0.2115394 (101)\ttotal: 1.27s\tremaining: 23.6s\n",
      "102:\tlearn: 0.2309045\ttest: 0.2115269\tbest: 0.2115269 (102)\ttotal: 1.28s\tremaining: 23.5s\n",
      "103:\tlearn: 0.2308869\ttest: 0.2110461\tbest: 0.2110461 (103)\ttotal: 1.29s\tremaining: 23.5s\n",
      "104:\tlearn: 0.2306080\ttest: 0.2104736\tbest: 0.2104736 (104)\ttotal: 1.3s\tremaining: 23.5s\n",
      "105:\tlearn: 0.2306597\ttest: 0.2103678\tbest: 0.2103678 (105)\ttotal: 1.31s\tremaining: 23.4s\n",
      "106:\tlearn: 0.2306224\ttest: 0.2101879\tbest: 0.2101879 (106)\ttotal: 1.32s\tremaining: 23.4s\n",
      "107:\tlearn: 0.2301006\ttest: 0.2095151\tbest: 0.2095151 (107)\ttotal: 1.33s\tremaining: 23.4s\n",
      "108:\tlearn: 0.2301013\ttest: 0.2089622\tbest: 0.2089622 (108)\ttotal: 1.34s\tremaining: 23.3s\n",
      "109:\tlearn: 0.2303443\ttest: 0.2089228\tbest: 0.2089228 (109)\ttotal: 1.35s\tremaining: 23.3s\n",
      "110:\tlearn: 0.2304345\ttest: 0.2089535\tbest: 0.2089228 (109)\ttotal: 1.37s\tremaining: 23.3s\n",
      "111:\tlearn: 0.2295799\ttest: 0.2083831\tbest: 0.2083831 (111)\ttotal: 1.38s\tremaining: 23.2s\n",
      "112:\tlearn: 0.2297120\ttest: 0.2082866\tbest: 0.2082866 (112)\ttotal: 1.39s\tremaining: 23.2s\n",
      "113:\tlearn: 0.2295600\ttest: 0.2080154\tbest: 0.2080154 (113)\ttotal: 1.4s\tremaining: 23.1s\n",
      "114:\tlearn: 0.2286612\ttest: 0.2065851\tbest: 0.2065851 (114)\ttotal: 1.41s\tremaining: 23.1s\n",
      "115:\tlearn: 0.2286392\ttest: 0.2067194\tbest: 0.2065851 (114)\ttotal: 1.42s\tremaining: 23.1s\n",
      "116:\tlearn: 0.2287796\ttest: 0.2066085\tbest: 0.2065851 (114)\ttotal: 1.43s\tremaining: 23s\n",
      "117:\tlearn: 0.2288068\ttest: 0.2061562\tbest: 0.2061562 (117)\ttotal: 1.44s\tremaining: 23s\n",
      "118:\tlearn: 0.2288366\ttest: 0.2059987\tbest: 0.2059987 (118)\ttotal: 1.45s\tremaining: 23s\n",
      "119:\tlearn: 0.2278587\ttest: 0.2048726\tbest: 0.2048726 (119)\ttotal: 1.47s\tremaining: 23s\n",
      "120:\tlearn: 0.2275439\ttest: 0.2048223\tbest: 0.2048223 (120)\ttotal: 1.48s\tremaining: 23s\n",
      "121:\tlearn: 0.2265881\ttest: 0.2033781\tbest: 0.2033781 (121)\ttotal: 1.49s\tremaining: 23s\n",
      "122:\tlearn: 0.2261926\ttest: 0.2028353\tbest: 0.2028353 (122)\ttotal: 1.5s\tremaining: 23s\n",
      "123:\tlearn: 0.2262771\ttest: 0.2027172\tbest: 0.2027172 (123)\ttotal: 1.52s\tremaining: 23s\n",
      "124:\tlearn: 0.2264536\ttest: 0.2027277\tbest: 0.2027172 (123)\ttotal: 1.53s\tremaining: 23s\n",
      "125:\tlearn: 0.2258580\ttest: 0.2020174\tbest: 0.2020174 (125)\ttotal: 1.55s\tremaining: 23s\n",
      "126:\tlearn: 0.2259182\ttest: 0.2019474\tbest: 0.2019474 (126)\ttotal: 1.56s\tremaining: 23s\n",
      "127:\tlearn: 0.2260871\ttest: 0.2019463\tbest: 0.2019463 (127)\ttotal: 1.57s\tremaining: 22.9s\n",
      "128:\tlearn: 0.2254132\ttest: 0.2010570\tbest: 0.2010570 (128)\ttotal: 1.58s\tremaining: 22.9s\n",
      "129:\tlearn: 0.2252361\ttest: 0.2010105\tbest: 0.2010105 (129)\ttotal: 1.59s\tremaining: 22.9s\n",
      "130:\tlearn: 0.2251227\ttest: 0.2006201\tbest: 0.2006201 (130)\ttotal: 1.6s\tremaining: 22.8s\n",
      "131:\tlearn: 0.2247627\ttest: 0.2003562\tbest: 0.2003562 (131)\ttotal: 1.61s\tremaining: 22.8s\n",
      "132:\tlearn: 0.2248699\ttest: 0.2004828\tbest: 0.2003562 (131)\ttotal: 1.62s\tremaining: 22.8s\n",
      "133:\tlearn: 0.2249384\ttest: 0.2004547\tbest: 0.2003562 (131)\ttotal: 1.63s\tremaining: 22.8s\n",
      "134:\tlearn: 0.2249901\ttest: 0.2005386\tbest: 0.2003562 (131)\ttotal: 1.65s\tremaining: 22.7s\n",
      "135:\tlearn: 0.2251122\ttest: 0.2005221\tbest: 0.2003562 (131)\ttotal: 1.66s\tremaining: 22.8s\n",
      "136:\tlearn: 0.2249584\ttest: 0.2006115\tbest: 0.2003562 (131)\ttotal: 1.68s\tremaining: 22.8s\n",
      "137:\tlearn: 0.2249457\ttest: 0.2005812\tbest: 0.2003562 (131)\ttotal: 1.69s\tremaining: 22.8s\n",
      "138:\tlearn: 0.2250264\ttest: 0.2005659\tbest: 0.2003562 (131)\ttotal: 1.7s\tremaining: 22.8s\n",
      "139:\tlearn: 0.2243341\ttest: 0.2000732\tbest: 0.2000732 (139)\ttotal: 1.71s\tremaining: 22.7s\n",
      "140:\tlearn: 0.2242518\ttest: 0.1998795\tbest: 0.1998795 (140)\ttotal: 1.72s\tremaining: 22.7s\n",
      "141:\tlearn: 0.2238483\ttest: 0.1993167\tbest: 0.1993167 (141)\ttotal: 1.73s\tremaining: 22.7s\n",
      "142:\tlearn: 0.2234178\ttest: 0.1990815\tbest: 0.1990815 (142)\ttotal: 1.75s\tremaining: 22.7s\n",
      "143:\tlearn: 0.2225612\ttest: 0.1981480\tbest: 0.1981480 (143)\ttotal: 1.76s\tremaining: 22.6s\n",
      "144:\tlearn: 0.2223625\ttest: 0.1979407\tbest: 0.1979407 (144)\ttotal: 1.77s\tremaining: 22.6s\n",
      "145:\tlearn: 0.2222012\ttest: 0.1975122\tbest: 0.1975122 (145)\ttotal: 1.78s\tremaining: 22.6s\n",
      "146:\tlearn: 0.2221443\ttest: 0.1975070\tbest: 0.1975070 (146)\ttotal: 1.79s\tremaining: 22.6s\n",
      "147:\tlearn: 0.2217074\ttest: 0.1974870\tbest: 0.1974870 (147)\ttotal: 1.8s\tremaining: 22.5s\n",
      "148:\tlearn: 0.2216766\ttest: 0.1974822\tbest: 0.1974822 (148)\ttotal: 1.81s\tremaining: 22.5s\n",
      "149:\tlearn: 0.2217354\ttest: 0.1974488\tbest: 0.1974488 (149)\ttotal: 1.82s\tremaining: 22.5s\n",
      "150:\tlearn: 0.2213976\ttest: 0.1971548\tbest: 0.1971548 (150)\ttotal: 1.83s\tremaining: 22.4s\n",
      "151:\tlearn: 0.2213352\ttest: 0.1970874\tbest: 0.1970874 (151)\ttotal: 1.84s\tremaining: 22.4s\n",
      "152:\tlearn: 0.2214449\ttest: 0.1970729\tbest: 0.1970729 (152)\ttotal: 1.85s\tremaining: 22.3s\n",
      "153:\tlearn: 0.2214400\ttest: 0.1968836\tbest: 0.1968836 (153)\ttotal: 1.86s\tremaining: 22.3s\n",
      "154:\tlearn: 0.2214383\ttest: 0.1968744\tbest: 0.1968744 (154)\ttotal: 1.88s\tremaining: 22.3s\n",
      "155:\tlearn: 0.2214427\ttest: 0.1967492\tbest: 0.1967492 (155)\ttotal: 1.88s\tremaining: 22.3s\n",
      "156:\tlearn: 0.2212325\ttest: 0.1966691\tbest: 0.1966691 (156)\ttotal: 1.89s\tremaining: 22.2s\n",
      "157:\tlearn: 0.2210408\ttest: 0.1967040\tbest: 0.1966691 (156)\ttotal: 1.9s\tremaining: 22.2s\n",
      "158:\tlearn: 0.2211565\ttest: 0.1966907\tbest: 0.1966691 (156)\ttotal: 1.91s\tremaining: 22.1s\n",
      "159:\tlearn: 0.2211300\ttest: 0.1966110\tbest: 0.1966110 (159)\ttotal: 1.92s\tremaining: 22s\n",
      "160:\tlearn: 0.2209979\ttest: 0.1964896\tbest: 0.1964896 (160)\ttotal: 1.93s\tremaining: 22s\n",
      "161:\tlearn: 0.2210915\ttest: 0.1964742\tbest: 0.1964742 (161)\ttotal: 1.93s\tremaining: 21.9s\n",
      "162:\tlearn: 0.2210800\ttest: 0.1963900\tbest: 0.1963900 (162)\ttotal: 1.95s\tremaining: 21.9s\n",
      "163:\tlearn: 0.2208440\ttest: 0.1962308\tbest: 0.1962308 (163)\ttotal: 1.96s\tremaining: 21.9s\n",
      "164:\tlearn: 0.2206720\ttest: 0.1961409\tbest: 0.1961409 (164)\ttotal: 1.97s\tremaining: 21.9s\n",
      "165:\tlearn: 0.2202845\ttest: 0.1958676\tbest: 0.1958676 (165)\ttotal: 1.98s\tremaining: 21.9s\n",
      "166:\tlearn: 0.2200024\ttest: 0.1957253\tbest: 0.1957253 (166)\ttotal: 1.99s\tremaining: 21.8s\n",
      "167:\tlearn: 0.2197808\ttest: 0.1954373\tbest: 0.1954373 (167)\ttotal: 2s\tremaining: 21.8s\n",
      "168:\tlearn: 0.2198522\ttest: 0.1954250\tbest: 0.1954250 (168)\ttotal: 2.01s\tremaining: 21.7s\n",
      "169:\tlearn: 0.2197110\ttest: 0.1952593\tbest: 0.1952593 (169)\ttotal: 2.02s\tremaining: 21.7s\n",
      "170:\tlearn: 0.2196441\ttest: 0.1952207\tbest: 0.1952207 (170)\ttotal: 2.03s\tremaining: 21.7s\n",
      "171:\tlearn: 0.2194152\ttest: 0.1950830\tbest: 0.1950830 (171)\ttotal: 2.04s\tremaining: 21.7s\n",
      "172:\tlearn: 0.2192277\ttest: 0.1948938\tbest: 0.1948938 (172)\ttotal: 2.05s\tremaining: 21.7s\n",
      "173:\tlearn: 0.2190050\ttest: 0.1948934\tbest: 0.1948934 (173)\ttotal: 2.06s\tremaining: 21.7s\n",
      "174:\tlearn: 0.2190641\ttest: 0.1948804\tbest: 0.1948804 (174)\ttotal: 2.07s\tremaining: 21.6s\n",
      "175:\tlearn: 0.2185162\ttest: 0.1946490\tbest: 0.1946490 (175)\ttotal: 2.08s\tremaining: 21.6s\n",
      "176:\tlearn: 0.2184338\ttest: 0.1946493\tbest: 0.1946490 (175)\ttotal: 2.09s\tremaining: 21.6s\n",
      "177:\tlearn: 0.2184414\ttest: 0.1946283\tbest: 0.1946283 (177)\ttotal: 2.1s\tremaining: 21.5s\n",
      "178:\tlearn: 0.2185127\ttest: 0.1946173\tbest: 0.1946173 (178)\ttotal: 2.11s\tremaining: 21.5s\n",
      "179:\tlearn: 0.2176656\ttest: 0.1938457\tbest: 0.1938457 (179)\ttotal: 2.12s\tremaining: 21.4s\n",
      "180:\tlearn: 0.2172615\ttest: 0.1936621\tbest: 0.1936621 (180)\ttotal: 2.13s\tremaining: 21.4s\n",
      "181:\tlearn: 0.2170583\ttest: 0.1936195\tbest: 0.1936195 (181)\ttotal: 2.14s\tremaining: 21.4s\n",
      "182:\tlearn: 0.2170509\ttest: 0.1935713\tbest: 0.1935713 (182)\ttotal: 2.15s\tremaining: 21.3s\n",
      "183:\tlearn: 0.2170746\ttest: 0.1935978\tbest: 0.1935713 (182)\ttotal: 2.16s\tremaining: 21.3s\n",
      "184:\tlearn: 0.2168484\ttest: 0.1933166\tbest: 0.1933166 (184)\ttotal: 2.17s\tremaining: 21.3s\n",
      "185:\tlearn: 0.2168967\ttest: 0.1933073\tbest: 0.1933073 (185)\ttotal: 2.17s\tremaining: 21.2s\n",
      "186:\tlearn: 0.2169057\ttest: 0.1933115\tbest: 0.1933073 (185)\ttotal: 2.18s\tremaining: 21.2s\n",
      "187:\tlearn: 0.2168490\ttest: 0.1932924\tbest: 0.1932924 (187)\ttotal: 2.19s\tremaining: 21.2s\n",
      "188:\tlearn: 0.2169118\ttest: 0.1932805\tbest: 0.1932805 (188)\ttotal: 2.2s\tremaining: 21.1s\n",
      "189:\tlearn: 0.2164405\ttest: 0.1928973\tbest: 0.1928973 (189)\ttotal: 2.21s\tremaining: 21.1s\n",
      "190:\tlearn: 0.2164326\ttest: 0.1929153\tbest: 0.1928973 (189)\ttotal: 2.22s\tremaining: 21s\n",
      "191:\tlearn: 0.2163605\ttest: 0.1928196\tbest: 0.1928196 (191)\ttotal: 2.23s\tremaining: 21s\n",
      "192:\tlearn: 0.2160129\ttest: 0.1924770\tbest: 0.1924770 (192)\ttotal: 2.24s\tremaining: 20.9s\n",
      "193:\tlearn: 0.2160070\ttest: 0.1924490\tbest: 0.1924490 (193)\ttotal: 2.24s\tremaining: 20.9s\n",
      "194:\tlearn: 0.2160435\ttest: 0.1924556\tbest: 0.1924490 (193)\ttotal: 2.25s\tremaining: 20.9s\n"
     ]
    },
    {
     "name": "stdout",
     "output_type": "stream",
     "text": [
      "195:\tlearn: 0.2155609\ttest: 0.1922544\tbest: 0.1922544 (195)\ttotal: 2.27s\tremaining: 20.8s\n",
      "196:\tlearn: 0.2154826\ttest: 0.1921967\tbest: 0.1921967 (196)\ttotal: 2.28s\tremaining: 20.9s\n",
      "197:\tlearn: 0.2151120\ttest: 0.1918911\tbest: 0.1918911 (197)\ttotal: 2.29s\tremaining: 20.9s\n",
      "198:\tlearn: 0.2151337\ttest: 0.1918857\tbest: 0.1918857 (198)\ttotal: 2.3s\tremaining: 20.8s\n",
      "199:\tlearn: 0.2148843\ttest: 0.1918206\tbest: 0.1918206 (199)\ttotal: 2.31s\tremaining: 20.8s\n",
      "200:\tlearn: 0.2147832\ttest: 0.1917680\tbest: 0.1917680 (200)\ttotal: 2.32s\tremaining: 20.8s\n",
      "201:\tlearn: 0.2148157\ttest: 0.1917611\tbest: 0.1917611 (201)\ttotal: 2.33s\tremaining: 20.7s\n",
      "202:\tlearn: 0.2148347\ttest: 0.1917562\tbest: 0.1917562 (202)\ttotal: 2.33s\tremaining: 20.6s\n",
      "203:\tlearn: 0.2140175\ttest: 0.1914327\tbest: 0.1914327 (203)\ttotal: 2.34s\tremaining: 20.6s\n",
      "204:\tlearn: 0.2140212\ttest: 0.1914523\tbest: 0.1914327 (203)\ttotal: 2.35s\tremaining: 20.6s\n",
      "205:\tlearn: 0.2137831\ttest: 0.1914914\tbest: 0.1914327 (203)\ttotal: 2.36s\tremaining: 20.6s\n",
      "206:\tlearn: 0.2138452\ttest: 0.1914815\tbest: 0.1914327 (203)\ttotal: 2.37s\tremaining: 20.5s\n",
      "207:\tlearn: 0.2137863\ttest: 0.1914404\tbest: 0.1914327 (203)\ttotal: 2.38s\tremaining: 20.5s\n",
      "208:\tlearn: 0.2138195\ttest: 0.1914276\tbest: 0.1914276 (208)\ttotal: 2.39s\tremaining: 20.5s\n",
      "209:\tlearn: 0.2137808\ttest: 0.1914002\tbest: 0.1914002 (209)\ttotal: 2.4s\tremaining: 20.4s\n",
      "210:\tlearn: 0.2136844\ttest: 0.1913917\tbest: 0.1913917 (210)\ttotal: 2.41s\tremaining: 20.5s\n",
      "211:\tlearn: 0.2130075\ttest: 0.1911613\tbest: 0.1911613 (211)\ttotal: 2.43s\tremaining: 20.5s\n",
      "212:\tlearn: 0.2128541\ttest: 0.1909947\tbest: 0.1909947 (212)\ttotal: 2.44s\tremaining: 20.5s\n",
      "213:\tlearn: 0.2128135\ttest: 0.1909523\tbest: 0.1909523 (213)\ttotal: 2.45s\tremaining: 20.5s\n",
      "214:\tlearn: 0.2123322\ttest: 0.1906020\tbest: 0.1906020 (214)\ttotal: 2.46s\tremaining: 20.5s\n",
      "215:\tlearn: 0.2122863\ttest: 0.1906012\tbest: 0.1906012 (215)\ttotal: 2.47s\tremaining: 20.4s\n",
      "216:\tlearn: 0.2122673\ttest: 0.1906047\tbest: 0.1906012 (215)\ttotal: 2.48s\tremaining: 20.4s\n",
      "217:\tlearn: 0.2122571\ttest: 0.1905960\tbest: 0.1905960 (217)\ttotal: 2.49s\tremaining: 20.3s\n",
      "218:\tlearn: 0.2121920\ttest: 0.1906250\tbest: 0.1905960 (217)\ttotal: 2.5s\tremaining: 20.3s\n",
      "219:\tlearn: 0.2120169\ttest: 0.1905933\tbest: 0.1905933 (219)\ttotal: 2.51s\tremaining: 20.3s\n",
      "220:\tlearn: 0.2120004\ttest: 0.1906220\tbest: 0.1905933 (219)\ttotal: 2.52s\tremaining: 20.3s\n",
      "221:\tlearn: 0.2111373\ttest: 0.1898732\tbest: 0.1898732 (221)\ttotal: 2.53s\tremaining: 20.3s\n",
      "222:\tlearn: 0.2103542\ttest: 0.1889757\tbest: 0.1889757 (222)\ttotal: 2.54s\tremaining: 20.2s\n",
      "223:\tlearn: 0.2100449\ttest: 0.1886233\tbest: 0.1886233 (223)\ttotal: 2.55s\tremaining: 20.2s\n",
      "224:\tlearn: 0.2100884\ttest: 0.1886146\tbest: 0.1886146 (224)\ttotal: 2.56s\tremaining: 20.2s\n",
      "225:\tlearn: 0.2100516\ttest: 0.1886419\tbest: 0.1886146 (224)\ttotal: 2.56s\tremaining: 20.1s\n",
      "226:\tlearn: 0.2099086\ttest: 0.1888855\tbest: 0.1886146 (224)\ttotal: 2.58s\tremaining: 20.1s\n",
      "227:\tlearn: 0.2093767\ttest: 0.1882369\tbest: 0.1882369 (227)\ttotal: 2.59s\tremaining: 20.1s\n",
      "228:\tlearn: 0.2094003\ttest: 0.1882236\tbest: 0.1882236 (228)\ttotal: 2.6s\tremaining: 20.1s\n",
      "229:\tlearn: 0.2094397\ttest: 0.1882118\tbest: 0.1882118 (229)\ttotal: 2.6s\tremaining: 20.1s\n",
      "230:\tlearn: 0.2094311\ttest: 0.1882103\tbest: 0.1882103 (230)\ttotal: 2.61s\tremaining: 20s\n",
      "231:\tlearn: 0.2094632\ttest: 0.1881736\tbest: 0.1881736 (231)\ttotal: 2.63s\tremaining: 20s\n",
      "232:\tlearn: 0.2093463\ttest: 0.1881626\tbest: 0.1881626 (232)\ttotal: 2.64s\tremaining: 20s\n",
      "233:\tlearn: 0.2089379\ttest: 0.1878181\tbest: 0.1878181 (233)\ttotal: 2.65s\tremaining: 20s\n",
      "234:\tlearn: 0.2089195\ttest: 0.1878109\tbest: 0.1878109 (234)\ttotal: 2.65s\tremaining: 19.9s\n",
      "235:\tlearn: 0.2088227\ttest: 0.1877423\tbest: 0.1877423 (235)\ttotal: 2.66s\tremaining: 19.9s\n",
      "236:\tlearn: 0.2087544\ttest: 0.1878118\tbest: 0.1877423 (235)\ttotal: 2.68s\tremaining: 19.9s\n",
      "237:\tlearn: 0.2087407\ttest: 0.1878162\tbest: 0.1877423 (235)\ttotal: 2.69s\tremaining: 19.9s\n",
      "238:\tlearn: 0.2087466\ttest: 0.1878143\tbest: 0.1877423 (235)\ttotal: 2.69s\tremaining: 19.8s\n",
      "239:\tlearn: 0.2087361\ttest: 0.1877197\tbest: 0.1877197 (239)\ttotal: 2.7s\tremaining: 19.8s\n",
      "240:\tlearn: 0.2086418\ttest: 0.1877438\tbest: 0.1877197 (239)\ttotal: 2.71s\tremaining: 19.8s\n",
      "241:\tlearn: 0.2086317\ttest: 0.1877352\tbest: 0.1877197 (239)\ttotal: 2.72s\tremaining: 19.8s\n",
      "242:\tlearn: 0.2082520\ttest: 0.1876800\tbest: 0.1876800 (242)\ttotal: 2.73s\tremaining: 19.8s\n",
      "243:\tlearn: 0.2082137\ttest: 0.1876609\tbest: 0.1876609 (243)\ttotal: 2.74s\tremaining: 19.7s\n",
      "244:\tlearn: 0.2081117\ttest: 0.1874862\tbest: 0.1874862 (244)\ttotal: 2.75s\tremaining: 19.7s\n",
      "245:\tlearn: 0.2080892\ttest: 0.1874499\tbest: 0.1874499 (245)\ttotal: 2.76s\tremaining: 19.7s\n",
      "246:\tlearn: 0.2081160\ttest: 0.1874489\tbest: 0.1874489 (246)\ttotal: 2.77s\tremaining: 19.7s\n",
      "247:\tlearn: 0.2076130\ttest: 0.1870016\tbest: 0.1870016 (247)\ttotal: 2.79s\tremaining: 19.7s\n",
      "248:\tlearn: 0.2073583\ttest: 0.1869374\tbest: 0.1869374 (248)\ttotal: 2.8s\tremaining: 19.7s\n",
      "249:\tlearn: 0.2073143\ttest: 0.1870449\tbest: 0.1869374 (248)\ttotal: 2.81s\tremaining: 19.7s\n",
      "250:\tlearn: 0.2072584\ttest: 0.1870480\tbest: 0.1869374 (248)\ttotal: 2.83s\tremaining: 19.7s\n",
      "251:\tlearn: 0.2072131\ttest: 0.1871099\tbest: 0.1869374 (248)\ttotal: 2.84s\tremaining: 19.7s\n",
      "252:\tlearn: 0.2072181\ttest: 0.1871329\tbest: 0.1869374 (248)\ttotal: 2.85s\tremaining: 19.7s\n",
      "253:\tlearn: 0.2070142\ttest: 0.1871191\tbest: 0.1869374 (248)\ttotal: 2.86s\tremaining: 19.7s\n",
      "254:\tlearn: 0.2070221\ttest: 0.1871223\tbest: 0.1869374 (248)\ttotal: 2.87s\tremaining: 19.6s\n",
      "255:\tlearn: 0.2070053\ttest: 0.1871230\tbest: 0.1869374 (248)\ttotal: 2.88s\tremaining: 19.6s\n",
      "256:\tlearn: 0.2060671\ttest: 0.1866289\tbest: 0.1866289 (256)\ttotal: 2.89s\tremaining: 19.6s\n",
      "257:\tlearn: 0.2059280\ttest: 0.1865520\tbest: 0.1865520 (257)\ttotal: 2.9s\tremaining: 19.6s\n",
      "258:\tlearn: 0.2059662\ttest: 0.1865382\tbest: 0.1865382 (258)\ttotal: 2.91s\tremaining: 19.5s\n",
      "259:\tlearn: 0.2059564\ttest: 0.1865395\tbest: 0.1865382 (258)\ttotal: 2.91s\tremaining: 19.5s\n",
      "260:\tlearn: 0.2059266\ttest: 0.1865674\tbest: 0.1865382 (258)\ttotal: 2.92s\tremaining: 19.5s\n",
      "261:\tlearn: 0.2059575\ttest: 0.1865596\tbest: 0.1865382 (258)\ttotal: 2.93s\tremaining: 19.4s\n",
      "262:\tlearn: 0.2059818\ttest: 0.1865519\tbest: 0.1865382 (258)\ttotal: 2.94s\tremaining: 19.4s\n",
      "263:\tlearn: 0.2060093\ttest: 0.1865392\tbest: 0.1865382 (258)\ttotal: 2.94s\tremaining: 19.4s\n",
      "264:\tlearn: 0.2060418\ttest: 0.1865323\tbest: 0.1865323 (264)\ttotal: 2.96s\tremaining: 19.4s\n",
      "265:\tlearn: 0.2060251\ttest: 0.1865273\tbest: 0.1865273 (265)\ttotal: 2.97s\tremaining: 19.3s\n",
      "266:\tlearn: 0.2060568\ttest: 0.1865246\tbest: 0.1865246 (266)\ttotal: 2.98s\tremaining: 19.3s\n",
      "267:\tlearn: 0.2060360\ttest: 0.1865459\tbest: 0.1865246 (266)\ttotal: 2.98s\tremaining: 19.3s\n",
      "268:\tlearn: 0.2060416\ttest: 0.1865408\tbest: 0.1865246 (266)\ttotal: 2.99s\tremaining: 19.2s\n",
      "269:\tlearn: 0.2060076\ttest: 0.1865330\tbest: 0.1865246 (266)\ttotal: 3s\tremaining: 19.2s\n",
      "270:\tlearn: 0.2060360\ttest: 0.1865263\tbest: 0.1865246 (266)\ttotal: 3s\tremaining: 19.2s\n",
      "271:\tlearn: 0.2057681\ttest: 0.1868560\tbest: 0.1865246 (266)\ttotal: 3.02s\tremaining: 19.2s\n",
      "272:\tlearn: 0.2057645\ttest: 0.1868536\tbest: 0.1865246 (266)\ttotal: 3.02s\tremaining: 19.1s\n",
      "273:\tlearn: 0.2057947\ttest: 0.1868530\tbest: 0.1865246 (266)\ttotal: 3.03s\tremaining: 19.1s\n",
      "274:\tlearn: 0.2057907\ttest: 0.1868607\tbest: 0.1865246 (266)\ttotal: 3.04s\tremaining: 19.1s\n",
      "275:\tlearn: 0.2058178\ttest: 0.1868531\tbest: 0.1865246 (266)\ttotal: 3.05s\tremaining: 19s\n",
      "276:\tlearn: 0.2057819\ttest: 0.1868490\tbest: 0.1865246 (266)\ttotal: 3.06s\tremaining: 19s\n",
      "277:\tlearn: 0.2057803\ttest: 0.1868492\tbest: 0.1865246 (266)\ttotal: 3.07s\tremaining: 19s\n",
      "278:\tlearn: 0.2056958\ttest: 0.1869750\tbest: 0.1865246 (266)\ttotal: 3.08s\tremaining: 19s\n",
      "279:\tlearn: 0.2056616\ttest: 0.1869710\tbest: 0.1865246 (266)\ttotal: 3.09s\tremaining: 19s\n",
      "280:\tlearn: 0.2056582\ttest: 0.1869774\tbest: 0.1865246 (266)\ttotal: 3.1s\tremaining: 19s\n",
      "281:\tlearn: 0.2056741\ttest: 0.1869699\tbest: 0.1865246 (266)\ttotal: 3.11s\tremaining: 18.9s\n",
      "282:\tlearn: 0.2053663\ttest: 0.1868549\tbest: 0.1865246 (266)\ttotal: 3.12s\tremaining: 19s\n",
      "283:\tlearn: 0.2053898\ttest: 0.1868429\tbest: 0.1865246 (266)\ttotal: 3.13s\tremaining: 18.9s\n",
      "284:\tlearn: 0.2053872\ttest: 0.1868435\tbest: 0.1865246 (266)\ttotal: 3.14s\tremaining: 18.9s\n",
      "285:\tlearn: 0.2053601\ttest: 0.1868428\tbest: 0.1865246 (266)\ttotal: 3.15s\tremaining: 18.9s\n",
      "286:\tlearn: 0.2051400\ttest: 0.1868714\tbest: 0.1865246 (266)\ttotal: 3.17s\tremaining: 18.9s\n",
      "Stopped by overfitting detector  (20 iterations wait)\n",
      "\n",
      "bestTest = 0.1865246201\n",
      "bestIteration = 266\n",
      "\n",
      "Shrink model to first 267 iterations.\n"
     ]
    },
    {
     "data": {
      "text/plain": [
       "<catboost.core.CatBoostRegressor at 0x7f2942d71ef0>"
      ]
     },
     "execution_count": 76,
     "metadata": {},
     "output_type": "execute_result"
    }
   ],
   "source": [
    "# fit the model with the training data\n",
    "model_cb.fit(train_x, train_y, eval_set=[(valid_x,valid_y)])"
   ]
  },
  {
   "cell_type": "code",
   "execution_count": 77,
   "metadata": {
    "collapsed": true
   },
   "outputs": [],
   "source": [
    "# predict the values on train and valid\n",
    "predict_train = model_cb.predict(train_x).clip(min=0)\n",
    "predict_valid = model_cb.predict(valid_x).clip(min=0)"
   ]
  },
  {
   "cell_type": "code",
   "execution_count": 78,
   "metadata": {},
   "outputs": [
    {
     "name": "stdout",
     "output_type": "stream",
     "text": [
      "RMSLE TRAIN:  0.45289373857700005\n",
      "RMSLE VALID:  0.43188495770248114\n"
     ]
    }
   ],
   "source": [
    "# rmsle on train and valid\n",
    "print('RMSLE TRAIN: ', get_msle(train_y, predict_train))\n",
    "print('RMSLE VALID: ', get_msle(valid_y, predict_valid))"
   ]
  },
  {
   "cell_type": "markdown",
   "metadata": {},
   "source": [
    "---\n",
    "\n",
    "## `Hyperparameter Tuning`\n",
    "\n",
    "### `N_ESTIMATORS`\n",
    "\n",
    "- First of all, we will find out the best value of the N_ESTIMATORS and find the mean RMSLE over the 14 sets on both train and test data.\n",
    "\n",
    "\n",
    "---"
   ]
  },
  {
   "cell_type": "code",
   "execution_count": 35,
   "metadata": {
    "collapsed": true
   },
   "outputs": [],
   "source": [
    "#  define function to get the n_estimators\n",
    "def get_n_estimators(evaluation_set,r_min=100, r_max= 10001):\n",
    "    \n",
    "    results = []\n",
    "    \n",
    "    for n_est in (range(r_min, r_max, 100)):\n",
    "        SCORE_TRAIN = []\n",
    "        SCORE_VALID = []\n",
    "        x = {}\n",
    "        for train, valid in (evaluation_set):\n",
    "            # separate the independent and target variables from the train and valid\n",
    "            train_data_x = train.drop(columns= ['WEEK_END_DATE', 'STORE_NUM', 'UPC', 'UNITS'])\n",
    "            train_data_y = train['UNITS']\n",
    "\n",
    "            valid_data_x = valid.drop(columns= ['WEEK_END_DATE', 'STORE_NUM', 'UPC', 'UNITS'])\n",
    "            valid_data_y = valid['UNITS']\n",
    "            \n",
    "            \n",
    "            # define the catboost model\n",
    "            model = CatBoostRegressor(n_estimators=n_est,\n",
    "                                      random_seed=0,\n",
    "                                      objective='RMSE',\n",
    "                                      verbose=False,\n",
    "                                      eval_metric='MSLE',\n",
    "                                      cat_features=categorical_feature_indices)\n",
    "            # fit the model with the training data\n",
    "            model.fit(train_data_x, train_data_y,plot=False,eval_set=[(valid_data_x, valid_data_y)])\n",
    "            \n",
    "            # predict on train and valid data\n",
    "            predict_train = model.predict(train_data_x).clip(min=0)\n",
    "            predict_valid = model.predict(valid_data_x).clip(min=0)\n",
    "            \n",
    "            # get the rmsle on train and valid\n",
    "            train_rmsle = get_msle(train_data_y, predict_train)\n",
    "            valid_rmsle = get_msle(valid_data_y, predict_valid)\n",
    "            \n",
    "            SCORE_TRAIN.append(train_rmsle)\n",
    "            SCORE_VALID.append(valid_rmsle)\n",
    "            \n",
    "        # calculate the mean rmsle on train and valid data    \n",
    "        mean_rmsle_train = np.mean(SCORE_TRAIN)\n",
    "        mean_rmsle_valid = np.mean(SCORE_VALID)\n",
    "        x['n_estimators'] = n_est\n",
    "        x['train_rmsle'] = mean_rmsle_train\n",
    "        x['valid_rmsle'] = mean_rmsle_valid\n",
    "        results.append(x)\n",
    "        \n",
    "        print('With N_ESTIMATORS:\\t'+ str(n_est) + '\\tMEAN RMSLE TRAIN:\\t' + str(mean_rmsle_train)+ '\\tMEAN RMSLE VALID: '+str(mean_rmsle_valid))\n",
    "        \n",
    "\n",
    "    return pd.DataFrame.from_dict(results)       \n",
    "    "
   ]
  },
  {
   "cell_type": "code",
   "execution_count": 37,
   "metadata": {},
   "outputs": [
    {
     "name": "stdout",
     "output_type": "stream",
     "text": [
      "With N_ESTIMATORS:\t100\tMEAN RMSLE TRAIN:\t0.4695689271996023\tMEAN RMSLE VALID: 0.49905512389114826\n",
      "With N_ESTIMATORS:\t200\tMEAN RMSLE TRAIN:\t0.4389637094892285\tMEAN RMSLE VALID: 0.47529787415099817\n",
      "With N_ESTIMATORS:\t300\tMEAN RMSLE TRAIN:\t0.4200651558023288\tMEAN RMSLE VALID: 0.4670742632956789\n",
      "With N_ESTIMATORS:\t400\tMEAN RMSLE TRAIN:\t0.4129704160866559\tMEAN RMSLE VALID: 0.46323012847360684\n",
      "With N_ESTIMATORS:\t500\tMEAN RMSLE TRAIN:\t0.42924743426736406\tMEAN RMSLE VALID: 0.46888472129174696\n",
      "With N_ESTIMATORS:\t600\tMEAN RMSLE TRAIN:\t0.42478350443258456\tMEAN RMSLE VALID: 0.467062211804031\n",
      "With N_ESTIMATORS:\t700\tMEAN RMSLE TRAIN:\t0.42230652302292443\tMEAN RMSLE VALID: 0.4655715657651625\n",
      "With N_ESTIMATORS:\t800\tMEAN RMSLE TRAIN:\t0.41985246821118344\tMEAN RMSLE VALID: 0.4641557469017692\n",
      "With N_ESTIMATORS:\t900\tMEAN RMSLE TRAIN:\t0.418270436822887\tMEAN RMSLE VALID: 0.46310065645103254\n",
      "With N_ESTIMATORS:\t1000\tMEAN RMSLE TRAIN:\t0.4166607514442047\tMEAN RMSLE VALID: 0.4622225649176507\n",
      "With N_ESTIMATORS:\t1100\tMEAN RMSLE TRAIN:\t0.41555257401579143\tMEAN RMSLE VALID: 0.461477324229823\n",
      "With N_ESTIMATORS:\t1200\tMEAN RMSLE TRAIN:\t0.41423386984353755\tMEAN RMSLE VALID: 0.4607986694508092\n",
      "With N_ESTIMATORS:\t1300\tMEAN RMSLE TRAIN:\t0.41346698912354674\tMEAN RMSLE VALID: 0.46040761109665407\n",
      "With N_ESTIMATORS:\t1400\tMEAN RMSLE TRAIN:\t0.4127018942244403\tMEAN RMSLE VALID: 0.46003869280781207\n",
      "With N_ESTIMATORS:\t1500\tMEAN RMSLE TRAIN:\t0.41199359111642125\tMEAN RMSLE VALID: 0.4597691074253169\n",
      "With N_ESTIMATORS:\t1600\tMEAN RMSLE TRAIN:\t0.4113888490476073\tMEAN RMSLE VALID: 0.45951676149738097\n",
      "With N_ESTIMATORS:\t1700\tMEAN RMSLE TRAIN:\t0.4108181847073884\tMEAN RMSLE VALID: 0.4592499470776601\n",
      "With N_ESTIMATORS:\t1800\tMEAN RMSLE TRAIN:\t0.410606352071611\tMEAN RMSLE VALID: 0.45913991301653245\n"
     ]
    }
   ],
   "source": [
    "# train model for n_estimators value 100 to 1800 with a gap of 100 estimators at each iteration.\n",
    "estimators_result = get_n_estimators(evaluation_sets,r_min=100, r_max=1801)"
   ]
  },
  {
   "cell_type": "code",
   "execution_count": 38,
   "metadata": {},
   "outputs": [
    {
     "name": "stdout",
     "output_type": "stream",
     "text": [
      "With N_ESTIMATORS:\t1900\tMEAN RMSLE TRAIN:\t0.410039578337643\tMEAN RMSLE VALID: 0.4589538831662478\n",
      "With N_ESTIMATORS:\t2000\tMEAN RMSLE TRAIN:\t0.40952682842353755\tMEAN RMSLE VALID: 0.45889847670860895\n",
      "With N_ESTIMATORS:\t2100\tMEAN RMSLE TRAIN:\t0.4093429131623022\tMEAN RMSLE VALID: 0.4587524894197387\n",
      "With N_ESTIMATORS:\t2200\tMEAN RMSLE TRAIN:\t0.4091039451589594\tMEAN RMSLE VALID: 0.4587061124410993\n"
     ]
    }
   ],
   "source": [
    "# we can see that rmsle is decreasing on both train and valid so let's increase the value of n_estimators to 2200\n",
    "estimators_result_1 = get_n_estimators(evaluation_sets,r_min=1900, r_max=2201)"
   ]
  },
  {
   "cell_type": "code",
   "execution_count": 41,
   "metadata": {},
   "outputs": [
    {
     "name": "stdout",
     "output_type": "stream",
     "text": [
      "With N_ESTIMATORS:\t3000\tMEAN RMSLE TRAIN:\t0.40687804849427034\tMEAN RMSLE VALID: 0.45783819363471867\n",
      "With N_ESTIMATORS:\t3100\tMEAN RMSLE TRAIN:\t0.4064320993454042\tMEAN RMSLE VALID: 0.457747893275849\n",
      "With N_ESTIMATORS:\t3200\tMEAN RMSLE TRAIN:\t0.4062714609936979\tMEAN RMSLE VALID: 0.4576443503449607\n"
     ]
    }
   ],
   "source": [
    "# let's check at some higher values \n",
    "estimators_result_2 = get_n_estimators(evaluation_sets,r_min=3000, r_max=3201)"
   ]
  },
  {
   "cell_type": "code",
   "execution_count": 43,
   "metadata": {},
   "outputs": [
    {
     "data": {
      "image/png": "[encoded data removed]",
      "text/plain": [
       "<Figure size 1080x504 with 1 Axes>"
      ]
     },
     "metadata": {},
     "output_type": "display_data"
    }
   ],
   "source": [
    "estimators_result = pd.concat([estimators_result, estimators_result_1, estimators_result_2])\n",
    "plt.figure(figsize=(15,7))\n",
    "plt.plot(estimators_result['n_estimators'], estimators_result['train_rmsle'], marker='o', label= 'train')\n",
    "plt.plot(estimators_result['n_estimators'], estimators_result['valid_rmsle'], marker='o', label= 'valid')\n",
    "plt.legend();"
   ]
  },
  {
   "cell_type": "markdown",
   "metadata": {
    "collapsed": true
   },
   "source": [
    "---\n",
    "\n",
    "- We can see that rmsle on gets stable on `0.4590` after n_estimators 1800. So, we will keep the n_estimators value fixed to 1800 and next we will try to tune the max depth.\n",
    "\n",
    "\n",
    "---\n",
    "\n",
    "### `MAX_DEPTH`\n",
    "\n",
    "- We will check the performance of the model on max_depth 2 to 9\n",
    "\n",
    "---"
   ]
  },
  {
   "cell_type": "code",
   "execution_count": 44,
   "metadata": {
    "collapsed": true
   },
   "outputs": [],
   "source": [
    "# define max_depth \n",
    "def get_max_depth(evaluation_set, r_min, r_max):\n",
    "    \n",
    "    results = []\n",
    "    \n",
    "    for depth in range(r_min, r_max,1):\n",
    "        SCORE_TRAIN = []\n",
    "        SCORE_VALID = []\n",
    "        x = {}\n",
    "        for train, valid in (evaluation_set):\n",
    "            # separate the independent and target variables \n",
    "            train_data_x = train.drop(columns= ['WEEK_END_DATE', 'STORE_NUM', 'UPC', 'UNITS'])\n",
    "            train_data_y = train['UNITS']\n",
    "\n",
    "            valid_data_x = valid.drop(columns= ['WEEK_END_DATE', 'STORE_NUM', 'UPC', 'UNITS'])\n",
    "            valid_data_y = valid['UNITS']\n",
    "\n",
    "            # define the catboost model\n",
    "            model = CatBoostRegressor(n_estimators=1800,\n",
    "                                      random_seed=0,\n",
    "                                      max_depth=depth,\n",
    "                                      objective='RMSE',\n",
    "                                      verbose=False,\n",
    "                                      eval_metric='MSLE',\n",
    "                                      cat_features=categorical_feature_indices)\n",
    "            # fit the model with the training data\n",
    "            model.fit(train_data_x, train_data_y,plot=False,eval_set=[(valid_data_x, valid_data_y)])\n",
    "            \n",
    "            # predict on train and valid \n",
    "            predict_train = model.predict(train_data_x).clip(min=0)\n",
    "            predict_valid = model.predict(valid_data_x).clip(min=0)\n",
    "            \n",
    "            # get the rmsle on train and valid\n",
    "            train_rmsle = get_msle(train_data_y, predict_train)\n",
    "            valid_rmsle = get_msle(valid_data_y, predict_valid)\n",
    "            \n",
    "            SCORE_TRAIN.append(train_rmsle)\n",
    "            SCORE_VALID.append(valid_rmsle)\n",
    "            \n",
    "        # calculate mean rmsle on train and valid    \n",
    "        mean_rmsle_train = np.mean(SCORE_TRAIN)\n",
    "        mean_rmsle_valid = np.mean(SCORE_VALID)\n",
    "        \n",
    "        x['max_depth'] = depth\n",
    "        x['train_rmsle'] = mean_rmsle_train\n",
    "        x['valid_rmsle'] = mean_rmsle_valid\n",
    "        results.append(x)\n",
    "        \n",
    "        print('With Depth:\\t'+ str(depth) + '\\tMEAN RMSLE TRAIN:\\t' + str(mean_rmsle_train)+ '\\tMEAN RMSLE VALID: '+str(mean_rmsle_valid))\n",
    "        \n",
    "\n",
    "    return results       \n",
    "    "
   ]
  },
  {
   "cell_type": "code",
   "execution_count": 45,
   "metadata": {},
   "outputs": [
    {
     "name": "stdout",
     "output_type": "stream",
     "text": [
      "With Depth:\t2\tMEAN RMSLE TRAIN:\t0.4445394641319095\tMEAN RMSLE VALID: 0.4860494379585192\n",
      "With Depth:\t3\tMEAN RMSLE TRAIN:\t0.4282576148781311\tMEAN RMSLE VALID: 0.4741547883647669\n",
      "With Depth:\t4\tMEAN RMSLE TRAIN:\t0.42560428660311256\tMEAN RMSLE VALID: 0.4667204289033166\n",
      "With Depth:\t5\tMEAN RMSLE TRAIN:\t0.4180172455692529\tMEAN RMSLE VALID: 0.46251526401623966\n",
      "With Depth:\t6\tMEAN RMSLE TRAIN:\t0.410606352071611\tMEAN RMSLE VALID: 0.45913991301653245\n",
      "With Depth:\t7\tMEAN RMSLE TRAIN:\t0.4078343510227507\tMEAN RMSLE VALID: 0.45782522277404697\n",
      "With Depth:\t8\tMEAN RMSLE TRAIN:\t0.4023340837969485\tMEAN RMSLE VALID: 0.45764240156052927\n",
      "With Depth:\t9\tMEAN RMSLE TRAIN:\t0.3998941363141936\tMEAN RMSLE VALID: 0.4594457607278959\n"
     ]
    }
   ],
   "source": [
    "# calculate the max_depth_results\n",
    "max_depth_results= get_max_depth(evaluation_sets,r_min=2,r_max=10)"
   ]
  },
  {
   "cell_type": "code",
   "execution_count": 46,
   "metadata": {},
   "outputs": [
    {
     "data": {
      "image/png": "[encoded data removed]",
      "text/plain": [
       "<Figure size 1080x504 with 1 Axes>"
      ]
     },
     "metadata": {},
     "output_type": "display_data"
    }
   ],
   "source": [
    "max_depth_results = pd.DataFrame.from_dict(max_depth_results)\n",
    "plt.figure(figsize=(15,7))\n",
    "plt.plot(max_depth_results['max_depth'], max_depth_results['train_rmsle'], marker='o', label= 'train')\n",
    "plt.plot(max_depth_results['max_depth'], max_depth_results['valid_rmsle'], marker='o', label= 'valid')\n",
    "plt.legend();"
   ]
  },
  {
   "cell_type": "markdown",
   "metadata": {
    "collapsed": true
   },
   "source": [
    "---\n",
    "\n",
    "We can see that the best rmsle is 0.4576 on validation data with max_depth 8. So, we will fix this value and tune the model further to get the best value of the learning rate.\n",
    "\n",
    "\n",
    "## `LEARNING RATE`\n",
    "- We will try multiple values of the learning rate from 0 to 1 and choose the best one.\n",
    "\n",
    "---"
   ]
  },
  {
   "cell_type": "code",
   "execution_count": 34,
   "metadata": {
    "collapsed": true
   },
   "outputs": [],
   "source": [
    "# define function to tune the learning rate.\n",
    "def get_learning_rate(evaluation_set):\n",
    "    \n",
    "    results = []\n",
    "    \n",
    "    for lr in [0.001, 0.01, 0.05, 0.075, 0.1, 0.5, 1]:\n",
    "        SCORE_TRAIN = []\n",
    "        SCORE_VALID = []\n",
    "        x = {}\n",
    "        for train, valid in (evaluation_set):\n",
    "            \n",
    "            # separate the independent and target variables\n",
    "            train_data_x = train.drop(columns= ['WEEK_END_DATE', 'STORE_NUM', 'UPC', 'UNITS'])\n",
    "            train_data_y = train['UNITS']\n",
    "\n",
    "            valid_data_x = valid.drop(columns= ['WEEK_END_DATE', 'STORE_NUM', 'UPC', 'UNITS'])\n",
    "            valid_data_y = valid['UNITS']\n",
    "\n",
    "            # define the catboost model\n",
    "            model = CatBoostRegressor(n_estimators=1800,\n",
    "                                      random_seed=0,\n",
    "                                      max_depth=8,\n",
    "                                      learning_rate=lr,\n",
    "                                      objective='RMSE',\n",
    "                                      verbose=False,\n",
    "                                      eval_metric='MSLE',\n",
    "                                      cat_features=categorical_feature_indices)\n",
    "            \n",
    "            # fit the model with the training data\n",
    "            model.fit(train_data_x, train_data_y,plot=False,eval_set=[(valid_data_x, valid_data_y)])\n",
    "            \n",
    "            # predict on the train and validation data\n",
    "            predict_train = model.predict(train_data_x).clip(min=0)\n",
    "            predict_valid = model.predict(valid_data_x).clip(min=0)\n",
    "            \n",
    "            # calculate the rmsle on train and valid\n",
    "            train_rmsle = get_msle(train_data_y, predict_train)\n",
    "            valid_rmsle = get_msle(valid_data_y, predict_valid)\n",
    "            \n",
    "            SCORE_TRAIN.append(train_rmsle)\n",
    "            SCORE_VALID.append(valid_rmsle)\n",
    "            \n",
    "            \n",
    "        # calculate the mean rmsle on train and validation    \n",
    "        mean_rmsle_train = np.mean(SCORE_TRAIN)\n",
    "        mean_rmsle_valid = np.mean(SCORE_VALID)\n",
    "        x['learning_rate'] = lr\n",
    "        x['train_rmsle'] = mean_rmsle_train\n",
    "        x['valid_rmsle'] = mean_rmsle_valid\n",
    "        results.append(x)\n",
    "        \n",
    "        print('With Learning Rate:\\t'+ str(lr) + '\\tMEAN RMSLE TRAIN:\\t' + str(mean_rmsle_train)+ '\\tMEAN RMSLE VALID: '+str(mean_rmsle_valid))\n",
    "        \n",
    "\n",
    "    return results       \n",
    "    "
   ]
  },
  {
   "cell_type": "code",
   "execution_count": 35,
   "metadata": {},
   "outputs": [
    {
     "name": "stdout",
     "output_type": "stream",
     "text": [
      "With Learning Rate:\t0.001\tMEAN RMSLE TRAIN:\t0.4674673393182468\tMEAN RMSLE VALID: 0.49906281093497784\n",
      "With Learning Rate:\t0.01\tMEAN RMSLE TRAIN:\t0.41693963032435083\tMEAN RMSLE VALID: 0.4648789720987847\n",
      "With Learning Rate:\t0.05\tMEAN RMSLE TRAIN:\t0.39781672704597476\tMEAN RMSLE VALID: 0.45511272122083374\n",
      "With Learning Rate:\t0.075\tMEAN RMSLE TRAIN:\t0.3932084354070599\tMEAN RMSLE VALID: 0.4534900896687279\n",
      "With Learning Rate:\t0.1\tMEAN RMSLE TRAIN:\t0.39386922034000227\tMEAN RMSLE VALID: 0.4543158220731307\n",
      "With Learning Rate:\t0.5\tMEAN RMSLE TRAIN:\t0.42344863497116153\tMEAN RMSLE VALID: 0.49148792592187535\n",
      "With Learning Rate:\t1\tMEAN RMSLE TRAIN:\t0.514437894328865\tMEAN RMSLE VALID: 0.5730291136298364\n"
     ]
    }
   ],
   "source": [
    "# learning_rate_results\n",
    "learning_rate_results = get_learning_rate(evaluation_sets)"
   ]
  },
  {
   "cell_type": "code",
   "execution_count": 36,
   "metadata": {},
   "outputs": [
    {
     "data": {
      "image/png": "[encoded data removed]",
      "text/plain": [
       "<Figure size 1080x504 with 1 Axes>"
      ]
     },
     "metadata": {},
     "output_type": "display_data"
    }
   ],
   "source": [
    "learning_rate_results = pd.DataFrame.from_dict(learning_rate_results)\n",
    "plt.figure(figsize=(15,7))\n",
    "plt.plot(learning_rate_results['learning_rate'], learning_rate_results['train_rmsle'], marker='o', label= 'train')\n",
    "plt.plot(learning_rate_results['learning_rate'], learning_rate_results['valid_rmsle'], marker='o', label= 'valid')\n",
    "plt.legend();"
   ]
  },
  {
   "cell_type": "markdown",
   "metadata": {},
   "source": [
    "---\n",
    "\n",
    "- The best performance of the model is `0.4534` with the learning rate 0.075. So we will keep this value fixed and tune the model to get the best value of l2 regularization.\n",
    "\n",
    "## `L2_REG`\n",
    "\n",
    "Any positive value is allowed for the parameter l2_reg so we will try the model performance on the some values between 1 to 100.\n",
    "\n",
    "---"
   ]
  },
  {
   "cell_type": "code",
   "execution_count": 37,
   "metadata": {
    "collapsed": true
   },
   "outputs": [],
   "source": [
    "def get_l2_reg(evaluation_set):\n",
    "    \n",
    "    results = []\n",
    "    \n",
    "    for l2 in [1, 2, 3, 4, 5, 10, 100]:\n",
    "        SCORE_TRAIN = []\n",
    "        SCORE_VALID = []\n",
    "        x = {}\n",
    "        for train, valid in (evaluation_set):\n",
    "            \n",
    "            # separate the target and independent values\n",
    "            train_data_x = train.drop(columns= ['WEEK_END_DATE', 'STORE_NUM', 'UPC', 'UNITS'])\n",
    "            train_data_y = train['UNITS']\n",
    "\n",
    "            valid_data_x = valid.drop(columns= ['WEEK_END_DATE', 'STORE_NUM', 'UPC', 'UNITS'])\n",
    "            valid_data_y = valid['UNITS']\n",
    "\n",
    "            # define the catboost model\n",
    "            model = CatBoostRegressor(n_estimators=1800,\n",
    "                                      l2_leaf_reg=l2,\n",
    "                                      max_depth=8,\n",
    "                                      learning_rate=0.075,\n",
    "                                      objective='RMSE',\n",
    "                                      verbose=False,\n",
    "                                      eval_metric='MSLE',\n",
    "                                      cat_features=categorical_feature_indices)\n",
    "            # fit the model with the training data\n",
    "            model.fit(train_data_x, train_data_y,plot=False,eval_set=[(valid_data_x, valid_data_y)])\n",
    "            \n",
    "            # predict on train and validation \n",
    "            predict_train = model.predict(train_data_x).clip(min=0)\n",
    "            predict_valid = model.predict(valid_data_x).clip(min=0)\n",
    "            \n",
    "            # calculate the rmsle on train and valid\n",
    "            train_rmsle = get_msle(train_data_y, predict_train)\n",
    "            valid_rmsle = get_msle(valid_data_y, predict_valid)\n",
    "            \n",
    "            SCORE_TRAIN.append(train_rmsle)\n",
    "            SCORE_VALID.append(valid_rmsle)\n",
    "            \n",
    "            \n",
    "        # calculate the mean rmsle on train and valid    \n",
    "        mean_rmsle_train = np.mean(SCORE_TRAIN)\n",
    "        mean_rmsle_valid = np.mean(SCORE_VALID)\n",
    "        x['l2_reg'] = l2\n",
    "        x['rmsle_train'] = mean_rmsle_train\n",
    "        x['rmsle_valid'] = mean_rmsle_valid\n",
    "        results.append(x)\n",
    "        \n",
    "        print('With l2_reg:\\t'+ str(l2) + '\\tMEAN RMSLE TRAIN:\\t' + str(mean_rmsle_train)+ '\\tMEAN RMSLE VALID: '+str(mean_rmsle_valid))\n",
    "        \n",
    "\n",
    "    return results       \n",
    "    "
   ]
  },
  {
   "cell_type": "code",
   "execution_count": 38,
   "metadata": {},
   "outputs": [
    {
     "name": "stdout",
     "output_type": "stream",
     "text": [
      "With l2_reg:\t1\tMEAN RMSLE TRAIN:\t0.3993587977169731\tMEAN RMSLE VALID: 0.4560416276896771\n",
      "With l2_reg:\t2\tMEAN RMSLE TRAIN:\t0.3976018215956207\tMEAN RMSLE VALID: 0.45647059244303845\n",
      "With l2_reg:\t3\tMEAN RMSLE TRAIN:\t0.3932084354070599\tMEAN RMSLE VALID: 0.4534900896687279\n",
      "With l2_reg:\t4\tMEAN RMSLE TRAIN:\t0.39136920756781013\tMEAN RMSLE VALID: 0.45410548328483513\n",
      "With l2_reg:\t5\tMEAN RMSLE TRAIN:\t0.3948624572459439\tMEAN RMSLE VALID: 0.4559821759358206\n",
      "With l2_reg:\t10\tMEAN RMSLE TRAIN:\t0.39321110912611656\tMEAN RMSLE VALID: 0.4569206290002689\n",
      "With l2_reg:\t100\tMEAN RMSLE TRAIN:\t0.3920970715324771\tMEAN RMSLE VALID: 0.45346506116154023\n"
     ]
    }
   ],
   "source": [
    "l2_results = get_l2_reg(evaluation_sets)"
   ]
  },
  {
   "cell_type": "code",
   "execution_count": 42,
   "metadata": {},
   "outputs": [
    {
     "data": {
      "image/png": "[encoded data removed]",
      "text/plain": [
       "<Figure size 1080x504 with 1 Axes>"
      ]
     },
     "metadata": {},
     "output_type": "display_data"
    }
   ],
   "source": [
    "l2_results = pd.DataFrame.from_dict(l2_results)\n",
    "plt.figure(figsize=(15,7))\n",
    "plt.plot(l2_results['l2_reg'], l2_results['rmsle_train'], marker='o', label= 'train')\n",
    "plt.plot(l2_results['l2_reg'], l2_results['rmsle_valid'], marker='o', label= 'valid')\n",
    "plt.legend();"
   ]
  },
  {
   "cell_type": "markdown",
   "metadata": {},
   "source": [
    "Here we can see that we are getting the best performance for L2_Reg value 3."
   ]
  },
  {
   "cell_type": "markdown",
   "metadata": {},
   "source": [
    "---\n",
    "\n",
    "### `Final Hyperparameters for CatBoost`\n",
    "\n",
    "The best performance is `0.4534` with the l2_reg value 3. So, now we have the optimal values of the parameters of catboost.\n",
    "\n",
    "- ***N_ESTIMATORS*** : 1800\n",
    "- ***LEARNING RATE*** : 0.075\n",
    "- ***MAX_DEPTH*** : 8\n",
    "- ***L2_REG*** : 3\n",
    "\n",
    "\n",
    "---"
   ]
  },
  {
   "cell_type": "code",
   "execution_count": 79,
   "metadata": {},
   "outputs": [],
   "source": [
    "# save the data used for training the catboost\n",
    "final_data.to_csv('catboost_data.csv',index=False)"
   ]
  }
 ],
 "metadata": {
  "kernelspec": {
   "display_name": "Python 3 (ipykernel)",
   "language": "python",
   "name": "python3"
  },
  "language_info": {
   "codemirror_mode": {
    "name": "ipython",
    "version": 3
   },
   "file_extension": ".py",
   "mimetype": "text/x-python",
   "name": "python",
   "nbconvert_exporter": "python",
   "pygments_lexer": "ipython3",
   "version": "3.9.12"
  }
 },
 "nbformat": 4,
 "nbformat_minor": 2
}
